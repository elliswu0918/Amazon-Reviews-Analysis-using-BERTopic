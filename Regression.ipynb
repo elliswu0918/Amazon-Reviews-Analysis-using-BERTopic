{
 "cells": [
  {
   "cell_type": "code",
   "execution_count": null,
   "id": "c81688d0",
   "metadata": {},
   "outputs": [
    {
     "ename": "",
     "evalue": "",
     "output_type": "error",
     "traceback": [
      "\u001b[1;31mThe kernel failed to start as 'TypeAliasType' could not be imported from 'C:\\Users\\a0938\\AppData\\Local\\Packages\\PythonSoftwareFoundation.Python.3.11_qbz5n2kfra8p0\\LocalCache\\local-packages\\Python311\\site-packages\\typing_extensions.py'.\n",
      "\u001b[1;31mClick <a href='https://aka.ms/kernelFailuresModuleImportErrFromFile'>here</a> for more info."
     ]
    }
   ],
   "source": [
    "conda env list\n"
   ]
  },
  {
   "cell_type": "code",
   "execution_count": null,
   "id": "c53a8d9e",
   "metadata": {},
   "outputs": [
    {
     "ename": "",
     "evalue": "",
     "output_type": "error",
     "traceback": [
      "\u001b[1;31mThe kernel failed to start as 'TypeAliasType' could not be imported from 'C:\\Users\\a0938\\AppData\\Local\\Packages\\PythonSoftwareFoundation.Python.3.11_qbz5n2kfra8p0\\LocalCache\\local-packages\\Python311\\site-packages\\typing_extensions.py'.\n",
      "\u001b[1;31mClick <a href='https://aka.ms/kernelFailuresModuleImportErrFromFile'>here</a> for more info."
     ]
    }
   ],
   "source": [
    "# if using a non-conda environment\n",
    "python -m pip install <xyz> -U --force-reinstall\n",
    "# If using a conda environment\n",
    "conda install --name <environment name> --update-deps --force-reinstall"
   ]
  },
  {
   "cell_type": "code",
   "execution_count": null,
   "id": "117b959f-ea11-422b-be6e-dedd7bc18676",
   "metadata": {},
   "outputs": [
    {
     "ename": "",
     "evalue": "",
     "output_type": "error",
     "traceback": [
      "\u001b[1;31mThe kernel failed to start as 'TypeAliasType' could not be imported from 'C:\\Users\\a0938\\AppData\\Local\\Packages\\PythonSoftwareFoundation.Python.3.11_qbz5n2kfra8p0\\LocalCache\\local-packages\\Python311\\site-packages\\typing_extensions.py'.\n",
      "\u001b[1;31mClick <a href='https://aka.ms/kernelFailuresModuleImportErrFromFile'>here</a> for more info."
     ]
    }
   ],
   "source": [
    "!pip install xgboost\n",
    "!pip install statsmodels"
   ]
  },
  {
   "cell_type": "code",
   "execution_count": null,
   "id": "c7e421d2",
   "metadata": {},
   "outputs": [
    {
     "ename": "",
     "evalue": "",
     "output_type": "error",
     "traceback": [
      "\u001b[1;31mThe kernel failed to start as 'TypeAliasType' could not be imported from 'C:\\Users\\a0938\\AppData\\Local\\Packages\\PythonSoftwareFoundation.Python.3.11_qbz5n2kfra8p0\\LocalCache\\local-packages\\Python311\\site-packages\\typing_extensions.py'.\n",
      "\u001b[1;31mClick <a href='https://aka.ms/kernelFailuresModuleImportErrFromFile'>here</a> for more info."
     ]
    }
   ],
   "source": [
    "import pandas as pd\n",
    "import numpy as np\n",
    "import math\n",
    "\n",
    "# 迴歸模型\n",
    "from sklearn.linear_model import LinearRegression\n",
    "from sklearn.ensemble import RandomForestRegressor\n",
    "from xgboost import XGBRegressor\n",
    "\n",
    "# 資料切分 & 指標\n",
    "from sklearn.model_selection import train_test_split\n",
    "from sklearn.metrics import mean_squared_error, r2_score\n",
    "from scipy.stats import spearmanr\n",
    "\n",
    "\n",
    "# statsmodels for OLS\n",
    "import statsmodels.api as sm\n",
    "import statsmodels.formula.api as smf\n",
    "\n",
    "# ============= 1. 讀取資料 =============\n",
    "# 假設已經有一個 CSV，包含至少以下欄位:\n",
    "# \"rank\" (連續型), \"average_rating\", \"price\", \"sentiment_score\", \"0\",\"1\",\"2\",\"3\"\n",
    "df = pd.read_csv('amazon_music_reviews_with_sentiment.csv')  \n",
    "\n",
    "# ============= 2. 特徵 (X) 與目標 (y) =============\n",
    "# 目標: 連續型 rank\n",
    "y = df['rank']\n",
    "\n",
    "# (A) 不加主題\n",
    "X_baseline = df[['average_rating', 'price', 'sentiment_score']].fillna(0)\n",
    "\n",
    "# (B) 加主題 (含 0,1,2,3)\n",
    "X_topic = df[['average_rating', 'price', 'sentiment_score', '0', '1', '2', '3']].fillna(0)\n",
    "\n",
    "# ============= 3. 定義一個函式來訓練 & 評估 & 輸出結果 =============\n",
    "def train_and_evaluate(model, X, y, model_name=\"model\", info=\"\"):\n",
    "    X_train, X_test, y_train, y_test = train_test_split(\n",
    "        X, y, test_size=0.2, random_state=42\n",
    "    )\n",
    "    \n",
    "    # 模型訓練\n",
    "    model.fit(X_train, y_train)\n",
    "    \n",
    "    # 預測\n",
    "    y_pred = model.predict(X_test)\n",
    "    \n",
    "    # 指標: MSE, R^2, Spearman\n",
    "    mse = mean_squared_error(y_test, y_pred)\n",
    "    r2 = r2_score(y_test, y_pred)\n",
    "    spearman_corr, _ = (y_test, y_pred)\n",
    "    rmse = math.sqrt(mse)\n",
    "    \n",
    "    print(f\"=== {model_name} ({info}) ===\")\n",
    "    print(f\"MSE = {mse:.6f}\")\n",
    "    print(f\"R²  = {r2:.6f}\")\n",
    "    print(f\"rmse = {rmse:.6f}\\n\")\n",
    "\n",
    "# ============= 4. 三種迴歸模型：Baseline vs With Topic =============\n",
    "lin_reg = LinearRegression()\n",
    "rf_reg = RandomForestRegressor(random_state=42)\n",
    "xgb_reg = XGBRegressor(random_state=42)\n",
    "\n",
    "print(\">> 不加主題欄位 (Baseline) <<\\n\")\n",
    "train_and_evaluate(lin_reg, X_baseline, y, \"LinearRegression\", \"Baseline\")\n",
    "train_and_evaluate(rf_reg, X_baseline, y, \"RandomForestRegressor\", \"Baseline\")\n",
    "train_and_evaluate(xgb_reg, X_baseline, y, \"XGBRegressor\", \"Baseline\")\n",
    "\n",
    "print(\">> 加入主題欄位 (With Topic) <<\\n\")\n",
    "train_and_evaluate(lin_reg, X_topic, y, \"LinearRegression\", \"With Topic\")\n",
    "train_and_evaluate(rf_reg, X_topic, y, \"RandomForestRegressor\", \"With Topic\")\n",
    "train_and_evaluate(xgb_reg, X_topic, y, \"XGBRegressor\", \"With Topic\")\n",
    "\n",
    "# ============= 5. 額外：使用 statsmodels OLS 查看 p-value =============\n",
    "# 為了 formula 語法順利，請先將 '0','1','2','3' 改成 'topic0','topic1','topic2','topic3'\n",
    "df_renamed = df.rename(columns={\n",
    "    '0': 'topic0',\n",
    "    '1': 'topic1',\n",
    "    '2': 'topic2',\n",
    "    '3': 'topic3'\n",
    "})\n",
    "\n",
    "# 只做 \"With Topic\" 的線性模型, 以查看各主題的係數與 p-value\n",
    "# rank ~ average_rating + price + sentiment_score + topic0 + topic1 + topic2 + topic3\n",
    "formula = \"rank ~ average_rating + price + sentiment_score + topic0 + topic1 + topic2 + topic3\"\n",
    "\n",
    "ols_model = smf.ols(formula=formula, data=df_renamed).fit()\n",
    "print(\"=== OLS Regression (With Topic) ===\")\n",
    "print(ols_model.summary())\n"
   ]
  }
 ],
 "metadata": {
  "kernelspec": {
   "display_name": "Python 3",
   "language": "python",
   "name": "python3"
  },
  "language_info": {
   "codemirror_mode": {
    "name": "ipython",
    "version": 3
   },
   "file_extension": ".py",
   "mimetype": "text/x-python",
   "name": "python",
   "nbconvert_exporter": "python",
   "pygments_lexer": "ipython3",
   "version": "3.11.9"
  }
 },
 "nbformat": 4,
 "nbformat_minor": 5
}
