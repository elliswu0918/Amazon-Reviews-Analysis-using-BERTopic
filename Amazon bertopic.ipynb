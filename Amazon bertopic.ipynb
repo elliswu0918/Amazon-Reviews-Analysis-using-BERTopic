{
 "cells": [
  {
   "cell_type": "code",
   "execution_count": 1,
   "metadata": {},
   "outputs": [
    {
     "name": "stdout",
     "output_type": "stream",
     "text": [
      "Requirement already satisfied: pandas in c:\\users\\a0938\\appdata\\local\\programs\\python\\python39\\lib\\site-packages (2.2.3)\n",
      "Requirement already satisfied: python-dateutil>=2.8.2 in c:\\users\\a0938\\appdata\\roaming\\python\\python39\\site-packages (from pandas) (2.9.0.post0)\n",
      "Requirement already satisfied: numpy>=1.22.4 in c:\\users\\a0938\\appdata\\local\\programs\\python\\python39\\lib\\site-packages (from pandas) (2.0.2)\n",
      "Requirement already satisfied: tzdata>=2022.7 in c:\\users\\a0938\\appdata\\local\\programs\\python\\python39\\lib\\site-packages (from pandas) (2025.2)\n",
      "Requirement already satisfied: pytz>=2020.1 in c:\\users\\a0938\\appdata\\local\\programs\\python\\python39\\lib\\site-packages (from pandas) (2025.2)\n",
      "Requirement already satisfied: six>=1.5 in c:\\users\\a0938\\appdata\\roaming\\python\\python39\\site-packages (from python-dateutil>=2.8.2->pandas) (1.17.0)\n",
      "Note: you may need to restart the kernel to use updated packages.\n"
     ]
    },
    {
     "name": "stderr",
     "output_type": "stream",
     "text": [
      "WARNING: You are using pip version 22.0.4; however, version 25.0.1 is available.\n",
      "You should consider upgrading via the 'c:\\Users\\a0938\\AppData\\Local\\Programs\\Python\\Python39\\python.exe -m pip install --upgrade pip' command.\n"
     ]
    }
   ],
   "source": [
    "pip install pandas"
   ]
  },
  {
   "cell_type": "code",
   "execution_count": 2,
   "metadata": {},
   "outputs": [
    {
     "name": "stdout",
     "output_type": "stream",
     "text": [
      "Requirement already satisfied: openpyxl in c:\\users\\a0938\\appdata\\local\\programs\\python\\python39\\lib\\site-packages (3.1.5)\n",
      "Requirement already satisfied: et-xmlfile in c:\\users\\a0938\\appdata\\local\\programs\\python\\python39\\lib\\site-packages (from openpyxl) (2.0.0)\n",
      "Note: you may need to restart the kernel to use updated packages.\n"
     ]
    },
    {
     "name": "stderr",
     "output_type": "stream",
     "text": [
      "WARNING: You are using pip version 22.0.4; however, version 25.0.1 is available.\n",
      "You should consider upgrading via the 'c:\\Users\\a0938\\AppData\\Local\\Programs\\Python\\Python39\\python.exe -m pip install --upgrade pip' command.\n"
     ]
    }
   ],
   "source": [
    "pip install openpyxl"
   ]
  },
  {
   "cell_type": "code",
   "execution_count": 3,
   "metadata": {
    "colab": {
     "base_uri": "https://localhost:8080/",
     "height": 458
    },
    "id": "iENmjpRUWvgn",
    "outputId": "05aa6476-6432-420d-874b-d42afc156d26"
   },
   "outputs": [
    {
     "name": "stdout",
     "output_type": "stream",
     "text": [
      "0        I'm only a novice so my experience with bows i...\n",
      "1        This is an excellent cello bow.  Very fine des...\n",
      "2        My son loves this bow.  It's his 3rd Fiddlerma...\n",
      "3        This bow was recommended to me by a cello teac...\n",
      "4        This bow is really great for the price!! I tri...\n",
      "                               ...                        \n",
      "68089    I bought this for the guitar player on my wors...\n",
      "68090    Good looking, well-made, fits well, affordable...\n",
      "68091               Fit perfectly on my Taylor Academy 10.\n",
      "68092               Fit perfectly on my Taylor Academy 10.\n",
      "68093    While this item may not be as beautiful as I h...\n",
      "Name: text, Length: 68094, dtype: object\n"
     ]
    }
   ],
   "source": [
    "import pandas as pd\n",
    "\n",
    "\n",
    "file_path =\"C:/Users/a0938/Desktop/114年專案/專題/new/all_data.xlsx\"\n",
    "\n",
    "\n",
    "df = pd.read_excel(file_path)\n",
    "\n",
    "\n",
    "bert_df = df['text']\n",
    "print(bert_df)"
   ]
  },
  {
   "cell_type": "code",
   "execution_count": 4,
   "metadata": {
    "colab": {
     "base_uri": "https://localhost:8080/"
    },
    "id": "opP7msTdXmGy",
    "outputId": "7d558b90-2e40-49d9-9408-28f90a1ec9ca"
   },
   "outputs": [
    {
     "data": {
      "text/plain": [
       "[\"I'm only a novice so my experience with bows is quite limited, however, this bow is great compared to the bow my cheap cello kit came with. I did not expect to be able to notice much difference but even as a beginner this bow just feels nicer, the hairs are tighter and smoother, it grips the strings better, even feels better in my hand. I was hesitant to purchase a bow on line because all the advice seems to be, you need to feel out several to pick the best for your instrument. I've only been playing for a year, my instrument is just this side of shoddy and I'm not sure if I can muster the discipline to keep playing, nor will I probably ever have enough money for a legitimate cello even if I do keep improving, so for me, this was just right- obviously better than what I had (and better than I expected) without breaking the bank.\",\n",
       " 'This is an excellent cello bow.  Very fine design, balanced weighting, easy to hold and bow with.  Highly recommended.',\n",
       " \"My son loves this bow.  It's his 3rd Fiddlerman Carbon Fiber bow (2 violins and 1 cello) and he is very pleased.\",\n",
       " \"This bow was recommended to me by a cello teacher. She was right. It's a great value and a big improvement over the bow that was included with my medium priced Chinese cello.\",\n",
       " 'This bow is really great for the price!! I tried some other bows (blind test) from amazon that were similar in price and I picked this one every time.  It has lots of power and works well for many different bowing styles.  I have played over 30 years and would be able to play with this bow for performances if I needed too.  Yes I do prefer my more expensive wooden bow, but this is a nice second bow to have in my case.',\n",
       " \"Definitely a beginner level bow, titled as carbon fiber but is actually carbon fiber composite (read the product description carefully). Had to return it because it had cheap quality and thin bow hair. If you plan to play cello for quite some time, I recommend investing in a hybrid or carbon fiber bow that's at least in the 200~300 range.<br /><br />Perhaps the best bow you can get for under $100, but you get what you pay for.\",\n",
       " \"So far, this cello bow is performing better than expected.  I like the light feel of it.  The only thing that's a potential problem is that the bow hair seems to be thinner than expected, and loose.  Quite a few hairs have come loose and had to be pulled.  It's too soon to give a complete review of the bow.\",\n",
       " \"I am a beginning cellist. I purchased this based on the outstanding Amazon reviews. I personally didn't feel it was any better than the fiberglass bow my cello came with. I contacted Michael at Fiddlerman and he very graciously sent me a braided carbon fiber bow that is not listed on Amazon to try since I was looking for something lighter (the regular carbon fiber bow weighed 82 grams, the braided was 77). I am VERY happy with the braided carbon fiber bow. If you are looking for a carbon fiber bow, recommend contacting Michael and asking about pricing for the braided carbon fiber.\",\n",
       " 'I used this bow for 4 weeks, and I can say it is a fine FIRST bow, especially considering the insane cost of better bows.  It\\'s heavy as bows go.  The fiberglass stick has plenty of spring once tensioned.  The hair is fine quality Siberian.  It should be good for your first year or longer.  BUT :: this is essentially a disposable bow.  Re-hairing needs to be done by a professional, and that costs more than the bow.  So when it needs re-hairing, you toss it and buy a new, or better, one.  Now that I know more, I would have bought a Fiddlerman \"Forever\" Vegan bow because the synthetic hair lasts \"forever\".  All that said, I have already upgraded to a P&H Carbon Fiber Bow from England that can be re-haired by the owner for $12.  Go in peace good people - and play more cello !!!<br /><br />UPDATE :: I have been playing this bow quite a bit and comparing it to my P&H carbon fiber bow.  I took off 2 stars because I find this bow requires a lot more work to get good smooth tones.  It\\'s also harder to prevent it from wandering.  It may still be a good FIRST bow, but you\\'ll discover this bow\\'s limitations very soon in your learning process.',\n",
       " 'Great bow for a great price!',\n",
       " 'This is a stellar bow. I am a beginner Cellist, but life-long musician. I am very impressed with the quality/',\n",
       " 'I like it, feels good playing my cello!',\n",
       " \"Adult rookie cello player.  This is the third bow I've played with, and the first carbon bow.  Control and tone are much better than with the other two bows, one of which is a nice pernambuco.\",\n",
       " 'Perfect for my beginning cellist. Delivery was fast and the bow was exactly as described. Bonus was getting an email with the You Tube links!',\n",
       " 'Love this bow! Ideally, I’d get to test out a bow in a shop before purchasing, but we don’t have a strings shop in my town. I took a risk with ordering this bow, but felt comforted knowing I could return it. It arrived so nicely packaged. The first time I played my cello with it, I was sold. The weight is just right, the balance is good, and it feels good in my hand. My instructor, a professional cellist, tested it out and was very pleased with it as well. That gave me the extra confidence to know I made a good purchase.',\n",
       " 'just what we needed, good quality, arrived quickly, my high school cello playing daughter is very happy now!',\n",
       " \"It's been a good bow. Honestly though, it's heavy compared to some other bows I've used. For me personally, weight tires me out more since I'm pretty dainty and new at this. I may have to search for a second bow. However, the construction is good, the bow is straight, and the hairs don't fray easily. I want to also make note that they contacted me through email to give bow instructions and a how to guide for applying rosin. I'd like to give a 5 star rating but again, for carbon fiber, it really should be lighter.\",\n",
       " \"Impressed a young lady who is not easily impressed.  I'm not the musician, but if she is happy so am I.\",\n",
       " 'I own a $400 dollar bow and I would say that this bow feels and performs on a very similar par. All my earthly belongings, including cello and bow, are in a storage for who knows how long. Well, I couldn\\'t just be \"cello-less\" for a whole year. I ended up buying a used student cello on craigslist and putting good strings on it and researched this bow. And wow! This cello sounds almost as good as my higher end student cello... and having a good bow and good strings makes all the difference. For the price this is it. This is the one!!',\n",
       " 'Well worth the price. The bow is light and bouncy and very responsive and produces rich and deep tones on all strings nice clean horse hair.  Came earlier than expected.Mush better than the Brazil Wood  I had before. It took the rosen well and I was very pleased with it from the first time I played it. I would Highly recommend it for any level.',\n",
       " 'A great cello bow, I’ve played for 10 years and it is one of the better ones I’ve used. Only critique is that it does not hold even premium rosin well',\n",
       " 'Beautifully crafted with excellent craftsmanship. Takes rosin well, (about 10 mins initially, with only a few strokes to top up, after), and provides plenty of grip on the strings. This means getting sound from the strings is easier, and doesnt require much weight on them. My daughter loves it. Oh, and it sounds fantastic.',\n",
       " \"I do love this bow. I was very impressed by the quality and at this price point it completely shines.<br /><br />I've been playing cello for a long time, sheesh 25 years now and I went to a violin shop to try bows. I ended up playing wood and carbon fiber and took a much more expensive carbon fiber bow to play/test. I liked it a lot but I am...er... budgety so I ordered this to be able to compare.<br /><br />This bow has a darker, more muted sound than my wood bow, for sure. For me that was lovely and perfect, because my cello has a very bright resonance, which i love, and the... i wouldn't even call it damping... the... darker overtones really worked nicely. In all honesty the tone was basically indistinguishable from the fancier (more expensive) carbon fiber bow I played. I even did semi-scientific recording tests to see if anyone could hear any difference at all. No difference in tone.<br /><br />This bow feels chunkier (slightly heavy) but is by no means &#34;cheap&#34; heavy. It just isn't an ultra lightweight bow. I have played ultra light weight bows... I don't really like them. So, again, super subjective stuff here.<br /><br />Lastly the hair is nice and thick and has a beautiful luscious sound, you get that classic very subtle whoosh sound when you change bow directions. I haven't played with a fully haired bow in a long time so it has been heaven.<br /><br />Ok actually lastly I play a lot a lot of the time and I semi-often play shows in loud venues. Certainly if you need a backup bow or a gig bow this will more than fit the bill. Having destroyed a couple bows playing in clubs when the monitor volume was too low (my rock gigs, not classical heh ;)  I can say this would hold up quite well (kind of a general statement re: carbon fiber). Oh and lastly this is a composite I believe, hence the extra weight (right?).<br /><br />Anyways. Good bow. Me like.\",\n",
       " 'Love my new bow! It is easier to play than my last bow. Thank you so much for offering a quality product at a reasonable price.',\n",
       " 'Ive been playing the cello for years. The control and balance of this bow is surprising for the cost.',\n",
       " \"Over all, this is a very nice bow.  It's a little heavier and less responsive than the bow I've used for the past 35 years, but that one was recently appraised at several thousands of dollars, not $80! We purchased this bow for my husband who is taking up cello as an adult, and it definitely meets his needs. When he has been playing for a while, and can actually judge how a bow responds to his style, we might look at getting him a wood one or a lighter carbon fiber one. For now, it will serve him well for at least a couple years, if not become his lifetime bow. Certainly can't complain about the cost! Perfect for beginners, or even as a step up bow, or one to take to summer pops concerts on those blistering hot afternoons when you just don't want to fry your good bow. We didn't try any of the other carbon fiber bows, so I can't say if another $300-500 would have made a big difference, but I can't imagine for a beginner or even an intermediate player it would.\",\n",
       " 'our grandson will enjoy it.',\n",
       " 'Pretty good bow honestly. Paired with the “Prelude” strings it’s a pretty good combo. Do NOT skimp on strings. Cheap strings will make a great cello sound terrible, but good strings can make a terrible cello sound pretty good. The bow feels pretty high quality, but it’ll take a while to break in. Keep that in mind.',\n",
       " \"Bow is light and comfortable, sound is good -- I'm happy with this purchase.\",\n",
       " \"I'm very pleased with the bow and the quality of the hair.  And such an affordable price for the quality.\",\n",
       " 'I am just starting to learn cello - I am 66 and retired and I started 3 months ago, so I have limited experience to compare to this. I also can not compare this to any other low price carbon fiber bow. I can compare it to my &#34;student/starter&#34; Brazilwood bow that came with my rental, and the only thing I can say is the makers of the brazil wood bow should be arrested for selling that as a cello bow. This bow is so far beyond that, even in my limited experience. It is smooth when pulled over the strings, and yet I can feel it grab. The tone is very full and mellow. I am extremely happy with this bow. My luthier wants me to try a JonPaul Avanti, and has ordered one for me to &#34;trial&#34;. He believes I will be much happier with it. Well, it is going to have a high bar to compare to this Fiddlerman CF Bow.<br /><br />I have a blog where I am detailing my progress learning to play the cello and I will be posting a full detailed review of this bow within about a week.<br /><br />EDIT: I have been using this bow (and my new Codabow Diamond) for about a year now, and I have made a couple videos to show the to playing a simple study for comparison of tone. Tone is only one aspect of a bow, and is not enough to judge a bow, but the others articulation, balance, etc, are difficult to demonstrate and very personal.<br /><br />I am still very happy and can recommend this bow if you want an inexpensive bow to start with:',\n",
       " 'Product performs better than expected. Would have preferred bow to be pre-rosined but video was helpful.',\n",
       " \"Great bow for the price.  I bought it as a &#34;back up&#34; bow and now I'm using it all the time.\",\n",
       " \"I bought the bow so I wouldn't be without while my good bows are being re-haired. I've owned a carbon fiber bow and the Fiddlerman bow is similar, though heavier. That is the biggest negative for me. Otherwise, it's an okay bow and suitable for my purpose.\",\n",
       " 'Bought first bow when my son first started and its been great.  So when our orchestra teacher suggested getting a backup bow there was no question which to get.',\n",
       " 'I love the weight and balance of this bow. Got this as a Christmas present and played it shortly after I opened the box.  This will be my primary bow from now on',\n",
       " 'Good bow- will last for beginners year or so not super experienced but it plays nicer than a school bow 👍 grabs pretty well and takes rosin good.',\n",
       " 'This is a great, quality bow for a great price.  I appreciate the weight and balance  improving my confidence which in turn improves my beginner experience.',\n",
       " 'This is a great, quality bow for a great price.  I appreciate the weight and balance  improving my confidence which in turn improves my beginner experience.',\n",
       " \"I am learning to play the electric cello on my own (never played a string instrument before) and purchased a medium price bow to replace the cheap one I got with the cello. It worked ok at first, but I was getting a funny flat &#34;rubbing sound&#34; most of the time no matter how I rosined the bow. I didn't know if it was me or the bow so I purchased the Fiddlerman Carbon Fiber Bow to see if I could improve the sound. Fiddlerman sent me an email (before I even received the bow), totally unexpected but appreciated, with lots of information about their bows explaining that the bow would have to be rosined before playing. I followed their advice and carefully rosined the bow, and what a difference! Even to my untrained ear the sound is significantly better with no more &#34;rubbing sounds&#34;. I'm sure a professional musician could find a better bow, but in my opinion, this bow produces great sound at a reasonable price for a beginner like me.\",\n",
       " 'This bow was very inexpensive. Im glad I bought it for a temp bow for practicing. Overall it does the job. However, a bunch of the hair fell out at the beginning. The quality is why you pay for. It is not a high quality bow but it works for now and was a decent price. (I’ve been playing cello on and off for over 15 years and am probably intermediate level for reference).',\n",
       " 'Great quality and value',\n",
       " 'This is a really great quality bow...especially for the price.  I bought it for my daughter who started playing the cello this year.  It produces a nice clean sound and just glides across the strings.  I highly recommend purchasing this bow, whether you are a beginner or a seasoned cellist.',\n",
       " 'Very nice bow for the money, much better sound than the standard bow in most beginner packages.',\n",
       " 'Very nice bow for the price..',\n",
       " \"Took a chance ordering a cello bow online, but felt I was making a good choice based on reviews.Since I am not a professional and play strictly for my own enjoyment, I didn't feel a more expensive bow was necessary.  Was not disappointed in the Fiddlerman Carbon Fiber bow!  The bow is beautiful, well balanced, and has enhanced my enjoyment of playing tenfold. Had not realized how worn my old bow had become; the Fiddlerman bow delivers crisp, clear, notes and was packaged very nicely. Highly recommend!\",\n",
       " 'This bow is exactly what I was looking for in its light weight and balance and performance.  I also appreciated very much the information included  with the bow which pertained to their recommendation for rosin and overall care.  This company also followed up to check to be sure I was pleased.  I look forward to buying from  Fiddleman again.',\n",
       " 'This bow is light and sounds amazing. Highly recommended.',\n",
       " \"Bow started off not sticking but eventually started playing very well, much better than my previous bow. I don't know the pricing for bows that well but definitely a good buy.\",\n",
       " 'The craftsmanship on this bow is excellent.  It is lightweight and well balanced. It arrived on time and was packaged to prevent damage.',\n",
       " \"The bow is expertly made, and has a very light weight. The only thing I didn't like about it was that the tone, when playing, is stronger and more tinny than a regular bow. For big stages or modern music, this bow is amazing, but when I am playing classical music, I have to use my standard bow to have more warmth to the sound. Overall, it's an amazing bow, and I will use it for more modern pieces. The weight is fantastic compared to regular bows.\",\n",
       " 'Purchased as a replacement bow for my Daughter. She loves it. Price is fair.',\n",
       " 'Product was snapped in half when received.',\n",
       " 'I am a beginner at cello. I’ve been using the bow which came with my inexpensive cello. This one sound better. Of course, my skill level still limits my sound but that is a matter of time and practice. In my opinion, this bow will let me go as far as I can.',\n",
       " 'This is the perfect mid-range bow for my orchestra student.  It looks great and sounds great.',\n",
       " 'These are good sounding bows for the money',\n",
       " 'Very beautiful bow. It is light, chic and easy to play. After applying the rosin, it fits well with my strings and creates wonderful sound. The customer service is also nice and accessible.',\n",
       " 'I bought this bow because my current bow is in need of rehairing,  and the cost and hassle for repairs would have been similar to purchasing this one new.  I am very pleased with the value of this bow!  It is well-balanced, flexible and strong.  It is much more responsive than my pernambuco bow, which was more costly.',\n",
       " 'I was pleasantly surprised by the quality. It plays very nicely.',\n",
       " 'What a nice bow! Very lightweight and responsive. High quality hair as well and excellent shipping service.',\n",
       " \"I'm just starting in cello so I'm a little green when it comes to selecting a bow that fits me. I feel this is a fantastic starter bow, maybe even intermediate. It feels nice and easy to play with and it seems quite durable. I loved the packaging it came in!!\",\n",
       " 'The handle is not well made and became defective after several months use.  Could NOT loosen nor tighten the bow any more.',\n",
       " 'The weight difference from my other bows is very noticeable and it sounds nice.<br />I would highly recommend and would buy again.',\n",
       " 'Great craftsmanship regardless of any price range!',\n",
       " 'Surprised me that it was made so well.',\n",
       " 'My ratings are always relative to my investment and expectations for the money I spent. For this money you can’t go wrong.<br /><br />Although this bow feels somewhat less balanced than my professional bows, its good enough for me to put both bows in the shop for rehairing at the same time. The bow tightens the hairs when needed, a quality usually lacking especially for carbon fibers in this price range. The bow even comes with good quality hair and a box that’s effectively a bow case. Nice surprise!',\n",
       " 'I’m Absolutely in love with this amazing bow! Exactly as described!',\n",
       " 'Best value for the price.',\n",
       " 'Love it',\n",
       " \"Nice Bow, I'm not the best Cello is just a hobby. I have bought cheaper bows in the past and knew I wanted to upgrade but I didn't need to spend the money on anything super high end. This is perfect quality for the price I can definitely tell the difference in the tone and feel/playability.\",\n",
       " 'My daughter loves it.',\n",
       " \"A beautiful bow, well balanced and ready for anything from Bach to Celtic.  Unmistakable craftsmanship in<br />the way it is put together, in the ease with which it is tightened and loosened, and the way it delivers, both fast in the sixteenths and warmly lyrical in the whole notes .  Thank you Fiddlerman, I'm keeping you on my list.\",\n",
       " 'Very nice bow with good balance. Quick shipping.',\n",
       " 'This carbon cello bow is much better than the bow that came with my beginner cello.  I think it was well worth the price.',\n",
       " 'Awesome bow, great shipping - my wife and I also have their violin bows.',\n",
       " \"I'm a beginning cellist, and I bought this as an alternative to the student bow that I got with my cello outfit. I personally found that it's lighter than the student bow and has a better sound.\",\n",
       " 'The bow is a good replacement for the present one.  It will be good for practice and also for outside gigs.',\n",
       " 'I have a nice pernambuco bow that\\'s in need of re-hairing, and I bought this one as a backup. Considering the price, it\\'s amazing and as others have mentioned it comes in a nice reusable box. I don\\'t feel I\\'ll really miss a beat while the other bow is being serviced. Highly recommended also as a replacement for those who are using \"stock\" bows that come with student cello outfits.',\n",
       " 'Excellent replacement bow for the one that came with my cello.  Very light and very responsive!!!',\n",
       " 'Upgraded to this bow and the difference is fantastic! Had no idea the bow would preform so great! Would absolutely recommend.',\n",
       " 'I had the bow for a week by now. It is easy to play with warm sound. The quality of the bow is good for its price. No complaint. However, I need to point out two characteristics of the bow that may influence your purchasing decision. First of all, it is a bit on the heavy side. The bow I got weights 82 gram. The balance point is a bit further toward the tip. Also, the bow is more flexible than my current bow. I feel it is more bouncy and I have the tendency to over-tighten the hair to get the tension I like.<br /><br />I contacted the seller. Alex from the Fiddlerman gladly offered me a free return and exchange for a new weaved bow. The weave bow is a new product. It should weigh 80 gram and is stiffer. I only have to pay for the price difference between the two products. Excellent service from the Fiddlerman! Highly recommended.',\n",
       " 'Just beginning to learn the cello as an adult so I have a beginner cello but the original bow seemed flimsy and very cheap.  Upgraded to this bow and what a huge difference!  I still have a TON to learn and skills to develop and having a quality bow will only help..',\n",
       " 'Seems like a sturdy bow. Great price.',\n",
       " 'I actually had bought another cheaper bow and I hated the bulkiness of the frog and the general feel of the whole thing so I went out on a limb to buy this and hoping it would be everything I wanted and it is! I’m sooooooo happy with it. The shape, the feel and the lightness are just what I was hoping for. I’ve been playing for about two years and was ready for my own bow.',\n",
       " \"My old bow was dead! Needed re-hairing and it was not a quality bow period. For the price of re-hairing, less the hassle of travel time, wait time and still having a mediocre bow, I chose to buy a new bow within the same price range of re-hairing. I chose the Fiddlerman based on reviews, price and the description was well done. It weighs the same as my old bow, which was stated. (good call) It arrived promptly and I also had several emails before explaining how to rosin a new bow and some links for videos. The bow is very nice, handsome even and I'm very happy with it. My music teacher thought it was a good value for the price. Some day as I progress (I'm a beginner) I may want to upgrade my bow, but I feel for the next couple of years, this will be excellent. I even received an email concerning damaged rosin and where to contact them. My rosin arrived in perfect condition and I told them so. They responded a thank you for the response. This is a good company to deal with. Customer service first, anticipating needs and responding to emails! Love them!\",\n",
       " 'I love my new bow.  It has been wonderful for practicing.  The packaging was quite ornate (came with a fancy box case!!) and beautiful.  The bow is lightweight and produces a nice tone.',\n",
       " \"I was very happy with this bow, but some months ago, after purchasing it, the sows (sorry if the term is incorrect, I speak spanish) got off the bow. My professor said it was normal, that sometimes it could happen. He helped me put it in order again. And then it got off twice. I'm now playing with my older bow, which I had for almost 10 years and it never happened such thing. Anyway, I just need a luthier to put it back again and hopefully it won't happen again.\",\n",
       " 'Nicely-priced, well-balanced bow for those beyond beginner stage, but not in need of expensive/professional-level gear.  Balance will definitely help your playing.',\n",
       " 'After 8 months the screw that tightens the frog failed. Failed. 8 months. Such a disappointment for me, a beginner on cello, not a newbie to stringed instrument playing. Now I must order a new bow. I had a lot of faith in a carbon fiber product. I\\'ll be ordering something else and hoping the reviews this time will send me in another direction. :0(  Edit: The gifted bow that arrived 12/2021 had many loose hairs (not broken, but loose when bow tightened) and the virole slips off, causing the hair to bunch at the frog. It also \"catches\" mid-bow. I would take 2 more of these in exchange,  and gladly ship the defective bows back,if offered, but there has been no response.',\n",
       " 'I have always played wood bows but I made the jump to an electric cello so I decided to give this carbon fiber thing a try as well. Lightweight, excellent stiffness, and responsiveness. We will see how the hair holds up but it holds rosin well.',\n",
       " 'This bow by all accounts is a good casual bow - great price point for reasonable sound and quality. The hair length is perfect (just a few mm between frog and pad when at a tension I find comfortable), the bow seems moderately well-balanced, and the mother of pearl-look inlays on the frog are a nice touch. But! The adhesive the pad was secured to the stick with was hastily applied and there is glue leaking out of both ends of the pad. Not the end of the world - except it becomes sticky when you rest your thumb on it. Further, The winding is covered by a plastic wrapper that has trapped some of this glue underneath it along with dirt or dust, giving an otherwise elegant bow a sloppy, cheap appearance.<br /><br />I really want to love this bow, but it’s really disheartening to see what should be a great bow marred by careless finishings.',\n",
       " \"seems ok for the price,looses some hair ever time you play. I don't expect it to last long.\",\n",
       " 'Love my new bow! It is the perfect weight for me and as an adult beginner helps me stay in the lane and on the strings! I am improving faster due to the trust I am developing with this part of my instrument! Great price, great service and constant contact to make sure I am satisfied. Love it all! Would but another Fiddlerman bow when needed!',\n",
       " \"This, like all Fiddlerman gear and videos, is absolutely top notch. Glad to see my favorite youtube channel and resource page expanding into cellos so my wife can have some of the fun I've been having for years!\",\n",
       " 'Good beginner bow for a modest price!',\n",
       " 'Purchased this for my teenage son. He gives this bow a 4.5. He says it is a very nice bow with a feel similar to expensive wood bows, so a good value for the money. We paid around $70. He would like the frog to have a better fit/feel for the thumb.',\n",
       " \"Recently purchased the Cecilio cello from Amazon, and although the bow that comes with it works well enough when you're just getting started, I knew that I would eventually be needing an upgrade.  So I purchased the Fiddlerman, and after using both bows, I can say that the Fiddlerman is lighter, more responsive, and an all around better bow for the price.  I know I'm just a beginner cellist, but I highly recommend this bow if you're just starting out.  It looks and feels great, and from what I can tell, is constructed from high quality material.  5/5\",\n",
       " 'Very good quality and fast delivery. Highly recommend... both vendor and product',\n",
       " 'very white and took rosin readily',\n",
       " 'I have been reluctant to purchase this bow over the $64 Vio Music alternative for YEARS. After ordering it, I was surprised and happy to see the extended grip as I oftentimes found myself wanting one. The hair is the highest quality you could possibly find for this price and the other parts of the bow show no different.<br /><br />If I ever need a cheaper-end bow for any reason, this will be the one I buy. This is why I urge anyone to take risks (careful and calculated) when making purchases online especially when hesitant. You may be surprised and happier than you would be with your regular buy.',\n",
       " 'Really happy with this bow. My (more expensive) wooden bow failed and I needed a replacement quickly. This bow is inexpensive, light and plays beautifully. If you are in need of a new bow, definitely worth your consideration.',\n",
       " 'Really happy with this bow. My (more expensive) wooden bow failed and I needed a replacement quickly. This bow is inexpensive, light and plays beautifully. If you are in need of a new bow, definitely worth your consideration.',\n",
       " 'Really happy with this bow. My (more expensive) wooden bow failed and I needed a replacement quickly. This bow is inexpensive, light and plays beautifully. If you are in need of a new bow, definitely worth your consideration.',\n",
       " 'Really happy with this bow. My (more expensive) wooden bow failed and I needed a replacement quickly. This bow is inexpensive, light and plays beautifully. If you are in need of a new bow, definitely worth your consideration.',\n",
       " 'This is a beautiful bow. Obvious craftsmanship.',\n",
       " 'Excellent cello bow for a great price.  Thanks!',\n",
       " \"I'm a beginning cello player and this bow works really well. A good bow for the money.\",\n",
       " 'I am so glad I made the purchase of this bow. My wife has been learning cello for a while now, and the bow she has been using was just too heavy and was way bent out of shape. This bow is so light and easy to use. Thanks again Fiddlerman!',\n",
       " 'Very good bow and price',\n",
       " 'I bought a Fiddlerman violin bow for my child. It was really good. So I decide to buy this cello bow too. I put pirastro gold rosin on the cello bow before I used it. The cello bow is really good too. Expecially  on the C string. It makes the cello sound deep and rich.',\n",
       " 'I’m a beginner, and the only reference I have to compare to is the bow that came with my cello. And yes, the difference this bow makes is huge. Playability, sound, weight distribution is all 10 times better.<br />The bow also looks great and feels very flexible and sturdy at the same time.',\n",
       " \"This bow is well built, and very light weight. I'm very happy with it, and hope to use it for a long time.\",\n",
       " 'This bow is good value for the money. It responds well and has good horse hair on it. There is an adequate tension range. It plays well and is a bargain for the money. When first playing it, it lost a few hairs immediately, and then the occasional one after, a bit more than other bows I’ve used. But this shedding stopped, and there was plenty of hair to begin with, so it’s turned out to be okay. I’ve used it for 6 months with no further unusual problems.',\n",
       " 'What an improvement from my old cheapy bow! I wish I bought this years ago when I first started learning to play.',\n",
       " 'So far I love this bow.  Haven’t played in quite a few years, but this bow is great in comparison to the one that came with my cello.',\n",
       " \"I have been playing the cello badly for some months so decided to at least try improving the quality of the equipment I was using and a new bow was definitely cheaper than a cello.  I immediately noticed a difference in tone and quality and what was even nicer was the advice received prior to delivery of how to rosin the bow on its arrival.  A great improvement to my ears and hopefully my teacher's.\",\n",
       " 'The seller sent email with helpful information before the bow arrived. Packaging was excellent. I am very happy with the performance of the bow and the price was reasonable.',\n",
       " 'I bought this bow for my son and he loves it.',\n",
       " 'Its a good bow for its price. Balance, weight, bounce  are ok.[[ASIN:B010MQMAVI Fiddlerman Carbon Fiber Cello Bow 4/4]][[ASIN:B010MQMAVI Fiddlerman Carbon Fiber Cello Bow 4/4]]',\n",
       " \"Its a good bow for someone beginner to intermedium. It's not heavy and has a fine balance.<br />It is a nice quality for the price, it's not bad.\",\n",
       " 'Excellent bow and reasonable price.',\n",
       " 'I needed a carbon fiber to complement my regular bows. Very smooth sound production, drawing of the sound and quite responsive and Crispy!<br />Very good hair quality. The whole bow for less than the cost of a rehair! Very good deal!',\n",
       " \"This is a really nice cello bow. I don't think the quality can be beat for this price range.\",\n",
       " 'Had this bow for just over two months and it has come apart at the tip. As shown in the picture the hair popped out of the tip. Seems to be a manufacturer’s defect, as I see no sign of accidental damage. I have submitted this to the seller two days ago with no response. Besides this my daughter says it’s a great bow. I realize that there may be 1 in 1000 that has a problem and perhaps that is the case here. Now this seller has an opportunity to shine and make it right and I will update this review accordingly.',\n",
       " \"Nice bow. It is the first bow I have bought since I got my cello/bow combo. I have not played long enough to have a seasoned opinion, but I definitely feel like I got good value for my money, no doubt about that.<br /><br />I did a weight comparison of this bow with my original, generic 'Brazil Wood' bow:<br />Fiddlerman weight = 82 g, 32 g at the tip and 55g at the frog.<br />Generic Brazil wood = 74 g, 25 g at the tip and 51g at the frog.<br />The weights don't add up precisely, because I was not able to measure exactly at the tip or frog, but close.<br />The center of gravity of the Fiddlerman is 10.5 inches from the end of the frog<br />The center of gravity of the Brazil wood is 9 5/8&#34; from the end of the frog.<br />The Fiddlerman is definitely much stiffer. and is well appointed.<br />NOTE: I weighed some other cello bows to see how the Fiddlerman compares by weight.<br />Here are the weights I got: 83g, 77g, 79g, 82g. So the Fiddlerman is about in the middle by weight.\",\n",
       " 'A great replacement for my wooden cello bow that warped. Would recommend to new cello students. My cello teacher was impressed.',\n",
       " 'Downgraded to 1-star on July 13, 2019:<br />I’m dropping my rating of this capo to 1-star, from my original 5-stars, because the threaded bolt/adjusting screw is so, so tight, corroded or partially stripped inside that it is nearly impossible to turn the adjustment knob so it gives enough pressure on the sides of the neck to hold the capo in place and down on the strings so they don’t buzz. After about 8 uses, the wood split horizontally across the entire width of the capo. This thing is just garbage—in my opinion.',\n",
       " 'Excellent product. Good quality workmanship and quality materials. Works well.',\n",
       " 'This is an excellent capo and fits nicely on the neck of the dulcimer.  I am very satisfied with this purchase.',\n",
       " 'Wonderful!',\n",
       " 'I wish I’d read the reviews before I purchased. The capo does not fit snugly against the strings and does not work.',\n",
       " 'The capo failed after about a year of not very frequent use. The brass pressure thing became unglued. Part of the problem was that I had to tighten it so much to get it to keep the strings down.',\n",
       " 'It never work! It fell apart when I tried to use it.',\n",
       " 'It did the trick',\n",
       " \"First time I used it in class the nut came away from the body of the capo. Totally useless. I wish I could return it, but I've had it too long.\",\n",
       " \"It's my own fault, I read the reviews and went ahead and bought this anyway--don't make the same mistake! The screw threads into a pressed insert that immediately backs out of the wood. I'm trying to glue it right now but I doubt it will work. Off to buy a usable capo...\",\n",
       " 'Horrible product! It does not hold on tight enough to do anything! I would have been better off wrapping the dulcimer in rubber bands!',\n",
       " 'Works PERFECTLY, and, LOOKS GREAT.  Our dulcimer is walnut, so this contrasts nicely!',\n",
       " \"This does not fit a standard dulcimer neck, I had to remove the pad, it's too thick, and replace it with a thinner screw pad\",\n",
       " 'Works well.',\n",
       " 'Great quality, fits great, does exactly what it’s supposed to do.',\n",
       " 'I bought two of these giving one to a friend. The first time each of us used the capo the screw slipped out of the wood making the capo useless.<br />I tried to reglue the screw into the wood with poor results.',\n",
       " \"The product is very pleasing to the eye....nice woods. OK. The nut inlayed in the wood backed out as I tightened the brass screw. Therefore, the string pressure necessary to prevent buzzes was not attainable, and the capo would not stay in place. . Also, the mechanism to tighten down the clamp.....the clamp design itself proved not to be stable. For these reasons, I suggest improvements on the clamp system....perhaps rubber inserts, metal plate to support the movable clamp, and the design of the string bridge to accommodate the gauge difference in the strings would make this capo a better product.......Sorry.....can't recommend this product at this time......\",\n",
       " 'Easy to put on my dulcimer',\n",
       " 'Never worked.  First time I tried to use it the thumb screw pulled the nut out of the wood.',\n",
       " 'Nice dulcimer cabo',\n",
       " 'Would not grip my Roosebeck dulcimer or pressure my strings.  I needed it now so I did not return.  I glued non skid cabinet liner to it and made it work.',\n",
       " 'Beautiful capo... Works fantastic on all my dulcimers.... Well made product.',\n",
       " \"Bought this capo as a birthday present for my wife. She needed a capo to play some manx songs on her mountain dulcimer. This piece of crap didn't it through three songs before it broke. If I could give this a negative star rating I would. Won't buy from this vendor again.\",\n",
       " 'One of these days I will learn to read reviews before I order; I used this exactly twice and it is not worth the money at all!! The capo will not hold tension, so that the dulcimer strings either buzz or are off tune before the end of a song- let alone getting through a practice session.<br /><br />I’m a fairly new player, but with lots of guitar/mandolin experience and I expected a capo to actually work as it is supposed to.<br /><br />Returning it tomorrow and back to the drawing board',\n",
       " 'Defective -- Had to return',\n",
       " 'Worked well for three days. Then the screw popped out of the wood, just as other reviewers described.',\n",
       " \"One of my students showed me one of these. These do not hold, and will leave marks on your dulcimer. There is no padding on the holding block, or rubber to go against the strings. You have to monkey with it a lot to get it to work, then it slips right off., and marks up your dulcimer. The second photo shoes what a quality dulcimer capo should look like. Pay the extra buck; you'll be glad you did.\",\n",
       " 'works great! beware though, it only works on a Roosebeck or Applecreek',\n",
       " \"What a piece of junk.  I just put it on my dulcimer, tighten it down and the screw came right out and I couldn't use it anymore.  The screw kept coming out the next couple of times tryed to use it.  If I could give this a negative star I would.  It's not worth the money or the aggravation of waiting for it and then fining out how bad it's put together.  And I needed to use a capo for a gig this weekend.  Not good.  Anyways it goes back and I'll find one that doesn't break after the first time using it.<br />With all of the bad reviews Amazon should stop selling it or anything else this company makes.\",\n",
       " 'Perfect.',\n",
       " \"This capo worked! That's all folks!\",\n",
       " 'Pressure causes the inside nut to come out which does not allow the capo to be tightened down',\n",
       " 'Arrived and didn’t work ,the product is very poor quality for a piece of work Angelica a screw',\n",
       " 'Broke in a few days. Dont bother',\n",
       " 'This capo works great on my Roosebeck dulcimer as well as other brands that I own, in fact I returned to the site and ordered another one as a spare',\n",
       " 'Love the capo!',\n",
       " 'This capo was nice in appearance and construction. However, I find it difficult to keep the capo engaged with all the strings. I plan to add rubber pieces to increase the grip, and if need be, some rubber where the capo engages the strings.',\n",
       " 'This capo was useless.  The nut to the screw pushed completely through the screw hole and there was no rubber strip underneath the top of the capo to hold the strings down.  Will be returning it.',\n",
       " 'Everything I expected',\n",
       " 'The capo works very well. Simple design, nice looking, good price. It opened up more creative possibilities in my<br />playing',\n",
       " 'Does not clamp correctly on my Mountain Dulcimer',\n",
       " 'Was okay but missing the rubber or plastic piece that lays across the strings. Works but has a buzzing since it does not cinch down tight enough.',\n",
       " 'Met my needs',\n",
       " 'Lousy construction, instantly broke when attempting to tighten, never worked.',\n",
       " 'Dulcimer capos have to be set tightly. When this model it was hit or miss with the right tension. when I tried to tighten it one of the two bottom  wooden pieces which clamp to the fretboard snapped off because it was glued on. The capo should be made from one piece of wood. It looked  nice but fell apart. Two pieces held together by glue limit the amount of tension needed to clamp on the fretboard securely.',\n",
       " 'As soon as the screw is tightened, it breaks away from the frame. Got one use out of it before it wouldn\\'t hold it\\'s tension enough to make a difference. Attempted a few \"repair\" attempts with adhesive which bought me one more use each. Not worth your time or money.',\n",
       " 'No rubber grip anywhere. Do not buy this capo.',\n",
       " 'Does not work! Do not buy',\n",
       " 'This capo is a piece of CRAP !!!',\n",
       " \"Overpriced to begin with. The metal peg inserted into the wood is done with NO glue or adhesive. The tension from the strings on my dulcimer was enough to push the peg out of the wood when I first used it. I meant to refund the item, but failed to do it in a timely manner.<br /><br />Expect to use superglue if you ever actually plan to use this thing. I will never buy a Roosebeck product again after seeing the absolute lack of ANY quality in such a SPECIFIC ITEM. How many people even look for a dulcimer capo???? It looks nice, that's my only positive. If you don't care how overpriced it is then get it... just don't forget the superglue.\",\n",
       " 'Worked one time and now will not stay in place. Very disappointed.',\n",
       " 'The Roosebeck Dulcimer Capo was received as promised.  The material and craftsmanship  are what one would fine examples of what you would expect from Roosebeck.',\n",
       " \"This is not a very good quality capo. It completely lacks any padding anywhere on the unit. This prevents the capo from getting a good grip on the strings and allows them to buzz. Not only that, but without any padding, you are clamping a capo on your instrument without any protection. This can scratch and scar your instrument, so if you have a dulcimer you've invested a lot of money into, this would not be a very good choice. Also, the part of the capo that connects with the adjustment screw is a piece of wood with no protection, simply applying the capo causes damage to the unit. I contacted the manufacturer the day I received the capo. They responded that they sell a lot of these and don't get complaints, but I don't see how that is possible. They refunded my money, but did not want me to send the capo back, which I found odd. I tried to use it a couple of times after this and it actually broke. I would say that if you're wanting a quality dulcimer capo, stay well clear of this item. I now have a Ron Ewing capo and love it. If you're looking for a good capo, do yourself a favor and go check out Ron Ewing's capos instead.\",\n",
       " nan,\n",
       " 'If you want cheap, flimsy, awkward, and your expensive as all get out guitars to tip over then this is for you, if not keep looking',\n",
       " 'I just received my onstage guitar stand and well pleased as usual. I have ordered quite a few on these stands and always pleased with them. They are very durable.',\n",
       " \"This was exactly what my daughter needed for her guitar while she learns to play. Now the walls aren't getting quite as many scuffs, especially in the corners.\",\n",
       " 'Very Good',\n",
       " 'The plastic end plugs that hold the rubber band in the top U-shape arm came out too easily.  So instead of taking the band off, the plug would pop out.  I had to glue them in.  Otherwise this works fine.',\n",
       " 'Easy to assemble, lightweight and does the job.',\n",
       " \"One of the best guitar stands on Amazon. I've purchased several. Great price.\",\n",
       " \"Most of it seems reasonably well constructed, but the lower part which provides the bottom support for the guitar isn't stable. There's a notch intended to hold it in place, but it's designed for a vertical tube of slightly larger diameter. So, the bottom support moves out-of-position given a light touch. Also, the vertical bar rotates way too easily---it should have much more friction. Overall, the whole thing is *way* too wobbly. I'm often worried that my guitar will fall if I'm not super careful. After a while, I gave up and ordered the AmazonBasic stand---it's simpler, but completely solid compared to this thing. I've only been playing bass for a few months, but comments saying that quality has fallen off a cliff make sense to me. This model was recommended by a friend who has played for years, so earlier versions must have been solid. Too bad it's changed so much :-\\\\\",\n",
       " \"Impossible to fault. Easy to assemble. The On-Stage XCG4 does what it's supposed to do, it holds your guitar. It also has a useful rubber strap to make sure your guitar can't be accidentally bumped off the stand. Well padded, so your guitar is protected.\",\n",
       " 'Great deal. Works just fine on my acoustic and Les Paul.',\n",
       " \"We have three of these, two used for my husband's acoustic and electric guitars and one for our son's 3/4 size electric.  Handles the weight and bulk of the guitar variations well.\",\n",
       " \"Great value.  Not as sturdy as others I've purchased but for a simple guitar stand it is very nice.  If you want something more secure/heavier that will not tip over if someone happens to brush by it, I would look at another higher end product.  But overall I'm very pleased.\",\n",
       " 'Bought it for a gift, so far so good.',\n",
       " \"I've had several of these type of guitar stands over the years and for the price, this far exceeded my expectations. Heavier tubing than my old stand.\",\n",
       " \"I've had no problem with this guitar stand. I've had it for about 3 month's now, and when I'm not playing my Fender Strat; it is on this stand. I recommend it as a well functioning stand, at a very economical price.\",\n",
       " 'Not much else to say.  This got the guitar off the floor in our house and up against the wall.  Good price.',\n",
       " 'Surprise surprise......it holds a guitar!',\n",
       " 'Very nice stand. Would buy again. Fast shipping',\n",
       " 'I bought it to replace the same exact guitar stand that my kid bro broke. Its great. Price is cheeeeeeeap.',\n",
       " \"As the title says, the stand seems a bit flimsy. I did get it for very cheap so I should consider that in my review. It appears to be missing a locking knob for behind the guitar holder base which allows it to spin freely now and possibly slip out unexpectedly. I'll keep it as it serves its purpose.\",\n",
       " 'As described',\n",
       " 'for the price you cant beat it!  I am learning guitar on a $100 guitar so I wanted something that was functional without breaking the bank, which this stand did.  It is sturdy and seems to be made well!',\n",
       " 'Easy setup. Use it for my banjo.',\n",
       " \"Great little guitar stand and a great value. My son needed a guitar stand that wouldn't take up too much room in his college dorm. This fit the bill. It has withstood the test of roommates and parties.\",\n",
       " 'Just what my husband needs, thank you',\n",
       " 'A great buy!',\n",
       " 'Pretty simple to set up, seems sturdy and reliable',\n",
       " 'Easy assembly and super protection for my banjo. The strap at the top makes sure there no accidental falls and I appreciate that. Great quality. 5 stars.',\n",
       " 'I have been using this stand for a few weeks now and have had no issues. Cheaper than getting one at guitar center and does exactly what it should. Highly recommend this.',\n",
       " 'Just the stand I wanted. Good design and very sturdy with a full-size guitar',\n",
       " 'Not a well constructed piece, ya get what ya pay for, eh?',\n",
       " \"Product is ok, but I guess you pay for what you get. The screw to hold the next piece up doesn't tighten properly.\",\n",
       " \"It comes in a very large box that is twice the length it needs to be. It's made in China. It works perfectly for both my bass guitar and my mandolin.\",\n",
       " 'Well made, great design, good value!',\n",
       " \"Super simple and it works. I wouldn't want to haul it around and repeatedly set it up, but if you just set it once and keep it in place (like I do) it is perfect.\",\n",
       " \"I bought this for my my son's mini strat.  I have a couple other brands at home, but I have to say that this is my favorite and will be the brand I use in the future.\",\n",
       " \"There are things about this stand that make it affordable and good quality.<br /><br />The cradle just sits in the main tube and swivels easily<br /><br />The top tube connects into the bottom tube and a nut in the back holds it. This makes the height on the top cradle easily adjustable<br /><br />The legs are pop-riveted in and makes it fold easily. MAKE SURE THAT THE LEGS ARE SNAPPED INTO PLACE WHEN OPEN OR THE STAND WILL NOT BE STABLE<br /><br />The security rubber band keeps the guitar from popping out while carrying it around<br /><br />The padding on the bars fits well and don't cause the guitar to slip<br /><br />The feet are rubber and don't make the stand slide around or slip.<br /><br />For the price and quality, this is a great purchase!\",\n",
       " 'I’m very happy with my purchase. This guitar stand is for my husband’s Breedlove Discovery Concert CE SB (great guitar with amazing sound).',\n",
       " 'works well',\n",
       " 'Excellent',\n",
       " 'I highly recommend.',\n",
       " 'As expected. Looks good and well made.',\n",
       " \"It holds my guitar, hasn't fallen apart, easy to put together.\",\n",
       " 'Stable and priced right, I have at least a dozen of these.',\n",
       " 'Holds a guitar perfectly but my shotgun keeps falling out??',\n",
       " 'its perfect, sturdy and lightweight.',\n",
       " 'Love it - nothing really to say about a stand but it supports my guitar',\n",
       " \"I keep buying these - I now have 8 - because they work well for both acoustic and electric guitars.  They are about as stable as a tripod can be - I've never had a guitar fall over or off.  They are lightweight.  They are adjustable in height.  They are reliable.  The materials are of good quality and should last for years.<br /><br />I often end a review by saying if I would buy the item again, knowing what I know now after buying it and using it.  That I've bought 8 so far should tell you how I feel about this stand!\",\n",
       " 'Works well. Light weight and worth the money',\n",
       " \"Works really well. Doesn't take up a lot of room.\",\n",
       " \"This is a great stand its lightweight which makes it easy to move when I need to. It's simple to put together, and is good quality for the price!\",\n",
       " \"I bought this guitar stand for my Wife's acoustical.  It's a standard beginners acoustical and I figured it would be better to keep it out and about for her to practice instead of tucked away.  It was easy to assemble and it looks good.  The guitar physically fits well on the stand but it seems as if the rear leg is just a tad too short.  The weight of the guitar, if not positioned carefully, will tip the whole thing backwards and CRASH!  If you rest the guitar towards the front of the bottom legs it will balance and stay more or less stable.  if you rest it all the way back into the stand, as one might presume it should be, the weight balance is all wrong.  Otherwise, it's fine.\",\n",
       " 'Nice, foldable stand.  Seems sturdy.  I like it!',\n",
       " 'Everything great',\n",
       " 'as described',\n",
       " 'Our son loves it. It is holding his heavy bass guitar with ease. He is very happy with it.',\n",
       " 'This stand rocks, very affordable and adds lovely decor to guitar area and its also really adjustable... It looks so much better than having my guitar leaning up against the wall.. I LOVE it!!!',\n",
       " 'This thing is great. I ended up buying two more.',\n",
       " 'Great guitar stand at a great price.  I like the neck strap that will keep it from falling out',\n",
       " 'Great guitar stand at a great price.  I like the neck strap that will keep it from falling out',\n",
       " \"Looks fine, haven't even opened the package yet though\",\n",
       " \"For those that say it was unstable and wouldn't hold the guitar, check to make sure you have the legs FULLY extended. This will make a world of difference. I have had no issues or worries it would tumble. Very happy with purchase.\",\n",
       " 'Not as study as you would think.',\n",
       " 'I love every thing about this stand except the front lower rubber stop for my Baritone is missing. I am hoping the manufacturer or supplier see this review and can send me another. I have had 3 other stands that are not as good as this one. I would definitely buy this again',\n",
       " 'Ok',\n",
       " 'Excellent',\n",
       " \"It looks the same with the picture provided. However, the problem is that it cannot stand stably. Therefore I need to put it against the wall...That's a pity...\",\n",
       " 'Excellent',\n",
       " 'Great item!!',\n",
       " \"I have these, and have used these for years, with no issues.  My guitars have spent countless hours on them (often all day every day, weather/humidity allowing), and they don't leave marks on nitrocellulose lacquer.  I've been pleased.  They're fairly cheap, easy to put together, fairly stable (though they could be improved--they are still a bit tipsy).<br /><br />I have redone this review because I have a complaint.  These are not standardized.  I have five (!) of these stands now, and several of them have different parts.  The part that goes across the top to hold the neck in place especially seems to vary.  My original stand had a good one.  My second stand had a less-good one which broke.  My three new ones, one has the same good one as my first, another the not as good one as my second, and the last one has another entirely that is really difficult to pull across and attach (and will probably break).<br /><br />I don't like this.  Please standardize your product.  I want them all to be good like my first one, not like my broken one, and I don't want the new ones I just purchased to break.  It's a real shame.  Other than being slightly tipsy, these are otherwise fantastic.  I lowered my original 5-star rating to 3 stars.\",\n",
       " 'Good quality works great good price',\n",
       " 'Works great',\n",
       " \"I own a couple of guitars and wanted a stand for my newest one.  Compared to a 30 dollar stand is it the same .. no.  The rubber padding is not a thick and the rubber foot covers aren't as large.  But.. since this is better than half the price it is stable, strong and all in all a very good stand.  The rubber padding for the guitar neck and base is absolutely sufficient.  Any guitar placed on it is safe from falling and with the rubber keeper at the neck, safe from being knocked off.  I would buy another without hesitation. For the price this is a good deal.\",\n",
       " 'Works great!',\n",
       " \"It's a guitar stand. It holds my guitar.  I can even strap my guitar into it.<br /><br /> It's a cheap guitar stand.<br /><br /> The color is black<br /><br /> I don't think there's much more to add.\",\n",
       " 'works as advertised',\n",
       " 'Nice simple stage guitar stand. light weight and easy to assemble.',\n",
       " 'Good price. Works great.',\n",
       " 'Gets the job done, and does it well!',\n",
       " 'Still standing after like 5 years. I silicones the tubes because they stin too much and the foams come off with just air lol',\n",
       " 'It will fit either my electric or acoustic.',\n",
       " 'Best guitar stand for the price anywhere!<br />2nd one I have purchased.',\n",
       " 'Looks good and does what its supposed to',\n",
       " 'Nice Stand.',\n",
       " \"No much to these things, but they are cheap and they work great in the studio.  They shipped quickly and didn't break the bank.\",\n",
       " 'Light Weight, and stable.  Good balance....guitars stay put.  Worth the price tag....bought two, and will order a third once I save up for my third guitar.',\n",
       " 'Works great.',\n",
       " \"For this price, I was not expecting a gold plated guitar stand.  What I did receive was a very sturdy, well built, fully function stand that does its job well.  I've purchased other &#34;value&#34; stands before, but this is by far the best of the lot.  Granted, I use it to hold up my junky classical guitar, but I would not be hesitent to use it for one of my finer instruments too.  If you want a no-frills stand to hold up your guitar, this certainly fits the bill.\",\n",
       " 'It does the job, but it feels a bit &#34;low quality&#34;',\n",
       " \"I've since bought two more of these at two different local music stores for the same price.  Saw it for $1 as a door-buster on Black Friday but I passed on that excitement.<br /><br />I'm considering putting some lead weights in the short leg to lower the center of gravity and make this a bit more stable.  Seems a bit wobbly to me but for the price I obviously like it.  I bought two more\",\n",
       " \"I wasn't blown away by the sturdiness while assembling this thing (super easy to assemble, by the way; just 3 interlocking pieces total). However, it appears to be holding up just fine, and the fact that it's lightweight is an added bonus. I like that it has a silicone strap at the neck to help keep your guitar secure, as well as a padded bottom support arm so that you don't scratch your guitar. Would probably by another one if I had more than one guitar.\",\n",
       " 'Perfect gift for my wife',\n",
       " 'works well.  I set it up wrong originally and it kept falling over',\n",
       " 'This worked great for my sons child sized guitar but the top came off easily when moving the stand. Overall we were happy with the purchase.',\n",
       " \"It's ok it does what it is sold for nothing more of less.\",\n",
       " 'I like this stand, this is my second one for a new guitar. Easy assembly and sturdy stand.',\n",
       " 'Exactly as  advertise. Good price. Light weight.',\n",
       " \"Nice stand, but the bottom rocks.. going to super glue it, so my guitar can't fall again, like it did with my 14 year old granddaughter.<br />My other guitar stands are solid and I like them better.\",\n",
       " 'I’ve paid a lot more for other stands that look & feel like this.  Seems to be a great value for a great product!',\n",
       " 'cheap and decently made',\n",
       " 'Love It',\n",
       " 'This what I needed nice stand ,',\n",
       " \"Leeps my daughter's guitar in perfect shape and out of the way.  Ideal for smaller rooms and fits any size guitar.\",\n",
       " 'It does exactly what it is supposed to do at a very affordable price.',\n",
       " 'perfect to display my new guitar!  Maybe my friends will think I know how to play it!  Easy on easy off and looks great!',\n",
       " 'Inexpensive but sturdy.  Just as described.  Good delivery as promised.',\n",
       " 'perfect',\n",
       " 'This stand works great for the price. My only issue is that the bottom guitar fork rotates and cannot be locked down. Again, even with that issue, it is still a good buy.',\n",
       " 'This guitar stand works well and pretty solid considering the great price.  I actually bought 4 of them (one for each of my guitars).',\n",
       " 'Perfect guitar stand for my sons electric guitar and holds his guitar book perfectly. No complaints at all.  Very lightweight,  works perfect.',\n",
       " 'Does the job. Is sturdy, easy to assemble.',\n",
       " 'Worked fine',\n",
       " \"There are no instructions for setting this up but it doesn't take long to figure out where each of the pieces go (even if you're not familiar with guitar stands like I was). A couple quick adjustments and you've got a great addition to your space and a solid and secure stand for your guitar.\",\n",
       " 'It was easy to put together and works for us.  It’s adjustable for whatever size guitar, banjo, etc you have, but it’s tippy.  Tippy isn’t a problem for us as we have no small children or animals to deal with',\n",
       " 'Great quality. Will buy another',\n",
       " 'Sturdy and compact. The bottom brace will turn, so you do need to pay attention as you settle your guitar. But I have now place guitars of different weight in it and have had no sense of danger in tipping. Holds up just fine.',\n",
       " 'Nothing to rave about here, but it is sturdy and holds the guitar like it was designed to do looks ok too !!!',\n",
       " 'Nice stand, has closure at the top to secure the guitar in the stand. I like it very much!',\n",
       " 'Good value...on time and as advertised.',\n",
       " \"Not too shabby I bought this with my beginner guitar just so I didn't have to keep it in the bag. Not the best but it's also cheap. I would you get more bang for your buck. Not the sturdiest in the world but it works.\",\n",
       " \"This stand is sleek enough that it allows us to tuck the guitar in a corner of the living room. It holds our guitar very securely. Has not tipped over --and that's with cats and numerous boys running past it.<br /><br />A few previous reviews mentioned a bad smell. I was concerned about this when ordering. But thankfully, there was no bad smell when I unpacked the stand.\",\n",
       " 'Good guitar stand. Sturdy. Has a strap on the front if you want to really back sure your guitar is secure.',\n",
       " 'Just as listed, it holds my 41 inch guitar perfectly.',\n",
       " 'Perfect for my brothers electric guitar',\n",
       " 'Holds the guitar safely.',\n",
       " 'This stand is really good. I really like the safety strap. If you are looking for a cheap guitar stand, buy this product.',\n",
       " 'I liked it so much I bought two more in different color. Loose fit, but keeps you warm, but not to heavy so you can wear it on even warm days.',\n",
       " \"The quality reflects the cost. It's good for what I need it for. My Thunderbird rests in this one better than a lot of other stands due to the body style.\",\n",
       " 'Very nice stand for the price. Great way to display or store a guitar! Definitely recommend trying this one if you need a stand!',\n",
       " 'Holds the guitar',\n",
       " 'These are great no skill needed to put together and the adjustment works for the electric and the acoustic. They are sturdy enough to hold a heavy electric upright with out falling over during a slight breeze like some others.',\n",
       " 'Works well. No cons.',\n",
       " 'I love this stand very sturdy highly recommended',\n",
       " 'holds my guitar steady, when not in use',\n",
       " \"Works well and can't beat the price. Has held up well and doesn't take up much room.\",\n",
       " 'Very nice guitar stand.  However, it will not fit into the pockets on any of my various Gig Bags so it must be carried separately.',\n",
       " \"After only a few weeks, the metal bar that holds the guitar on the top broke off.  Upon looking at it closely, unlike the other parts of the stand, it is only a tiny piece of metal that connects it. This design is horrible.  Save your money and don't purchase this.\",\n",
       " 'love it',\n",
       " 'Me agradò todo super bueno',\n",
       " \"Great stand, can't beat the price, I use it all the time.I have 3 of these.\",\n",
       " 'good price, does what its supposed to.',\n",
       " 'great',\n",
       " 'Great price',\n",
       " \"These look great around the house to show off my boyfriend's guitars.We have a few of them!\",\n",
       " 'I might sound stupid, but at first I thought it was top heavy but then I realized the back stand has to lay flat as well. It sits really close to the ground, but other than that its great and holds my bass up.',\n",
       " 'Exactly what I needed and arrived quickly',\n",
       " 'a very cheap but sturdy and solid design. i will definitely buy another one, if i will need one again.',\n",
       " 'Use this to hold my inexpensive Fender Bullet Strat electric guitar. The height is adjustable, it is very stable with this guitar on it, it has sufficient padding & the top has a rubber retention strap across it to keep guitar from falling out. Works well for the price.',\n",
       " 'Will be purchasing again.',\n",
       " 'Love it and love the foam rubber guards no just plain ole rubber like some older ones that I have used in the past that get really slick over time. I would buy again',\n",
       " \"I was a little worried about this stand because the bottom arms that hold guitar  rotate side to side. They can't be screwed tight. However once the guitar is in there, it doesn't shift at all. Now that I think of it, I guess they are supposed to move to be able to fit different shape guitars!! For what I need which is just a stand at the house it is great. It is very stable on my carpet, so it will be even more stable on tile or wood floors.  Great value for the price, especially for a first stand.\",\n",
       " 'Nice guitar stand...',\n",
       " 'Has done a very good job over the years',\n",
       " 'As advertised',\n",
       " 'about the most basic yet effective design anyone could come up with, and the price is right. solid legs, adjustable stem, decent padding. folds up fairly small. fits medium-small size instruments to regular size electrics to dreadnought acoustics. works as expected and I like it, have 3 of them now.',\n",
       " \"Strong and won't tip.price is very affordable.I own several and have had no trouble with them.Buy it and you will see.\",\n",
       " 'ample pockets for storing music stuff, still looking for stand that fits in storage space, plenty big enough for full size\" p\"  style bass .extra foam padding to protect your axe',\n",
       " \"Shipped with the neck bar bent. Everything else is nice about it. Except it's not centered.\",\n",
       " 'Vary stable and well built.',\n",
       " 'Worked as was Suppose Too',\n",
       " 'Very cheap and does its job well. I was able to rest my acoustic guitar or my strat easily. Setup takes maybe a minute and seems to be fairly sturdy.',\n",
       " 'Holds both electric and acoustic guitars very well.',\n",
       " 'Good stand, sturdy and looks good too',\n",
       " 'Easy to assemble without tools and seems sturdy enough.',\n",
       " 'Worth every penny.',\n",
       " \"Very well made and sturdy.<br />I bought it based on reviews that I had read across multiple platforms. Can't beat it for the price.\",\n",
       " 'good for low price stand',\n",
       " 'No comment',\n",
       " 'very happy',\n",
       " 'Love it',\n",
       " 'nothing further',\n",
       " \"I have 6 of these. You should have one for each guitar + one or two. At the price you can't beat these things.\",\n",
       " 'it is not sturdy',\n",
       " 'Inexpensive but does a good job',\n",
       " 'Excellent',\n",
       " 'Great guitar stand',\n",
       " 'Was worried this was going to be cheap quality, but I was completely surprised by how nice this really is.  I needed something simple for my electric guitar and this stand was perfect.  Took me just seconds to set up and and use.  I like the soft padding at the top to protect the neck from scratches.  Fast shipping and a great price.  Happy to  purchase this and would recommend.<br /><br />Updated 08/2017:<br />I liked this stand so much that I went ahead and purchased another one.',\n",
       " 'Guitar stand itself serves its purpose. Only negative is the plastic loop to hold in the guitar at the neck area - this little piece broke after just a couple weeks. I still is the stand, but guitar is not secure as it should be.',\n",
       " 'Love these things take up little space and hold my bass great',\n",
       " \"For a ten spot, ya can't do better. Matte flat black finish is nice.<br />Great durable foam contact points for cradling baby.<br />Double dog dare ya to do better.<br />You just cannot. Excellent deal !!\",\n",
       " 'works well',\n",
       " 'Great condition as described',\n",
       " 'Simply nice design,  sturdy',\n",
       " 'Item as described',\n",
       " 'hold guitar nice',\n",
       " 'A+ seller! Item as described! Highly recommended!',\n",
       " 'It does what it is supposed to do.  Hold your guitar',\n",
       " \"I picked up another one of these for a new guitar and I'm very impressed.  They've upgraded the design to be a bit better than the one I purchased a few years ago.  Excellent stand!\",\n",
       " \"I picked up another one of these for a new guitar and I'm very impressed.  They've upgraded the design to be a bit better than the one I purchased a few years ago.  Excellent stand!\",\n",
       " 'Good buy. Basic guitar stand works as it should .',\n",
       " 'My only complaint is the foam comes off the part that holds the neck a little too easily.  Other than that,  I plan on keeping this for a long time',\n",
       " \"It works, put your guitar safely on this rack.  Foam covers on the touch points protect your guitar, and the safety strap is nice too. For the price, don't hesitate, this is great.\",\n",
       " 'holds the guitar nicely just not stable to move around a lot',\n",
       " 'Well worth the small investment. Perfect fit.',\n",
       " 'Stand fits multiple style guitars and keeps them protected with foam at all contact points.',\n",
       " \"Not bad for the price, but not great either.<br /><br />The build quality seems a little flimsy, in particular if you pick up the whole stand, the bottom u-shaped bar falls out pretty easily...  you'll want to be careful it's properly inserted into the main post before you put your guitar on the stand (especially if you just moved the stand).<br /><br />This is a nitpick put the plastic foam material stank (off-gassed) pretty badly for the first few weeks.\",\n",
       " 'precisely what you expect',\n",
       " 'The guitar fits ...',\n",
       " 'Works fine and seems solid enough.',\n",
       " 'Quick and simple to assemble.',\n",
       " 'good',\n",
       " 'Works great and is a good price.',\n",
       " \"....or I guess any money. Speaking of money, I'm not getting any for giving this 5 star review. I don't believe in that, it's deceptive. I just want to say that I received a product that I can't find any flaws with, at what I consider to be a very good, if not cheap, price. End-o-story. It holds my guitars steady and I don't worry about it falling over. For $12 bucks, I expect nothing more.\",\n",
       " 'very good price and quality',\n",
       " 'The stand is not made very accurately.  The upper section that extends has a slot/groove in the back and it is not lined up correctly, so the stand upper part is a little out of line and makes guitar sit crooked.  I forced it around some and made it work.',\n",
       " 'Great stand at a great price. It is perfect for holding our guitar in our living room.',\n",
       " 'It looses it buttons that you just push in all the time.  I guess I can glue them.',\n",
       " \"Amazon has lost complete control of reviews. They are 90% fake.  I purchased this based on reviews and I got screwed.  This thing a is an absolute joke.  The locking nut will not stay tight and it will twist and dump your guitar on the floor. Second there is no lock for the bottom support. It stays super loose by design.  Because it's allowed to free wheel it will shift without notice, when it does the top arm will twist and Bam, guitar to floor!.  There is absolutely no way to tighten the bottom section to prevent this.\",\n",
       " 'Stand works great. I like this top design were you can just leave the little guard off for quick grabbing of the instrument.',\n",
       " 'Very sturdy, excellent price, and received very quickly!<br />Will purchase from again in the future.<br />Highly recommend this item if your looking for great support.',\n",
       " 'Really good quality, better than expected for awesome price',\n",
       " 'I bought it for my nephew long time ago and he still have it is durable and it works just fine.',\n",
       " 'Does exactly what its meant to and well.',\n",
       " 'good price easy set up',\n",
       " \"What's to say, it's a guitar stand.\",\n",
       " 'Work the way they should.',\n",
       " \"It's light, portable I can usually take it with me.  I don't know about others types, but this hasn't failed.\",\n",
       " 'Sturdy. Great value!  Would buy again!',\n",
       " 'It works',\n",
       " 'nice guitar stand -- does the job',\n",
       " 'The item is not hard to put together. Packaging could of been better with the product. Original in its shrinkwrap from the factory . However, the product did not have any package support and was very loose in the outside mailing carton.  Everything tightens up on the stand except the bottom have which hold the product. There appears to be no way to tight the bottom that hold the musical item. It is loose. Unless I received a defective item. But I will be okay with it for now.',\n",
       " 'I love having this to keep my guitar handy.  It makes it easy to just pick it up and practice.',\n",
       " 'I got this to allow my guitar to be available to both me and my son instead of him keeping it in his room. It worked great for that!',\n",
       " 'Great',\n",
       " 'Works as advertised.',\n",
       " \"This is a basic guitar stand. It is made for you to set a guitar on so you don't have to lean it against the wall or lay it on the floor. It is made to sit in an area where it won't be bumped. Expect this to hold your guitar in a safe environment. It will not travel well. It will not stand up to gigging. It will not do well on a stage where there is a lot of activity. If you bump this with any force, it will likely tip over. If you want something more stable, get a Hercules (I've used one for weekly gigging for over ten years. It's battered and bruised, but still works) or Ultimate. They are much more sturdy, will last through regular gigging, and less likely to tip over. Or get a string swing and mount it to a stud on your wall. It will keep a guitar out of harms way.<br />That said, I have several of this type of stand in my home and our rehearsal space. They work just fine for setting a guitar on IN A SAFE AREA OF THE ROOM WHERE IT WONT BE BUMPED.<br />Don't spend $12 and expect more than just a basic stand to hold your guitar.<br />Good stands cost a little more, but they're worth it\",\n",
       " \"It does the basic job.  Though the tightening screws don't hold so well.  We have to keep making adjustments to it on a daily basis.\",\n",
       " 'Good',\n",
       " 'Contains cancer causing material',\n",
       " 'Built very well and a breeze to assemble in like 10 seconds.  The price and quality is outstanding!',\n",
       " 'Thank you ..Love it very much',\n",
       " \"The bottom moves, but once the guitar is on it and it is strapped in, it is fine.  I debated about returning it, but obviously did not. It's a little shorter than I wanted/expected.  I switched out with my daughter (she has a 3/4 size) and that works fine.  It works good, for the full size ones, but I just feel more comfortable having a slightly taller one for mine.\",\n",
       " 'got this for my sister in law for Christmas.  I liked that it came with a strap to hold the neck on the base.  Ours does not have that, and when the cats go racing by, it sometimes wobbles precariously.',\n",
       " 'Using this for a Gibson Les Paul Studio: this stand holds my guitar securely, has a neck lock, and is padded everywhere it makes contact with my guitar.',\n",
       " 'Purchased this for my husband guitar.  Works perfectly.',\n",
       " 'I like the strap that holds the neck from falling if the stand gets kicked. Seems to be fairly sturdy and not too easy to tip over.',\n",
       " \"It was a gift for someone and they haven't complained so I assume it was fine.\",\n",
       " \"This stand is great for most guitars. However, the rest at the base of the guitar stand is not adjustable; that being said, if you have a non-standard shaped guitar (as my Steinberger Demon is), you'll have to get creative. Otherwise, the parts fit well and it seems to be made of high-quality material. Beside the base cradle not being adjustable, I also knocked it a star due to the cradle being loose - there isn't a lynch pin to keep it from rocking constantly or lock it in place.\",\n",
       " \"The bottom bracket swivels.  Other guitar stand I have doesn't do that.  I'm not too happy with it.\",\n",
       " 'Came on time. Made well!',\n",
       " 'Does the job. Great buy.',\n",
       " 'Just as described!',\n",
       " \"At first glance out of the box I didn't have a great opinion. Then after assembly and actually mounting my guitar on this bad boy, I realized my error in judgement. It's very sturdy for how thin it appears. The three points of contact on the footing provides a very stable foundation for my rather large acoustic. This stand is well worth the price.\",\n",
       " 'Great guitar stand for the money.',\n",
       " 'works for me!',\n",
       " 'Nice stand and not too expensive. No problems with shipment.',\n",
       " \"I just get it few days ago .. it look cool and do the job .. if it break or have any issue in the future I will comeback and update my review otherwise it's great product so far.\",\n",
       " 'Does just what it is supposed to.  Quality is good.',\n",
       " 'Perfect. Will be getting another one soon',\n",
       " 'Functional and affordable place to rest your guitar and very easy to assemble!',\n",
       " 'Product description on point. Great stand!',\n",
       " \"All my other guitar stands are Ultra models with the orange rubber tubing.  This one looked fancier, and had a security strap, so I decided to buy one.<br /><br />There isn't a lot of difference between this and the Ultra stands in terms of design, construction, or even weight.  Nevertheless, I can't recall ever having this much trouble with guitars tipping over.  Breathe on it, over it goes.  Look at it, guitar's in the floor.  A flatulent dog?  Guard your guitar!  The security strap keeps the neck from falling out of the cradle, so the guitar and stand kind of spill over as a unit.<br /><br />I'm going to try popping the rubber caps off the legs and pouring some BBs in there for added weight.  I think it's just a question that this stand is a few ounces too light.  It's probably made of steel tubing one gauge lighter or something.<br /><br />I'm on the fence between two stars and three, but the more I think about it, the more I regret the purchase, so I've decided to go with two stars.\",\n",
       " 'Very useful to protect guitar when taking a break',\n",
       " 'Best Guitar Stand out there!!<br /><br />Kind regards,<br />Techie',\n",
       " '. I have three of these. I recently bought the third one and had an issue with it, and the manufacturer sent me a new one in two days!! Its lightweight but sturdy and it does exactly what I need it to do!',\n",
       " \"Seems high quality, certainly meets our needs. We have a nice guitar thatwe needed to hey a holder for and the wall ones wouldn't work. This came quickly despite pandemic and was easy to put together - required no directions. If i need another down the road ill buy this one for sure\",\n",
       " 'The quality and price are perfect which is a good product but not the best.',\n",
       " \"Put a Martin acoustic on it and tipped over. I would have returned it but that's a PIA.\",\n",
       " \"Bought it for the kid, and he's super happy with it. No complaints from him, and you know how kids will complain if something is amiss. So I'll give it 5 stars and call it a happy purchase. He uses it for his anniversary edition Gibson guitar and he loves it.\",\n",
       " \"Works great for those times when you need to take a break but you don't want to put your guitar back in the case.<br />Well made stand. Very sturdy, holds my fender just fine. Very happy with purchase.\",\n",
       " \"Does it's job\",\n",
       " 'Works just fine for my guitar.  No complaints.',\n",
       " 'Solid stand',\n",
       " 'I love these stands. I use them for my guitars and bass. The tall neck holds the guitar securely, and you can put a safety strap across the top grip for added safety.  The tripod base is wide and stable.',\n",
       " \"I've picked up a few of these for my various guitars.  I've found it to be steady and stable and it hasn't left a mark on either my large archtop or my Les Paul.  The little locking strap that goes across the neck cradle is a big plus too.  I've seen plenty of lesser stands for more money, so this one is  my first choice these days.\",\n",
       " \"Excellent. I was able to pack this in my suitcase. Holds my boyfriend's guitar beautifully. Simple, yet classy design. He loves it too :) For the price, it can't be beat!\",\n",
       " 'Fast shipping. Easy to put together. Functional. Worth the price.',\n",
       " \"Even after several months my cats still haven't knocked it over yet, and it supports my long scale bass just fine.\",\n",
       " 'Great and sturdy my daughter loves it!!',\n",
       " 'Would buy again',\n",
       " 'I wanted something to hold my brothers cherished guitar n this stand fit he bill.  The goat is displayed beautifully.',\n",
       " 'Step-dad likes it, works good for him',\n",
       " 'Everyone who has a guitar can afford this worth while product.',\n",
       " 'Great',\n",
       " \"It  is not the most stable stand but gets the job done if you just need to keep your guitar off the floor.  The back leg of the stand seems to be a bit short making it easy to bump the stand and knock over the guitar.  Therefore, you need to be careful when placing your guitar in the stand so that it doesn't fall backward.\",\n",
       " 'A gift for my son',\n",
       " \"Great stand for not a lot of coin. Keeps me from having to tune my 12 string all the time, since the pegs are sensitive and the slightest bump seems to throw it out of tune. I'm happy with it.\",\n",
       " 'Use it every day!',\n",
       " 'Easy to set up and does its job.',\n",
       " \"It's tight fit for an acoustic base guitar (Ibanez) due to the size of the body, but it does *just* fit and is pretty stable. I really like that it has the arm to hold the neck into the top &#34;hook&#34;.\",\n",
       " 'Easy. Good value.',\n",
       " 'just what I needed.',\n",
       " \"It holds up my guitar, which has a weird shape so can't just be leaned up against the wall/car/dinosaur leg/what have you.\",\n",
       " \"Functionally, it's a great stand (and cheap), but it fell apart. Surprisingly, even though all metal, the joint holding the legs together rots and falls apart. Can't use it anymore...not as a guitar stand, anyway. It's a few years old; maybe they improved it since then. For $12+ I'd be willing to try again.<br /><br />[[ASIN:0980034655 The Ultimate Pizza Manual: Make Pizza Like the Pros... Used To!]]<br />[[ASIN:098003468X The Ultimate Pancake]]\",\n",
       " 'I just needed a simple stand to store my guitar. Bought based on reviews and being &#34;Amazon #1 Best Seller&#34;.<br />Great price, arrived quickly.',\n",
       " 'This was a gift for my husband. He has a 43 1/2” acoustic guitar. The stand is used in a room with carpeting. He likes it but wishes it didn’t rotate and wobble so much on the bottom as you place the guitar. Once the guitar is placed on it, it holds the guitar safely and keeps it in place.',\n",
       " \"This is the second On Stage Stand I've purchased. They are sturdy, easy to put together, and work perfectly for my electric and acoustic guitars. But more importantly, their customer service is second to none. I had a defective part on one of the stands and within an hour of an email contact they notified me they were sending a new replacement stand. You can't go wrong ordering from this company.\",\n",
       " 'Use to hold my Strat. Works well!',\n",
       " 'Easy set up, delivery was fast👍👍👍',\n",
       " 'It is what you expect. Easy assembly. Holds the guitar well. Light weight and easy to dissassemble and store if you no longer have the room.',\n",
       " 'Perfect.',\n",
       " 'Perfect. Does everything it needs to for holding an acoustic guitar',\n",
       " 'I have bought three of these and they all work great. Simple to use, good price and they get the job done. They also have a very sleek, basic design that fits in well for displaying your guitars.',\n",
       " 'I have bought three of these and they all work great. Simple to use, good price and they get the job done. They also have a very sleek, basic design that fits in well for displaying your guitars.',\n",
       " 'Great price for a guitar stand. nice storage and display for you guitar. I will probably get a second one for a another guitar we use for Rocksmith.',\n",
       " 'Just what I was looking for!',\n",
       " 'Okay construction, a little less stable than I would prefer.  Also a bit short in height.  Super cheap.',\n",
       " 'Perfect and just as expected!',\n",
       " 'Easy to assemble. Fits secure. Love it!  Buy with confidence. A super truly great price! Thank you!',\n",
       " 'Awesomeness',\n",
       " 'doesnt take lot of space...and stand kinda hide behind guitar when you put it on...easy to set up and I like it',\n",
       " 'Great product delivered on time',\n",
       " 'Does the job',\n",
       " \"It's a guitar stand. It stands up my guitar and does it well.\",\n",
       " 'Easy to assemble and works great for holding my Yamaha guitar!',\n",
       " 'Good stand. Works for my husband.',\n",
       " 'Works great',\n",
       " 'Fit electric strat perfectly! Easy set up',\n",
       " '👍',\n",
       " 'A really great product! So glad the I order it.',\n",
       " \"Nice, easy guitar stand. Fits a regular sized guitar as well as my son's kid sized one.\",\n",
       " 'Exactly as pictured and described. Perfect for acoystic guitars.',\n",
       " 'Works fine thanks!',\n",
       " 'Perfect for my 8 year old sons first guitar',\n",
       " 'Does what it’s supposed to',\n",
       " 'This product is as described.  Although there are no printed directions for assembly, it is easy to assemble.  It is very sturdy.  Highly recommended.',\n",
       " 'hold electric and acoustic, it works',\n",
       " 'Neck support is hard to tighten.',\n",
       " 'Not a fan',\n",
       " \"Kind of cheap. I can't find my good one so this will be ok for now.\",\n",
       " 'Simple basic stand. Perfect.',\n",
       " \"Works great for our use.  If you're going to be taking the guitar out every day, or if you need it to be secure, this probably isn't the stand for you.  It could definitely be more sturdy, but we have it in an area that does not get a lot of traffic.  We don't use the strap on the top to secure it, but rather just place it in the stand.\",\n",
       " 'Wont fit my Dean Tyrant, and putting my Warlock on it, is tricky.',\n",
       " \"This is a great, low-cost music stand that works well with the guitar we purchased for my 13-year-old son.  It's stable enough when placed on carpet.  Works well for us.\",\n",
       " 'Love it',\n",
       " \"Good cheap guitar stand. Just got it today- looks sturdy and doesn't tip over. Don't particularly care for the rubber strap that holds the guitar in but I just took it off the stand.\",\n",
       " \"A reliable and inexpensive stand.  When gigging, stands can get thrown around, so it's great to have one for this price and quality.  There are others that are more expensive, but these work great and accommodate most all shaped guitars, including a Firebird.\",\n",
       " 'Very nice stand for the price',\n",
       " 'For a low cost instrument stand this stand is pretty decent. Using it at home to hold my electric bass guitar. Does not seem like it would tip over easily, has nice padding, and is easily height adjustable.',\n",
       " 'Once I figured how to set up correctly, worked great.',\n",
       " 'I like it a lot. It holds my Classical guitar quite well.  It was very easy to put together. Very light weight too.',\n",
       " 'Solid and inexpensive',\n",
       " 'Ordered it again!',\n",
       " \"This guitar stand might be better suited for light acoustics which should be stated. The rear leg is way to short and due to that it falls backwards very easily. I tested it with my heavy guitar which it held upright okay. The biggest issue with the short leg is that it can tip sideways just by tapping it. I'm returning it due to poor design alone. This product couldn't of been field tested with that flaw. Fix it!!\",\n",
       " 'This is sturdy and stable.  The band across the padded neck cradle is very strong and easily closed. The bottom padded wishbone moves side to side by itself and  finds the center of gravity and keeps it level.  This would easily keep a heaviern electric guitar or bass from falling forward too if tipped.  The legs unfold and lock and for the price it is outstanding, the legs lock and the rubber feet make it non-skid.',\n",
       " 'Easily worth the money, it does the job nicely.',\n",
       " \"Does its job and makes your guitar an art piece for any room. Only minor nit is that the little rubber retention band kinda interferes with replacing the guitar with one hand, but use two hands and you're in business. I know, first-world problems. Good stand. Adjustable! Sturdy.\",\n",
       " 'Good little stand for the price. I recently bought one of the triangle type stands with no neck support and I like this one better. Your guitar will be less likely to fall over.',\n",
       " 'Great',\n",
       " \"Great guitar stand, works wonderfully and holds the guitar! Would buy again, highly recommend. I was worried because it was so cheap to buy, but it's great!\",\n",
       " 'Not stable stand, not recommend to buy it.',\n",
       " 'Pretty nice and sturdy stand for the price, highly recommended',\n",
       " \"It's a very good stand. I had my concerns because of other reviews, but I've had no problems with it. The installation is easy. I was concerned because the part that you set the base of the instrument on wobbles. But I think that's just to accommodate different shaped bases. I'd buy this again for my other guitar. It's not short enough for a ukulele if someone wanted it for one.\",\n",
       " 'Perfect for what we needed',\n",
       " \"No criticism of this stand, but they're the sort of disposable piece of stage hardware you need to &#34;keep in stock&#34; if you play in a working band. You're going to lose or break guitar stands along the way, and this one is plenty good enough to do the job until you leave it somewhere.\",\n",
       " 'Perfect',\n",
       " 'It arrived quickly and in good condition. It is exactly as advertised. It is sturdy and was easy to put together.',\n",
       " 'Perfect!  My son loves it.',\n",
       " 'Normal stand works well',\n",
       " 'A great purchase!',\n",
       " 'Sturdy stand',\n",
       " 'Perfect',\n",
       " 'I liked the simple way it goes together and breaks down',\n",
       " 'Excelente',\n",
       " 'Good',\n",
       " 'Worthd the money!',\n",
       " 'It has worked well in every instance.  My only preference MIGHT be that it were of heavier gauge metal.',\n",
       " 'This stand is junk. It might as well be made out of PVC pipe. Do yourself a favor pay a little more & get something nicer. This is something I feel like my cats could knock over running through the house.',\n",
       " 'This is second exact one I purchased another as these are very nice well made. Perfect for my guitar, easy assembly, fast delivery.',\n",
       " 'My sister loves it.',\n",
       " \"Looks nice for my 10 year old son's guitar.\",\n",
       " 'Mine just sits in the corner of my room and I regularly use the guitar that sits in it, I would say that I am very careful with the stand and it works just as great at when I bought it almost a year ago.',\n",
       " \"I bought this stand so I could have a stand at my Mother's house when I came to visit.  One less thing to carry.  I have been use it for over 3 years now.  It is stable.  I have used with with acoustics and electrics with no problem what so ever.  Plus it won't interact with nitro finishes!  This is a great stand for the price.\",\n",
       " 'A good stand though vibrates when I have the Marshall stack on 10 1/2!',\n",
       " 'Great and nice little stand.',\n",
       " 'I have zero complaints with this stand. I set my daily playong taylor on it.',\n",
       " \"This stand is a good value considering it's low price. I would suggest getting a quality guitar for it instead of the cheap toy guitars that I made a mistake in buying on Amazon.\",\n",
       " 'As a beginner player, I would recommend a stand. Having the guitar out of the case, and within reach of my recliner, makes it easier to grab and play. I use to put it in the case and put it in the closet. I grab it and practice a lot more now',\n",
       " \"Great price, easy to put together and it's adjustable.  Well worth the money.\",\n",
       " \"I bought two of these and may buy another soon. It's very easy to adjust the neck holder up and down and it's fairly sturdy. If it's going to fall it will be backwards and to the side. My are always sitting at a wall so I never bump them. The protection on the base arms and neck holder is nice. Definitely no scratching your guitar with this.\",\n",
       " 'This stand is perfect. I love the color and finish and the security strap is a nice touch! Well worth the money:)',\n",
       " 'There is a pin connecting the vertical post with the U-bracket, which holds the guitar.<br />The weld on the pin broke - no abuse or excessive use.<br />Spend a few dollars more and purchase a robust stand.',\n",
       " 'Holds guitar very securely. Would buy again.',\n",
       " 'these are cheap junk ... holding an sg the bottom u part snapped off .... its an sg come on ..<br /> the stands are not good .... buyer beware ...',\n",
       " 'Fast delivery!!  Excellent quality.',\n",
       " 'I like this  stand...wish I had more!',\n",
       " 'Easy to assemble and great quality',\n",
       " 'Good quality',\n",
       " 'Does the job quite well. No need to spend tons of money this one is great!I would definitely recommend it.',\n",
       " \"Holds my electric guitar. Very solid, I have no fear of my guitar slipping off. Don't hesitate to purchase!\",\n",
       " 'Very good  SturdyGuitar stand',\n",
       " \"Essential piece of kit for holding my bass when I'm not.\",\n",
       " 'Does the job for 1/3 the price.',\n",
       " 'works great.  I now have bought three and will probably buy one more once I buy a new instrument.',\n",
       " 'GET WHAT YOU PAY FOR.',\n",
       " 'Recommended!',\n",
       " 'Easy to use',\n",
       " \"It does what it's supposed to... very easy to assemble. The only advice I have is make sure you use it on a hard floor, because it doesn't have a very wide base and seems to be somewhat unstable on carpeting. Other than that, no problems at all.\",\n",
       " \"The rocking base of this stand is very helpful if you have an unusually sized or shaped guitar. I own a Silvertone Liberator, which has long, angular projections coming off of it, but the stand accommodates it well and keeps it off the ground. When you get this stand, you will think you're missing a bolt or something, but you're not, so don't sweat it.\",\n",
       " '👍',\n",
       " 'Good quality and recommend!',\n",
       " 'Aside from it did not arrive on the Guaranteed delivery date the stand works great. Its holds the guitar well its sturdy enough to hold my acoustic guitar',\n",
       " 'Bought guitar and stand for son.  This is a nice, small profile stand and fits a 3/4 guitar very nicely.',\n",
       " 'love it',\n",
       " 'Great product for the cost. Very sturdy and it took seconds to put together (3 parts and that is all).',\n",
       " \"I'm happy with the purchase\",\n",
       " \"I love this stand, holds up well, fully supports my guitar and the customer service from this seller is TOP NOTCH. They are quickly responsive for any questions. I'll be contacting them again for all my musical needs.\",\n",
       " 'Best and most simple guitar stand there is.',\n",
       " 'Not very stable ..',\n",
       " \"I bought two of these for my electric guitar and acoustic. It held up well and I'm glad I got them. One thing to note is the piece that holds the base of the the guitar looks a little loose so it easily swivels around when there's no guitar on it(maybe this might be from me not setting it up well). But apart from that, the stand is sturdy, robust and I would recommend it for a pro or casual player like me.\",\n",
       " 'Is at good product for the price!!',\n",
       " 'This is our second guitar stand from On Stage. They are great, durable, transportable, and inexpensive. What more do you want',\n",
       " 'Great stand for the price!',\n",
       " 'It is fairly flimsy. Does the job for a quick fix or traveling but not the sturdiest',\n",
       " 'Good guitar stand but the bars at the bottom that hold the guitar tend to swing a little. That is my only criticism.',\n",
       " 'This is a great deal. Would definitely buy again. Holds bass, electric guitar and acoustic just fine.',\n",
       " 'Very easy to use, lightweight and kid friendly. his guitar fits perfectly!',\n",
       " 'Not the greatest stand of all time, but for the price, its pretty great. Works to keep my guitar from leaning against a wall or getting knocked over. Easy to disassemble and transport. Fairly sturdy material. I would have liked for it to be a little harder to tip over backwards, but overall its a good buy, and I am pleased with my purchase.',\n",
       " \"Construction is fine, and you can set it up in 30 seconds. It holds my bass just fine and the swiveling bottom is not an issue for me. I don't know why some people hate it. The rubberized neck holder protects the wood and the strap keeps the guitar in place. For under $10 and prime eligible, what more can you ask for?\",\n",
       " \"I have just receive mine just now.. It was awesome...I never thought that it would be so solid... It is made with steel and covered with rubber on the very edge.. Can't beat the price... I would recommend this to anybody who are looking for a guitar stand!!.. A+++\",\n",
       " \"It's stable and not bulky.  Great product for cheap price.\",\n",
       " \"This is your basic guitar or bass stand.  Mine was fine until at one point it almost came apart on me and my Gretsch Duo Jet almost took a dive to the floor.  So I re-tightened it to the point that it's not going to come apart again, but that scared the heck out of me, and I'm taking a star off for that.  I would recommend putting a lighter guitar on these as a result and save the heavier ones for better stands out there.\",\n",
       " 'Nice',\n",
       " \"I would highly recommend getting a stand that holds the neck over one that doesn't.  This stand is great. I've already knocked my guitar a couple times that would have sent it to the ground in those other stands.  There's a little rubber thingie to secure your guitar but I don't use it unless I don't plan on playing for a bit.\",\n",
       " 'Epic stand. Works great.',\n",
       " 'It serves its purpose - a stable, adjustable stand for an affordable price. A great product if one prefers not to invest in a more expensive, quality guitar stand.',\n",
       " 'Does what you expect. Well made and very stable.',\n",
       " 'Been holding up well for years now.',\n",
       " 'Works as advertised. I like the restraining strap. Great feature.',\n",
       " 'Great product, great price',\n",
       " 'Great deal.',\n",
       " 'It gets the job done, however, you gotta be really careful the first couple of times you use it because the weight of my bass would make the stand fall. After a while, I found the perfect way to set it and have zero issues since then.',\n",
       " 'Great for the price',\n",
       " 'Fits perfect in my case and no issues. A good decent stand for a good price. Happy overall...',\n",
       " 'Great stand and great price',\n",
       " \"Awesome little stand. Very sturdy and well-made. Can't beat the price. Very happy with it.\",\n",
       " 'Does the job as advertised.',\n",
       " 'Holds my guitars just fine. It is a bit odd to think that something off balance (one of the legs is shorter then the others) will be fine but it works.',\n",
       " 'A very good stand for my guitar and holds it securely.  Well priced and easy to assemble.',\n",
       " 'Holds guitar well',\n",
       " 'Great quality!',\n",
       " 'Great for any guitar.',\n",
       " 'Awesome designed and very sturdy.  I have multiple instruments which I was able to place on the stand and they all fit perfectly.',\n",
       " 'Well made, solid, great deal!',\n",
       " 'great stand!  perfect!',\n",
       " \"I just got a my first guitar and wanted to stand up my guitar so it didn't get banged around. Love the stand and the price. Great product.\",\n",
       " 'Does the job, seems to be built sturdy enough.',\n",
       " 'I am a novice musician so perhaps my lack of experience in these items. Once you figure out how it goes together it is an excellent product. It holds your guitar up.',\n",
       " 'Perfect stand for my acoustic guitar.',\n",
       " 'I only use it at home but it has never been knocked over. Fits my basses and my guitars.',\n",
       " \"wow,  only ten dollars, and I like it.  adjustable height, security strap,  just makes it nicer.  For the price and functionality this stand is a five star product.  (I've been playing bass and guitar since 1985)\",\n",
       " 'I have two of these - I like them better than the Amazon basics brand.',\n",
       " 'Not fond of the unrestricted swiveling of the bottom rack.  Would prefer some friction control.  Would like a larger version for fender jazz bass.  It is a little small for that purpose.  Works well for a Fender Strat or some short scale basses. Best option now for my jazz bass is the expensive Hercules models. and they are great but you pay for it.',\n",
       " \"so far it's worked great, easy to put together, adjustable neck height. I like that the back foot/brace is short and so i can put this close to the wall.\",\n",
       " 'Holds my guitar securely.',\n",
       " 'This guitar stand is very sturdy and very well made.  It is easily assembled and works very well to support the guitar.',\n",
       " 'my son loves it',\n",
       " 'Works well with an acoustic guitar!',\n",
       " 'Nice stand. Works well',\n",
       " 'Great stand just wish it was a little taller necked',\n",
       " 'WORK GREAT GREAT PRICE',\n",
       " 'Works great',\n",
       " 'I use this for my Mandolin, the locking top keeps the instrument from falling off the stand',\n",
       " 'exactly what you would think it is. Works well',\n",
       " \"This stand was very easy to set up and the tripod is solid. However, the screw that adjusts the height doesn't hold the top piece firmly into place, and I find that it slides around a bit as a result.<br /><br />Still for the price, it's perfect to display my guitar and add to my decor rather than keeping it in it's dusty case!\",\n",
       " 'Keeps the neck off of the wall, and supported upright.',\n",
       " \"This is great if you have to put your guitar down but don't want to put it in its case.\",\n",
       " 'We have these for three out of four of our guitars (fourth is kid size and is never in one place long enough to have stand), and love them! They are sturdy, easy to use and adjust, and durable. I’ve used the two on the classical and acoustic guitars for nearly five years and they still look and function as brand new, as you can see from the photos I have uploaded. Excellent value for money! Highly recommend. It encourages frequent practice because it allows instrument to remain set up and ready to play, rather than having to fool with cases and gig bags for access every time.',\n",
       " 'I thought it was good, but it all fell apart, the rubber part etc... This is junk',\n",
       " \"Cheap, easy to set up, and it does its job.  This is my third one.  Other 2 are still working fine holding guitars I've had for years.\",\n",
       " \"I don't know about the smell everyone talks about, but I didn't see any problem with it.<br /><br />Pros:<br />-Good quality Stand for the value<br /><br />Cons:<br />-None that I know of.<br /><br />If you need a guitar stand, this will serve all your needs... unless you want something fancy.\",\n",
       " 'Meh, the best thing about these is the price. They do work to hold a guitar or bass. The forked bottom rail falls out of the vertical tube and spins around, negating any real support, and there is no way to lock it in.',\n",
       " 'he loves it',\n",
       " 'Nice stand! I use it just to allow me to not have to put the guitar in its case at home, but it does what I need.',\n",
       " \"It's kind of small and not too sturdy. I don't think this would hold up very long for my 12 string. This is perfect for my violin. I bought a better one (Titan) for my guitars.\",\n",
       " 'good deal',\n",
       " 'Holds the Fender Guitar',\n",
       " 'Love it.  It works great for my standard acoustic guitar AND mandolin.',\n",
       " 'Does not hold the guitar well, a little flimsy',\n",
       " \"Arrived quickly per usual amazon shipping. Very simple to put together and supports my Fender as well as shows it off. Stand doesn't take much space and doesn't look bad. A buy for sure if you are looking for a solution to show off and store guitar.\",\n",
       " 'the top does not align with the base..........would not buy again',\n",
       " 'Comodo',\n",
       " 'Use it all the time. Good value.',\n",
       " 'You can never have too many guitar stands.  And at this price, you can get a few!  On Stage always makes quality products at an affordable price.  Won’t be my last purchase from them!',\n",
       " 'good value for the $$$',\n",
       " 'I needed some inexpensive ones for display - works great',\n",
       " \"Outstanding stand.  Excellent components.  Couldn't be happier.\",\n",
       " 'Works fine. Nothing special though.',\n",
       " 'The On Stage XCG4 Tubular Guitar Stand is a decent quality simple guitar stand like almost all the others, so here is how I rated it. There are really high quality stand of the same design, but i will not use those stands as a comparison.  Seriously, the tubular guitar stand has been around since dirt.  If you somehow made one that retails for over $30 and are able to sell it, I applaud your marketing team.<br /><br />Continuing on, this is how I rated the On Stage XCG4:<br />If it were over $13, it would have gotten 3 stars.<br />Between $7 and $13, earns it 4 stars.<br />if it were under $7, it would have gotten 5 stars.<br /><br />I hope this helps,<br />~J<br /><br />P.S.  The currency is in US dollars.  Please adjust accordingly.',\n",
       " 'the product was just as described and was delivered on time',\n",
       " 'Works like it should. Low cost , stable support for extra instruments on stage. Good value',\n",
       " 'Matches description and is sturdy',\n",
       " \"While it's not super heavy duty, it's pretty nice and sturdy, and for the money, it's a no-brainer. I've seen others built the same way for 2x more $$.  After I bought the first one, I got another one, and then another one after that. If I need any more, I'll buy this one again.  This is pretty much my go-to guitar stand. It's nicely padded, the bottom rotates to fit pretty much any shape guitar body, and there is a safety strap on the neck to secure the guitar. It's also light and folds away to be reasonably compact. Highly recommend!\",\n",
       " \"I now have three of these, and they're perfect for home use.  It's a lightweight stand -- I wouldn't dream of using this on a busy stage with clueless numpties walking around backwards.  For home use, however, it can't be beat.  I wouldn't hesitate to put a very expensive guitar on this stand.\",\n",
       " 'It looks good and does the job intended all for a great price.',\n",
       " 'Lightweight, reasonably stable, great price.',\n",
       " 'Sturdy. Worth the money.',\n",
       " \"Not crazy about having to pay shipping that amounted to half the purchase price for the stand, not to mention having to wait five days for it to arrive. No assembly instructions were included in the packaging. I've never owned something like this before, so that was annoying. Luckily, some nice pictures were posted on the web page and I was able to figure it out from there. Once I got it put together, and placed my beloved guitar in the thing, I got happier. It looks nice and holds the guitar safely (padding protects the guitar finish). I'd recommend this stand to others, but be aware of shipping, tax and consider the possibility it will arrive with no assembly instructions. Not that you have to be a rocket scientist to put it together, still...\",\n",
       " 'just what I wanted, until I read the calif toxic product lable warning, oh well.',\n",
       " 'Works just fine no problems',\n",
       " 'Lightweight, yet sturdy enough to securely hold my Les Paul or Jazz bass.  Folds up and transports easily.  Just what I wanted',\n",
       " \"Finally got around to actually putting a guitar on this stand, after having bought it months ago and setting it up (my kids took the guitar for it to school and kept it there - just got it back when their guitar unit ended).  I bought this as a &#34;very good condition&#34; used purchase, through Amazon, just to save a couple of dollars, and I made a mistake.  It's messed-up.  It looks fine, but it has a severe flaw.  Either it was manufactured incorrectly, or whomever returned it (most likely) stepped on the front legs, or something, because the upright part is almost perfectly vertical, and the bottom holder bars practically tilt downwards, which means if I put my guitar all the way in, it will fall out.  I've got another guitar on it now, but a had to put it in at an angle.  There's no top strap to lock-in the neck, either.  I really was not paying attention.  I threw away the box it came in, too.  Amazon might still take it back, but then I'd have to find a good sized box, probably pay for shipping, etc.  Pita.  I'm going to see if I can bend it back into usable shape.  Fwiw, I do own 4 others of these, that I bought brand new, and they're all fine.  I had previously given this item 5 stars, which a brand new one, manufactured properly, would deserve.  Btw, one newbie mistake people make with this is that the legs have to lock into place.  You have to exert some force to do this, and if you don't, the stand will lean wrong, and be unstable, so if you have one, and have this issue, first make sure the legs are clicked-in all the way.  Just don't crush the thing!\",\n",
       " \"Good price.  Good stands.  Just don't drink alcohol around them, or else you'll knock it over and break your guitar...then you'll blame the stand.\",\n",
       " '👍',\n",
       " 'Easy to knock over and impossible to use foot to re-right it.',\n",
       " 'No complaints with this item.  It was easy to setup and my guitar sits on it every day.  Nice to be able to have the guitar out where I can get to it easy and play it while watching TV.  After receiving one of these and using it for a while I bought a second one my kid.',\n",
       " 'Hold an odd shaped electric guitar just as shown in the photo.  Quite versatile and pleasingly inexpensive.  Looks great in my living room.',\n",
       " 'I use this for my Dobro and it works great.  Easy to set up and disassemble.  With the adjustable neck, you can use it for about any style stringed instrument.  This is my 5th stand.  I use one for a dobro, one for a guitar, and one for a banjo.  I even bought 2 for a friend of mine who liked the way they worked.  Good Price too.',\n",
       " 'Does the job!',\n",
       " \"Works and looks good. Wasn't flimsy, guitar hasn't fallen out of stand yet. :-) For the price, great deal, fits my needs.\",\n",
       " 'Its Ok...',\n",
       " 'Works great. Ummm, holds a guitar.',\n",
       " \"Works as expected. The rubber insert at the top keeps pooping off. Though maybe that's by design?\",\n",
       " 'Good stand - not too tall. But perfect for Guitars and normal bass.',\n",
       " 'Hard to beat for the price. Not rugged, but plenty for around the house/studio.',\n",
       " 'Very satisfied',\n",
       " 'Love the stand. Makes my guitar look really nice setup in the living room. Love the piece that keeps the guitar from falling off towards the top of the frets.',\n",
       " \"don't know, given as a gift\",\n",
       " \"It does what it's supposed to do and it's sturdy.\",\n",
       " 'I received this item on Monday and had it put together in approximately 5 minutes. It works great for my acoustic guitar. That stand sits on a carpet and is very stable. The stand is light weight but sturdy.<br /><br />I have read one complaint about the bracket that the guitar sits on swiveling which it does do (left/right or up/down depending on how you look at it) if the guitar is not on it, but once the guitar is in place it does not seem to move. I put my guitar on the stand and then picked the whole stand up with the guitar on it and the guitar did not move.<br /><br />Another complaint I read was about the smell. My stand did not have much of a smell to it when I took it out of the package.<br /><br />Bottom line: The stand is an outstanding value and I am very happy I purchased it.',\n",
       " \"I haven't had a problem with tipping or the smell that were suggested in other reviews. This mainly holds my LP but also worked with my 5 strings bass. I even tried giving it some good nudges and it stayed up pretty well.<br />You will only run into issues on very squishy carpet, just put some cardboard under it, being that it's a tripod.<br />Very portable and stable for a boltless construction.\",\n",
       " \"I ordered two of these. They both broke within six months, and the company didn't return my call. Now, I have to buy new ones. Waste of money. Also note that the return window is really short...like days (and not even 30).\",\n",
       " \"I ordered two of these. They both broke within six months, and the company didn't return my call. Now, I have to buy new ones. Waste of money. Also note that the return window is really short...like days (and not even 30).\",\n",
       " 'OK stand, good for a nylon string or acoustic guitar. I would not trust it with my Les Paul. good price.',\n",
       " \"does exactly what it's supposed to. our toddler plays with it all the time and it's proven to be quite durable.\",\n",
       " 'Exactly what I wanted',\n",
       " 'great price, nice quality.',\n",
       " 'Very happy with item',\n",
       " 'Once my husband puts this together, I think it will be great!',\n",
       " 'Works well for grandsons guitar.',\n",
       " 'It is all I expected and more.  I simply LOVE it.  The price was the best I have found also.!!  So glad I tried it.',\n",
       " 'Your basic stand.',\n",
       " \"Looks great, she's happy = i'm happy, the end.\",\n",
       " 'I bought this because it was cheap. It holds up my bass in the corner of the room just fine.  It is not the most stable stand I have seen, but in my home environment there is no reason for it to be bumped so this is not a concern.<br /><br />I recommend this if you are looking for a cheap stand to be used in a low traffic area.',\n",
       " 'This product could not have been designed for an acoustic guitar. No matter how you adjust the neck holders height, the stand will end up being extremely unstable and tip over at the slightest bump. To add to your woes, the loosely help bottom cradle is too short to accomodate most acoustic guitar and the guitars weight ends up being applied to the rubber band near the neck of the guitar. This was designed by the worst kind of swine.',\n",
       " 'sturdy and decent quality for the price.',\n",
       " 'Nice',\n",
       " \"Works and looks great!  Makes me look like a cool guitar guy when people stop over even though I'm just hacking along!\",\n",
       " \"Stand is sturdy and I don't have to worry about animals or kids knocking my valuables over any more!  Simple one step installation when the stand arrives and you're good to go.  Stand holds just about any size/style of guitar.  Will be purchasing more.\",\n",
       " \"These work well and are stable enough. Truthfully, this design has a special place in guitar Hades. The good news is that if the thing breaks, gets lost or is left at a venue, you won't care.\",\n",
       " \"just what i needed and can't beat the price\",\n",
       " \"I bought two - one for my electric and one for my acoustic. They are sturdy, adjustable, and don't take up much space. Perfect!\",\n",
       " 'Was a present and it was a good one.',\n",
       " 'I struggled to figure out how to assemble it, but it works fine.',\n",
       " 'Trips over easily, foam slips off easily, and the bottom guitar support cannot be screwed in place. My guitar has fallen over so many times because of it. What a piece of junk',\n",
       " \"So I want to stop and say that it's worthy of five stars for the price.  If you want some awesome guitar stand, spend some real money and don't be a cheapskate.  The bottom base wiggles a little but it's a downside to the tool-less design.  The lock strap works, it keeps my guitar standing up, and I am super happy.  You can't go wrong if you want something that simply does the job w/o breaking the bank.  I highly recommend!  5/5<br /><br />-Chris\",\n",
       " 'Does the job, inexpensive, but no complaints',\n",
       " 'Great products!',\n",
       " 'Holds guitar without tipping or damaging guitar.',\n",
       " 'nice and stable',\n",
       " 'Great product.',\n",
       " 'Price was right, works perfect.',\n",
       " 'I like the stand, but want to put the guitar on the stand when it is in the cloth case. It is hard to squeeze the cloth case into the top part. It took me awhile to figure out the stand. The stand works well and is a good price.',\n",
       " 'Good stand for the price.',\n",
       " 'Works like it says easy to use',\n",
       " 'Good guitar stand for basic guitars.  The metal is very light which makes me think it might get damaged if you have a super heavy bass or something.  Good for the money though, I enjoy it',\n",
       " 'Great stand',\n",
       " 'Husband loves it',\n",
       " 'I really like this guitar stand, it was worth the extra money. It securely holds my acoustic guitar and leans back a bit so you can clearly see it. Very stable base. The bottom which holds the guitar can be switched over for different size bases of guitars. A good price, a good buy. Glad I invested in it. By the way, I read several reviews which said this had a \"smell\" to it...Mine does not. I just wonder what other people have encountered?',\n",
       " 'Gift',\n",
       " 'Great for any guitar.',\n",
       " 'Very good Stand. Simple but works perfectly!<br />Your Guitar will be safe there (it has a safety latch)',\n",
       " 'Works well, keeps the guitar off the floor.',\n",
       " 'Perfect fit!',\n",
       " 'This is clearly not a premium stand but you are not paying for a premium stand. It does the job really well and keeps our guitars from leaning against walls. I like these and will probably buy more (we have a ridiculous number of guitars as there are three guitar players in the household)',\n",
       " 'Great product',\n",
       " 'In great condition! Love it!',\n",
       " 'Works very well. Holds my Ibanez bass no problems. Sturdy and satisfied with it.',\n",
       " 'Well priced and simple to set up. Recommend.',\n",
       " 'Works as expected to hold my 2nd bass',\n",
       " 'This is a high quality stand that is adjustable to various guitars.  Not so heavy as to prevent bringing onstage',\n",
       " 'Works great, perfect for a classical guitar stand.',\n",
       " 'Very cheap quality but it is cheap, so....',\n",
       " \"Five stars because I could not find a problem to report. It is well padded with cushion to protect the guitar. It's fully adjustable and fits all three of my guitars (2 acoustic dreadnoughts, 1 solid body Squire) without a problem. It has a good center point of gravity with a shorter center leg for support, and it has the rubber lock to keep it from falling out of the cradle. The price was right and the product works, can't get much better than that.\",\n",
       " \"Work just as it is intended to work.<br /><br />Holds the guitar in place, with a good support of the body and the neck.<br />All the part that get in contact with the instrument have a foam cover, so it won't scratch anything.\",\n",
       " 'I use this stand for my banjo and it works perfect for that too. For the price, this is a solid stand!',\n",
       " \"This worked pretty good for our guitar.  The strap didn't quite fit across the neck to clip it in, but it still stands on there okay.\",\n",
       " 'Very sturdy very nice piece',\n",
       " 'My first guitar stand, so I have nothing to compare it to, but this seems like  great buy at this price. Sturdy, adjustable, easy to set up. Love it.',\n",
       " 'Works great for home use. As stated in another review the back leg could be longer and the rest should lock in place. Overall not a bad value.',\n",
       " 'Only received half of the contents (missing parts)',\n",
       " 'The quality and strap holder are great!',\n",
       " 'Simple enough And great quality.',\n",
       " 'Affordable & works like a charm. Hold electric or acoustic guitar perfectly for ready to play times! A+++ Would buy again.',\n",
       " 'Great probably',\n",
       " \"This is a lot nicer than I expected. And heavier than I expected. It's a nice sturdy stand, I'm going to buy a few more for my other guitars.\",\n",
       " \"Works as described. Doesn't fall apart, sturdy.\",\n",
       " 'Good product.',\n",
       " 'Great item. I own a couple of them.',\n",
       " \"Product works for my Martin D 18! I might have preferred a little larger base, but if you're just using for around the house casual use it'd not an issue.\",\n",
       " 'Not expensive and made well.',\n",
       " 'Easy to assemble and stable - with or without a guitar. The protective, non-scratch coating has no seams or gaps. The stand does what it is supposed to do at a very good price.',\n",
       " 'This doesn’t tip. I love it.',\n",
       " 'Great',\n",
       " 'Very nice stand and has a nice strap to keep guitar from tipping out if the stand is moved.  Great stand at a reasonable price!',\n",
       " \"excellent condition...had to put together but was very easy. the bottom piece was loose but holds my guitar; not sure if that's how it suppose to be.<br /><br />I'm wondering if I was missing a screw piece cause the bottom portion swivels freely but my guitar holds well<br /><br />good price...delivery was quick; a matter of a couple of days I think.<br /><br />Metal frame; light...soft padding where the guitar sits in.\",\n",
       " 'Great stand',\n",
       " 'I enjoyed this stand for four months until the security strap broke. It’s made of a soft plastic material and the end loop that secures the strap to the neck yoke broke. It’s a cheap stand so you get what you pay for. Spend more money on a better built stand.',\n",
       " 'Basic guitar holder. Came as expected. 50% cheaper than same product being sold in local music shops.',\n",
       " \"Hmmmm Amazon Number One Best Seller, that's what sold me however, its crafted poorly (yes, I did expect something better for the price) and the worst part is the bottom rest does not &#34;lock&#34; into place and this swivels freely.  I bought this to place an acoustic guitar upon near the Christmas tree for my five year old son.  I purchased a quality $400.00 Fender acoustic 3/4 size and thought the best way was to present would be on this stand.  Buy it for price and not for strength/quality.\",\n",
       " \"This is great at holding my son's guitar but the bottom piece is wiggly and sometimes if he doesn't center it correctly, it turns diagonally and the guitar rests on the floor.\",\n",
       " 'NOT GOOD FOR ACOUSTIC GUITARS.  IT JUST FALLS OVER.  I HATE IT.',\n",
       " 'Perfect for what I needed & great price !',\n",
       " 'My 15 year old son is very happy with it',\n",
       " 'I am no rock star, I just needed a stand for my acoustic guitar and this fit the bill. The metal can be bent easily but set up was easy and it holds the guitar perfectly. For the money and ease of set up. I am happy with the purchase.',\n",
       " 'Cheap, does the job well.  No issues, would buy again',\n",
       " 'Good stand. It is stable, small, and pretty strong.',\n",
       " 'If you value your guitar stay away from this flimsy very tippy stand. I learned the hard way.',\n",
       " 'Had to get something to hold my (used) new guitar from the pawn shop!  Definitely holds it very well!',\n",
       " 'Works very well holding a full-size guitar. Very stable despite being lightweight.',\n",
       " 'Works well for intended purpose.',\n",
       " 'Gift he likes it.',\n",
       " 'Gift',\n",
       " 'But it works so far for my Gibson. I do feel like I should always keep an eye on it just in case it falls. Which it has once. But it was not on a totally flat surface and take this tip from me. That really does matter with this.',\n",
       " 'great price guality made easy to break down and set up like the strap too',\n",
       " 'LOVE IT',\n",
       " 'Well worth the price',\n",
       " 'Exactly what I was looking for.',\n",
       " 'I had this stand for a while now and even though the material is not the greatest, it is really good for my guitar',\n",
       " 'It is pretty good stand.<br />Pros. Does everything it should be doing. Light weight and sturdy. Holds my bass without any issue.<br />Con: nothing yet but the plastic holder on the top is very flimsy and when u open it the pad from the little grill has potential to come off or tear up. Specially when I have kids and like to play with these stuff when not I am home :)',\n",
       " 'Very happy with my stand it was light weight and you can even take it apart for storage if needed. I will be buying another once i can afford another guitar !!',\n",
       " 'Great stand.  Quick assembly.',\n",
       " 'Works well',\n",
       " 'Works great',\n",
       " 'Good price, conventional type stand. Not quite as stable as my old one (especially to the rear). Great value, though.',\n",
       " 'I have purchased 2 of these and they both seem to be quality products.',\n",
       " 'Gift',\n",
       " 'Excellent!',\n",
       " 'Good price and swift delivery.  Fits my acoustic perfectly.  Now that I have it out and on display I may even pick it up and play it more!  It is very sturdy as well.',\n",
       " \"It's great for holding up the guitar and adjustable for any size!\",\n",
       " \"It came packed well. The inner plastic bag that had the name on it had 4 parts. The tripod stand, the bottom rack, the neck holder rod and the screw for securing the neck rod. I had it put together so fast I didn't even look for instructions so I don't know if came with any. It holds the guitar safely and it holds wile in the gig bag. Good deal for a good price.\",\n",
       " 'ok',\n",
       " 'Nice stand. Sturdy. Works well with acoustic guitar.',\n",
       " \"Works as intended base isn't locked but isn't an issue.\",\n",
       " 'This guitar stand is just what was needed. No more going to the case to get the guitar out. You can just grab it and practice. I did sew a throw cover to keep the dust off.',\n",
       " 'Not very well made. I\\'m keeping it because it\\'ll serve the purpose but I wouldn\\'t buy it again. It\\'s not super stable and the \"locking\" strap is a joke. I suggest placing the stand somewhere you won\\'t accidentally run into it so your guitar doesn\\'t go flying. I guess you get what you pay for.',\n",
       " 'Get this Guitar stand today! Easy to use and make my Guitar save to hold, thank you very much.',\n",
       " 'Holds my guitar as advertised. No complaints here',\n",
       " 'Can confirm it holds your guitar.',\n",
       " \"Just spend the extra 10 bucks to get a better stand, this one does the job but it's just kinda junky.\",\n",
       " \"Does a great job.  Easy to set up, really just unfold it and your ready to place your guitar or banjo.  Has a nice safety clip so they don't fall out!\",\n",
       " \"Holds my guitar quite comfortable. I haven't heard it complain so that means it's working.\",\n",
       " 'great product, no complaints.',\n",
       " 'Good stand fast shipping',\n",
       " \"The stand didn't come with any instructions and it's wobbly.  The neck moves around I am not confident of letting it hold my guitar.  I'm going to purchase another stand as this really isn't up to the quality I am used to.\",\n",
       " 'works great',\n",
       " 'This product was SO easy to put together and is sturdy. My husbands’ guitar looks great in it.',\n",
       " 'I wish there were instructions included for use, but I figured it out! Works great for my guitar =)',\n",
       " 'Rapid turn around and a quality product.',\n",
       " 'works perfect',\n",
       " \"It's just what I need: simple, light and works. It hold my guitar and stand very well. By this price, it's very worth.\",\n",
       " 'Good quality and price',\n",
       " \"Great guitar stand.  Feels sturdy and has a latch so the guitar won't fall out.  It also has a nice angle on it so it would take a lot to actually knock it over.\",\n",
       " 'Great',\n",
       " \"I like this stand. It feels solid and secure. Good to look at your guitar even if your don't want to. Best reminder to practice.\",\n",
       " \"great stand for the price and the strap is perfect so my cat doesn't knock it over!\",\n",
       " 'What a great price and product!  Bought two of these so I can keep my guitars handy and I love them.  Really love having the rubber strap to secure the neck in the event of a mishap.  The wide frame legs make the stand extremely sturdy and love that it can come apart easy if I want to pack it up.',\n",
       " \"Seriously, why is this rated as high as it was and why in the world is the back leg so short?  Is this where the manufacturer decided to cut the budget?  Make the dang leg 3 inches longer and it won't feel like it's going to get tipped over everytime you reach for your guitar.  Jeez!  I immediately gave this to my daughter to use for her inexpensive starter guitar and bought the cool looking Stageline GS550A ( http://www.amazon.com/Stageline-GS550A-Wooden-Guitar-Stand/dp/B001VMOD2C ) instead, way safer and waaayy neater looking.\",\n",
       " 'Got what I paid for.  Worth the money, definitely.  Sturdy and stable and I need more words so I can ...done',\n",
       " 'Works perfect. Great quality.',\n",
       " 'Sturdy and inexpensive guitar stand',\n",
       " 'Good stand good price',\n",
       " 'Super easy to put together and works great!',\n",
       " \"I'm not sure if mine is missing pieces or something but it doesn't look like I did. The base for the guitar is not sturdy at all. It wobbles more than a grandpa with Parkinson disease. I should have checked the reviews instead of looking at the rating. Clearly fake.\",\n",
       " \"I was pretty surprised to how good quality this stand is. I like how there's a soft foam that holds the bottom of wear the guitar sits so you're reassured the stand isn't damaging your guitar.\",\n",
       " 'my wife says i have too many ukes.  no way',\n",
       " 'It feels a little thin and cheap.  Spend a little more and get something a little heavy that does not feel like it is going to tip over when you grab your guitar.',\n",
       " 'This stand is great. It is very simple, and lightweight (but not cheap feeling). It seems like it could fit lots of sizes of guitar - it fits my 3/4 and full size guitars no problem.<br />No complaints whatsoever.',\n",
       " 'easy to put together and does a great job.',\n",
       " 'Simple to put together',\n",
       " 'Bought 2 of these, the work very well. First one is perfect the second seems a little tweaked or bent and the end cap for the safety latch comes loose easily. Overall still good though.',\n",
       " 'Great quality for the price!!  Better than I expected!! Stand is Sturdy! I am very pleased! I recommend it! I have an acoustic guitar. It arrived on date specified!',\n",
       " 'good',\n",
       " 'No more tripping on guitar and its now safe',\n",
       " \"arrived on time and as described.  fits my husbands guitar perfect and also shows the instriment in a great display.  great balance and does not jsut fall over like others i've seen\",\n",
       " 'Great!',\n",
       " 'Definitely recommend.  We have an acoustic, electric and bass guitars using this stand.  They look and work great.',\n",
       " 'nice stand',\n",
       " 'Mediocre build quality on part of the stand but it gets the job done.',\n",
       " 'Holdin my favorite bass',\n",
       " 'As described and great quality',\n",
       " 'keeps my guitar ready to grab when i need it',\n",
       " 'Easy assembly and the guitars look good on it.',\n",
       " \"I needed a spare and it fills the bill. If you don't have your guitar handy you won't play it. this protects it from getting knocked over.\",\n",
       " \"I usually use on a regular basis basis. Good to have just said you're tired on momentarily while practicing or to use as a display for your guitar.\",\n",
       " \"An excellent product and serves the purpose perfectly.  When engaged, the security strap makes it extra safe, so there's no possibility of the guitar falling off the stand.  The velveteen padding on the lower support protects the guitar body, so no scratches, either.  Five stars on this one.\",\n",
       " 'Good stand',\n",
       " 'Maybe it is for a different guitar. I though that was universal.',\n",
       " \"I was tired of taking my guitar out of the case and putting it back in every time I played it so this was a great purchase that didn't cost a lot.\",\n",
       " 'Good product',\n",
       " 'why did you choose this rating?<br />really good for my guitar....<br /><br />what did you like or dislike?<br />i love it...<br /><br />who would you recommend this product to ?',\n",
       " 'Easy to assemble.  Holds guitar firmly.  Has anti-fall out strap!',\n",
       " 'good',\n",
       " 'For my youngest son, helped preserve his new electric guitar. and no scratches at the neck.  Good tool for the price.',\n",
       " \"This is a great low cost stand that accepts both acoustic and electric guitars. The cradle and neck height are both adjustable enabling a variety of guitar sizes to be used.  While it doesn't fold up small like a portable stand, it serves well as a semi-portable stand and is very good as a stationary stand.\",\n",
       " 'good basic guitar stand. super easy to set up, or dissemble if you need to store away',\n",
       " 'Easy to put together, holds my guitar well, looks great as a display piece.  Thanks.',\n",
       " 'works as expected',\n",
       " 'When I purchased this, I thought it was a larger version of the two my husband got for our daughters 3/4 size guitar. But no. The stand is super tiny, unstable and it was more than DOUBLE the cost as when my husband bought them a month prior. :(<br />I could not in good conciseness recommend this stand.',\n",
       " 'Good basic guitar stand. Cheap',\n",
       " 'Great inexpensive guitar stand.',\n",
       " \"It's not exactly the sturdiest guitar stand out there, but it's well padded and certainly does the job for a great price.\",\n",
       " 'Great stand for the price',\n",
       " \"This is a well-made, sturdy stand and fits a wide variety of sizes. I just bought this for the third time for my son's new mini Stratocaster. It holds our adult sized guitars and even my daughter's tiny first-act guitar.\",\n",
       " 'Does the job',\n",
       " 'Good stand for the price',\n",
       " 'my son loved it',\n",
       " 'Good Product',\n",
       " \"For the price you cannot go wrong with this.  Holds my Les Paul and feels secure.  I've never had any issues with this.  Don't bother spending 3-4x as much for something that does the job as well as this.<br /><br />EDIT - Bought another one this Christmas for another guitar and this one feels as good and as simple as the first one.\",\n",
       " \"For the price, this was a great purchase. I've not had any issues with it.\",\n",
       " 'Perfect for a living room, and sitting your guitar next to your TV without taking up any extra space.',\n",
       " \"this product is a bit wobbly, but for the price, it can't be beat.  there is a safety strap for the neck of the guitar.  and it is light and easy to move.  would buy again.\",\n",
       " 'Great guitar stand.',\n",
       " 'This was quick and easy to set up and hold the bass well. Nothing fancy, just works.',\n",
       " \"sturdy stand. does what it was made for, holding up my acoustic. I have had issues with leaving my instruments laying around and have stepped on them. I have to make an effort now to stomp my guitar if I am in the mood. usually not. that's why this stand is good to have.\",\n",
       " 'Works well.<br /><br />Looks great.<br /><br />This guitar stand completes me &#60;3',\n",
       " 'Works well foor my husband.',\n",
       " 'Ordered as gift. Seems to be stable...will be used.',\n",
       " \"I like this for what I use it for, which is a full size acoustic guitar. There are a few issues with it. The metal it's self is solid and put together well. The height of the neck from the swivel base (not the floor) is adjustable from 21&#34; up to about 26&#34; (and still able to use the screw in the back to secure the adjustable neck). The pictures are exactly what you get, so I didn't see the point of taking another picture of the stand.<br /><br />The two issues I have with this stand is 1. It is in fact very unstable. While it's just sitting around, it's nice and as long as it is out of the way then it's fine. If you barely push it diagonally to the back left or back right, it will easily fall over. If it is sitting in a corner you wont have to worry about it. If it is on a stage, in a more high traffic area, or if there are other items around that could push in to it or if you're in a rush to put it down, dog/kids in house - it could easily fall over. I have mine in a corner like most people probably do, however that's a major concern for a stand. The rear peg is just too short. 2. The pads on the metal aren't very high quality. Although they are fine for light use around the house and will probably last a year or more, they will wear out and need to be replaced for sure. They are not very thick but do the job.<br /><br />I really debated on giving it three stars, but for how I'm using it (in home only) and the price, I believe it rated 4 stars. If you want to take it with you somewhere, I would consider a different option.\",\n",
       " 'Very good guitar stand. Works great for all my guitars. Good price.',\n",
       " 'Good for price',\n",
       " \"This is really amazing quality for the price. If you can get this for $10 or less, buy it and don't look back.\",\n",
       " 'As expected.',\n",
       " \"It's a great stand for the price. I've seen similar models sell for $20 or $30 in stores. It's light weight but also pretty sturdy. It gets the job done. My only complaint is that the bottom piece that holds the guitar swivels... I'm not sure what the point of that is... it's not a big deal, I just don't really understand why it's not stationary. I bought the stand for use in my house because I was leaning my guitars against the walls and they'd always somehow fall over and get scratched or hit something... so if you're wanting it for gigs, I can't tell you how well it'd work for on-stage... but my guess is that it'd be fine. :)\",\n",
       " 'Great guitar stand. Easy to assemble, looks nice, and holds the guitar! If you are like me you read and read reviews. Just buy the darn thing Stop reading reviews and move on.',\n",
       " 'simple, easy to assemble, affordable',\n",
       " 'Works great,love it. Thanks.',\n",
       " 'Fits perfect for my guitar',\n",
       " 'Works great!  Hold my Guitar perfectly.  The rubber &#34;band&#34; helps with storage when not in use.',\n",
       " 'Works, great. I use it everyday!',\n",
       " \"This was a super easy set up, easy to use. Love the guard that hold the guitar in place so it doesn't fall off by some chance. Great price!\",\n",
       " \"Good construction, holds guitar well, doesn't take up much space.  I recommend it.\",\n",
       " \"This is fine for my music room at home where it isn't likely to get bumped too hard.  I wish the bottom didn't swivel, because I don't see a need for it to do that.  But it keeps my guitar handy and does the job I wanted it to do at a low price.  I like the security strap that keeps the neck from falling out.  However, I wouldn't recommend this for the stage where there are crowded conditions and it is more likely to suffer a heavy bump.  For that, you would want a larger tripod at the bottom to make it less likely to topple.\",\n",
       " 'Works great, I use mine for an antique banjo :)',\n",
       " 'saw this product at local store for 14.95. so I know we got the better deal. holds guitar in place with no issues.',\n",
       " 'I passed over a cheaper stand because this one looked a bit sturdier and I\\'ve bought this brand in the past with no problems.  I just acquired a new acoustic guitar and needed another stand.  Overall quality and fit seems pretty decent, but when I finished putting it together and sat new my guitar on it, I noticed something pretty distressing.  It\\'s fairly easy to push the thing over backwards without a lot of effort.  I\\'m no engineer, but the rear leg of this one is definitely shorter than my other ones which are about 6 to 6 1/2\" long and this one is only about 3 to 3 1/2\" long.  I think that\\'s the problem.  My new guitar is pretty light which doesn\\'t help any either.  Just for the heck of it, I stuck my heavy banjo on it and it seemed to be a lot sturdier.  A few other reviews have also mentioned this problem and I think they\\'re right depending on the weight of the instrument.  I\\'m keeping the stand but using it for my heavy banjo instead.',\n",
       " 'Great guitar stand I bought for my acoustic guitar!',\n",
       " 'Feels flimsy while doing set-up, but it ended up working great. No issues.',\n",
       " 'It’s exactly what I need, a safe place to put my bass!',\n",
       " \"Great quality. I was expecting it to feel flimsy, but it's pretty sturdy.\",\n",
       " \"I gig regularly (weekly) and this stand works, but it's pretty flimsy.  I went cheap, and got cheap.  when it breaks, I'll get something better.\",\n",
       " 'For the past several years I have had my guitar hero guitars all over the place in the living room. They have been leaning against the wall, shoved under the couch, hanging on top of the tv stand, etc. Finally I realized enough is enough and wanted to get a stand to store them prior to their ritual Friday night usage.<br /><br />For this task, I decided to try the On Stage XCG4 Tubular Guitar Stand. Also, yes, I do have a fender guitar in my bedroom that also requires a stand and, before moving onto my baby, I first wanted a subject to test the stand on.<br /><br />For starters, this stand is priced at a very reasonable rate which is very helpful in todays horrible economy. It did not take much energy to convince the wife to loan me the money to purchase this item.<br /><br />The stand was very simple to extend and put together. The legs fold and so, when putting together, make sure you snap them into place or else the stand itself will not be stable. The top tube inserts into the bottom tube and a nut in the back is what holds it into place. Also, this will allow you to adjust the height on the top of the cradle for proper placement. The cradle of the stand itself swivels. This helps in making sure that your guitar properly settles into the cradle safely and securely. There is also a rubber security band on the top tube that holds the neck of the guitar. This is a nice feature to make sure your guitar does not fall out in case the stand is forced to lean forward such as being bumped or, if you carry the stand with guitar in place, it will stay put during transportation.<br /><br />Overall, this is a wonderful purchase. It is a very affordable well built product. Recommended to hold your guitar, let it be the real deal or your collection of guitar hero guitars.',\n",
       " \"I like this guitar stand. It does a great job of levitating my guitar off the ground. It's sturdy enough, and the price is right.\",\n",
       " 'For the price, this is a great product.',\n",
       " 'This stand works for me when my guitar is out of case and standing by to be played. These stands though are not designed for Rhoads and V models.',\n",
       " 'Perfect for guitar works great no problems and price was right. May end up getting a couple more.',\n",
       " \"got it on time. looks good easy to assemble. the rubber band is a little tight to pull in so guitar won't fall out and that's why i gave it four stars.<br />other than that it's sturdy, durable and balanced. Ive had it for several months and it's still sturdy.\",\n",
       " 'Great',\n",
       " 'Holds up a guitar ok, but the rubbery plastic neck retainer is junk.. Its hard to put on, but then pops out with ease.. it should be the other way around.',\n",
       " 'It was missing a nut and screw .please send',\n",
       " 'Delivered on time and looks and works as described.  Great product!',\n",
       " 'Great stand. Very sturdy.',\n",
       " \"These stands are sturdy. The velveteen padding seems to be very good and says it's non-damaging to guitar finishes. The price is excellent. They are half the price of the ones at my local music store and with the velveteen padding, no stand-bra is necessary. They are maybe not as pretty as chrome stands, but then they are also non-obtrusive. I will order these again if I get yet another guitar, which is entirely likely.\",\n",
       " 'Picture speaks for itself.',\n",
       " \"Completely unstable for acoustic guitars. I just received it and put it together and my new acoustic guitar fell over backwards. I'm lucky it didn't crack the head. No good for acoustic guitars, maybe it's better for heavier weight solid body electrics. Beware.\",\n",
       " 'Easy to assemble, works fine, good price',\n",
       " 'Good small stand. Lightweight. Holds your instrument securely.',\n",
       " 'Excelent tripod.',\n",
       " 'Great price on a stand',\n",
       " \"Perfectly fine stand for the money. Yep, there are better ones out there, but this one is just fine and does it's job. If you are looking for road quality gear, this is not it. If you just want a place to rest your ax in the living room or practice space, this'll work.\",\n",
       " 'As described',\n",
       " 'This work great also works for my electric guitar',\n",
       " 'Good value',\n",
       " 'Very sturdy stand.',\n",
       " \"Good stand--does exactly what it's supposed to do. Hard to imagine needing anything else.\",\n",
       " 'Not perfect but worth the 4 stars from me. How could anyone complain about this product for the price. And shipped and received to make me happy. Yeah, this is a bang for your buck guitar stand. IMHO!',\n",
       " 'No issues.  My guitar likes it.',\n",
       " 'Good',\n",
       " 'What can I say.  It works.  Fairly sturdy to hold that guitar in place.  Seems like fine quality.',\n",
       " 'it hold my guitar well',\n",
       " 'Just arrived and so far so good. It was very easy and quick to set up, light weight and compact enough to take everywhere, and offers good support and protection for my acoustic. Well cushioned to avoid scratches and the backwards inclination angle gives extra peace of mind from it tipping over',\n",
       " \"It works good. If you keep it on a thicker rug, like I do, you'll want to make sure there's a wall or in my case closet door behind it, cause it might fall backwards after awhile. Or just move it a little once and awhile, so it doesn't sit in the indentation it's made in the rug.\",\n",
       " 'Quality stand.',\n",
       " 'Perfectly adequate guitar stand and works as described ... even purchased a second one I liked it so much!',\n",
       " 'Would not feel comfortable to put a expensive guitar on it! But when you cam biu a decemt giotar fpr about 200 would be fine!',\n",
       " 'great for the price',\n",
       " \"I bought this because I bought a new guitar that I couldn't put down for long. The stand is sturdy, easy to set-up, and does what it needs too. If you are a guitars that frequently plays, this will be a good way to keep it safe, while not having to put it back in the case.\",\n",
       " \"It works the way it's\",\n",
       " 'Exactly as described',\n",
       " \"I purchased this for my husband's electric guitar. He recently started taking lessons and has been leaving his guitar on tables and counters which drives me nuts (I'm a neat freak). I was looking for a reasonably priced stand as a gift for him ... and for me!<br /><br />This has worked great! It was super easy to assemble. (You literally only have three pieces to put together and there's a diagram.) Plus, you can't beat the price.<br /><br />Overall, I'm very satisfied with my purchase!\",\n",
       " 'Good',\n",
       " \"It's a little bit on the flimsy side, but that's no surprise because it was also very inexpensive. If you apply the logic that &#34;you get what you pay for&#34; then I think it's an outstanding bargain. That said, I probably wouldn't trust it with a very expensive guitar.\",\n",
       " 'Cheap.',\n",
       " 'Nice guitar stand, and a great price',\n",
       " 'Works great!',\n",
       " 'works perfect',\n",
       " \"Easy to assemble, feels durable, I like that there's a latch for the neck of the guitar to stay put. But the stand would work better if it had a slight posterior tilt because however I position the guitar it always seems to want to tip forward. It hasn't fallen over yet but just looks unstable and you have to purposefully angel the way you put the guitar down.\",\n",
       " 'No negatives to report.',\n",
       " 'Works great for my purposes.',\n",
       " \"Vertical arm doesn't tighten as good as I'd like but other than that good.\",\n",
       " \"Don't try to save a buck by buying the Musician's Friend version of this product, because it's woefully inferior, despite looking almost identical in the photo.\",\n",
       " \"Holds my guitar amazingly. Way better than I thought for the price. Couldn't find a better stand for my guitar.<br /><br />*If this review was helpful for you, please click on &#34;Helpful&#34;*\",\n",
       " 'Holds my guitar like it should. No complaints.',\n",
       " 'A',\n",
       " 'Just play at the house for my own enjoyment and usually hang my guitars on the wall when not in use.  However when I am playing and practicing, I have been leaning it against furniture or sitting on my armchair behind my back and I was afraid it would fall and get damaged one of these times.  So I bought this stand to safely hold my instrument when I temporarily wanted to put it down.  I came quickly and assembled easily.  There were no instructions but was only 3 parts so not hard to figure out.  Good construction and sits balanced on the floor.  The rubber protects the finish.  I would definitely buy again if needed.',\n",
       " 'Not the best quality but does the job!',\n",
       " 'Good product',\n",
       " 'Great',\n",
       " 'Sturdy. Will buy again',\n",
       " \"It's good for my use, but could be sturdier. I'm happy with it though.\",\n",
       " 'It works',\n",
       " 'Good stand',\n",
       " 'My husband got me this to go along with a electric base that he got me and the quality was great and it came in great condition.',\n",
       " 'Holds our electric guitar very well. Sturdy. Great value.',\n",
       " 'Very sturdy.  Keeps your guitar readily accessible.',\n",
       " 'I purchased this item and it came missing parts. The bottom base of the stand is missing.',\n",
       " 'Nice stand for the price.',\n",
       " 'Very nice!',\n",
       " 'I have several stands, and this is the second one of these I bought. It works fine and will hold any size acoustic guitar.',\n",
       " \"It's nice, but the bottom prongs being rotatable is kind of annoying at times. Probably wouldn't buy it again, but I don't think I'll ever really have to replace it.\",\n",
       " 'Great product.  Great transaction.',\n",
       " 'great value',\n",
       " \"It's a stand, it hold my bass.  Feels durable, takes a little bit of a beating every weekend and for the past 4 months and doesn't seem like it's anywhere near on giving up.\",\n",
       " \"Nice sleek, classic black stand.<br />A bit funny to figure out how to set up (lol), but it works well!<br />Love the plastic bit, which although looks kinda ghetto, does well at holding the guitar in/on the stand so it doesn't collapse >.&lt;\",\n",
       " \"This guitar stand is very simple and nice. It looks sturdy and holds the guitar well. It's not very heavy so you can move it around as well.\",\n",
       " 'Could be much sturdier, also strap must be used to keep guitar in stand at neck.  But for the money.......',\n",
       " 'exactly as expected',\n",
       " 'It works.',\n",
       " 'Super easy setup, low profile, works for a 3/4 size travel guitar just as well as a full-size dreadnought. Got two to replace some older Genesis stands I had, and love these much more.',\n",
       " 'nice',\n",
       " \"perfect for the guitar,doesn't take up much room, and good price\",\n",
       " 'Overall, it was a good buy and keeper.<br />Pro: good price, does work just fine<br />Con: bottom part is wabbly and not settling',\n",
       " 'Excellent for the price.',\n",
       " \"It's good once you get it from tipping over because of very short third leg. It does want it's suppose to do at a good price\",\n",
       " \"Works good, nothing special. I have to say I disagree with a couple of reviews which complained about a bad smell. My big nose can't confirm that. Maybe they corrected the problem if one exited.\",\n",
       " 'Light weight and perfect for small spaces. Easy to use. I would purchase again.',\n",
       " \"Wish I would have looked at the photo before buying. The back leg of the stand is so short and stubby that my guitar has to be balanced perfectly or it falls over. That is with an acoustic too. I can't imagine an electric even being able to be held up by this. Poor design and waste of money.\",\n",
       " 'Missing a piece (the U that goes underneath the guitar). Totally useless without it. Please assist in resolving this - thanks',\n",
       " 'yes it is what it claims to be... thank you',\n",
       " 'Product as described',\n",
       " ...]"
      ]
     },
     "execution_count": 4,
     "metadata": {},
     "output_type": "execute_result"
    }
   ],
   "source": [
    "docs = bert_df.tolist()\n",
    "docs"
   ]
  },
  {
   "cell_type": "code",
   "execution_count": 5,
   "metadata": {},
   "outputs": [],
   "source": [
    "docs=[str(doc) for doc in docs]\n"
   ]
  },
  {
   "cell_type": "code",
   "execution_count": 6,
   "metadata": {},
   "outputs": [
    {
     "name": "stdout",
     "output_type": "stream",
     "text": [
      "Requirement already satisfied: bertopic in c:\\users\\a0938\\appdata\\local\\programs\\python\\python39\\lib\\site-packages (0.17.0)\n",
      "Requirement already satisfied: sentence-transformers>=0.4.1 in c:\\users\\a0938\\appdata\\local\\programs\\python\\python39\\lib\\site-packages (from bertopic) (4.0.2)\n",
      "Requirement already satisfied: scikit-learn>=1.0 in c:\\users\\a0938\\appdata\\local\\programs\\python\\python39\\lib\\site-packages (from bertopic) (1.6.1)\n",
      "Requirement already satisfied: hdbscan>=0.8.29 in c:\\users\\a0938\\appdata\\local\\programs\\python\\python39\\lib\\site-packages (from bertopic) (0.8.40)\n",
      "Requirement already satisfied: tqdm>=4.41.1 in c:\\users\\a0938\\appdata\\local\\programs\\python\\python39\\lib\\site-packages (from bertopic) (4.67.1)\n",
      "Requirement already satisfied: numpy>=1.20.0 in c:\\users\\a0938\\appdata\\local\\programs\\python\\python39\\lib\\site-packages (from bertopic) (2.0.2)\n",
      "Requirement already satisfied: plotly>=4.7.0 in c:\\users\\a0938\\appdata\\local\\programs\\python\\python39\\lib\\site-packages (from bertopic) (6.0.1)\n",
      "Requirement already satisfied: pandas>=1.1.5 in c:\\users\\a0938\\appdata\\local\\programs\\python\\python39\\lib\\site-packages (from bertopic) (2.2.3)\n",
      "Requirement already satisfied: umap-learn>=0.5.0 in c:\\users\\a0938\\appdata\\local\\programs\\python\\python39\\lib\\site-packages (from bertopic) (0.5.7)\n",
      "Requirement already satisfied: scipy>=1.0 in c:\\users\\a0938\\appdata\\local\\programs\\python\\python39\\lib\\site-packages (from hdbscan>=0.8.29->bertopic) (1.13.1)\n",
      "Requirement already satisfied: joblib>=1.0 in c:\\users\\a0938\\appdata\\local\\programs\\python\\python39\\lib\\site-packages (from hdbscan>=0.8.29->bertopic) (1.4.2)\n",
      "Requirement already satisfied: tzdata>=2022.7 in c:\\users\\a0938\\appdata\\local\\programs\\python\\python39\\lib\\site-packages (from pandas>=1.1.5->bertopic) (2025.2)\n",
      "Requirement already satisfied: python-dateutil>=2.8.2 in c:\\users\\a0938\\appdata\\roaming\\python\\python39\\site-packages (from pandas>=1.1.5->bertopic) (2.9.0.post0)\n",
      "Requirement already satisfied: pytz>=2020.1 in c:\\users\\a0938\\appdata\\local\\programs\\python\\python39\\lib\\site-packages (from pandas>=1.1.5->bertopic) (2025.2)\n",
      "Requirement already satisfied: packaging in c:\\users\\a0938\\appdata\\roaming\\python\\python39\\site-packages (from plotly>=4.7.0->bertopic) (24.2)\n",
      "Requirement already satisfied: narwhals>=1.15.1 in c:\\users\\a0938\\appdata\\local\\programs\\python\\python39\\lib\\site-packages (from plotly>=4.7.0->bertopic) (1.34.1)\n",
      "Requirement already satisfied: threadpoolctl>=3.1.0 in c:\\users\\a0938\\appdata\\local\\programs\\python\\python39\\lib\\site-packages (from scikit-learn>=1.0->bertopic) (3.6.0)\n",
      "Requirement already satisfied: typing_extensions>=4.5.0 in c:\\users\\a0938\\appdata\\roaming\\python\\python39\\site-packages (from sentence-transformers>=0.4.1->bertopic) (4.13.2)\n",
      "Requirement already satisfied: Pillow in c:\\users\\a0938\\appdata\\local\\programs\\python\\python39\\lib\\site-packages (from sentence-transformers>=0.4.1->bertopic) (11.2.1)\n",
      "Requirement already satisfied: transformers<5.0.0,>=4.41.0 in c:\\users\\a0938\\appdata\\local\\programs\\python\\python39\\lib\\site-packages (from sentence-transformers>=0.4.1->bertopic) (4.51.2)\n",
      "Requirement already satisfied: torch>=1.11.0 in c:\\users\\a0938\\appdata\\local\\programs\\python\\python39\\lib\\site-packages (from sentence-transformers>=0.4.1->bertopic) (2.6.0)\n",
      "Requirement already satisfied: huggingface-hub>=0.20.0 in c:\\users\\a0938\\appdata\\local\\programs\\python\\python39\\lib\\site-packages (from sentence-transformers>=0.4.1->bertopic) (0.30.2)\n",
      "Requirement already satisfied: colorama in c:\\users\\a0938\\appdata\\roaming\\python\\python39\\site-packages (from tqdm>=4.41.1->bertopic) (0.4.6)\n",
      "Requirement already satisfied: numba>=0.51.2 in c:\\users\\a0938\\appdata\\local\\programs\\python\\python39\\lib\\site-packages (from umap-learn>=0.5.0->bertopic) (0.60.0)\n",
      "Requirement already satisfied: pynndescent>=0.5 in c:\\users\\a0938\\appdata\\local\\programs\\python\\python39\\lib\\site-packages (from umap-learn>=0.5.0->bertopic) (0.5.13)\n",
      "Requirement already satisfied: requests in c:\\users\\a0938\\appdata\\local\\programs\\python\\python39\\lib\\site-packages (from huggingface-hub>=0.20.0->sentence-transformers>=0.4.1->bertopic) (2.32.3)\n",
      "Requirement already satisfied: fsspec>=2023.5.0 in c:\\users\\a0938\\appdata\\local\\programs\\python\\python39\\lib\\site-packages (from huggingface-hub>=0.20.0->sentence-transformers>=0.4.1->bertopic) (2025.3.2)\n",
      "Requirement already satisfied: pyyaml>=5.1 in c:\\users\\a0938\\appdata\\local\\programs\\python\\python39\\lib\\site-packages (from huggingface-hub>=0.20.0->sentence-transformers>=0.4.1->bertopic) (6.0.2)\n",
      "Requirement already satisfied: filelock in c:\\users\\a0938\\appdata\\local\\programs\\python\\python39\\lib\\site-packages (from huggingface-hub>=0.20.0->sentence-transformers>=0.4.1->bertopic) (3.18.0)\n",
      "Requirement already satisfied: llvmlite<0.44,>=0.43.0dev0 in c:\\users\\a0938\\appdata\\local\\programs\\python\\python39\\lib\\site-packages (from numba>=0.51.2->umap-learn>=0.5.0->bertopic) (0.43.0)\n",
      "Requirement already satisfied: six>=1.5 in c:\\users\\a0938\\appdata\\roaming\\python\\python39\\site-packages (from python-dateutil>=2.8.2->pandas>=1.1.5->bertopic) (1.17.0)\n",
      "Requirement already satisfied: sympy==1.13.1 in c:\\users\\a0938\\appdata\\local\\programs\\python\\python39\\lib\\site-packages (from torch>=1.11.0->sentence-transformers>=0.4.1->bertopic) (1.13.1)\n",
      "Requirement already satisfied: networkx in c:\\users\\a0938\\appdata\\local\\programs\\python\\python39\\lib\\site-packages (from torch>=1.11.0->sentence-transformers>=0.4.1->bertopic) (3.2.1)\n",
      "Requirement already satisfied: jinja2 in c:\\users\\a0938\\appdata\\local\\programs\\python\\python39\\lib\\site-packages (from torch>=1.11.0->sentence-transformers>=0.4.1->bertopic) (3.1.6)\n",
      "Requirement already satisfied: mpmath<1.4,>=1.1.0 in c:\\users\\a0938\\appdata\\local\\programs\\python\\python39\\lib\\site-packages (from sympy==1.13.1->torch>=1.11.0->sentence-transformers>=0.4.1->bertopic) (1.3.0)\n",
      "Requirement already satisfied: tokenizers<0.22,>=0.21 in c:\\users\\a0938\\appdata\\local\\programs\\python\\python39\\lib\\site-packages (from transformers<5.0.0,>=4.41.0->sentence-transformers>=0.4.1->bertopic) (0.21.1)\n",
      "Requirement already satisfied: safetensors>=0.4.3 in c:\\users\\a0938\\appdata\\local\\programs\\python\\python39\\lib\\site-packages (from transformers<5.0.0,>=4.41.0->sentence-transformers>=0.4.1->bertopic) (0.5.3)\n",
      "Requirement already satisfied: regex!=2019.12.17 in c:\\users\\a0938\\appdata\\local\\programs\\python\\python39\\lib\\site-packages (from transformers<5.0.0,>=4.41.0->sentence-transformers>=0.4.1->bertopic) (2024.11.6)\n",
      "Requirement already satisfied: MarkupSafe>=2.0 in c:\\users\\a0938\\appdata\\local\\programs\\python\\python39\\lib\\site-packages (from jinja2->torch>=1.11.0->sentence-transformers>=0.4.1->bertopic) (3.0.2)\n",
      "Requirement already satisfied: charset-normalizer<4,>=2 in c:\\users\\a0938\\appdata\\local\\programs\\python\\python39\\lib\\site-packages (from requests->huggingface-hub>=0.20.0->sentence-transformers>=0.4.1->bertopic) (3.4.1)\n",
      "Requirement already satisfied: certifi>=2017.4.17 in c:\\users\\a0938\\appdata\\local\\programs\\python\\python39\\lib\\site-packages (from requests->huggingface-hub>=0.20.0->sentence-transformers>=0.4.1->bertopic) (2025.1.31)\n",
      "Requirement already satisfied: idna<4,>=2.5 in c:\\users\\a0938\\appdata\\local\\programs\\python\\python39\\lib\\site-packages (from requests->huggingface-hub>=0.20.0->sentence-transformers>=0.4.1->bertopic) (3.10)\n",
      "Requirement already satisfied: urllib3<3,>=1.21.1 in c:\\users\\a0938\\appdata\\local\\programs\\python\\python39\\lib\\site-packages (from requests->huggingface-hub>=0.20.0->sentence-transformers>=0.4.1->bertopic) (2.4.0)\n",
      "Note: you may need to restart the kernel to use updated packages.\n"
     ]
    },
    {
     "name": "stderr",
     "output_type": "stream",
     "text": [
      "WARNING: You are using pip version 22.0.4; however, version 25.0.1 is available.\n",
      "You should consider upgrading via the 'c:\\Users\\a0938\\AppData\\Local\\Programs\\Python\\Python39\\python.exe -m pip install --upgrade pip' command.\n"
     ]
    }
   ],
   "source": [
    "pip install bertopic"
   ]
  },
  {
   "cell_type": "code",
   "execution_count": 7,
   "metadata": {
    "colab": {
     "base_uri": "https://localhost:8080/",
     "height": 1000,
     "referenced_widgets": [
      "0854ac37bd7a428ab167bed948b23790",
      "e4c2c94000604ac89803d97b550926a6",
      "7eb3552f34e84c628872529643826c36",
      "41fb11dcb3e14235b11bacb6cfae5908",
      "22cfd31194a8449d8e0719dcbb0db381",
      "4a870c4673e04d448c44f5fe7021f91f",
      "177521f6d16f4e0e88609be11a3c8bdb",
      "553b671dd741407ebe6c7896e40b079a",
      "b2f745469ba8421a9c53f830dbbf9230",
      "307d906dba844b0c984b2e634bddd5f0",
      "1fbd4e2d84f74de2a0bd05efaeb3adf8",
      "1688735663224d23b1a34070054cf905",
      "1bc75e8b5c4b4f568ab2be04b0fee2ff",
      "1f280e9f9f1e4122afc7a3f651eb04b7",
      "c7d6ec27732c4f60a8936f59143a77a3",
      "0cc58948eeb44409b5d616313d913d64",
      "78efa820dc4346eb953863a81f7fb17a",
      "a330babe737e4a96b932dc0b661dffe0",
      "fc8848e9baff401290679b64b12d81e0",
      "4b3a33c3f0104377becf27d0d4136f15",
      "b15f40d9850647f4aa66ab2091f0cfad",
      "9aabd5f322054841b6784f345fc589cf",
      "c6bb1df88af14dceb3a33eb468249264",
      "3083c9fd31164179bc8a560a0af284bf",
      "d9040a3766d34592a95f37dcc7214d70",
      "0e3b777686bd46cab9e587b3633a9ab7",
      "12809a42ca604766a9639e8d0a6305ed",
      "28808eff5b764f6c9833a9cd36178cd3",
      "f1e6e90c890f4dc6b154180fdf8c39eb",
      "9d17503749ca497f830a09f8559309ca",
      "478760d44ac148b9a2d9c3ac85e042d7",
      "cc5762dd0160401e878a7dfbc9bf92af",
      "373e1afcfab74bbbae75a7e1cc542873",
      "db072b74c0564e928d5f15e94a544e27",
      "ae1f20cb42e5425f9874ebc44426e8d2",
      "7527fa4d09414fbab1d82daae99bcdd4",
      "234d1e20bc8a412ba0c85f672fb2c303",
      "46995ec99487415692c6371e198400a8",
      "b72bea94c6364af2a9c883411658b5c0",
      "121ea1fed0bf4ce382be7ca25ec116bf",
      "ff9e045e0625438eb71e2d1de67f0827",
      "9a67d62fb4974790904d2c92050cc8c1",
      "f42e628639194b9c94a1a3a6c52824f7",
      "cb355395989c47feba8224c15520d75b",
      "2f3e5a3375c64fe1adfdd96d60bd47ac",
      "2deee95ae78b49ecb7f0116d1563e254",
      "8c4471b454cc4335b591937d352128f6",
      "eda3dd0cf0ac4d12b874b30d18f638a5",
      "79d7e027d7004df1b11c6336807c174f",
      "8f24a0bd04b44c458fd086dd2b160ad6",
      "34dbb2104d804be4890359b5d27e61da",
      "7b26173dff4f49f1a0e6ba6282b64452",
      "2a16494b02254447aef39f665bf3e96f",
      "b1fea049a31646ea9b5984b4ab9f1421",
      "47d3d5d366474695b4e844b5605d2369",
      "2946091de9d040f785de68bf9a2ec55c",
      "9603227136ad4e27973e63d49670b436",
      "3dffbee5694344e69f14f237eee71923",
      "c371f4ed10be45b793bac4ccd11bc2f8",
      "67d97ee26b9944d5a7b59dccf2a2ac7b",
      "f52562056c244a7b973e432e529cd651",
      "76bdf9f1be014dfe87acf406caa40a57",
      "6d51b27ba62e466fb98c31e31dea58bd",
      "751444889c954702839cf9ec6fc34af6",
      "e6cd4c4fa5fd418a8ce061fc79732671",
      "797c13ce4b78475cb5f0345353b8fa6d",
      "97b8d58af25943c183cd2b4ac93c30a4",
      "1703b792e0244dcd9013e4698720dbd1",
      "cf66564166de4aceadd4deb388694704",
      "92fc99e249d946c89a01a315e7557332",
      "ca2e6f426c0d4dca97df46f3097f0ec6",
      "3843ac86f01447b5b880f9e847f3eaa9",
      "2067d1cf82eb4584acbeef1dd2e1c094",
      "bc2190a27a2848f5bf626df48539634d",
      "931a0d23dfb14feeae0f3a83b5090943",
      "74eb06c2c31d4cfaaa7fc2a01ee1257b",
      "1041135dd8e642318cc3ffaf01e9f86e",
      "63540ad8e2474ce39f3397d9ff61a15b",
      "3cce29ac1df94c6baf5f6c23dfc93b45",
      "c55185d3845d4cd1953b8cedd5332125",
      "e53faeee28074f69941ee698e72447e5",
      "c20db5541bc547cdb5b2d6035c80d792",
      "aa2475650f074fd1900d9255d905216a",
      "33865a7748f540bb90c46a74448ec2e6",
      "fdd53840318c4ad9af4ea88e210b06c7",
      "a07c649612da424bbadcee45c11ec665",
      "d628f16cb3194f238b2305753e919d8e",
      "4a1e37e508a94a648fb3cc8353c1c0cc",
      "2483d1bcdcaf4e5db740f34c08ecd373",
      "fac1bfd8cf6d4911b632bf18ec53a712",
      "c8fc99962c384ddc8735d3442a91ba47",
      "fa250896b347466ea7ae21fd02a2afa8",
      "b33f878fde814c4a9a453205579fcd0f",
      "9761f8e5fdcc44edbeef67ec6e728544",
      "047f398410e746099e5eca414157ca62",
      "46dccee2c4f74b32bc2a8562621015f4",
      "4105f49e75234fdf8b7290f69d5ab570",
      "94796607729548978a8a60b6669494ea",
      "8156bcef58a74c7eb3a202aeb45a2680",
      "09e1213b08da4803a2b895d3c6fb4359",
      "0af3feff291248478c87d665ddce67d6",
      "03c833ed1eb643fb8a544f4a80ffbf91",
      "888e4ae3d23f4290a7b7fda2194508e6",
      "83ce24f7274249e588f8c9b8fb9b9d66",
      "785c7709bd5645cf8f456678ef74b7cf",
      "c53b93e1c45f4bd3aa13f371ae37d278",
      "3b1489865e06401a803ac6facbc5909b",
      "c273d2bff4a54181be471bbc05f9090f",
      "856f4f6660f44253a4e521bcf2c44a8e",
      "302912d392cf4a22a5f5383c823e15ed",
      "23d4e15af72e4db38df46271527131ce",
      "ffdf0573238945cba74e3d2f1fd0ff5e",
      "deeb45c97a9f407a9ec714c3530544b0",
      "0b467c21670b433c9a08aad8ee7b7d80",
      "b98e33af5e634a84888b96ee67b0df18",
      "5e040605b19c4951bd8cafa06f09f044",
      "75116ee9b778461d812db8279a286847",
      "7ba8d173eadd4b00af14b99d94d91d54",
      "98ea5b63c9524ac19aacb091a8a0ad7f",
      "a94ef80ea70245efa6c87de96931d0bf",
      "4994aab7173b482e8f4bf2baa568dc4b",
      "42538864a0dd4fa39049148476eb2caa",
      "9e91a888bb3f40debaf7a01bd8469d30",
      "584a911d5fe34c9eb31941185d4d631d",
      "0882bfae0c0c4f829bf092cf02b09403",
      "3ab79ac05731496d808ff0cc7688db54",
      "d806331a5b2f4209a0a664893c832d4c",
      "3163c37e789441e1a8b9e603d5191faf",
      "50193444600944dba056277d1f4f558d",
      "250741578f114e8b8fb78a536be94401",
      "dc37243a2af7434f85c17b17c16f8515",
      "65aaed59bffb49b6a2530c916ff0226e"
     ]
    },
    "id": "dYnjUHnsYeUy",
    "outputId": "9cbc8cce-baec-4f0b-fa0d-b5d19545602f",
    "scrolled": true
   },
   "outputs": [
    {
     "name": "stdout",
     "output_type": "stream",
     "text": [
      "Requirement already satisfied: tqdm in c:\\users\\a0938\\appdata\\local\\programs\\python\\python39\\lib\\site-packages (4.67.1)\n",
      "Requirement already satisfied: colorama in c:\\users\\a0938\\appdata\\roaming\\python\\python39\\site-packages (from tqdm) (0.4.6)\n",
      "Note: you may need to restart the kernel to use updated packages.\n"
     ]
    },
    {
     "name": "stderr",
     "output_type": "stream",
     "text": [
      "WARNING: You are using pip version 22.0.4; however, version 25.0.1 is available.\n",
      "You should consider upgrading via the 'c:\\Users\\a0938\\AppData\\Local\\Programs\\Python\\Python39\\python.exe -m pip install --upgrade pip' command.\n"
     ]
    }
   ],
   "source": [
    "pip install tqdm"
   ]
  },
  {
   "cell_type": "code",
   "execution_count": 8,
   "metadata": {},
   "outputs": [
    {
     "name": "stdout",
     "output_type": "stream",
     "text": [
      "Requirement already satisfied: matplotlib in c:\\users\\a0938\\appdata\\local\\programs\\python\\python39\\lib\\site-packages (3.9.4)\n",
      "Requirement already satisfied: contourpy>=1.0.1 in c:\\users\\a0938\\appdata\\local\\programs\\python\\python39\\lib\\site-packages (from matplotlib) (1.3.0)\n",
      "Requirement already satisfied: numpy>=1.23 in c:\\users\\a0938\\appdata\\local\\programs\\python\\python39\\lib\\site-packages (from matplotlib) (2.0.2)\n",
      "Requirement already satisfied: pyparsing>=2.3.1 in c:\\users\\a0938\\appdata\\local\\programs\\python\\python39\\lib\\site-packages (from matplotlib) (3.2.3)\n",
      "Requirement already satisfied: kiwisolver>=1.3.1 in c:\\users\\a0938\\appdata\\local\\programs\\python\\python39\\lib\\site-packages (from matplotlib) (1.4.7)\n",
      "Requirement already satisfied: cycler>=0.10 in c:\\users\\a0938\\appdata\\local\\programs\\python\\python39\\lib\\site-packages (from matplotlib) (0.12.1)\n",
      "Requirement already satisfied: packaging>=20.0 in c:\\users\\a0938\\appdata\\roaming\\python\\python39\\site-packages (from matplotlib) (24.2)\n",
      "Requirement already satisfied: importlib-resources>=3.2.0 in c:\\users\\a0938\\appdata\\local\\programs\\python\\python39\\lib\\site-packages (from matplotlib) (6.5.2)\n",
      "Requirement already satisfied: fonttools>=4.22.0 in c:\\users\\a0938\\appdata\\local\\programs\\python\\python39\\lib\\site-packages (from matplotlib) (4.57.0)\n",
      "Requirement already satisfied: python-dateutil>=2.7 in c:\\users\\a0938\\appdata\\roaming\\python\\python39\\site-packages (from matplotlib) (2.9.0.post0)\n",
      "Requirement already satisfied: pillow>=8 in c:\\users\\a0938\\appdata\\local\\programs\\python\\python39\\lib\\site-packages (from matplotlib) (11.2.1)\n",
      "Requirement already satisfied: zipp>=3.1.0 in c:\\users\\a0938\\appdata\\roaming\\python\\python39\\site-packages (from importlib-resources>=3.2.0->matplotlib) (3.21.0)\n",
      "Requirement already satisfied: six>=1.5 in c:\\users\\a0938\\appdata\\roaming\\python\\python39\\site-packages (from python-dateutil>=2.7->matplotlib) (1.17.0)\n",
      "Note: you may need to restart the kernel to use updated packages.\n"
     ]
    },
    {
     "name": "stderr",
     "output_type": "stream",
     "text": [
      "WARNING: You are using pip version 22.0.4; however, version 25.0.1 is available.\n",
      "You should consider upgrading via the 'c:\\Users\\a0938\\AppData\\Local\\Programs\\Python\\Python39\\python.exe -m pip install --upgrade pip' command.\n"
     ]
    }
   ],
   "source": [
    "pip install matplotlib"
   ]
  },
  {
   "cell_type": "code",
   "execution_count": 9,
   "metadata": {},
   "outputs": [
    {
     "name": "stdout",
     "output_type": "stream",
     "text": [
      "Requirement already satisfied: xlsxwriter in c:\\users\\a0938\\appdata\\local\\programs\\python\\python39\\lib\\site-packages (3.2.2)Note: you may need to restart the kernel to use updated packages.\n",
      "\n"
     ]
    },
    {
     "name": "stderr",
     "output_type": "stream",
     "text": [
      "WARNING: You are using pip version 22.0.4; however, version 25.0.1 is available.\n",
      "You should consider upgrading via the 'c:\\Users\\a0938\\AppData\\Local\\Programs\\Python\\Python39\\python.exe -m pip install --upgrade pip' command.\n"
     ]
    }
   ],
   "source": [
    "pip install xlsxwriter"
   ]
  },
  {
   "cell_type": "code",
   "execution_count": 10,
   "metadata": {},
   "outputs": [
    {
     "name": "stdout",
     "output_type": "stream",
     "text": [
      "Requirement already satisfied: huggingface_hub[hf_xet] in c:\\users\\a0938\\appdata\\local\\programs\\python\\python39\\lib\\site-packages (0.30.2)Note: you may need to restart the kernel to use updated packages.\n"
     ]
    },
    {
     "name": "stderr",
     "output_type": "stream",
     "text": [
      "WARNING: You are using pip version 22.0.4; however, version 25.0.1 is available.\n",
      "You should consider upgrading via the 'c:\\Users\\a0938\\AppData\\Local\\Programs\\Python\\Python39\\python.exe -m pip install --upgrade pip' command.\n"
     ]
    },
    {
     "name": "stdout",
     "output_type": "stream",
     "text": [
      "\n",
      "Requirement already satisfied: filelock in c:\\users\\a0938\\appdata\\local\\programs\\python\\python39\\lib\\site-packages (from huggingface_hub[hf_xet]) (3.18.0)\n",
      "Requirement already satisfied: fsspec>=2023.5.0 in c:\\users\\a0938\\appdata\\local\\programs\\python\\python39\\lib\\site-packages (from huggingface_hub[hf_xet]) (2025.3.2)\n",
      "Requirement already satisfied: tqdm>=4.42.1 in c:\\users\\a0938\\appdata\\local\\programs\\python\\python39\\lib\\site-packages (from huggingface_hub[hf_xet]) (4.67.1)\n",
      "Requirement already satisfied: typing-extensions>=3.7.4.3 in c:\\users\\a0938\\appdata\\roaming\\python\\python39\\site-packages (from huggingface_hub[hf_xet]) (4.13.2)\n",
      "Requirement already satisfied: pyyaml>=5.1 in c:\\users\\a0938\\appdata\\local\\programs\\python\\python39\\lib\\site-packages (from huggingface_hub[hf_xet]) (6.0.2)\n",
      "Requirement already satisfied: requests in c:\\users\\a0938\\appdata\\local\\programs\\python\\python39\\lib\\site-packages (from huggingface_hub[hf_xet]) (2.32.3)\n",
      "Requirement already satisfied: packaging>=20.9 in c:\\users\\a0938\\appdata\\roaming\\python\\python39\\site-packages (from huggingface_hub[hf_xet]) (24.2)\n",
      "Requirement already satisfied: colorama in c:\\users\\a0938\\appdata\\roaming\\python\\python39\\site-packages (from tqdm>=4.42.1->huggingface_hub[hf_xet]) (0.4.6)\n",
      "Requirement already satisfied: urllib3<3,>=1.21.1 in c:\\users\\a0938\\appdata\\local\\programs\\python\\python39\\lib\\site-packages (from requests->huggingface_hub[hf_xet]) (2.4.0)\n",
      "Requirement already satisfied: idna<4,>=2.5 in c:\\users\\a0938\\appdata\\local\\programs\\python\\python39\\lib\\site-packages (from requests->huggingface_hub[hf_xet]) (3.10)\n",
      "Requirement already satisfied: charset-normalizer<4,>=2 in c:\\users\\a0938\\appdata\\local\\programs\\python\\python39\\lib\\site-packages (from requests->huggingface_hub[hf_xet]) (3.4.1)\n",
      "Requirement already satisfied: certifi>=2017.4.17 in c:\\users\\a0938\\appdata\\local\\programs\\python\\python39\\lib\\site-packages (from requests->huggingface_hub[hf_xet]) (2025.1.31)\n"
     ]
    }
   ],
   "source": [
    "pip install huggingface_hub[hf_xet]\n"
   ]
  },
  {
   "cell_type": "code",
   "execution_count": 11,
   "metadata": {},
   "outputs": [
    {
     "name": "stdout",
     "output_type": "stream",
     "text": [
      "Found existing installation: torch 2.6.0\n",
      "Uninstalling torch-2.6.0:\n",
      "  Successfully uninstalled torch-2.6.0\n",
      "Note: you may need to restart the kernel to use updated packages.\n"
     ]
    }
   ],
   "source": [
    "pip uninstall torch -y"
   ]
  },
  {
   "cell_type": "code",
   "execution_count": 12,
   "metadata": {},
   "outputs": [
    {
     "name": "stdout",
     "output_type": "stream",
     "text": [
      "Found existing installation: torch 2.1.0\n",
      "Uninstalling torch-2.1.0:\n",
      "  Successfully uninstalled torch-2.1.0\n",
      "Found existing installation: torchvision 0.16.0\n",
      "Uninstalling torchvision-0.16.0:\n",
      "  Successfully uninstalled torchvision-0.16.0\n",
      "Found existing installation: torchaudio 2.1.0\n",
      "Uninstalling torchaudio-2.1.0:\n",
      "  Successfully uninstalled torchaudio-2.1.0\n",
      "Found existing installation: transformers 4.36.2\n",
      "Uninstalling transformers-4.36.2:\n",
      "  Successfully uninstalled transformers-4.36.2\n",
      "Found existing installation: sentence-transformers 2.2.2\n",
      "Uninstalling sentence-transformers-2.2.2:\n",
      "  Successfully uninstalled sentence-transformers-2.2.2\n",
      "Found existing installation: bertopic 0.16.0\n",
      "Uninstalling bertopic-0.16.0:\n",
      "  Successfully uninstalled bertopic-0.16.0\n"
     ]
    }
   ],
   "source": [
    "!pip uninstall torch torchvision torchaudio transformers sentence-transformers bertopic -y\n"
   ]
  },
  {
   "cell_type": "code",
   "execution_count": 13,
   "metadata": {},
   "outputs": [
    {
     "name": "stdout",
     "output_type": "stream",
     "text": [
      "Collecting torch==2.1.0\n",
      "  Using cached torch-2.1.0-cp311-cp311-win_amd64.whl.metadata (25 kB)\n",
      "Collecting torchvision==0.16.0\n",
      "  Using cached torchvision-0.16.0-cp311-cp311-win_amd64.whl.metadata (6.6 kB)\n",
      "Collecting torchaudio==2.1.0\n",
      "  Using cached torchaudio-2.1.0-cp311-cp311-win_amd64.whl.metadata (5.7 kB)\n",
      "Requirement already satisfied: filelock in c:\\users\\a0938\\appdata\\local\\packages\\pythonsoftwarefoundation.python.3.11_qbz5n2kfra8p0\\localcache\\local-packages\\python311\\site-packages (from torch==2.1.0) (3.18.0)\n",
      "Requirement already satisfied: typing-extensions in c:\\users\\a0938\\appdata\\local\\packages\\pythonsoftwarefoundation.python.3.11_qbz5n2kfra8p0\\localcache\\local-packages\\python311\\site-packages (from torch==2.1.0) (4.13.0)\n",
      "Requirement already satisfied: sympy in c:\\users\\a0938\\appdata\\local\\packages\\pythonsoftwarefoundation.python.3.11_qbz5n2kfra8p0\\localcache\\local-packages\\python311\\site-packages (from torch==2.1.0) (1.13.2)\n",
      "Requirement already satisfied: networkx in c:\\users\\a0938\\appdata\\local\\packages\\pythonsoftwarefoundation.python.3.11_qbz5n2kfra8p0\\localcache\\local-packages\\python311\\site-packages (from torch==2.1.0) (3.3)\n",
      "Requirement already satisfied: jinja2 in c:\\users\\a0938\\appdata\\local\\packages\\pythonsoftwarefoundation.python.3.11_qbz5n2kfra8p0\\localcache\\local-packages\\python311\\site-packages (from torch==2.1.0) (3.1.6)\n",
      "Requirement already satisfied: fsspec in c:\\users\\a0938\\appdata\\local\\packages\\pythonsoftwarefoundation.python.3.11_qbz5n2kfra8p0\\localcache\\local-packages\\python311\\site-packages (from torch==2.1.0) (2024.6.1)\n",
      "Requirement already satisfied: numpy in c:\\users\\a0938\\appdata\\local\\packages\\pythonsoftwarefoundation.python.3.11_qbz5n2kfra8p0\\localcache\\local-packages\\python311\\site-packages (from torchvision==0.16.0) (1.26.4)\n",
      "Requirement already satisfied: requests in c:\\users\\a0938\\appdata\\local\\packages\\pythonsoftwarefoundation.python.3.11_qbz5n2kfra8p0\\localcache\\local-packages\\python311\\site-packages (from torchvision==0.16.0) (2.28.2)\n",
      "Requirement already satisfied: pillow!=8.3.*,>=5.3.0 in c:\\users\\a0938\\appdata\\local\\packages\\pythonsoftwarefoundation.python.3.11_qbz5n2kfra8p0\\localcache\\local-packages\\python311\\site-packages (from torchvision==0.16.0) (10.4.0)\n",
      "Requirement already satisfied: MarkupSafe>=2.0 in c:\\users\\a0938\\appdata\\local\\packages\\pythonsoftwarefoundation.python.3.11_qbz5n2kfra8p0\\localcache\\local-packages\\python311\\site-packages (from jinja2->torch==2.1.0) (2.1.5)\n",
      "Requirement already satisfied: charset-normalizer<4,>=2 in c:\\users\\a0938\\appdata\\local\\packages\\pythonsoftwarefoundation.python.3.11_qbz5n2kfra8p0\\localcache\\local-packages\\python311\\site-packages (from requests->torchvision==0.16.0) (3.1.0)\n",
      "Requirement already satisfied: idna<4,>=2.5 in c:\\users\\a0938\\appdata\\local\\packages\\pythonsoftwarefoundation.python.3.11_qbz5n2kfra8p0\\localcache\\local-packages\\python311\\site-packages (from requests->torchvision==0.16.0) (3.10)\n",
      "Requirement already satisfied: urllib3<1.27,>=1.21.1 in c:\\users\\a0938\\appdata\\local\\packages\\pythonsoftwarefoundation.python.3.11_qbz5n2kfra8p0\\localcache\\local-packages\\python311\\site-packages (from requests->torchvision==0.16.0) (1.26.15)\n",
      "Requirement already satisfied: certifi>=2017.4.17 in c:\\users\\a0938\\appdata\\local\\packages\\pythonsoftwarefoundation.python.3.11_qbz5n2kfra8p0\\localcache\\local-packages\\python311\\site-packages (from requests->torchvision==0.16.0) (2025.1.31)\n",
      "Requirement already satisfied: mpmath<1.4,>=1.1.0 in c:\\users\\a0938\\appdata\\local\\packages\\pythonsoftwarefoundation.python.3.11_qbz5n2kfra8p0\\localcache\\local-packages\\python311\\site-packages (from sympy->torch==2.1.0) (1.3.0)\n",
      "Using cached torch-2.1.0-cp311-cp311-win_amd64.whl (192.3 MB)\n",
      "Using cached torchvision-0.16.0-cp311-cp311-win_amd64.whl (1.3 MB)\n",
      "Using cached torchaudio-2.1.0-cp311-cp311-win_amd64.whl (2.3 MB)\n",
      "Installing collected packages: torch, torchvision, torchaudio\n",
      "Successfully installed torch-2.1.0 torchaudio-2.1.0 torchvision-0.16.0\n"
     ]
    },
    {
     "name": "stderr",
     "output_type": "stream",
     "text": [
      "  WARNING: The scripts convert-caffe2-to-onnx.exe, convert-onnx-to-caffe2.exe and torchrun.exe are installed in 'C:\\Users\\a0938\\AppData\\Local\\Packages\\PythonSoftwareFoundation.Python.3.11_qbz5n2kfra8p0\\LocalCache\\local-packages\\Python311\\Scripts' which is not on PATH.\n",
      "  Consider adding this directory to PATH or, if you prefer to suppress this warning, use --no-warn-script-location.\n",
      "ERROR: pip's dependency resolver does not currently take into account all the packages that are installed. This behaviour is the source of the following dependency conflicts.\n",
      "compressed-tensors 0.9.2 requires transformers, which is not installed.\n",
      "vllm 0.8.2 requires transformers>=4.48.2, which is not installed.\n",
      "vllm 0.8.2 requires tokenizers>=0.19.1, but you have tokenizers 0.15.2 which is incompatible.\n"
     ]
    },
    {
     "name": "stdout",
     "output_type": "stream",
     "text": [
      "Collecting transformers==4.36.2\n",
      "  Using cached transformers-4.36.2-py3-none-any.whl.metadata (126 kB)\n",
      "Requirement already satisfied: filelock in c:\\users\\a0938\\appdata\\local\\packages\\pythonsoftwarefoundation.python.3.11_qbz5n2kfra8p0\\localcache\\local-packages\\python311\\site-packages (from transformers==4.36.2) (3.18.0)\n",
      "Requirement already satisfied: huggingface-hub<1.0,>=0.19.3 in c:\\users\\a0938\\appdata\\local\\packages\\pythonsoftwarefoundation.python.3.11_qbz5n2kfra8p0\\localcache\\local-packages\\python311\\site-packages (from transformers==4.36.2) (0.29.3)\n",
      "Requirement already satisfied: numpy>=1.17 in c:\\users\\a0938\\appdata\\local\\packages\\pythonsoftwarefoundation.python.3.11_qbz5n2kfra8p0\\localcache\\local-packages\\python311\\site-packages (from transformers==4.36.2) (1.26.4)\n",
      "Requirement already satisfied: packaging>=20.0 in c:\\users\\a0938\\appdata\\local\\packages\\pythonsoftwarefoundation.python.3.11_qbz5n2kfra8p0\\localcache\\local-packages\\python311\\site-packages (from transformers==4.36.2) (23.1)\n",
      "Requirement already satisfied: pyyaml>=5.1 in c:\\users\\a0938\\appdata\\local\\packages\\pythonsoftwarefoundation.python.3.11_qbz5n2kfra8p0\\localcache\\local-packages\\python311\\site-packages (from transformers==4.36.2) (6.0)\n",
      "Requirement already satisfied: regex!=2019.12.17 in c:\\users\\a0938\\appdata\\local\\packages\\pythonsoftwarefoundation.python.3.11_qbz5n2kfra8p0\\localcache\\local-packages\\python311\\site-packages (from transformers==4.36.2) (2024.7.24)\n",
      "Requirement already satisfied: requests in c:\\users\\a0938\\appdata\\local\\packages\\pythonsoftwarefoundation.python.3.11_qbz5n2kfra8p0\\localcache\\local-packages\\python311\\site-packages (from transformers==4.36.2) (2.28.2)\n",
      "Requirement already satisfied: tokenizers<0.19,>=0.14 in c:\\users\\a0938\\appdata\\local\\packages\\pythonsoftwarefoundation.python.3.11_qbz5n2kfra8p0\\localcache\\local-packages\\python311\\site-packages (from transformers==4.36.2) (0.15.2)\n",
      "Requirement already satisfied: safetensors>=0.3.1 in c:\\users\\a0938\\appdata\\local\\packages\\pythonsoftwarefoundation.python.3.11_qbz5n2kfra8p0\\localcache\\local-packages\\python311\\site-packages (from transformers==4.36.2) (0.4.5)\n",
      "Requirement already satisfied: tqdm>=4.27 in c:\\users\\a0938\\appdata\\local\\packages\\pythonsoftwarefoundation.python.3.11_qbz5n2kfra8p0\\localcache\\local-packages\\python311\\site-packages (from transformers==4.36.2) (4.65.0)\n",
      "Requirement already satisfied: fsspec>=2023.5.0 in c:\\users\\a0938\\appdata\\local\\packages\\pythonsoftwarefoundation.python.3.11_qbz5n2kfra8p0\\localcache\\local-packages\\python311\\site-packages (from huggingface-hub<1.0,>=0.19.3->transformers==4.36.2) (2024.6.1)\n",
      "Requirement already satisfied: typing-extensions>=3.7.4.3 in c:\\users\\a0938\\appdata\\local\\packages\\pythonsoftwarefoundation.python.3.11_qbz5n2kfra8p0\\localcache\\local-packages\\python311\\site-packages (from huggingface-hub<1.0,>=0.19.3->transformers==4.36.2) (4.13.0)\n",
      "Requirement already satisfied: colorama in c:\\users\\a0938\\appdata\\local\\packages\\pythonsoftwarefoundation.python.3.11_qbz5n2kfra8p0\\localcache\\local-packages\\python311\\site-packages (from tqdm>=4.27->transformers==4.36.2) (0.4.6)\n",
      "Requirement already satisfied: charset-normalizer<4,>=2 in c:\\users\\a0938\\appdata\\local\\packages\\pythonsoftwarefoundation.python.3.11_qbz5n2kfra8p0\\localcache\\local-packages\\python311\\site-packages (from requests->transformers==4.36.2) (3.1.0)\n",
      "Requirement already satisfied: idna<4,>=2.5 in c:\\users\\a0938\\appdata\\local\\packages\\pythonsoftwarefoundation.python.3.11_qbz5n2kfra8p0\\localcache\\local-packages\\python311\\site-packages (from requests->transformers==4.36.2) (3.10)\n",
      "Requirement already satisfied: urllib3<1.27,>=1.21.1 in c:\\users\\a0938\\appdata\\local\\packages\\pythonsoftwarefoundation.python.3.11_qbz5n2kfra8p0\\localcache\\local-packages\\python311\\site-packages (from requests->transformers==4.36.2) (1.26.15)\n",
      "Requirement already satisfied: certifi>=2017.4.17 in c:\\users\\a0938\\appdata\\local\\packages\\pythonsoftwarefoundation.python.3.11_qbz5n2kfra8p0\\localcache\\local-packages\\python311\\site-packages (from requests->transformers==4.36.2) (2025.1.31)\n",
      "Using cached transformers-4.36.2-py3-none-any.whl (8.2 MB)\n",
      "Installing collected packages: transformers\n",
      "Successfully installed transformers-4.36.2\n"
     ]
    },
    {
     "name": "stderr",
     "output_type": "stream",
     "text": [
      "  WARNING: The script transformers-cli.exe is installed in 'C:\\Users\\a0938\\AppData\\Local\\Packages\\PythonSoftwareFoundation.Python.3.11_qbz5n2kfra8p0\\LocalCache\\local-packages\\Python311\\Scripts' which is not on PATH.\n",
      "  Consider adding this directory to PATH or, if you prefer to suppress this warning, use --no-warn-script-location.\n",
      "ERROR: pip's dependency resolver does not currently take into account all the packages that are installed. This behaviour is the source of the following dependency conflicts.\n",
      "vllm 0.8.2 requires tokenizers>=0.19.1, but you have tokenizers 0.15.2 which is incompatible.\n",
      "vllm 0.8.2 requires transformers>=4.48.2, but you have transformers 4.36.2 which is incompatible.\n"
     ]
    },
    {
     "name": "stdout",
     "output_type": "stream",
     "text": [
      "Collecting sentence-transformers==2.2.2\n",
      "  Using cached sentence_transformers-2.2.2-py3-none-any.whl\n",
      "Requirement already satisfied: transformers<5.0.0,>=4.6.0 in c:\\users\\a0938\\appdata\\local\\packages\\pythonsoftwarefoundation.python.3.11_qbz5n2kfra8p0\\localcache\\local-packages\\python311\\site-packages (from sentence-transformers==2.2.2) (4.36.2)\n",
      "Requirement already satisfied: tqdm in c:\\users\\a0938\\appdata\\local\\packages\\pythonsoftwarefoundation.python.3.11_qbz5n2kfra8p0\\localcache\\local-packages\\python311\\site-packages (from sentence-transformers==2.2.2) (4.65.0)\n",
      "Requirement already satisfied: torch>=1.6.0 in c:\\users\\a0938\\appdata\\local\\packages\\pythonsoftwarefoundation.python.3.11_qbz5n2kfra8p0\\localcache\\local-packages\\python311\\site-packages (from sentence-transformers==2.2.2) (2.1.0)\n",
      "Requirement already satisfied: torchvision in c:\\users\\a0938\\appdata\\local\\packages\\pythonsoftwarefoundation.python.3.11_qbz5n2kfra8p0\\localcache\\local-packages\\python311\\site-packages (from sentence-transformers==2.2.2) (0.16.0)\n",
      "Requirement already satisfied: numpy in c:\\users\\a0938\\appdata\\local\\packages\\pythonsoftwarefoundation.python.3.11_qbz5n2kfra8p0\\localcache\\local-packages\\python311\\site-packages (from sentence-transformers==2.2.2) (1.26.4)\n",
      "Requirement already satisfied: scikit-learn in c:\\users\\a0938\\appdata\\local\\packages\\pythonsoftwarefoundation.python.3.11_qbz5n2kfra8p0\\localcache\\local-packages\\python311\\site-packages (from sentence-transformers==2.2.2) (1.5.1)\n",
      "Requirement already satisfied: scipy in c:\\users\\a0938\\appdata\\local\\packages\\pythonsoftwarefoundation.python.3.11_qbz5n2kfra8p0\\localcache\\local-packages\\python311\\site-packages (from sentence-transformers==2.2.2) (1.14.1)\n",
      "Requirement already satisfied: nltk in c:\\users\\a0938\\appdata\\local\\packages\\pythonsoftwarefoundation.python.3.11_qbz5n2kfra8p0\\localcache\\local-packages\\python311\\site-packages (from sentence-transformers==2.2.2) (3.9.1)\n",
      "Requirement already satisfied: sentencepiece in c:\\users\\a0938\\appdata\\local\\packages\\pythonsoftwarefoundation.python.3.11_qbz5n2kfra8p0\\localcache\\local-packages\\python311\\site-packages (from sentence-transformers==2.2.2) (0.2.0)\n",
      "Requirement already satisfied: huggingface-hub>=0.4.0 in c:\\users\\a0938\\appdata\\local\\packages\\pythonsoftwarefoundation.python.3.11_qbz5n2kfra8p0\\localcache\\local-packages\\python311\\site-packages (from sentence-transformers==2.2.2) (0.29.3)\n",
      "Requirement already satisfied: filelock in c:\\users\\a0938\\appdata\\local\\packages\\pythonsoftwarefoundation.python.3.11_qbz5n2kfra8p0\\localcache\\local-packages\\python311\\site-packages (from huggingface-hub>=0.4.0->sentence-transformers==2.2.2) (3.18.0)\n",
      "Requirement already satisfied: fsspec>=2023.5.0 in c:\\users\\a0938\\appdata\\local\\packages\\pythonsoftwarefoundation.python.3.11_qbz5n2kfra8p0\\localcache\\local-packages\\python311\\site-packages (from huggingface-hub>=0.4.0->sentence-transformers==2.2.2) (2024.6.1)\n",
      "Requirement already satisfied: packaging>=20.9 in c:\\users\\a0938\\appdata\\local\\packages\\pythonsoftwarefoundation.python.3.11_qbz5n2kfra8p0\\localcache\\local-packages\\python311\\site-packages (from huggingface-hub>=0.4.0->sentence-transformers==2.2.2) (23.1)\n",
      "Requirement already satisfied: pyyaml>=5.1 in c:\\users\\a0938\\appdata\\local\\packages\\pythonsoftwarefoundation.python.3.11_qbz5n2kfra8p0\\localcache\\local-packages\\python311\\site-packages (from huggingface-hub>=0.4.0->sentence-transformers==2.2.2) (6.0)\n",
      "Requirement already satisfied: requests in c:\\users\\a0938\\appdata\\local\\packages\\pythonsoftwarefoundation.python.3.11_qbz5n2kfra8p0\\localcache\\local-packages\\python311\\site-packages (from huggingface-hub>=0.4.0->sentence-transformers==2.2.2) (2.28.2)\n",
      "Requirement already satisfied: typing-extensions>=3.7.4.3 in c:\\users\\a0938\\appdata\\local\\packages\\pythonsoftwarefoundation.python.3.11_qbz5n2kfra8p0\\localcache\\local-packages\\python311\\site-packages (from huggingface-hub>=0.4.0->sentence-transformers==2.2.2) (4.13.0)\n",
      "Requirement already satisfied: sympy in c:\\users\\a0938\\appdata\\local\\packages\\pythonsoftwarefoundation.python.3.11_qbz5n2kfra8p0\\localcache\\local-packages\\python311\\site-packages (from torch>=1.6.0->sentence-transformers==2.2.2) (1.13.2)\n",
      "Requirement already satisfied: networkx in c:\\users\\a0938\\appdata\\local\\packages\\pythonsoftwarefoundation.python.3.11_qbz5n2kfra8p0\\localcache\\local-packages\\python311\\site-packages (from torch>=1.6.0->sentence-transformers==2.2.2) (3.3)\n",
      "Requirement already satisfied: jinja2 in c:\\users\\a0938\\appdata\\local\\packages\\pythonsoftwarefoundation.python.3.11_qbz5n2kfra8p0\\localcache\\local-packages\\python311\\site-packages (from torch>=1.6.0->sentence-transformers==2.2.2) (3.1.6)\n",
      "Requirement already satisfied: colorama in c:\\users\\a0938\\appdata\\local\\packages\\pythonsoftwarefoundation.python.3.11_qbz5n2kfra8p0\\localcache\\local-packages\\python311\\site-packages (from tqdm->sentence-transformers==2.2.2) (0.4.6)\n",
      "Requirement already satisfied: regex!=2019.12.17 in c:\\users\\a0938\\appdata\\local\\packages\\pythonsoftwarefoundation.python.3.11_qbz5n2kfra8p0\\localcache\\local-packages\\python311\\site-packages (from transformers<5.0.0,>=4.6.0->sentence-transformers==2.2.2) (2024.7.24)\n",
      "Requirement already satisfied: tokenizers<0.19,>=0.14 in c:\\users\\a0938\\appdata\\local\\packages\\pythonsoftwarefoundation.python.3.11_qbz5n2kfra8p0\\localcache\\local-packages\\python311\\site-packages (from transformers<5.0.0,>=4.6.0->sentence-transformers==2.2.2) (0.15.2)\n",
      "Requirement already satisfied: safetensors>=0.3.1 in c:\\users\\a0938\\appdata\\local\\packages\\pythonsoftwarefoundation.python.3.11_qbz5n2kfra8p0\\localcache\\local-packages\\python311\\site-packages (from transformers<5.0.0,>=4.6.0->sentence-transformers==2.2.2) (0.4.5)\n",
      "Requirement already satisfied: click in c:\\users\\a0938\\appdata\\local\\packages\\pythonsoftwarefoundation.python.3.11_qbz5n2kfra8p0\\localcache\\local-packages\\python311\\site-packages (from nltk->sentence-transformers==2.2.2) (8.1.7)\n",
      "Requirement already satisfied: joblib in c:\\users\\a0938\\appdata\\local\\packages\\pythonsoftwarefoundation.python.3.11_qbz5n2kfra8p0\\localcache\\local-packages\\python311\\site-packages (from nltk->sentence-transformers==2.2.2) (1.4.2)\n",
      "Requirement already satisfied: threadpoolctl>=3.1.0 in c:\\users\\a0938\\appdata\\local\\packages\\pythonsoftwarefoundation.python.3.11_qbz5n2kfra8p0\\localcache\\local-packages\\python311\\site-packages (from scikit-learn->sentence-transformers==2.2.2) (3.5.0)\n",
      "Requirement already satisfied: pillow!=8.3.*,>=5.3.0 in c:\\users\\a0938\\appdata\\local\\packages\\pythonsoftwarefoundation.python.3.11_qbz5n2kfra8p0\\localcache\\local-packages\\python311\\site-packages (from torchvision->sentence-transformers==2.2.2) (10.4.0)\n",
      "Requirement already satisfied: MarkupSafe>=2.0 in c:\\users\\a0938\\appdata\\local\\packages\\pythonsoftwarefoundation.python.3.11_qbz5n2kfra8p0\\localcache\\local-packages\\python311\\site-packages (from jinja2->torch>=1.6.0->sentence-transformers==2.2.2) (2.1.5)\n",
      "Requirement already satisfied: charset-normalizer<4,>=2 in c:\\users\\a0938\\appdata\\local\\packages\\pythonsoftwarefoundation.python.3.11_qbz5n2kfra8p0\\localcache\\local-packages\\python311\\site-packages (from requests->huggingface-hub>=0.4.0->sentence-transformers==2.2.2) (3.1.0)\n",
      "Requirement already satisfied: idna<4,>=2.5 in c:\\users\\a0938\\appdata\\local\\packages\\pythonsoftwarefoundation.python.3.11_qbz5n2kfra8p0\\localcache\\local-packages\\python311\\site-packages (from requests->huggingface-hub>=0.4.0->sentence-transformers==2.2.2) (3.10)\n",
      "Requirement already satisfied: urllib3<1.27,>=1.21.1 in c:\\users\\a0938\\appdata\\local\\packages\\pythonsoftwarefoundation.python.3.11_qbz5n2kfra8p0\\localcache\\local-packages\\python311\\site-packages (from requests->huggingface-hub>=0.4.0->sentence-transformers==2.2.2) (1.26.15)\n",
      "Requirement already satisfied: certifi>=2017.4.17 in c:\\users\\a0938\\appdata\\local\\packages\\pythonsoftwarefoundation.python.3.11_qbz5n2kfra8p0\\localcache\\local-packages\\python311\\site-packages (from requests->huggingface-hub>=0.4.0->sentence-transformers==2.2.2) (2025.1.31)\n",
      "Requirement already satisfied: mpmath<1.4,>=1.1.0 in c:\\users\\a0938\\appdata\\local\\packages\\pythonsoftwarefoundation.python.3.11_qbz5n2kfra8p0\\localcache\\local-packages\\python311\\site-packages (from sympy->torch>=1.6.0->sentence-transformers==2.2.2) (1.3.0)\n",
      "Installing collected packages: sentence-transformers\n",
      "Successfully installed sentence-transformers-2.2.2\n",
      "Collecting bertopic==0.16.0\n",
      "  Using cached bertopic-0.16.0-py2.py3-none-any.whl.metadata (21 kB)\n",
      "Requirement already satisfied: numpy>=1.20.0 in c:\\users\\a0938\\appdata\\local\\packages\\pythonsoftwarefoundation.python.3.11_qbz5n2kfra8p0\\localcache\\local-packages\\python311\\site-packages (from bertopic==0.16.0) (1.26.4)\n",
      "Requirement already satisfied: hdbscan>=0.8.29 in c:\\users\\a0938\\appdata\\local\\packages\\pythonsoftwarefoundation.python.3.11_qbz5n2kfra8p0\\localcache\\local-packages\\python311\\site-packages (from bertopic==0.16.0) (0.8.40)\n",
      "Requirement already satisfied: umap-learn>=0.5.0 in c:\\users\\a0938\\appdata\\local\\packages\\pythonsoftwarefoundation.python.3.11_qbz5n2kfra8p0\\localcache\\local-packages\\python311\\site-packages (from bertopic==0.16.0) (0.5.7)\n",
      "Requirement already satisfied: pandas>=1.1.5 in c:\\users\\a0938\\appdata\\local\\packages\\pythonsoftwarefoundation.python.3.11_qbz5n2kfra8p0\\localcache\\local-packages\\python311\\site-packages (from bertopic==0.16.0) (2.2.3)\n",
      "Requirement already satisfied: scikit-learn>=0.22.2.post1 in c:\\users\\a0938\\appdata\\local\\packages\\pythonsoftwarefoundation.python.3.11_qbz5n2kfra8p0\\localcache\\local-packages\\python311\\site-packages (from bertopic==0.16.0) (1.5.1)\n",
      "Requirement already satisfied: tqdm>=4.41.1 in c:\\users\\a0938\\appdata\\local\\packages\\pythonsoftwarefoundation.python.3.11_qbz5n2kfra8p0\\localcache\\local-packages\\python311\\site-packages (from bertopic==0.16.0) (4.65.0)\n",
      "Requirement already satisfied: sentence-transformers>=0.4.1 in c:\\users\\a0938\\appdata\\local\\packages\\pythonsoftwarefoundation.python.3.11_qbz5n2kfra8p0\\localcache\\local-packages\\python311\\site-packages (from bertopic==0.16.0) (2.2.2)\n",
      "Requirement already satisfied: plotly>=4.7.0 in c:\\users\\a0938\\appdata\\local\\packages\\pythonsoftwarefoundation.python.3.11_qbz5n2kfra8p0\\localcache\\local-packages\\python311\\site-packages (from bertopic==0.16.0) (5.24.1)\n",
      "Requirement already satisfied: scipy>=1.0 in c:\\users\\a0938\\appdata\\local\\packages\\pythonsoftwarefoundation.python.3.11_qbz5n2kfra8p0\\localcache\\local-packages\\python311\\site-packages (from hdbscan>=0.8.29->bertopic==0.16.0) (1.14.1)\n",
      "Requirement already satisfied: joblib>=1.0 in c:\\users\\a0938\\appdata\\local\\packages\\pythonsoftwarefoundation.python.3.11_qbz5n2kfra8p0\\localcache\\local-packages\\python311\\site-packages (from hdbscan>=0.8.29->bertopic==0.16.0) (1.4.2)\n",
      "Requirement already satisfied: python-dateutil>=2.8.2 in c:\\users\\a0938\\appdata\\local\\packages\\pythonsoftwarefoundation.python.3.11_qbz5n2kfra8p0\\localcache\\local-packages\\python311\\site-packages (from pandas>=1.1.5->bertopic==0.16.0) (2.9.0.post0)\n",
      "Requirement already satisfied: pytz>=2020.1 in c:\\users\\a0938\\appdata\\local\\packages\\pythonsoftwarefoundation.python.3.11_qbz5n2kfra8p0\\localcache\\local-packages\\python311\\site-packages (from pandas>=1.1.5->bertopic==0.16.0) (2024.1)\n",
      "Requirement already satisfied: tzdata>=2022.7 in c:\\users\\a0938\\appdata\\local\\packages\\pythonsoftwarefoundation.python.3.11_qbz5n2kfra8p0\\localcache\\local-packages\\python311\\site-packages (from pandas>=1.1.5->bertopic==0.16.0) (2024.1)\n",
      "Requirement already satisfied: tenacity>=6.2.0 in c:\\users\\a0938\\appdata\\local\\packages\\pythonsoftwarefoundation.python.3.11_qbz5n2kfra8p0\\localcache\\local-packages\\python311\\site-packages (from plotly>=4.7.0->bertopic==0.16.0) (9.0.0)\n",
      "Requirement already satisfied: packaging in c:\\users\\a0938\\appdata\\local\\packages\\pythonsoftwarefoundation.python.3.11_qbz5n2kfra8p0\\localcache\\local-packages\\python311\\site-packages (from plotly>=4.7.0->bertopic==0.16.0) (23.1)\n",
      "Requirement already satisfied: threadpoolctl>=3.1.0 in c:\\users\\a0938\\appdata\\local\\packages\\pythonsoftwarefoundation.python.3.11_qbz5n2kfra8p0\\localcache\\local-packages\\python311\\site-packages (from scikit-learn>=0.22.2.post1->bertopic==0.16.0) (3.5.0)\n",
      "Requirement already satisfied: transformers<5.0.0,>=4.6.0 in c:\\users\\a0938\\appdata\\local\\packages\\pythonsoftwarefoundation.python.3.11_qbz5n2kfra8p0\\localcache\\local-packages\\python311\\site-packages (from sentence-transformers>=0.4.1->bertopic==0.16.0) (4.36.2)\n",
      "Requirement already satisfied: torch>=1.6.0 in c:\\users\\a0938\\appdata\\local\\packages\\pythonsoftwarefoundation.python.3.11_qbz5n2kfra8p0\\localcache\\local-packages\\python311\\site-packages (from sentence-transformers>=0.4.1->bertopic==0.16.0) (2.1.0)\n",
      "Requirement already satisfied: torchvision in c:\\users\\a0938\\appdata\\local\\packages\\pythonsoftwarefoundation.python.3.11_qbz5n2kfra8p0\\localcache\\local-packages\\python311\\site-packages (from sentence-transformers>=0.4.1->bertopic==0.16.0) (0.16.0)\n",
      "Requirement already satisfied: nltk in c:\\users\\a0938\\appdata\\local\\packages\\pythonsoftwarefoundation.python.3.11_qbz5n2kfra8p0\\localcache\\local-packages\\python311\\site-packages (from sentence-transformers>=0.4.1->bertopic==0.16.0) (3.9.1)\n",
      "Requirement already satisfied: sentencepiece in c:\\users\\a0938\\appdata\\local\\packages\\pythonsoftwarefoundation.python.3.11_qbz5n2kfra8p0\\localcache\\local-packages\\python311\\site-packages (from sentence-transformers>=0.4.1->bertopic==0.16.0) (0.2.0)\n",
      "Requirement already satisfied: huggingface-hub>=0.4.0 in c:\\users\\a0938\\appdata\\local\\packages\\pythonsoftwarefoundation.python.3.11_qbz5n2kfra8p0\\localcache\\local-packages\\python311\\site-packages (from sentence-transformers>=0.4.1->bertopic==0.16.0) (0.29.3)\n",
      "Requirement already satisfied: colorama in c:\\users\\a0938\\appdata\\local\\packages\\pythonsoftwarefoundation.python.3.11_qbz5n2kfra8p0\\localcache\\local-packages\\python311\\site-packages (from tqdm>=4.41.1->bertopic==0.16.0) (0.4.6)\n",
      "Requirement already satisfied: numba>=0.51.2 in c:\\users\\a0938\\appdata\\local\\packages\\pythonsoftwarefoundation.python.3.11_qbz5n2kfra8p0\\localcache\\local-packages\\python311\\site-packages (from umap-learn>=0.5.0->bertopic==0.16.0) (0.60.0)\n",
      "Requirement already satisfied: pynndescent>=0.5 in c:\\users\\a0938\\appdata\\local\\packages\\pythonsoftwarefoundation.python.3.11_qbz5n2kfra8p0\\localcache\\local-packages\\python311\\site-packages (from umap-learn>=0.5.0->bertopic==0.16.0) (0.5.13)\n",
      "Requirement already satisfied: filelock in c:\\users\\a0938\\appdata\\local\\packages\\pythonsoftwarefoundation.python.3.11_qbz5n2kfra8p0\\localcache\\local-packages\\python311\\site-packages (from huggingface-hub>=0.4.0->sentence-transformers>=0.4.1->bertopic==0.16.0) (3.18.0)\n",
      "Requirement already satisfied: fsspec>=2023.5.0 in c:\\users\\a0938\\appdata\\local\\packages\\pythonsoftwarefoundation.python.3.11_qbz5n2kfra8p0\\localcache\\local-packages\\python311\\site-packages (from huggingface-hub>=0.4.0->sentence-transformers>=0.4.1->bertopic==0.16.0) (2024.6.1)\n",
      "Requirement already satisfied: pyyaml>=5.1 in c:\\users\\a0938\\appdata\\local\\packages\\pythonsoftwarefoundation.python.3.11_qbz5n2kfra8p0\\localcache\\local-packages\\python311\\site-packages (from huggingface-hub>=0.4.0->sentence-transformers>=0.4.1->bertopic==0.16.0) (6.0)\n",
      "Requirement already satisfied: requests in c:\\users\\a0938\\appdata\\local\\packages\\pythonsoftwarefoundation.python.3.11_qbz5n2kfra8p0\\localcache\\local-packages\\python311\\site-packages (from huggingface-hub>=0.4.0->sentence-transformers>=0.4.1->bertopic==0.16.0) (2.28.2)\n",
      "Requirement already satisfied: typing-extensions>=3.7.4.3 in c:\\users\\a0938\\appdata\\local\\packages\\pythonsoftwarefoundation.python.3.11_qbz5n2kfra8p0\\localcache\\local-packages\\python311\\site-packages (from huggingface-hub>=0.4.0->sentence-transformers>=0.4.1->bertopic==0.16.0) (4.13.0)\n",
      "Requirement already satisfied: llvmlite<0.44,>=0.43.0dev0 in c:\\users\\a0938\\appdata\\local\\packages\\pythonsoftwarefoundation.python.3.11_qbz5n2kfra8p0\\localcache\\local-packages\\python311\\site-packages (from numba>=0.51.2->umap-learn>=0.5.0->bertopic==0.16.0) (0.43.0)\n",
      "Requirement already satisfied: six>=1.5 in c:\\users\\a0938\\appdata\\local\\packages\\pythonsoftwarefoundation.python.3.11_qbz5n2kfra8p0\\localcache\\local-packages\\python311\\site-packages (from python-dateutil>=2.8.2->pandas>=1.1.5->bertopic==0.16.0) (1.16.0)\n",
      "Requirement already satisfied: sympy in c:\\users\\a0938\\appdata\\local\\packages\\pythonsoftwarefoundation.python.3.11_qbz5n2kfra8p0\\localcache\\local-packages\\python311\\site-packages (from torch>=1.6.0->sentence-transformers>=0.4.1->bertopic==0.16.0) (1.13.2)\n",
      "Requirement already satisfied: networkx in c:\\users\\a0938\\appdata\\local\\packages\\pythonsoftwarefoundation.python.3.11_qbz5n2kfra8p0\\localcache\\local-packages\\python311\\site-packages (from torch>=1.6.0->sentence-transformers>=0.4.1->bertopic==0.16.0) (3.3)\n",
      "Requirement already satisfied: jinja2 in c:\\users\\a0938\\appdata\\local\\packages\\pythonsoftwarefoundation.python.3.11_qbz5n2kfra8p0\\localcache\\local-packages\\python311\\site-packages (from torch>=1.6.0->sentence-transformers>=0.4.1->bertopic==0.16.0) (3.1.6)\n",
      "Requirement already satisfied: regex!=2019.12.17 in c:\\users\\a0938\\appdata\\local\\packages\\pythonsoftwarefoundation.python.3.11_qbz5n2kfra8p0\\localcache\\local-packages\\python311\\site-packages (from transformers<5.0.0,>=4.6.0->sentence-transformers>=0.4.1->bertopic==0.16.0) (2024.7.24)\n",
      "Requirement already satisfied: tokenizers<0.19,>=0.14 in c:\\users\\a0938\\appdata\\local\\packages\\pythonsoftwarefoundation.python.3.11_qbz5n2kfra8p0\\localcache\\local-packages\\python311\\site-packages (from transformers<5.0.0,>=4.6.0->sentence-transformers>=0.4.1->bertopic==0.16.0) (0.15.2)\n",
      "Requirement already satisfied: safetensors>=0.3.1 in c:\\users\\a0938\\appdata\\local\\packages\\pythonsoftwarefoundation.python.3.11_qbz5n2kfra8p0\\localcache\\local-packages\\python311\\site-packages (from transformers<5.0.0,>=4.6.0->sentence-transformers>=0.4.1->bertopic==0.16.0) (0.4.5)\n",
      "Requirement already satisfied: click in c:\\users\\a0938\\appdata\\local\\packages\\pythonsoftwarefoundation.python.3.11_qbz5n2kfra8p0\\localcache\\local-packages\\python311\\site-packages (from nltk->sentence-transformers>=0.4.1->bertopic==0.16.0) (8.1.7)\n",
      "Requirement already satisfied: pillow!=8.3.*,>=5.3.0 in c:\\users\\a0938\\appdata\\local\\packages\\pythonsoftwarefoundation.python.3.11_qbz5n2kfra8p0\\localcache\\local-packages\\python311\\site-packages (from torchvision->sentence-transformers>=0.4.1->bertopic==0.16.0) (10.4.0)\n",
      "Requirement already satisfied: MarkupSafe>=2.0 in c:\\users\\a0938\\appdata\\local\\packages\\pythonsoftwarefoundation.python.3.11_qbz5n2kfra8p0\\localcache\\local-packages\\python311\\site-packages (from jinja2->torch>=1.6.0->sentence-transformers>=0.4.1->bertopic==0.16.0) (2.1.5)\n",
      "Requirement already satisfied: charset-normalizer<4,>=2 in c:\\users\\a0938\\appdata\\local\\packages\\pythonsoftwarefoundation.python.3.11_qbz5n2kfra8p0\\localcache\\local-packages\\python311\\site-packages (from requests->huggingface-hub>=0.4.0->sentence-transformers>=0.4.1->bertopic==0.16.0) (3.1.0)\n",
      "Requirement already satisfied: idna<4,>=2.5 in c:\\users\\a0938\\appdata\\local\\packages\\pythonsoftwarefoundation.python.3.11_qbz5n2kfra8p0\\localcache\\local-packages\\python311\\site-packages (from requests->huggingface-hub>=0.4.0->sentence-transformers>=0.4.1->bertopic==0.16.0) (3.10)\n",
      "Requirement already satisfied: urllib3<1.27,>=1.21.1 in c:\\users\\a0938\\appdata\\local\\packages\\pythonsoftwarefoundation.python.3.11_qbz5n2kfra8p0\\localcache\\local-packages\\python311\\site-packages (from requests->huggingface-hub>=0.4.0->sentence-transformers>=0.4.1->bertopic==0.16.0) (1.26.15)\n",
      "Requirement already satisfied: certifi>=2017.4.17 in c:\\users\\a0938\\appdata\\local\\packages\\pythonsoftwarefoundation.python.3.11_qbz5n2kfra8p0\\localcache\\local-packages\\python311\\site-packages (from requests->huggingface-hub>=0.4.0->sentence-transformers>=0.4.1->bertopic==0.16.0) (2025.1.31)\n",
      "Requirement already satisfied: mpmath<1.4,>=1.1.0 in c:\\users\\a0938\\appdata\\local\\packages\\pythonsoftwarefoundation.python.3.11_qbz5n2kfra8p0\\localcache\\local-packages\\python311\\site-packages (from sympy->torch>=1.6.0->sentence-transformers>=0.4.1->bertopic==0.16.0) (1.3.0)\n",
      "Using cached bertopic-0.16.0-py2.py3-none-any.whl (154 kB)\n",
      "Installing collected packages: bertopic\n",
      "Successfully installed bertopic-0.16.0\n",
      "Requirement already satisfied: umap-learn in c:\\users\\a0938\\appdata\\local\\packages\\pythonsoftwarefoundation.python.3.11_qbz5n2kfra8p0\\localcache\\local-packages\\python311\\site-packages (0.5.7)\n",
      "Requirement already satisfied: hdbscan in c:\\users\\a0938\\appdata\\local\\packages\\pythonsoftwarefoundation.python.3.11_qbz5n2kfra8p0\\localcache\\local-packages\\python311\\site-packages (0.8.40)\n",
      "Requirement already satisfied: xlsxwriter in c:\\users\\a0938\\appdata\\local\\packages\\pythonsoftwarefoundation.python.3.11_qbz5n2kfra8p0\\localcache\\local-packages\\python311\\site-packages (3.2.0)\n",
      "Requirement already satisfied: tqdm in c:\\users\\a0938\\appdata\\local\\packages\\pythonsoftwarefoundation.python.3.11_qbz5n2kfra8p0\\localcache\\local-packages\\python311\\site-packages (4.65.0)\n",
      "Requirement already satisfied: pandas in c:\\users\\a0938\\appdata\\local\\packages\\pythonsoftwarefoundation.python.3.11_qbz5n2kfra8p0\\localcache\\local-packages\\python311\\site-packages (2.2.3)\n",
      "Requirement already satisfied: matplotlib in c:\\users\\a0938\\appdata\\local\\packages\\pythonsoftwarefoundation.python.3.11_qbz5n2kfra8p0\\localcache\\local-packages\\python311\\site-packages (3.9.2)\n",
      "Requirement already satisfied: scikit-learn in c:\\users\\a0938\\appdata\\local\\packages\\pythonsoftwarefoundation.python.3.11_qbz5n2kfra8p0\\localcache\\local-packages\\python311\\site-packages (1.5.1)\n",
      "Requirement already satisfied: numpy>=1.17 in c:\\users\\a0938\\appdata\\local\\packages\\pythonsoftwarefoundation.python.3.11_qbz5n2kfra8p0\\localcache\\local-packages\\python311\\site-packages (from umap-learn) (1.26.4)\n",
      "Requirement already satisfied: scipy>=1.3.1 in c:\\users\\a0938\\appdata\\local\\packages\\pythonsoftwarefoundation.python.3.11_qbz5n2kfra8p0\\localcache\\local-packages\\python311\\site-packages (from umap-learn) (1.14.1)\n",
      "Requirement already satisfied: numba>=0.51.2 in c:\\users\\a0938\\appdata\\local\\packages\\pythonsoftwarefoundation.python.3.11_qbz5n2kfra8p0\\localcache\\local-packages\\python311\\site-packages (from umap-learn) (0.60.0)\n",
      "Requirement already satisfied: pynndescent>=0.5 in c:\\users\\a0938\\appdata\\local\\packages\\pythonsoftwarefoundation.python.3.11_qbz5n2kfra8p0\\localcache\\local-packages\\python311\\site-packages (from umap-learn) (0.5.13)\n",
      "Requirement already satisfied: joblib>=1.0 in c:\\users\\a0938\\appdata\\local\\packages\\pythonsoftwarefoundation.python.3.11_qbz5n2kfra8p0\\localcache\\local-packages\\python311\\site-packages (from hdbscan) (1.4.2)\n",
      "Requirement already satisfied: colorama in c:\\users\\a0938\\appdata\\local\\packages\\pythonsoftwarefoundation.python.3.11_qbz5n2kfra8p0\\localcache\\local-packages\\python311\\site-packages (from tqdm) (0.4.6)\n",
      "Requirement already satisfied: python-dateutil>=2.8.2 in c:\\users\\a0938\\appdata\\local\\packages\\pythonsoftwarefoundation.python.3.11_qbz5n2kfra8p0\\localcache\\local-packages\\python311\\site-packages (from pandas) (2.9.0.post0)\n",
      "Requirement already satisfied: pytz>=2020.1 in c:\\users\\a0938\\appdata\\local\\packages\\pythonsoftwarefoundation.python.3.11_qbz5n2kfra8p0\\localcache\\local-packages\\python311\\site-packages (from pandas) (2024.1)\n",
      "Requirement already satisfied: tzdata>=2022.7 in c:\\users\\a0938\\appdata\\local\\packages\\pythonsoftwarefoundation.python.3.11_qbz5n2kfra8p0\\localcache\\local-packages\\python311\\site-packages (from pandas) (2024.1)\n",
      "Requirement already satisfied: contourpy>=1.0.1 in c:\\users\\a0938\\appdata\\local\\packages\\pythonsoftwarefoundation.python.3.11_qbz5n2kfra8p0\\localcache\\local-packages\\python311\\site-packages (from matplotlib) (1.3.0)\n",
      "Requirement already satisfied: cycler>=0.10 in c:\\users\\a0938\\appdata\\local\\packages\\pythonsoftwarefoundation.python.3.11_qbz5n2kfra8p0\\localcache\\local-packages\\python311\\site-packages (from matplotlib) (0.12.1)\n",
      "Requirement already satisfied: fonttools>=4.22.0 in c:\\users\\a0938\\appdata\\local\\packages\\pythonsoftwarefoundation.python.3.11_qbz5n2kfra8p0\\localcache\\local-packages\\python311\\site-packages (from matplotlib) (4.53.1)\n",
      "Requirement already satisfied: kiwisolver>=1.3.1 in c:\\users\\a0938\\appdata\\local\\packages\\pythonsoftwarefoundation.python.3.11_qbz5n2kfra8p0\\localcache\\local-packages\\python311\\site-packages (from matplotlib) (1.4.7)\n",
      "Requirement already satisfied: packaging>=20.0 in c:\\users\\a0938\\appdata\\local\\packages\\pythonsoftwarefoundation.python.3.11_qbz5n2kfra8p0\\localcache\\local-packages\\python311\\site-packages (from matplotlib) (23.1)\n",
      "Requirement already satisfied: pillow>=8 in c:\\users\\a0938\\appdata\\local\\packages\\pythonsoftwarefoundation.python.3.11_qbz5n2kfra8p0\\localcache\\local-packages\\python311\\site-packages (from matplotlib) (10.4.0)\n",
      "Requirement already satisfied: pyparsing>=2.3.1 in c:\\users\\a0938\\appdata\\local\\packages\\pythonsoftwarefoundation.python.3.11_qbz5n2kfra8p0\\localcache\\local-packages\\python311\\site-packages (from matplotlib) (3.1.4)\n",
      "Requirement already satisfied: threadpoolctl>=3.1.0 in c:\\users\\a0938\\appdata\\local\\packages\\pythonsoftwarefoundation.python.3.11_qbz5n2kfra8p0\\localcache\\local-packages\\python311\\site-packages (from scikit-learn) (3.5.0)\n",
      "Requirement already satisfied: llvmlite<0.44,>=0.43.0dev0 in c:\\users\\a0938\\appdata\\local\\packages\\pythonsoftwarefoundation.python.3.11_qbz5n2kfra8p0\\localcache\\local-packages\\python311\\site-packages (from numba>=0.51.2->umap-learn) (0.43.0)\n",
      "Requirement already satisfied: six>=1.5 in c:\\users\\a0938\\appdata\\local\\packages\\pythonsoftwarefoundation.python.3.11_qbz5n2kfra8p0\\localcache\\local-packages\\python311\\site-packages (from python-dateutil>=2.8.2->pandas) (1.16.0)\n"
     ]
    }
   ],
   "source": [
    "!pip install torch==2.1.0 torchvision==0.16.0 torchaudio==2.1.0\n",
    "!pip install transformers==4.36.2\n",
    "!pip install sentence-transformers==2.2.2\n",
    "!pip install bertopic==0.16.0\n",
    "!pip install umap-learn hdbscan xlsxwriter tqdm pandas matplotlib scikit-learn\n",
    "\n"
   ]
  },
  {
   "cell_type": "code",
   "execution_count": 14,
   "metadata": {},
   "outputs": [
    {
     "name": "stdout",
     "output_type": "stream",
     "text": [
      "Collecting torch\n",
      "  Using cached torch-2.6.0-cp39-cp39-win_amd64.whl (204.1 MB)\n",
      "Requirement already satisfied: networkx in c:\\users\\a0938\\appdata\\local\\programs\\python\\python39\\lib\\site-packages (from torch) (3.2.1)\n",
      "Requirement already satisfied: fsspec in c:\\users\\a0938\\appdata\\local\\programs\\python\\python39\\lib\\site-packages (from torch) (2025.3.2)\n",
      "Requirement already satisfied: typing-extensions>=4.10.0 in c:\\users\\a0938\\appdata\\roaming\\python\\python39\\site-packages (from torch) (4.13.2)\n",
      "Requirement already satisfied: jinja2 in c:\\users\\a0938\\appdata\\local\\programs\\python\\python39\\lib\\site-packages (from torch) (3.1.6)\n",
      "Requirement already satisfied: sympy==1.13.1 in c:\\users\\a0938\\appdata\\local\\programs\\python\\python39\\lib\\site-packages (from torch) (1.13.1)\n",
      "Requirement already satisfied: filelock in c:\\users\\a0938\\appdata\\local\\programs\\python\\python39\\lib\\site-packages (from torch) (3.18.0)\n",
      "Requirement already satisfied: mpmath<1.4,>=1.1.0 in c:\\users\\a0938\\appdata\\local\\programs\\python\\python39\\lib\\site-packages (from sympy==1.13.1->torch) (1.3.0)\n",
      "Requirement already satisfied: MarkupSafe>=2.0 in c:\\users\\a0938\\appdata\\local\\programs\\python\\python39\\lib\\site-packages (from jinja2->torch) (3.0.2)\n",
      "Installing collected packages: torch\n",
      "Successfully installed torch-2.6.0\n",
      "Note: you may need to restart the kernel to use updated packages.\n"
     ]
    },
    {
     "name": "stderr",
     "output_type": "stream",
     "text": [
      "WARNING: You are using pip version 22.0.4; however, version 25.0.1 is available.\n",
      "You should consider upgrading via the 'c:\\Users\\a0938\\AppData\\Local\\Programs\\Python\\Python39\\python.exe -m pip install --upgrade pip' command.\n"
     ]
    }
   ],
   "source": [
    "pip install torch"
   ]
  },
  {
   "cell_type": "code",
   "execution_count": 15,
   "metadata": {},
   "outputs": [
    {
     "name": "stdout",
     "output_type": "stream",
     "text": [
      "2.6.0+cpu\n",
      "False\n"
     ]
    }
   ],
   "source": [
    "import torch\n",
    "print(torch.__version__)\n",
    "print(torch.cuda.is_available())"
   ]
  },
  {
   "cell_type": "code",
   "execution_count": 16,
   "metadata": {},
   "outputs": [
    {
     "name": "stderr",
     "output_type": "stream",
     "text": [
      "c:\\Users\\a0938\\AppData\\Local\\Programs\\Python\\Python39\\lib\\site-packages\\tqdm\\auto.py:21: TqdmWarning: IProgress not found. Please update jupyter and ipywidgets. See https://ipywidgets.readthedocs.io/en/stable/user_install.html\n",
      "  from .autonotebook import tqdm as notebook_tqdm\n",
      "2025-04-16 12:54:43,933 - BERTopic - Embedding - Transforming documents to embeddings.\n",
      "Batches: 100%|██████████| 2128/2128 [20:37<00:00,  1.72it/s]\n",
      "2025-04-16 13:15:24,270 - BERTopic - Embedding - Completed ✓\n",
      "2025-04-16 13:15:24,272 - BERTopic - Dimensionality - Fitting the dimensionality reduction algorithm\n",
      "2025-04-16 13:17:19,978 - BERTopic - Dimensionality - Completed ✓\n",
      "2025-04-16 13:17:19,983 - BERTopic - Cluster - Start clustering the reduced embeddings\n",
      "2025-04-16 16:40:08,544 - BERTopic - Cluster - Completed ✓\n",
      "2025-04-16 16:40:08,612 - BERTopic - Representation - Extracting topics using c-TF-IDF for topic reduction.\n",
      "2025-04-16 16:40:20,244 - BERTopic - Representation - Completed ✓\n",
      "2025-04-16 16:40:20,282 - BERTopic - Topic reduction - Reducing number of topics\n",
      "2025-04-16 16:40:20,419 - BERTopic - Representation - Fine-tuning topics using representation models.\n",
      "2025-04-16 16:40:30,441 - BERTopic - Representation - Completed ✓\n",
      "2025-04-16 16:40:30,476 - BERTopic - Topic reduction - Reduced number of topics from 913 to 20\n"
     ]
    }
   ],
   "source": [
    "# 獲取授權碼之後輸入即可連動雲端硬碟\n",
    "from tqdm import tqdm\n",
    "import pandas as pd\n",
    "import numpy as np\n",
    "import matplotlib.pyplot as plt\n",
    "import os\n",
    "import re\n",
    "import xlsxwriter\n",
    "## Import\n",
    "from bertopic import BERTopic\n",
    "\n",
    "\n",
    "###   BERTOPic\n",
    "\n",
    "## Import\n",
    "from sentence_transformers import SentenceTransformer\n",
    "from umap import UMAP\n",
    "from hdbscan import HDBSCAN\n",
    "from sklearn.feature_extraction.text import CountVectorizer\n",
    "\n",
    "\n",
    "#file = open(\"/content/drive/My Drive/BERT_vocabulary.txt\", \"r\")  # 定義自己的詞彙表  注意vocabulary.txt 檔案格式\n",
    "#my_vocabulary = file.read().splitlines()\n",
    "\n",
    "\n",
    "# 建立模型組件\n",
    "embedding_model = SentenceTransformer('paraphrase-multilingual-MiniLM-L12-v2')\n",
    "umap_model = UMAP(n_neighbors=15)\n",
    "hdbscan_model = HDBSCAN(min_cluster_size=20, min_samples=1,\n",
    "                        gen_min_span_tree=True,\n",
    "                        prediction_data=True)\n",
    "vectorizer_model = CountVectorizer(ngram_range=(1, 3), stop_words=\"english\")\n",
    "\n",
    "# 建立 BERTopic 模型\n",
    "model = BERTopic(\n",
    "    embedding_model=embedding_model,\n",
    "    umap_model=umap_model,\n",
    "    hdbscan_model=hdbscan_model,\n",
    "    vectorizer_model=vectorizer_model,\n",
    "    language='english',\n",
    "    min_topic_size=1,\n",
    "    nr_topics=20,\n",
    "    top_n_words=20,\n",
    "    calculate_probabilities=True,\n",
    "    verbose=True\n",
    ")\n",
    "\n",
    "# 訓練模型\n",
    "topics, probs = model.fit_transform(docs)\n",
    "\n",
    "# 輸出機率表\n",
    "probs_df = pd.DataFrame(probs)\n",
    "probs_df.to_csv(\"前100名b後.csv\", index=False)"
   ]
  },
  {
   "cell_type": "code",
   "execution_count": 23,
   "metadata": {
    "colab": {
     "base_uri": "https://localhost:8080/",
     "height": 141
    },
    "id": "lC4Py2l0cEtB",
    "outputId": "788158cb-173b-4c21-9823-53665bc12652",
    "scrolled": true
   },
   "outputs": [
    {
     "ename": "ValueError",
     "evalue": "Mime type rendering requires nbformat>=4.2.0 but it is not installed",
     "output_type": "error",
     "traceback": [
      "\u001b[1;31m---------------------------------------------------------------------------\u001b[0m",
      "\u001b[1;31mValueError\u001b[0m                                Traceback (most recent call last)",
      "File \u001b[1;32m~\\AppData\\Roaming\\Python\\Python39\\site-packages\\IPython\\core\\formatters.py:922\u001b[0m, in \u001b[0;36mIPythonDisplayFormatter.__call__\u001b[1;34m(self, obj)\u001b[0m\n\u001b[0;32m    920\u001b[0m method \u001b[38;5;241m=\u001b[39m get_real_method(obj, \u001b[38;5;28mself\u001b[39m\u001b[38;5;241m.\u001b[39mprint_method)\n\u001b[0;32m    921\u001b[0m \u001b[38;5;28;01mif\u001b[39;00m method \u001b[38;5;129;01mis\u001b[39;00m \u001b[38;5;129;01mnot\u001b[39;00m \u001b[38;5;28;01mNone\u001b[39;00m:\n\u001b[1;32m--> 922\u001b[0m     \u001b[43mmethod\u001b[49m\u001b[43m(\u001b[49m\u001b[43m)\u001b[49m\n\u001b[0;32m    923\u001b[0m     \u001b[38;5;28;01mreturn\u001b[39;00m \u001b[38;5;28;01mTrue\u001b[39;00m\n",
      "File \u001b[1;32mc:\\Users\\a0938\\AppData\\Local\\Programs\\Python\\Python39\\lib\\site-packages\\plotly\\basedatatypes.py:833\u001b[0m, in \u001b[0;36mBaseFigure._ipython_display_\u001b[1;34m(self)\u001b[0m\n\u001b[0;32m    830\u001b[0m \u001b[38;5;28;01mimport\u001b[39;00m\u001b[38;5;250m \u001b[39m\u001b[38;5;21;01mplotly\u001b[39;00m\u001b[38;5;21;01m.\u001b[39;00m\u001b[38;5;21;01mio\u001b[39;00m\u001b[38;5;250m \u001b[39m\u001b[38;5;28;01mas\u001b[39;00m\u001b[38;5;250m \u001b[39m\u001b[38;5;21;01mpio\u001b[39;00m\n\u001b[0;32m    832\u001b[0m \u001b[38;5;28;01mif\u001b[39;00m pio\u001b[38;5;241m.\u001b[39mrenderers\u001b[38;5;241m.\u001b[39mrender_on_display \u001b[38;5;129;01mand\u001b[39;00m pio\u001b[38;5;241m.\u001b[39mrenderers\u001b[38;5;241m.\u001b[39mdefault:\n\u001b[1;32m--> 833\u001b[0m     \u001b[43mpio\u001b[49m\u001b[38;5;241;43m.\u001b[39;49m\u001b[43mshow\u001b[49m\u001b[43m(\u001b[49m\u001b[38;5;28;43mself\u001b[39;49m\u001b[43m)\u001b[49m\n\u001b[0;32m    834\u001b[0m \u001b[38;5;28;01melse\u001b[39;00m:\n\u001b[0;32m    835\u001b[0m     \u001b[38;5;28mprint\u001b[39m(\u001b[38;5;28mrepr\u001b[39m(\u001b[38;5;28mself\u001b[39m))\n",
      "File \u001b[1;32mc:\\Users\\a0938\\AppData\\Local\\Programs\\Python\\Python39\\lib\\site-packages\\plotly\\io\\_renderers.py:425\u001b[0m, in \u001b[0;36mshow\u001b[1;34m(fig, renderer, validate, **kwargs)\u001b[0m\n\u001b[0;32m    420\u001b[0m     \u001b[38;5;28;01mraise\u001b[39;00m \u001b[38;5;167;01mValueError\u001b[39;00m(\n\u001b[0;32m    421\u001b[0m         \u001b[38;5;124m\"\u001b[39m\u001b[38;5;124mMime type rendering requires ipython but it is not installed\u001b[39m\u001b[38;5;124m\"\u001b[39m\n\u001b[0;32m    422\u001b[0m     )\n\u001b[0;32m    424\u001b[0m \u001b[38;5;28;01mif\u001b[39;00m \u001b[38;5;129;01mnot\u001b[39;00m nbformat \u001b[38;5;129;01mor\u001b[39;00m Version(nbformat\u001b[38;5;241m.\u001b[39m__version__) \u001b[38;5;241m<\u001b[39m Version(\u001b[38;5;124m\"\u001b[39m\u001b[38;5;124m4.2.0\u001b[39m\u001b[38;5;124m\"\u001b[39m):\n\u001b[1;32m--> 425\u001b[0m     \u001b[38;5;28;01mraise\u001b[39;00m \u001b[38;5;167;01mValueError\u001b[39;00m(\n\u001b[0;32m    426\u001b[0m         \u001b[38;5;124m\"\u001b[39m\u001b[38;5;124mMime type rendering requires nbformat>=4.2.0 but it is not installed\u001b[39m\u001b[38;5;124m\"\u001b[39m\n\u001b[0;32m    427\u001b[0m     )\n\u001b[0;32m    429\u001b[0m display_jupyter_version_warnings()\n\u001b[0;32m    431\u001b[0m ipython_display\u001b[38;5;241m.\u001b[39mdisplay(bundle, raw\u001b[38;5;241m=\u001b[39m\u001b[38;5;28;01mTrue\u001b[39;00m)\n",
      "\u001b[1;31mValueError\u001b[0m: Mime type rendering requires nbformat>=4.2.0 but it is not installed"
     ]
    },
    {
     "data": {
      "application/vnd.plotly.v1+json": {
       "config": {
        "plotlyServerURL": "https://plot.ly"
       },
       "data": [
        {
         "customdata": [
          [
           0,
           "guitar | br | mic | great | stand",
           20495
          ],
          [
           1,
           "great | good | works | product | price",
           15084
          ],
          [
           2,
           "arm | br | blue | just | snowball",
           5841
          ],
          [
           3,
           "cable | strings | winder | cables | string",
           2644
          ],
          [
           4,
           "pedal | pedals | sustain | power | piano",
           1848
          ],
          [
           5,
           "bowl | singing | singing bowl | sound | beautiful",
           1452
          ],
          [
           6,
           "love | loves | love love | loved | son",
           1086
          ],
          [
           7,
           "picks | variety | pick | pack | good",
           1003
          ],
          [
           8,
           "bench | shoulder | comfortable | seat | rest",
           683
          ],
          [
           9,
           "does | job | does job | described | job does",
           613
          ],
          [
           10,
           "gift | loved | great gift | gift gift | loves",
           424
          ],
          [
           11,
           "advertised | advertised works | advertised works advertised | works advertised | advertised advertised",
           177
          ],
          [
           12,
           "amazon | br | product | cancer | br br",
           170
          ],
          [
           13,
           "expected | expected expected | expected works expected | works expected | expected works",
           170
          ],
          [
           14,
           "play | ernie | ernie ball | ball | great",
           164
          ],
          [
           15,
           "just needed | needed just | just needed just | needed | just",
           93
          ],
          [
           16,
           "pay | pay pay | pay pay pay | lip | underneath work",
           62
          ],
          [
           17,
           "bulbs | light | bulb | led | light bulbs",
           62
          ],
          [
           18,
           "craftsmanship | craftsmanship great | great craftsmanship | craftsmanship nice | good craftsmanship",
           27
          ]
         ],
         "hovertemplate": "<b>Topic %{customdata[0]}</b><br>%{customdata[1]}<br>Size: %{customdata[2]}",
         "legendgroup": "",
         "marker": {
          "color": "#B0BEC5",
          "line": {
           "color": "DarkSlateGrey",
           "width": 2
          },
          "size": {
           "bdata": "D1DsOtEWVAo4B6wFPgTrA6sCZQKoAbEAqgCqAKQAXQA+AD4AGwA=",
           "dtype": "i2"
          },
          "sizemode": "area",
          "sizeref": 12.809375,
          "symbol": "circle"
         },
         "mode": "markers",
         "name": "",
         "orientation": "v",
         "showlegend": false,
         "type": "scatter",
         "x": {
          "bdata": "PwQSQfDwq0Ds5w5BlXETQTLoB0FLn7JAqdKxQCqczEAJbwNB/NcXQce9uUCRQh5Bph8KQZEpHkGV6ahA4AK4QCm2E0FrMc1AV5/iQA==",
          "dtype": "f4"
         },
         "xaxis": "x",
         "y": {
          "bdata": "BanUvmwg7T/CU46/78x8vP4uy7/vKi1AJFGnP29hxz/M8Oi/inRBQEWTfT8H5E9ABwNqvxKcYkBjIhhAhGfrPz+2S0BxrhFAn6TnPw==",
          "dtype": "f4"
         },
         "yaxis": "y"
        }
       ],
       "layout": {
        "annotations": [
         {
          "showarrow": false,
          "text": "D1",
          "x": 4.486736297607422,
          "y": 0.9895331859588623,
          "yshift": 10
         },
         {
          "showarrow": false,
          "text": "D2",
          "x": 7.930837631225586,
          "xshift": 10,
          "y": 4.071892261505127
         }
        ],
        "height": 650,
        "hoverlabel": {
         "bgcolor": "white",
         "font": {
          "family": "Rockwell",
          "size": 16
         }
        },
        "legend": {
         "itemsizing": "constant",
         "tracegroupgap": 0
        },
        "margin": {
         "t": 60
        },
        "shapes": [
         {
          "line": {
           "color": "#CFD8DC",
           "width": 2
          },
          "type": "line",
          "x0": 7.930837631225586,
          "x1": 7.930837631225586,
          "y0": -2.0928258895874023,
          "y1": 4.071892261505127
         },
         {
          "line": {
           "color": "#9E9E9E",
           "width": 2
          },
          "type": "line",
          "x0": 4.486736297607422,
          "x1": 11.37493896484375,
          "y0": 0.9895331859588623,
          "y1": 0.9895331859588623
         }
        ],
        "sliders": [
         {
          "active": 0,
          "pad": {
           "t": 50
          },
          "steps": [
           {
            "args": [
             {
              "marker.color": [
               [
                "red",
                "#B0BEC5",
                "#B0BEC5",
                "#B0BEC5",
                "#B0BEC5",
                "#B0BEC5",
                "#B0BEC5",
                "#B0BEC5",
                "#B0BEC5",
                "#B0BEC5",
                "#B0BEC5",
                "#B0BEC5",
                "#B0BEC5",
                "#B0BEC5",
                "#B0BEC5",
                "#B0BEC5",
                "#B0BEC5",
                "#B0BEC5",
                "#B0BEC5"
               ]
              ]
             }
            ],
            "label": "Topic 0",
            "method": "update"
           },
           {
            "args": [
             {
              "marker.color": [
               [
                "#B0BEC5",
                "red",
                "#B0BEC5",
                "#B0BEC5",
                "#B0BEC5",
                "#B0BEC5",
                "#B0BEC5",
                "#B0BEC5",
                "#B0BEC5",
                "#B0BEC5",
                "#B0BEC5",
                "#B0BEC5",
                "#B0BEC5",
                "#B0BEC5",
                "#B0BEC5",
                "#B0BEC5",
                "#B0BEC5",
                "#B0BEC5",
                "#B0BEC5"
               ]
              ]
             }
            ],
            "label": "Topic 1",
            "method": "update"
           },
           {
            "args": [
             {
              "marker.color": [
               [
                "#B0BEC5",
                "#B0BEC5",
                "red",
                "#B0BEC5",
                "#B0BEC5",
                "#B0BEC5",
                "#B0BEC5",
                "#B0BEC5",
                "#B0BEC5",
                "#B0BEC5",
                "#B0BEC5",
                "#B0BEC5",
                "#B0BEC5",
                "#B0BEC5",
                "#B0BEC5",
                "#B0BEC5",
                "#B0BEC5",
                "#B0BEC5",
                "#B0BEC5"
               ]
              ]
             }
            ],
            "label": "Topic 2",
            "method": "update"
           },
           {
            "args": [
             {
              "marker.color": [
               [
                "#B0BEC5",
                "#B0BEC5",
                "#B0BEC5",
                "red",
                "#B0BEC5",
                "#B0BEC5",
                "#B0BEC5",
                "#B0BEC5",
                "#B0BEC5",
                "#B0BEC5",
                "#B0BEC5",
                "#B0BEC5",
                "#B0BEC5",
                "#B0BEC5",
                "#B0BEC5",
                "#B0BEC5",
                "#B0BEC5",
                "#B0BEC5",
                "#B0BEC5"
               ]
              ]
             }
            ],
            "label": "Topic 3",
            "method": "update"
           },
           {
            "args": [
             {
              "marker.color": [
               [
                "#B0BEC5",
                "#B0BEC5",
                "#B0BEC5",
                "#B0BEC5",
                "red",
                "#B0BEC5",
                "#B0BEC5",
                "#B0BEC5",
                "#B0BEC5",
                "#B0BEC5",
                "#B0BEC5",
                "#B0BEC5",
                "#B0BEC5",
                "#B0BEC5",
                "#B0BEC5",
                "#B0BEC5",
                "#B0BEC5",
                "#B0BEC5",
                "#B0BEC5"
               ]
              ]
             }
            ],
            "label": "Topic 4",
            "method": "update"
           },
           {
            "args": [
             {
              "marker.color": [
               [
                "#B0BEC5",
                "#B0BEC5",
                "#B0BEC5",
                "#B0BEC5",
                "#B0BEC5",
                "red",
                "#B0BEC5",
                "#B0BEC5",
                "#B0BEC5",
                "#B0BEC5",
                "#B0BEC5",
                "#B0BEC5",
                "#B0BEC5",
                "#B0BEC5",
                "#B0BEC5",
                "#B0BEC5",
                "#B0BEC5",
                "#B0BEC5",
                "#B0BEC5"
               ]
              ]
             }
            ],
            "label": "Topic 5",
            "method": "update"
           },
           {
            "args": [
             {
              "marker.color": [
               [
                "#B0BEC5",
                "#B0BEC5",
                "#B0BEC5",
                "#B0BEC5",
                "#B0BEC5",
                "#B0BEC5",
                "red",
                "#B0BEC5",
                "#B0BEC5",
                "#B0BEC5",
                "#B0BEC5",
                "#B0BEC5",
                "#B0BEC5",
                "#B0BEC5",
                "#B0BEC5",
                "#B0BEC5",
                "#B0BEC5",
                "#B0BEC5",
                "#B0BEC5"
               ]
              ]
             }
            ],
            "label": "Topic 6",
            "method": "update"
           },
           {
            "args": [
             {
              "marker.color": [
               [
                "#B0BEC5",
                "#B0BEC5",
                "#B0BEC5",
                "#B0BEC5",
                "#B0BEC5",
                "#B0BEC5",
                "#B0BEC5",
                "red",
                "#B0BEC5",
                "#B0BEC5",
                "#B0BEC5",
                "#B0BEC5",
                "#B0BEC5",
                "#B0BEC5",
                "#B0BEC5",
                "#B0BEC5",
                "#B0BEC5",
                "#B0BEC5",
                "#B0BEC5"
               ]
              ]
             }
            ],
            "label": "Topic 7",
            "method": "update"
           },
           {
            "args": [
             {
              "marker.color": [
               [
                "#B0BEC5",
                "#B0BEC5",
                "#B0BEC5",
                "#B0BEC5",
                "#B0BEC5",
                "#B0BEC5",
                "#B0BEC5",
                "#B0BEC5",
                "red",
                "#B0BEC5",
                "#B0BEC5",
                "#B0BEC5",
                "#B0BEC5",
                "#B0BEC5",
                "#B0BEC5",
                "#B0BEC5",
                "#B0BEC5",
                "#B0BEC5",
                "#B0BEC5"
               ]
              ]
             }
            ],
            "label": "Topic 8",
            "method": "update"
           },
           {
            "args": [
             {
              "marker.color": [
               [
                "#B0BEC5",
                "#B0BEC5",
                "#B0BEC5",
                "#B0BEC5",
                "#B0BEC5",
                "#B0BEC5",
                "#B0BEC5",
                "#B0BEC5",
                "#B0BEC5",
                "red",
                "#B0BEC5",
                "#B0BEC5",
                "#B0BEC5",
                "#B0BEC5",
                "#B0BEC5",
                "#B0BEC5",
                "#B0BEC5",
                "#B0BEC5",
                "#B0BEC5"
               ]
              ]
             }
            ],
            "label": "Topic 9",
            "method": "update"
           },
           {
            "args": [
             {
              "marker.color": [
               [
                "#B0BEC5",
                "#B0BEC5",
                "#B0BEC5",
                "#B0BEC5",
                "#B0BEC5",
                "#B0BEC5",
                "#B0BEC5",
                "#B0BEC5",
                "#B0BEC5",
                "#B0BEC5",
                "red",
                "#B0BEC5",
                "#B0BEC5",
                "#B0BEC5",
                "#B0BEC5",
                "#B0BEC5",
                "#B0BEC5",
                "#B0BEC5",
                "#B0BEC5"
               ]
              ]
             }
            ],
            "label": "Topic 10",
            "method": "update"
           },
           {
            "args": [
             {
              "marker.color": [
               [
                "#B0BEC5",
                "#B0BEC5",
                "#B0BEC5",
                "#B0BEC5",
                "#B0BEC5",
                "#B0BEC5",
                "#B0BEC5",
                "#B0BEC5",
                "#B0BEC5",
                "#B0BEC5",
                "#B0BEC5",
                "red",
                "#B0BEC5",
                "#B0BEC5",
                "#B0BEC5",
                "#B0BEC5",
                "#B0BEC5",
                "#B0BEC5",
                "#B0BEC5"
               ]
              ]
             }
            ],
            "label": "Topic 11",
            "method": "update"
           },
           {
            "args": [
             {
              "marker.color": [
               [
                "#B0BEC5",
                "#B0BEC5",
                "#B0BEC5",
                "#B0BEC5",
                "#B0BEC5",
                "#B0BEC5",
                "#B0BEC5",
                "#B0BEC5",
                "#B0BEC5",
                "#B0BEC5",
                "#B0BEC5",
                "#B0BEC5",
                "red",
                "#B0BEC5",
                "#B0BEC5",
                "#B0BEC5",
                "#B0BEC5",
                "#B0BEC5",
                "#B0BEC5"
               ]
              ]
             }
            ],
            "label": "Topic 12",
            "method": "update"
           },
           {
            "args": [
             {
              "marker.color": [
               [
                "#B0BEC5",
                "#B0BEC5",
                "#B0BEC5",
                "#B0BEC5",
                "#B0BEC5",
                "#B0BEC5",
                "#B0BEC5",
                "#B0BEC5",
                "#B0BEC5",
                "#B0BEC5",
                "#B0BEC5",
                "#B0BEC5",
                "#B0BEC5",
                "red",
                "#B0BEC5",
                "#B0BEC5",
                "#B0BEC5",
                "#B0BEC5",
                "#B0BEC5"
               ]
              ]
             }
            ],
            "label": "Topic 13",
            "method": "update"
           },
           {
            "args": [
             {
              "marker.color": [
               [
                "#B0BEC5",
                "#B0BEC5",
                "#B0BEC5",
                "#B0BEC5",
                "#B0BEC5",
                "#B0BEC5",
                "#B0BEC5",
                "#B0BEC5",
                "#B0BEC5",
                "#B0BEC5",
                "#B0BEC5",
                "#B0BEC5",
                "#B0BEC5",
                "#B0BEC5",
                "red",
                "#B0BEC5",
                "#B0BEC5",
                "#B0BEC5",
                "#B0BEC5"
               ]
              ]
             }
            ],
            "label": "Topic 14",
            "method": "update"
           },
           {
            "args": [
             {
              "marker.color": [
               [
                "#B0BEC5",
                "#B0BEC5",
                "#B0BEC5",
                "#B0BEC5",
                "#B0BEC5",
                "#B0BEC5",
                "#B0BEC5",
                "#B0BEC5",
                "#B0BEC5",
                "#B0BEC5",
                "#B0BEC5",
                "#B0BEC5",
                "#B0BEC5",
                "#B0BEC5",
                "#B0BEC5",
                "red",
                "#B0BEC5",
                "#B0BEC5",
                "#B0BEC5"
               ]
              ]
             }
            ],
            "label": "Topic 15",
            "method": "update"
           },
           {
            "args": [
             {
              "marker.color": [
               [
                "#B0BEC5",
                "#B0BEC5",
                "#B0BEC5",
                "#B0BEC5",
                "#B0BEC5",
                "#B0BEC5",
                "#B0BEC5",
                "#B0BEC5",
                "#B0BEC5",
                "#B0BEC5",
                "#B0BEC5",
                "#B0BEC5",
                "#B0BEC5",
                "#B0BEC5",
                "#B0BEC5",
                "#B0BEC5",
                "red",
                "#B0BEC5",
                "#B0BEC5"
               ]
              ]
             }
            ],
            "label": "Topic 16",
            "method": "update"
           },
           {
            "args": [
             {
              "marker.color": [
               [
                "#B0BEC5",
                "#B0BEC5",
                "#B0BEC5",
                "#B0BEC5",
                "#B0BEC5",
                "#B0BEC5",
                "#B0BEC5",
                "#B0BEC5",
                "#B0BEC5",
                "#B0BEC5",
                "#B0BEC5",
                "#B0BEC5",
                "#B0BEC5",
                "#B0BEC5",
                "#B0BEC5",
                "#B0BEC5",
                "#B0BEC5",
                "red",
                "#B0BEC5"
               ]
              ]
             }
            ],
            "label": "Topic 17",
            "method": "update"
           },
           {
            "args": [
             {
              "marker.color": [
               [
                "#B0BEC5",
                "#B0BEC5",
                "#B0BEC5",
                "#B0BEC5",
                "#B0BEC5",
                "#B0BEC5",
                "#B0BEC5",
                "#B0BEC5",
                "#B0BEC5",
                "#B0BEC5",
                "#B0BEC5",
                "#B0BEC5",
                "#B0BEC5",
                "#B0BEC5",
                "#B0BEC5",
                "#B0BEC5",
                "#B0BEC5",
                "#B0BEC5",
                "red"
               ]
              ]
             }
            ],
            "label": "Topic 18",
            "method": "update"
           }
          ]
         }
        ],
        "template": {
         "data": {
          "bar": [
           {
            "error_x": {
             "color": "rgb(36,36,36)"
            },
            "error_y": {
             "color": "rgb(36,36,36)"
            },
            "marker": {
             "line": {
              "color": "white",
              "width": 0.5
             },
             "pattern": {
              "fillmode": "overlay",
              "size": 10,
              "solidity": 0.2
             }
            },
            "type": "bar"
           }
          ],
          "barpolar": [
           {
            "marker": {
             "line": {
              "color": "white",
              "width": 0.5
             },
             "pattern": {
              "fillmode": "overlay",
              "size": 10,
              "solidity": 0.2
             }
            },
            "type": "barpolar"
           }
          ],
          "carpet": [
           {
            "aaxis": {
             "endlinecolor": "rgb(36,36,36)",
             "gridcolor": "white",
             "linecolor": "white",
             "minorgridcolor": "white",
             "startlinecolor": "rgb(36,36,36)"
            },
            "baxis": {
             "endlinecolor": "rgb(36,36,36)",
             "gridcolor": "white",
             "linecolor": "white",
             "minorgridcolor": "white",
             "startlinecolor": "rgb(36,36,36)"
            },
            "type": "carpet"
           }
          ],
          "choropleth": [
           {
            "colorbar": {
             "outlinewidth": 1,
             "tickcolor": "rgb(36,36,36)",
             "ticks": "outside"
            },
            "type": "choropleth"
           }
          ],
          "contour": [
           {
            "colorbar": {
             "outlinewidth": 1,
             "tickcolor": "rgb(36,36,36)",
             "ticks": "outside"
            },
            "colorscale": [
             [
              0,
              "#440154"
             ],
             [
              0.1111111111111111,
              "#482878"
             ],
             [
              0.2222222222222222,
              "#3e4989"
             ],
             [
              0.3333333333333333,
              "#31688e"
             ],
             [
              0.4444444444444444,
              "#26828e"
             ],
             [
              0.5555555555555556,
              "#1f9e89"
             ],
             [
              0.6666666666666666,
              "#35b779"
             ],
             [
              0.7777777777777778,
              "#6ece58"
             ],
             [
              0.8888888888888888,
              "#b5de2b"
             ],
             [
              1,
              "#fde725"
             ]
            ],
            "type": "contour"
           }
          ],
          "contourcarpet": [
           {
            "colorbar": {
             "outlinewidth": 1,
             "tickcolor": "rgb(36,36,36)",
             "ticks": "outside"
            },
            "type": "contourcarpet"
           }
          ],
          "heatmap": [
           {
            "colorbar": {
             "outlinewidth": 1,
             "tickcolor": "rgb(36,36,36)",
             "ticks": "outside"
            },
            "colorscale": [
             [
              0,
              "#440154"
             ],
             [
              0.1111111111111111,
              "#482878"
             ],
             [
              0.2222222222222222,
              "#3e4989"
             ],
             [
              0.3333333333333333,
              "#31688e"
             ],
             [
              0.4444444444444444,
              "#26828e"
             ],
             [
              0.5555555555555556,
              "#1f9e89"
             ],
             [
              0.6666666666666666,
              "#35b779"
             ],
             [
              0.7777777777777778,
              "#6ece58"
             ],
             [
              0.8888888888888888,
              "#b5de2b"
             ],
             [
              1,
              "#fde725"
             ]
            ],
            "type": "heatmap"
           }
          ],
          "histogram": [
           {
            "marker": {
             "line": {
              "color": "white",
              "width": 0.6
             }
            },
            "type": "histogram"
           }
          ],
          "histogram2d": [
           {
            "colorbar": {
             "outlinewidth": 1,
             "tickcolor": "rgb(36,36,36)",
             "ticks": "outside"
            },
            "colorscale": [
             [
              0,
              "#440154"
             ],
             [
              0.1111111111111111,
              "#482878"
             ],
             [
              0.2222222222222222,
              "#3e4989"
             ],
             [
              0.3333333333333333,
              "#31688e"
             ],
             [
              0.4444444444444444,
              "#26828e"
             ],
             [
              0.5555555555555556,
              "#1f9e89"
             ],
             [
              0.6666666666666666,
              "#35b779"
             ],
             [
              0.7777777777777778,
              "#6ece58"
             ],
             [
              0.8888888888888888,
              "#b5de2b"
             ],
             [
              1,
              "#fde725"
             ]
            ],
            "type": "histogram2d"
           }
          ],
          "histogram2dcontour": [
           {
            "colorbar": {
             "outlinewidth": 1,
             "tickcolor": "rgb(36,36,36)",
             "ticks": "outside"
            },
            "colorscale": [
             [
              0,
              "#440154"
             ],
             [
              0.1111111111111111,
              "#482878"
             ],
             [
              0.2222222222222222,
              "#3e4989"
             ],
             [
              0.3333333333333333,
              "#31688e"
             ],
             [
              0.4444444444444444,
              "#26828e"
             ],
             [
              0.5555555555555556,
              "#1f9e89"
             ],
             [
              0.6666666666666666,
              "#35b779"
             ],
             [
              0.7777777777777778,
              "#6ece58"
             ],
             [
              0.8888888888888888,
              "#b5de2b"
             ],
             [
              1,
              "#fde725"
             ]
            ],
            "type": "histogram2dcontour"
           }
          ],
          "mesh3d": [
           {
            "colorbar": {
             "outlinewidth": 1,
             "tickcolor": "rgb(36,36,36)",
             "ticks": "outside"
            },
            "type": "mesh3d"
           }
          ],
          "parcoords": [
           {
            "line": {
             "colorbar": {
              "outlinewidth": 1,
              "tickcolor": "rgb(36,36,36)",
              "ticks": "outside"
             }
            },
            "type": "parcoords"
           }
          ],
          "pie": [
           {
            "automargin": true,
            "type": "pie"
           }
          ],
          "scatter": [
           {
            "fillpattern": {
             "fillmode": "overlay",
             "size": 10,
             "solidity": 0.2
            },
            "type": "scatter"
           }
          ],
          "scatter3d": [
           {
            "line": {
             "colorbar": {
              "outlinewidth": 1,
              "tickcolor": "rgb(36,36,36)",
              "ticks": "outside"
             }
            },
            "marker": {
             "colorbar": {
              "outlinewidth": 1,
              "tickcolor": "rgb(36,36,36)",
              "ticks": "outside"
             }
            },
            "type": "scatter3d"
           }
          ],
          "scattercarpet": [
           {
            "marker": {
             "colorbar": {
              "outlinewidth": 1,
              "tickcolor": "rgb(36,36,36)",
              "ticks": "outside"
             }
            },
            "type": "scattercarpet"
           }
          ],
          "scattergeo": [
           {
            "marker": {
             "colorbar": {
              "outlinewidth": 1,
              "tickcolor": "rgb(36,36,36)",
              "ticks": "outside"
             }
            },
            "type": "scattergeo"
           }
          ],
          "scattergl": [
           {
            "marker": {
             "colorbar": {
              "outlinewidth": 1,
              "tickcolor": "rgb(36,36,36)",
              "ticks": "outside"
             }
            },
            "type": "scattergl"
           }
          ],
          "scattermap": [
           {
            "marker": {
             "colorbar": {
              "outlinewidth": 1,
              "tickcolor": "rgb(36,36,36)",
              "ticks": "outside"
             }
            },
            "type": "scattermap"
           }
          ],
          "scattermapbox": [
           {
            "marker": {
             "colorbar": {
              "outlinewidth": 1,
              "tickcolor": "rgb(36,36,36)",
              "ticks": "outside"
             }
            },
            "type": "scattermapbox"
           }
          ],
          "scatterpolar": [
           {
            "marker": {
             "colorbar": {
              "outlinewidth": 1,
              "tickcolor": "rgb(36,36,36)",
              "ticks": "outside"
             }
            },
            "type": "scatterpolar"
           }
          ],
          "scatterpolargl": [
           {
            "marker": {
             "colorbar": {
              "outlinewidth": 1,
              "tickcolor": "rgb(36,36,36)",
              "ticks": "outside"
             }
            },
            "type": "scatterpolargl"
           }
          ],
          "scatterternary": [
           {
            "marker": {
             "colorbar": {
              "outlinewidth": 1,
              "tickcolor": "rgb(36,36,36)",
              "ticks": "outside"
             }
            },
            "type": "scatterternary"
           }
          ],
          "surface": [
           {
            "colorbar": {
             "outlinewidth": 1,
             "tickcolor": "rgb(36,36,36)",
             "ticks": "outside"
            },
            "colorscale": [
             [
              0,
              "#440154"
             ],
             [
              0.1111111111111111,
              "#482878"
             ],
             [
              0.2222222222222222,
              "#3e4989"
             ],
             [
              0.3333333333333333,
              "#31688e"
             ],
             [
              0.4444444444444444,
              "#26828e"
             ],
             [
              0.5555555555555556,
              "#1f9e89"
             ],
             [
              0.6666666666666666,
              "#35b779"
             ],
             [
              0.7777777777777778,
              "#6ece58"
             ],
             [
              0.8888888888888888,
              "#b5de2b"
             ],
             [
              1,
              "#fde725"
             ]
            ],
            "type": "surface"
           }
          ],
          "table": [
           {
            "cells": {
             "fill": {
              "color": "rgb(237,237,237)"
             },
             "line": {
              "color": "white"
             }
            },
            "header": {
             "fill": {
              "color": "rgb(217,217,217)"
             },
             "line": {
              "color": "white"
             }
            },
            "type": "table"
           }
          ]
         },
         "layout": {
          "annotationdefaults": {
           "arrowhead": 0,
           "arrowwidth": 1
          },
          "autotypenumbers": "strict",
          "coloraxis": {
           "colorbar": {
            "outlinewidth": 1,
            "tickcolor": "rgb(36,36,36)",
            "ticks": "outside"
           }
          },
          "colorscale": {
           "diverging": [
            [
             0,
             "rgb(103,0,31)"
            ],
            [
             0.1,
             "rgb(178,24,43)"
            ],
            [
             0.2,
             "rgb(214,96,77)"
            ],
            [
             0.3,
             "rgb(244,165,130)"
            ],
            [
             0.4,
             "rgb(253,219,199)"
            ],
            [
             0.5,
             "rgb(247,247,247)"
            ],
            [
             0.6,
             "rgb(209,229,240)"
            ],
            [
             0.7,
             "rgb(146,197,222)"
            ],
            [
             0.8,
             "rgb(67,147,195)"
            ],
            [
             0.9,
             "rgb(33,102,172)"
            ],
            [
             1,
             "rgb(5,48,97)"
            ]
           ],
           "sequential": [
            [
             0,
             "#440154"
            ],
            [
             0.1111111111111111,
             "#482878"
            ],
            [
             0.2222222222222222,
             "#3e4989"
            ],
            [
             0.3333333333333333,
             "#31688e"
            ],
            [
             0.4444444444444444,
             "#26828e"
            ],
            [
             0.5555555555555556,
             "#1f9e89"
            ],
            [
             0.6666666666666666,
             "#35b779"
            ],
            [
             0.7777777777777778,
             "#6ece58"
            ],
            [
             0.8888888888888888,
             "#b5de2b"
            ],
            [
             1,
             "#fde725"
            ]
           ],
           "sequentialminus": [
            [
             0,
             "#440154"
            ],
            [
             0.1111111111111111,
             "#482878"
            ],
            [
             0.2222222222222222,
             "#3e4989"
            ],
            [
             0.3333333333333333,
             "#31688e"
            ],
            [
             0.4444444444444444,
             "#26828e"
            ],
            [
             0.5555555555555556,
             "#1f9e89"
            ],
            [
             0.6666666666666666,
             "#35b779"
            ],
            [
             0.7777777777777778,
             "#6ece58"
            ],
            [
             0.8888888888888888,
             "#b5de2b"
            ],
            [
             1,
             "#fde725"
            ]
           ]
          },
          "colorway": [
           "#1F77B4",
           "#FF7F0E",
           "#2CA02C",
           "#D62728",
           "#9467BD",
           "#8C564B",
           "#E377C2",
           "#7F7F7F",
           "#BCBD22",
           "#17BECF"
          ],
          "font": {
           "color": "rgb(36,36,36)"
          },
          "geo": {
           "bgcolor": "white",
           "lakecolor": "white",
           "landcolor": "white",
           "showlakes": true,
           "showland": true,
           "subunitcolor": "white"
          },
          "hoverlabel": {
           "align": "left"
          },
          "hovermode": "closest",
          "mapbox": {
           "style": "light"
          },
          "paper_bgcolor": "white",
          "plot_bgcolor": "white",
          "polar": {
           "angularaxis": {
            "gridcolor": "rgb(232,232,232)",
            "linecolor": "rgb(36,36,36)",
            "showgrid": false,
            "showline": true,
            "ticks": "outside"
           },
           "bgcolor": "white",
           "radialaxis": {
            "gridcolor": "rgb(232,232,232)",
            "linecolor": "rgb(36,36,36)",
            "showgrid": false,
            "showline": true,
            "ticks": "outside"
           }
          },
          "scene": {
           "xaxis": {
            "backgroundcolor": "white",
            "gridcolor": "rgb(232,232,232)",
            "gridwidth": 2,
            "linecolor": "rgb(36,36,36)",
            "showbackground": true,
            "showgrid": false,
            "showline": true,
            "ticks": "outside",
            "zeroline": false,
            "zerolinecolor": "rgb(36,36,36)"
           },
           "yaxis": {
            "backgroundcolor": "white",
            "gridcolor": "rgb(232,232,232)",
            "gridwidth": 2,
            "linecolor": "rgb(36,36,36)",
            "showbackground": true,
            "showgrid": false,
            "showline": true,
            "ticks": "outside",
            "zeroline": false,
            "zerolinecolor": "rgb(36,36,36)"
           },
           "zaxis": {
            "backgroundcolor": "white",
            "gridcolor": "rgb(232,232,232)",
            "gridwidth": 2,
            "linecolor": "rgb(36,36,36)",
            "showbackground": true,
            "showgrid": false,
            "showline": true,
            "ticks": "outside",
            "zeroline": false,
            "zerolinecolor": "rgb(36,36,36)"
           }
          },
          "shapedefaults": {
           "fillcolor": "black",
           "line": {
            "width": 0
           },
           "opacity": 0.3
          },
          "ternary": {
           "aaxis": {
            "gridcolor": "rgb(232,232,232)",
            "linecolor": "rgb(36,36,36)",
            "showgrid": false,
            "showline": true,
            "ticks": "outside"
           },
           "baxis": {
            "gridcolor": "rgb(232,232,232)",
            "linecolor": "rgb(36,36,36)",
            "showgrid": false,
            "showline": true,
            "ticks": "outside"
           },
           "bgcolor": "white",
           "caxis": {
            "gridcolor": "rgb(232,232,232)",
            "linecolor": "rgb(36,36,36)",
            "showgrid": false,
            "showline": true,
            "ticks": "outside"
           }
          },
          "title": {
           "x": 0.05
          },
          "xaxis": {
           "automargin": true,
           "gridcolor": "rgb(232,232,232)",
           "linecolor": "rgb(36,36,36)",
           "showgrid": false,
           "showline": true,
           "ticks": "outside",
           "title": {
            "standoff": 15
           },
           "zeroline": false,
           "zerolinecolor": "rgb(36,36,36)"
          },
          "yaxis": {
           "automargin": true,
           "gridcolor": "rgb(232,232,232)",
           "linecolor": "rgb(36,36,36)",
           "showgrid": false,
           "showline": true,
           "ticks": "outside",
           "title": {
            "standoff": 15
           },
           "zeroline": false,
           "zerolinecolor": "rgb(36,36,36)"
          }
         }
        },
        "title": {
         "font": {
          "color": "Black",
          "size": 22
         },
         "text": "<b>Intertopic Distance Map</b>",
         "x": 0.5,
         "xanchor": "center",
         "y": 0.95,
         "yanchor": "top"
        },
        "width": 650,
        "xaxis": {
         "anchor": "y",
         "domain": [
          0,
          1
         ],
         "range": [
          4.486736297607422,
          11.37493896484375
         ],
         "title": {
          "text": ""
         },
         "visible": false
        },
        "yaxis": {
         "anchor": "x",
         "domain": [
          0,
          1
         ],
         "range": [
          -2.0928258895874023,
          4.071892261505127
         ],
         "title": {
          "text": ""
         },
         "visible": false
        }
       }
      },
      "text/html": [
       "<div>                        <script type=\"text/javascript\">window.PlotlyConfig = {MathJaxConfig: 'local'};</script>\n",
       "        <script charset=\"utf-8\" src=\"https://cdn.plot.ly/plotly-3.0.1.min.js\"></script>                <div id=\"ae3104cd-5eda-463f-b04c-5e1eb20cb540\" class=\"plotly-graph-div\" style=\"height:650px; width:650px;\"></div>            <script type=\"text/javascript\">                window.PLOTLYENV=window.PLOTLYENV || {};                                if (document.getElementById(\"ae3104cd-5eda-463f-b04c-5e1eb20cb540\")) {                    Plotly.newPlot(                        \"ae3104cd-5eda-463f-b04c-5e1eb20cb540\",                        [{\"customdata\":[[0,\"guitar | br | mic | great | stand\",20495],[1,\"great | good | works | product | price\",15084],[2,\"arm | br | blue | just | snowball\",5841],[3,\"cable | strings | winder | cables | string\",2644],[4,\"pedal | pedals | sustain | power | piano\",1848],[5,\"bowl | singing | singing bowl | sound | beautiful\",1452],[6,\"love | loves | love love | loved | son\",1086],[7,\"picks | variety | pick | pack | good\",1003],[8,\"bench | shoulder | comfortable | seat | rest\",683],[9,\"does | job | does job | described | job does\",613],[10,\"gift | loved | great gift | gift gift | loves\",424],[11,\"advertised | advertised works | advertised works advertised | works advertised | advertised advertised\",177],[12,\"amazon | br | product | cancer | br br\",170],[13,\"expected | expected expected | expected works expected | works expected | expected works\",170],[14,\"play | ernie | ernie ball | ball | great\",164],[15,\"just needed | needed just | just needed just | needed | just\",93],[16,\"pay | pay pay | pay pay pay | lip | underneath work\",62],[17,\"bulbs | light | bulb | led | light bulbs\",62],[18,\"craftsmanship | craftsmanship great | great craftsmanship | craftsmanship nice | good craftsmanship\",27]],\"hovertemplate\":\"\\u003cb\\u003eTopic %{customdata[0]}\\u003c\\u002fb\\u003e\\u003cbr\\u003e%{customdata[1]}\\u003cbr\\u003eSize: %{customdata[2]}\",\"legendgroup\":\"\",\"marker\":{\"color\":\"#B0BEC5\",\"size\":{\"dtype\":\"i2\",\"bdata\":\"D1DsOtEWVAo4B6wFPgTrA6sCZQKoAbEAqgCqAKQAXQA+AD4AGwA=\"},\"sizemode\":\"area\",\"sizeref\":12.809375,\"symbol\":\"circle\",\"line\":{\"color\":\"DarkSlateGrey\",\"width\":2}},\"mode\":\"markers\",\"name\":\"\",\"orientation\":\"v\",\"showlegend\":false,\"x\":{\"dtype\":\"f4\",\"bdata\":\"PwQSQfDwq0Ds5w5BlXETQTLoB0FLn7JAqdKxQCqczEAJbwNB\\u002fNcXQce9uUCRQh5Bph8KQZEpHkGV6ahA4AK4QCm2E0FrMc1AV5\\u002fiQA==\"},\"xaxis\":\"x\",\"y\":{\"dtype\":\"f4\",\"bdata\":\"BanUvmwg7T\\u002fCU46\\u002f78x8vP4uy7\\u002fvKi1AJFGnP29hxz\\u002fM8Oi\\u002finRBQEWTfT8H5E9ABwNqvxKcYkBjIhhAhGfrPz+2S0BxrhFAn6TnPw==\"},\"yaxis\":\"y\",\"type\":\"scatter\"}],                        {\"template\":{\"data\":{\"barpolar\":[{\"marker\":{\"line\":{\"color\":\"white\",\"width\":0.5},\"pattern\":{\"fillmode\":\"overlay\",\"size\":10,\"solidity\":0.2}},\"type\":\"barpolar\"}],\"bar\":[{\"error_x\":{\"color\":\"rgb(36,36,36)\"},\"error_y\":{\"color\":\"rgb(36,36,36)\"},\"marker\":{\"line\":{\"color\":\"white\",\"width\":0.5},\"pattern\":{\"fillmode\":\"overlay\",\"size\":10,\"solidity\":0.2}},\"type\":\"bar\"}],\"carpet\":[{\"aaxis\":{\"endlinecolor\":\"rgb(36,36,36)\",\"gridcolor\":\"white\",\"linecolor\":\"white\",\"minorgridcolor\":\"white\",\"startlinecolor\":\"rgb(36,36,36)\"},\"baxis\":{\"endlinecolor\":\"rgb(36,36,36)\",\"gridcolor\":\"white\",\"linecolor\":\"white\",\"minorgridcolor\":\"white\",\"startlinecolor\":\"rgb(36,36,36)\"},\"type\":\"carpet\"}],\"choropleth\":[{\"colorbar\":{\"outlinewidth\":1,\"tickcolor\":\"rgb(36,36,36)\",\"ticks\":\"outside\"},\"type\":\"choropleth\"}],\"contourcarpet\":[{\"colorbar\":{\"outlinewidth\":1,\"tickcolor\":\"rgb(36,36,36)\",\"ticks\":\"outside\"},\"type\":\"contourcarpet\"}],\"contour\":[{\"colorbar\":{\"outlinewidth\":1,\"tickcolor\":\"rgb(36,36,36)\",\"ticks\":\"outside\"},\"colorscale\":[[0.0,\"#440154\"],[0.1111111111111111,\"#482878\"],[0.2222222222222222,\"#3e4989\"],[0.3333333333333333,\"#31688e\"],[0.4444444444444444,\"#26828e\"],[0.5555555555555556,\"#1f9e89\"],[0.6666666666666666,\"#35b779\"],[0.7777777777777778,\"#6ece58\"],[0.8888888888888888,\"#b5de2b\"],[1.0,\"#fde725\"]],\"type\":\"contour\"}],\"heatmap\":[{\"colorbar\":{\"outlinewidth\":1,\"tickcolor\":\"rgb(36,36,36)\",\"ticks\":\"outside\"},\"colorscale\":[[0.0,\"#440154\"],[0.1111111111111111,\"#482878\"],[0.2222222222222222,\"#3e4989\"],[0.3333333333333333,\"#31688e\"],[0.4444444444444444,\"#26828e\"],[0.5555555555555556,\"#1f9e89\"],[0.6666666666666666,\"#35b779\"],[0.7777777777777778,\"#6ece58\"],[0.8888888888888888,\"#b5de2b\"],[1.0,\"#fde725\"]],\"type\":\"heatmap\"}],\"histogram2dcontour\":[{\"colorbar\":{\"outlinewidth\":1,\"tickcolor\":\"rgb(36,36,36)\",\"ticks\":\"outside\"},\"colorscale\":[[0.0,\"#440154\"],[0.1111111111111111,\"#482878\"],[0.2222222222222222,\"#3e4989\"],[0.3333333333333333,\"#31688e\"],[0.4444444444444444,\"#26828e\"],[0.5555555555555556,\"#1f9e89\"],[0.6666666666666666,\"#35b779\"],[0.7777777777777778,\"#6ece58\"],[0.8888888888888888,\"#b5de2b\"],[1.0,\"#fde725\"]],\"type\":\"histogram2dcontour\"}],\"histogram2d\":[{\"colorbar\":{\"outlinewidth\":1,\"tickcolor\":\"rgb(36,36,36)\",\"ticks\":\"outside\"},\"colorscale\":[[0.0,\"#440154\"],[0.1111111111111111,\"#482878\"],[0.2222222222222222,\"#3e4989\"],[0.3333333333333333,\"#31688e\"],[0.4444444444444444,\"#26828e\"],[0.5555555555555556,\"#1f9e89\"],[0.6666666666666666,\"#35b779\"],[0.7777777777777778,\"#6ece58\"],[0.8888888888888888,\"#b5de2b\"],[1.0,\"#fde725\"]],\"type\":\"histogram2d\"}],\"histogram\":[{\"marker\":{\"line\":{\"color\":\"white\",\"width\":0.6}},\"type\":\"histogram\"}],\"mesh3d\":[{\"colorbar\":{\"outlinewidth\":1,\"tickcolor\":\"rgb(36,36,36)\",\"ticks\":\"outside\"},\"type\":\"mesh3d\"}],\"parcoords\":[{\"line\":{\"colorbar\":{\"outlinewidth\":1,\"tickcolor\":\"rgb(36,36,36)\",\"ticks\":\"outside\"}},\"type\":\"parcoords\"}],\"pie\":[{\"automargin\":true,\"type\":\"pie\"}],\"scatter3d\":[{\"line\":{\"colorbar\":{\"outlinewidth\":1,\"tickcolor\":\"rgb(36,36,36)\",\"ticks\":\"outside\"}},\"marker\":{\"colorbar\":{\"outlinewidth\":1,\"tickcolor\":\"rgb(36,36,36)\",\"ticks\":\"outside\"}},\"type\":\"scatter3d\"}],\"scattercarpet\":[{\"marker\":{\"colorbar\":{\"outlinewidth\":1,\"tickcolor\":\"rgb(36,36,36)\",\"ticks\":\"outside\"}},\"type\":\"scattercarpet\"}],\"scattergeo\":[{\"marker\":{\"colorbar\":{\"outlinewidth\":1,\"tickcolor\":\"rgb(36,36,36)\",\"ticks\":\"outside\"}},\"type\":\"scattergeo\"}],\"scattergl\":[{\"marker\":{\"colorbar\":{\"outlinewidth\":1,\"tickcolor\":\"rgb(36,36,36)\",\"ticks\":\"outside\"}},\"type\":\"scattergl\"}],\"scattermapbox\":[{\"marker\":{\"colorbar\":{\"outlinewidth\":1,\"tickcolor\":\"rgb(36,36,36)\",\"ticks\":\"outside\"}},\"type\":\"scattermapbox\"}],\"scattermap\":[{\"marker\":{\"colorbar\":{\"outlinewidth\":1,\"tickcolor\":\"rgb(36,36,36)\",\"ticks\":\"outside\"}},\"type\":\"scattermap\"}],\"scatterpolargl\":[{\"marker\":{\"colorbar\":{\"outlinewidth\":1,\"tickcolor\":\"rgb(36,36,36)\",\"ticks\":\"outside\"}},\"type\":\"scatterpolargl\"}],\"scatterpolar\":[{\"marker\":{\"colorbar\":{\"outlinewidth\":1,\"tickcolor\":\"rgb(36,36,36)\",\"ticks\":\"outside\"}},\"type\":\"scatterpolar\"}],\"scatter\":[{\"fillpattern\":{\"fillmode\":\"overlay\",\"size\":10,\"solidity\":0.2},\"type\":\"scatter\"}],\"scatterternary\":[{\"marker\":{\"colorbar\":{\"outlinewidth\":1,\"tickcolor\":\"rgb(36,36,36)\",\"ticks\":\"outside\"}},\"type\":\"scatterternary\"}],\"surface\":[{\"colorbar\":{\"outlinewidth\":1,\"tickcolor\":\"rgb(36,36,36)\",\"ticks\":\"outside\"},\"colorscale\":[[0.0,\"#440154\"],[0.1111111111111111,\"#482878\"],[0.2222222222222222,\"#3e4989\"],[0.3333333333333333,\"#31688e\"],[0.4444444444444444,\"#26828e\"],[0.5555555555555556,\"#1f9e89\"],[0.6666666666666666,\"#35b779\"],[0.7777777777777778,\"#6ece58\"],[0.8888888888888888,\"#b5de2b\"],[1.0,\"#fde725\"]],\"type\":\"surface\"}],\"table\":[{\"cells\":{\"fill\":{\"color\":\"rgb(237,237,237)\"},\"line\":{\"color\":\"white\"}},\"header\":{\"fill\":{\"color\":\"rgb(217,217,217)\"},\"line\":{\"color\":\"white\"}},\"type\":\"table\"}]},\"layout\":{\"annotationdefaults\":{\"arrowhead\":0,\"arrowwidth\":1},\"autotypenumbers\":\"strict\",\"coloraxis\":{\"colorbar\":{\"outlinewidth\":1,\"tickcolor\":\"rgb(36,36,36)\",\"ticks\":\"outside\"}},\"colorscale\":{\"diverging\":[[0.0,\"rgb(103,0,31)\"],[0.1,\"rgb(178,24,43)\"],[0.2,\"rgb(214,96,77)\"],[0.3,\"rgb(244,165,130)\"],[0.4,\"rgb(253,219,199)\"],[0.5,\"rgb(247,247,247)\"],[0.6,\"rgb(209,229,240)\"],[0.7,\"rgb(146,197,222)\"],[0.8,\"rgb(67,147,195)\"],[0.9,\"rgb(33,102,172)\"],[1.0,\"rgb(5,48,97)\"]],\"sequential\":[[0.0,\"#440154\"],[0.1111111111111111,\"#482878\"],[0.2222222222222222,\"#3e4989\"],[0.3333333333333333,\"#31688e\"],[0.4444444444444444,\"#26828e\"],[0.5555555555555556,\"#1f9e89\"],[0.6666666666666666,\"#35b779\"],[0.7777777777777778,\"#6ece58\"],[0.8888888888888888,\"#b5de2b\"],[1.0,\"#fde725\"]],\"sequentialminus\":[[0.0,\"#440154\"],[0.1111111111111111,\"#482878\"],[0.2222222222222222,\"#3e4989\"],[0.3333333333333333,\"#31688e\"],[0.4444444444444444,\"#26828e\"],[0.5555555555555556,\"#1f9e89\"],[0.6666666666666666,\"#35b779\"],[0.7777777777777778,\"#6ece58\"],[0.8888888888888888,\"#b5de2b\"],[1.0,\"#fde725\"]]},\"colorway\":[\"#1F77B4\",\"#FF7F0E\",\"#2CA02C\",\"#D62728\",\"#9467BD\",\"#8C564B\",\"#E377C2\",\"#7F7F7F\",\"#BCBD22\",\"#17BECF\"],\"font\":{\"color\":\"rgb(36,36,36)\"},\"geo\":{\"bgcolor\":\"white\",\"lakecolor\":\"white\",\"landcolor\":\"white\",\"showlakes\":true,\"showland\":true,\"subunitcolor\":\"white\"},\"hoverlabel\":{\"align\":\"left\"},\"hovermode\":\"closest\",\"mapbox\":{\"style\":\"light\"},\"paper_bgcolor\":\"white\",\"plot_bgcolor\":\"white\",\"polar\":{\"angularaxis\":{\"gridcolor\":\"rgb(232,232,232)\",\"linecolor\":\"rgb(36,36,36)\",\"showgrid\":false,\"showline\":true,\"ticks\":\"outside\"},\"bgcolor\":\"white\",\"radialaxis\":{\"gridcolor\":\"rgb(232,232,232)\",\"linecolor\":\"rgb(36,36,36)\",\"showgrid\":false,\"showline\":true,\"ticks\":\"outside\"}},\"scene\":{\"xaxis\":{\"backgroundcolor\":\"white\",\"gridcolor\":\"rgb(232,232,232)\",\"gridwidth\":2,\"linecolor\":\"rgb(36,36,36)\",\"showbackground\":true,\"showgrid\":false,\"showline\":true,\"ticks\":\"outside\",\"zeroline\":false,\"zerolinecolor\":\"rgb(36,36,36)\"},\"yaxis\":{\"backgroundcolor\":\"white\",\"gridcolor\":\"rgb(232,232,232)\",\"gridwidth\":2,\"linecolor\":\"rgb(36,36,36)\",\"showbackground\":true,\"showgrid\":false,\"showline\":true,\"ticks\":\"outside\",\"zeroline\":false,\"zerolinecolor\":\"rgb(36,36,36)\"},\"zaxis\":{\"backgroundcolor\":\"white\",\"gridcolor\":\"rgb(232,232,232)\",\"gridwidth\":2,\"linecolor\":\"rgb(36,36,36)\",\"showbackground\":true,\"showgrid\":false,\"showline\":true,\"ticks\":\"outside\",\"zeroline\":false,\"zerolinecolor\":\"rgb(36,36,36)\"}},\"shapedefaults\":{\"fillcolor\":\"black\",\"line\":{\"width\":0},\"opacity\":0.3},\"ternary\":{\"aaxis\":{\"gridcolor\":\"rgb(232,232,232)\",\"linecolor\":\"rgb(36,36,36)\",\"showgrid\":false,\"showline\":true,\"ticks\":\"outside\"},\"baxis\":{\"gridcolor\":\"rgb(232,232,232)\",\"linecolor\":\"rgb(36,36,36)\",\"showgrid\":false,\"showline\":true,\"ticks\":\"outside\"},\"bgcolor\":\"white\",\"caxis\":{\"gridcolor\":\"rgb(232,232,232)\",\"linecolor\":\"rgb(36,36,36)\",\"showgrid\":false,\"showline\":true,\"ticks\":\"outside\"}},\"title\":{\"x\":0.05},\"xaxis\":{\"automargin\":true,\"gridcolor\":\"rgb(232,232,232)\",\"linecolor\":\"rgb(36,36,36)\",\"showgrid\":false,\"showline\":true,\"ticks\":\"outside\",\"title\":{\"standoff\":15},\"zeroline\":false,\"zerolinecolor\":\"rgb(36,36,36)\"},\"yaxis\":{\"automargin\":true,\"gridcolor\":\"rgb(232,232,232)\",\"linecolor\":\"rgb(36,36,36)\",\"showgrid\":false,\"showline\":true,\"ticks\":\"outside\",\"title\":{\"standoff\":15},\"zeroline\":false,\"zerolinecolor\":\"rgb(36,36,36)\"}}},\"xaxis\":{\"anchor\":\"y\",\"domain\":[0.0,1.0],\"title\":{\"text\":\"\"},\"visible\":false,\"range\":[4.486736297607422,11.37493896484375]},\"yaxis\":{\"anchor\":\"x\",\"domain\":[0.0,1.0],\"title\":{\"text\":\"\"},\"visible\":false,\"range\":[-2.0928258895874023,4.071892261505127]},\"legend\":{\"tracegroupgap\":0,\"itemsizing\":\"constant\"},\"margin\":{\"t\":60},\"title\":{\"font\":{\"size\":22,\"color\":\"Black\"},\"text\":\"\\u003cb\\u003eIntertopic Distance Map\\u003c\\u002fb\\u003e\",\"y\":0.95,\"x\":0.5,\"xanchor\":\"center\",\"yanchor\":\"top\"},\"hoverlabel\":{\"font\":{\"size\":16,\"family\":\"Rockwell\"},\"bgcolor\":\"white\"},\"width\":650,\"height\":650,\"sliders\":[{\"active\":0,\"pad\":{\"t\":50},\"steps\":[{\"args\":[{\"marker.color\":[[\"red\",\"#B0BEC5\",\"#B0BEC5\",\"#B0BEC5\",\"#B0BEC5\",\"#B0BEC5\",\"#B0BEC5\",\"#B0BEC5\",\"#B0BEC5\",\"#B0BEC5\",\"#B0BEC5\",\"#B0BEC5\",\"#B0BEC5\",\"#B0BEC5\",\"#B0BEC5\",\"#B0BEC5\",\"#B0BEC5\",\"#B0BEC5\",\"#B0BEC5\"]]}],\"label\":\"Topic 0\",\"method\":\"update\"},{\"args\":[{\"marker.color\":[[\"#B0BEC5\",\"red\",\"#B0BEC5\",\"#B0BEC5\",\"#B0BEC5\",\"#B0BEC5\",\"#B0BEC5\",\"#B0BEC5\",\"#B0BEC5\",\"#B0BEC5\",\"#B0BEC5\",\"#B0BEC5\",\"#B0BEC5\",\"#B0BEC5\",\"#B0BEC5\",\"#B0BEC5\",\"#B0BEC5\",\"#B0BEC5\",\"#B0BEC5\"]]}],\"label\":\"Topic 1\",\"method\":\"update\"},{\"args\":[{\"marker.color\":[[\"#B0BEC5\",\"#B0BEC5\",\"red\",\"#B0BEC5\",\"#B0BEC5\",\"#B0BEC5\",\"#B0BEC5\",\"#B0BEC5\",\"#B0BEC5\",\"#B0BEC5\",\"#B0BEC5\",\"#B0BEC5\",\"#B0BEC5\",\"#B0BEC5\",\"#B0BEC5\",\"#B0BEC5\",\"#B0BEC5\",\"#B0BEC5\",\"#B0BEC5\"]]}],\"label\":\"Topic 2\",\"method\":\"update\"},{\"args\":[{\"marker.color\":[[\"#B0BEC5\",\"#B0BEC5\",\"#B0BEC5\",\"red\",\"#B0BEC5\",\"#B0BEC5\",\"#B0BEC5\",\"#B0BEC5\",\"#B0BEC5\",\"#B0BEC5\",\"#B0BEC5\",\"#B0BEC5\",\"#B0BEC5\",\"#B0BEC5\",\"#B0BEC5\",\"#B0BEC5\",\"#B0BEC5\",\"#B0BEC5\",\"#B0BEC5\"]]}],\"label\":\"Topic 3\",\"method\":\"update\"},{\"args\":[{\"marker.color\":[[\"#B0BEC5\",\"#B0BEC5\",\"#B0BEC5\",\"#B0BEC5\",\"red\",\"#B0BEC5\",\"#B0BEC5\",\"#B0BEC5\",\"#B0BEC5\",\"#B0BEC5\",\"#B0BEC5\",\"#B0BEC5\",\"#B0BEC5\",\"#B0BEC5\",\"#B0BEC5\",\"#B0BEC5\",\"#B0BEC5\",\"#B0BEC5\",\"#B0BEC5\"]]}],\"label\":\"Topic 4\",\"method\":\"update\"},{\"args\":[{\"marker.color\":[[\"#B0BEC5\",\"#B0BEC5\",\"#B0BEC5\",\"#B0BEC5\",\"#B0BEC5\",\"red\",\"#B0BEC5\",\"#B0BEC5\",\"#B0BEC5\",\"#B0BEC5\",\"#B0BEC5\",\"#B0BEC5\",\"#B0BEC5\",\"#B0BEC5\",\"#B0BEC5\",\"#B0BEC5\",\"#B0BEC5\",\"#B0BEC5\",\"#B0BEC5\"]]}],\"label\":\"Topic 5\",\"method\":\"update\"},{\"args\":[{\"marker.color\":[[\"#B0BEC5\",\"#B0BEC5\",\"#B0BEC5\",\"#B0BEC5\",\"#B0BEC5\",\"#B0BEC5\",\"red\",\"#B0BEC5\",\"#B0BEC5\",\"#B0BEC5\",\"#B0BEC5\",\"#B0BEC5\",\"#B0BEC5\",\"#B0BEC5\",\"#B0BEC5\",\"#B0BEC5\",\"#B0BEC5\",\"#B0BEC5\",\"#B0BEC5\"]]}],\"label\":\"Topic 6\",\"method\":\"update\"},{\"args\":[{\"marker.color\":[[\"#B0BEC5\",\"#B0BEC5\",\"#B0BEC5\",\"#B0BEC5\",\"#B0BEC5\",\"#B0BEC5\",\"#B0BEC5\",\"red\",\"#B0BEC5\",\"#B0BEC5\",\"#B0BEC5\",\"#B0BEC5\",\"#B0BEC5\",\"#B0BEC5\",\"#B0BEC5\",\"#B0BEC5\",\"#B0BEC5\",\"#B0BEC5\",\"#B0BEC5\"]]}],\"label\":\"Topic 7\",\"method\":\"update\"},{\"args\":[{\"marker.color\":[[\"#B0BEC5\",\"#B0BEC5\",\"#B0BEC5\",\"#B0BEC5\",\"#B0BEC5\",\"#B0BEC5\",\"#B0BEC5\",\"#B0BEC5\",\"red\",\"#B0BEC5\",\"#B0BEC5\",\"#B0BEC5\",\"#B0BEC5\",\"#B0BEC5\",\"#B0BEC5\",\"#B0BEC5\",\"#B0BEC5\",\"#B0BEC5\",\"#B0BEC5\"]]}],\"label\":\"Topic 8\",\"method\":\"update\"},{\"args\":[{\"marker.color\":[[\"#B0BEC5\",\"#B0BEC5\",\"#B0BEC5\",\"#B0BEC5\",\"#B0BEC5\",\"#B0BEC5\",\"#B0BEC5\",\"#B0BEC5\",\"#B0BEC5\",\"red\",\"#B0BEC5\",\"#B0BEC5\",\"#B0BEC5\",\"#B0BEC5\",\"#B0BEC5\",\"#B0BEC5\",\"#B0BEC5\",\"#B0BEC5\",\"#B0BEC5\"]]}],\"label\":\"Topic 9\",\"method\":\"update\"},{\"args\":[{\"marker.color\":[[\"#B0BEC5\",\"#B0BEC5\",\"#B0BEC5\",\"#B0BEC5\",\"#B0BEC5\",\"#B0BEC5\",\"#B0BEC5\",\"#B0BEC5\",\"#B0BEC5\",\"#B0BEC5\",\"red\",\"#B0BEC5\",\"#B0BEC5\",\"#B0BEC5\",\"#B0BEC5\",\"#B0BEC5\",\"#B0BEC5\",\"#B0BEC5\",\"#B0BEC5\"]]}],\"label\":\"Topic 10\",\"method\":\"update\"},{\"args\":[{\"marker.color\":[[\"#B0BEC5\",\"#B0BEC5\",\"#B0BEC5\",\"#B0BEC5\",\"#B0BEC5\",\"#B0BEC5\",\"#B0BEC5\",\"#B0BEC5\",\"#B0BEC5\",\"#B0BEC5\",\"#B0BEC5\",\"red\",\"#B0BEC5\",\"#B0BEC5\",\"#B0BEC5\",\"#B0BEC5\",\"#B0BEC5\",\"#B0BEC5\",\"#B0BEC5\"]]}],\"label\":\"Topic 11\",\"method\":\"update\"},{\"args\":[{\"marker.color\":[[\"#B0BEC5\",\"#B0BEC5\",\"#B0BEC5\",\"#B0BEC5\",\"#B0BEC5\",\"#B0BEC5\",\"#B0BEC5\",\"#B0BEC5\",\"#B0BEC5\",\"#B0BEC5\",\"#B0BEC5\",\"#B0BEC5\",\"red\",\"#B0BEC5\",\"#B0BEC5\",\"#B0BEC5\",\"#B0BEC5\",\"#B0BEC5\",\"#B0BEC5\"]]}],\"label\":\"Topic 12\",\"method\":\"update\"},{\"args\":[{\"marker.color\":[[\"#B0BEC5\",\"#B0BEC5\",\"#B0BEC5\",\"#B0BEC5\",\"#B0BEC5\",\"#B0BEC5\",\"#B0BEC5\",\"#B0BEC5\",\"#B0BEC5\",\"#B0BEC5\",\"#B0BEC5\",\"#B0BEC5\",\"#B0BEC5\",\"red\",\"#B0BEC5\",\"#B0BEC5\",\"#B0BEC5\",\"#B0BEC5\",\"#B0BEC5\"]]}],\"label\":\"Topic 13\",\"method\":\"update\"},{\"args\":[{\"marker.color\":[[\"#B0BEC5\",\"#B0BEC5\",\"#B0BEC5\",\"#B0BEC5\",\"#B0BEC5\",\"#B0BEC5\",\"#B0BEC5\",\"#B0BEC5\",\"#B0BEC5\",\"#B0BEC5\",\"#B0BEC5\",\"#B0BEC5\",\"#B0BEC5\",\"#B0BEC5\",\"red\",\"#B0BEC5\",\"#B0BEC5\",\"#B0BEC5\",\"#B0BEC5\"]]}],\"label\":\"Topic 14\",\"method\":\"update\"},{\"args\":[{\"marker.color\":[[\"#B0BEC5\",\"#B0BEC5\",\"#B0BEC5\",\"#B0BEC5\",\"#B0BEC5\",\"#B0BEC5\",\"#B0BEC5\",\"#B0BEC5\",\"#B0BEC5\",\"#B0BEC5\",\"#B0BEC5\",\"#B0BEC5\",\"#B0BEC5\",\"#B0BEC5\",\"#B0BEC5\",\"red\",\"#B0BEC5\",\"#B0BEC5\",\"#B0BEC5\"]]}],\"label\":\"Topic 15\",\"method\":\"update\"},{\"args\":[{\"marker.color\":[[\"#B0BEC5\",\"#B0BEC5\",\"#B0BEC5\",\"#B0BEC5\",\"#B0BEC5\",\"#B0BEC5\",\"#B0BEC5\",\"#B0BEC5\",\"#B0BEC5\",\"#B0BEC5\",\"#B0BEC5\",\"#B0BEC5\",\"#B0BEC5\",\"#B0BEC5\",\"#B0BEC5\",\"#B0BEC5\",\"red\",\"#B0BEC5\",\"#B0BEC5\"]]}],\"label\":\"Topic 16\",\"method\":\"update\"},{\"args\":[{\"marker.color\":[[\"#B0BEC5\",\"#B0BEC5\",\"#B0BEC5\",\"#B0BEC5\",\"#B0BEC5\",\"#B0BEC5\",\"#B0BEC5\",\"#B0BEC5\",\"#B0BEC5\",\"#B0BEC5\",\"#B0BEC5\",\"#B0BEC5\",\"#B0BEC5\",\"#B0BEC5\",\"#B0BEC5\",\"#B0BEC5\",\"#B0BEC5\",\"red\",\"#B0BEC5\"]]}],\"label\":\"Topic 17\",\"method\":\"update\"},{\"args\":[{\"marker.color\":[[\"#B0BEC5\",\"#B0BEC5\",\"#B0BEC5\",\"#B0BEC5\",\"#B0BEC5\",\"#B0BEC5\",\"#B0BEC5\",\"#B0BEC5\",\"#B0BEC5\",\"#B0BEC5\",\"#B0BEC5\",\"#B0BEC5\",\"#B0BEC5\",\"#B0BEC5\",\"#B0BEC5\",\"#B0BEC5\",\"#B0BEC5\",\"#B0BEC5\",\"red\"]]}],\"label\":\"Topic 18\",\"method\":\"update\"}]}],\"shapes\":[{\"line\":{\"color\":\"#CFD8DC\",\"width\":2},\"type\":\"line\",\"x0\":7.930837631225586,\"x1\":7.930837631225586,\"y0\":-2.0928258895874023,\"y1\":4.071892261505127},{\"line\":{\"color\":\"#9E9E9E\",\"width\":2},\"type\":\"line\",\"x0\":4.486736297607422,\"x1\":11.37493896484375,\"y0\":0.9895331859588623,\"y1\":0.9895331859588623}],\"annotations\":[{\"showarrow\":false,\"text\":\"D1\",\"x\":4.486736297607422,\"y\":0.9895331859588623,\"yshift\":10},{\"showarrow\":false,\"text\":\"D2\",\"x\":7.930837631225586,\"xshift\":10,\"y\":4.071892261505127}]},                        {\"responsive\": true}                    )                };            </script>        </div>"
      ],
      "text/plain": [
       "Figure({\n",
       "    'data': [{'customdata': array([[0, 'guitar | br | mic | great | stand', 20495],\n",
       "                                   [1, 'great | good | works | product | price', 15084],\n",
       "                                   [2, 'arm | br | blue | just | snowball', 5841],\n",
       "                                   [3, 'cable | strings | winder | cables | string', 2644],\n",
       "                                   [4, 'pedal | pedals | sustain | power | piano', 1848],\n",
       "                                   [5, 'bowl | singing | singing bowl | sound | beautiful', 1452],\n",
       "                                   [6, 'love | loves | love love | loved | son', 1086],\n",
       "                                   [7, 'picks | variety | pick | pack | good', 1003],\n",
       "                                   [8, 'bench | shoulder | comfortable | seat | rest', 683],\n",
       "                                   [9, 'does | job | does job | described | job does', 613],\n",
       "                                   [10, 'gift | loved | great gift | gift gift | loves', 424],\n",
       "                                   [11,\n",
       "                                    'advertised | advertised works | advertised works advertised | works advertised | advertised advertised',\n",
       "                                    177],\n",
       "                                   [12, 'amazon | br | product | cancer | br br', 170],\n",
       "                                   [13,\n",
       "                                    'expected | expected expected | expected works expected | works expected | expected works',\n",
       "                                    170],\n",
       "                                   [14, 'play | ernie | ernie ball | ball | great', 164],\n",
       "                                   [15, 'just needed | needed just | just needed just | needed | just',\n",
       "                                    93],\n",
       "                                   [16, 'pay | pay pay | pay pay pay | lip | underneath work', 62],\n",
       "                                   [17, 'bulbs | light | bulb | led | light bulbs', 62],\n",
       "                                   [18,\n",
       "                                    'craftsmanship | craftsmanship great | great craftsmanship | craftsmanship nice | good craftsmanship',\n",
       "                                    27]], dtype=object),\n",
       "              'hovertemplate': '<b>Topic %{customdata[0]}</b><br>%{customdata[1]}<br>Size: %{customdata[2]}',\n",
       "              'legendgroup': '',\n",
       "              'marker': {'color': '#B0BEC5',\n",
       "                         'line': {'color': 'DarkSlateGrey', 'width': 2},\n",
       "                         'size': {'bdata': 'D1DsOtEWVAo4B6wFPgTrA6sCZQKoAbEAqgCqAKQAXQA+AD4AGwA=', 'dtype': 'i2'},\n",
       "                         'sizemode': 'area',\n",
       "                         'sizeref': 12.809375,\n",
       "                         'symbol': 'circle'},\n",
       "              'mode': 'markers',\n",
       "              'name': '',\n",
       "              'orientation': 'v',\n",
       "              'showlegend': False,\n",
       "              'type': 'scatter',\n",
       "              'x': {'bdata': ('PwQSQfDwq0Ds5w5BlXETQTLoB0FLn7' ... 'GV6ahA4AK4QCm2E0FrMc1AV5/iQA=='),\n",
       "                    'dtype': 'f4'},\n",
       "              'xaxis': 'x',\n",
       "              'y': {'bdata': ('BanUvmwg7T/CU46/78x8vP4uy7/vKi' ... 'BjIhhAhGfrPz+2S0BxrhFAn6TnPw=='),\n",
       "                    'dtype': 'f4'},\n",
       "              'yaxis': 'y'}],\n",
       "    'layout': {'annotations': [{'showarrow': False,\n",
       "                                'text': 'D1',\n",
       "                                'x': np.float32(4.4867363),\n",
       "                                'y': np.float32(0.9895332),\n",
       "                                'yshift': 10},\n",
       "                               {'showarrow': False,\n",
       "                                'text': 'D2',\n",
       "                                'x': np.float32(7.9308376),\n",
       "                                'xshift': 10,\n",
       "                                'y': np.float32(4.0718923)}],\n",
       "               'height': 650,\n",
       "               'hoverlabel': {'bgcolor': 'white', 'font': {'family': 'Rockwell', 'size': 16}},\n",
       "               'legend': {'itemsizing': 'constant', 'tracegroupgap': 0},\n",
       "               'margin': {'t': 60},\n",
       "               'shapes': [{'line': {'color': '#CFD8DC', 'width': 2},\n",
       "                           'type': 'line',\n",
       "                           'x0': np.float32(7.9308376),\n",
       "                           'x1': np.float32(7.9308376),\n",
       "                           'y0': np.float32(-2.092826),\n",
       "                           'y1': np.float32(4.0718923)},\n",
       "                          {'line': {'color': '#9E9E9E', 'width': 2},\n",
       "                           'type': 'line',\n",
       "                           'x0': np.float32(4.4867363),\n",
       "                           'x1': np.float32(11.374939),\n",
       "                           'y0': np.float32(0.9895332),\n",
       "                           'y1': np.float32(0.9895332)}],\n",
       "               'sliders': [{'active': 0,\n",
       "                            'pad': {'t': 50},\n",
       "                            'steps': [{'args': [{'marker.color': [['red',\n",
       "                                                                  '#B0BEC5',\n",
       "                                                                  '#B0BEC5',\n",
       "                                                                  '#B0BEC5',\n",
       "                                                                  '#B0BEC5',\n",
       "                                                                  '#B0BEC5',\n",
       "                                                                  '#B0BEC5',\n",
       "                                                                  '#B0BEC5',\n",
       "                                                                  '#B0BEC5',\n",
       "                                                                  '#B0BEC5',\n",
       "                                                                  '#B0BEC5',\n",
       "                                                                  '#B0BEC5',\n",
       "                                                                  '#B0BEC5',\n",
       "                                                                  '#B0BEC5',\n",
       "                                                                  '#B0BEC5',\n",
       "                                                                  '#B0BEC5',\n",
       "                                                                  '#B0BEC5',\n",
       "                                                                  '#B0BEC5',\n",
       "                                                                  '#B0BEC5']]}],\n",
       "                                       'label': 'Topic 0',\n",
       "                                       'method': 'update'},\n",
       "                                      {'args': [{'marker.color': [['#B0BEC5',\n",
       "                                                                  'red', '#B0BEC5',\n",
       "                                                                  '#B0BEC5',\n",
       "                                                                  '#B0BEC5',\n",
       "                                                                  '#B0BEC5',\n",
       "                                                                  '#B0BEC5',\n",
       "                                                                  '#B0BEC5',\n",
       "                                                                  '#B0BEC5',\n",
       "                                                                  '#B0BEC5',\n",
       "                                                                  '#B0BEC5',\n",
       "                                                                  '#B0BEC5',\n",
       "                                                                  '#B0BEC5',\n",
       "                                                                  '#B0BEC5',\n",
       "                                                                  '#B0BEC5',\n",
       "                                                                  '#B0BEC5',\n",
       "                                                                  '#B0BEC5',\n",
       "                                                                  '#B0BEC5',\n",
       "                                                                  '#B0BEC5']]}],\n",
       "                                       'label': 'Topic 1',\n",
       "                                       'method': 'update'},\n",
       "                                      {'args': [{'marker.color': [['#B0BEC5',\n",
       "                                                                  '#B0BEC5', 'red',\n",
       "                                                                  '#B0BEC5',\n",
       "                                                                  '#B0BEC5',\n",
       "                                                                  '#B0BEC5',\n",
       "                                                                  '#B0BEC5',\n",
       "                                                                  '#B0BEC5',\n",
       "                                                                  '#B0BEC5',\n",
       "                                                                  '#B0BEC5',\n",
       "                                                                  '#B0BEC5',\n",
       "                                                                  '#B0BEC5',\n",
       "                                                                  '#B0BEC5',\n",
       "                                                                  '#B0BEC5',\n",
       "                                                                  '#B0BEC5',\n",
       "                                                                  '#B0BEC5',\n",
       "                                                                  '#B0BEC5',\n",
       "                                                                  '#B0BEC5',\n",
       "                                                                  '#B0BEC5']]}],\n",
       "                                       'label': 'Topic 2',\n",
       "                                       'method': 'update'},\n",
       "                                      {'args': [{'marker.color': [['#B0BEC5',\n",
       "                                                                  '#B0BEC5',\n",
       "                                                                  '#B0BEC5', 'red',\n",
       "                                                                  '#B0BEC5',\n",
       "                                                                  '#B0BEC5',\n",
       "                                                                  '#B0BEC5',\n",
       "                                                                  '#B0BEC5',\n",
       "                                                                  '#B0BEC5',\n",
       "                                                                  '#B0BEC5',\n",
       "                                                                  '#B0BEC5',\n",
       "                                                                  '#B0BEC5',\n",
       "                                                                  '#B0BEC5',\n",
       "                                                                  '#B0BEC5',\n",
       "                                                                  '#B0BEC5',\n",
       "                                                                  '#B0BEC5',\n",
       "                                                                  '#B0BEC5',\n",
       "                                                                  '#B0BEC5',\n",
       "                                                                  '#B0BEC5']]}],\n",
       "                                       'label': 'Topic 3',\n",
       "                                       'method': 'update'},\n",
       "                                      {'args': [{'marker.color': [['#B0BEC5',\n",
       "                                                                  '#B0BEC5',\n",
       "                                                                  '#B0BEC5',\n",
       "                                                                  '#B0BEC5', 'red',\n",
       "                                                                  '#B0BEC5',\n",
       "                                                                  '#B0BEC5',\n",
       "                                                                  '#B0BEC5',\n",
       "                                                                  '#B0BEC5',\n",
       "                                                                  '#B0BEC5',\n",
       "                                                                  '#B0BEC5',\n",
       "                                                                  '#B0BEC5',\n",
       "                                                                  '#B0BEC5',\n",
       "                                                                  '#B0BEC5',\n",
       "                                                                  '#B0BEC5',\n",
       "                                                                  '#B0BEC5',\n",
       "                                                                  '#B0BEC5',\n",
       "                                                                  '#B0BEC5',\n",
       "                                                                  '#B0BEC5']]}],\n",
       "                                       'label': 'Topic 4',\n",
       "                                       'method': 'update'},\n",
       "                                      {'args': [{'marker.color': [['#B0BEC5',\n",
       "                                                                  '#B0BEC5',\n",
       "                                                                  '#B0BEC5',\n",
       "                                                                  '#B0BEC5',\n",
       "                                                                  '#B0BEC5', 'red',\n",
       "                                                                  '#B0BEC5',\n",
       "                                                                  '#B0BEC5',\n",
       "                                                                  '#B0BEC5',\n",
       "                                                                  '#B0BEC5',\n",
       "                                                                  '#B0BEC5',\n",
       "                                                                  '#B0BEC5',\n",
       "                                                                  '#B0BEC5',\n",
       "                                                                  '#B0BEC5',\n",
       "                                                                  '#B0BEC5',\n",
       "                                                                  '#B0BEC5',\n",
       "                                                                  '#B0BEC5',\n",
       "                                                                  '#B0BEC5',\n",
       "                                                                  '#B0BEC5']]}],\n",
       "                                       'label': 'Topic 5',\n",
       "                                       'method': 'update'},\n",
       "                                      {'args': [{'marker.color': [['#B0BEC5',\n",
       "                                                                  '#B0BEC5',\n",
       "                                                                  '#B0BEC5',\n",
       "                                                                  '#B0BEC5',\n",
       "                                                                  '#B0BEC5',\n",
       "                                                                  '#B0BEC5', 'red',\n",
       "                                                                  '#B0BEC5',\n",
       "                                                                  '#B0BEC5',\n",
       "                                                                  '#B0BEC5',\n",
       "                                                                  '#B0BEC5',\n",
       "                                                                  '#B0BEC5',\n",
       "                                                                  '#B0BEC5',\n",
       "                                                                  '#B0BEC5',\n",
       "                                                                  '#B0BEC5',\n",
       "                                                                  '#B0BEC5',\n",
       "                                                                  '#B0BEC5',\n",
       "                                                                  '#B0BEC5',\n",
       "                                                                  '#B0BEC5']]}],\n",
       "                                       'label': 'Topic 6',\n",
       "                                       'method': 'update'},\n",
       "                                      {'args': [{'marker.color': [['#B0BEC5',\n",
       "                                                                  '#B0BEC5',\n",
       "                                                                  '#B0BEC5',\n",
       "                                                                  '#B0BEC5',\n",
       "                                                                  '#B0BEC5',\n",
       "                                                                  '#B0BEC5',\n",
       "                                                                  '#B0BEC5', 'red',\n",
       "                                                                  '#B0BEC5',\n",
       "                                                                  '#B0BEC5',\n",
       "                                                                  '#B0BEC5',\n",
       "                                                                  '#B0BEC5',\n",
       "                                                                  '#B0BEC5',\n",
       "                                                                  '#B0BEC5',\n",
       "                                                                  '#B0BEC5',\n",
       "                                                                  '#B0BEC5',\n",
       "                                                                  '#B0BEC5',\n",
       "                                                                  '#B0BEC5',\n",
       "                                                                  '#B0BEC5']]}],\n",
       "                                       'label': 'Topic 7',\n",
       "                                       'method': 'update'},\n",
       "                                      {'args': [{'marker.color': [['#B0BEC5',\n",
       "                                                                  '#B0BEC5',\n",
       "                                                                  '#B0BEC5',\n",
       "                                                                  '#B0BEC5',\n",
       "                                                                  '#B0BEC5',\n",
       "                                                                  '#B0BEC5',\n",
       "                                                                  '#B0BEC5',\n",
       "                                                                  '#B0BEC5', 'red',\n",
       "                                                                  '#B0BEC5',\n",
       "                                                                  '#B0BEC5',\n",
       "                                                                  '#B0BEC5',\n",
       "                                                                  '#B0BEC5',\n",
       "                                                                  '#B0BEC5',\n",
       "                                                                  '#B0BEC5',\n",
       "                                                                  '#B0BEC5',\n",
       "                                                                  '#B0BEC5',\n",
       "                                                                  '#B0BEC5',\n",
       "                                                                  '#B0BEC5']]}],\n",
       "                                       'label': 'Topic 8',\n",
       "                                       'method': 'update'},\n",
       "                                      {'args': [{'marker.color': [['#B0BEC5',\n",
       "                                                                  '#B0BEC5',\n",
       "                                                                  '#B0BEC5',\n",
       "                                                                  '#B0BEC5',\n",
       "                                                                  '#B0BEC5',\n",
       "                                                                  '#B0BEC5',\n",
       "                                                                  '#B0BEC5',\n",
       "                                                                  '#B0BEC5',\n",
       "                                                                  '#B0BEC5', 'red',\n",
       "                                                                  '#B0BEC5',\n",
       "                                                                  '#B0BEC5',\n",
       "                                                                  '#B0BEC5',\n",
       "                                                                  '#B0BEC5',\n",
       "                                                                  '#B0BEC5',\n",
       "                                                                  '#B0BEC5',\n",
       "                                                                  '#B0BEC5',\n",
       "                                                                  '#B0BEC5',\n",
       "                                                                  '#B0BEC5']]}],\n",
       "                                       'label': 'Topic 9',\n",
       "                                       'method': 'update'},\n",
       "                                      {'args': [{'marker.color': [['#B0BEC5',\n",
       "                                                                  '#B0BEC5',\n",
       "                                                                  '#B0BEC5',\n",
       "                                                                  '#B0BEC5',\n",
       "                                                                  '#B0BEC5',\n",
       "                                                                  '#B0BEC5',\n",
       "                                                                  '#B0BEC5',\n",
       "                                                                  '#B0BEC5',\n",
       "                                                                  '#B0BEC5',\n",
       "                                                                  '#B0BEC5', 'red',\n",
       "                                                                  '#B0BEC5',\n",
       "                                                                  '#B0BEC5',\n",
       "                                                                  '#B0BEC5',\n",
       "                                                                  '#B0BEC5',\n",
       "                                                                  '#B0BEC5',\n",
       "                                                                  '#B0BEC5',\n",
       "                                                                  '#B0BEC5',\n",
       "                                                                  '#B0BEC5']]}],\n",
       "                                       'label': 'Topic 10',\n",
       "                                       'method': 'update'},\n",
       "                                      {'args': [{'marker.color': [['#B0BEC5',\n",
       "                                                                  '#B0BEC5',\n",
       "                                                                  '#B0BEC5',\n",
       "                                                                  '#B0BEC5',\n",
       "                                                                  '#B0BEC5',\n",
       "                                                                  '#B0BEC5',\n",
       "                                                                  '#B0BEC5',\n",
       "                                                                  '#B0BEC5',\n",
       "                                                                  '#B0BEC5',\n",
       "                                                                  '#B0BEC5',\n",
       "                                                                  '#B0BEC5', 'red',\n",
       "                                                                  '#B0BEC5',\n",
       "                                                                  '#B0BEC5',\n",
       "                                                                  '#B0BEC5',\n",
       "                                                                  '#B0BEC5',\n",
       "                                                                  '#B0BEC5',\n",
       "                                                                  '#B0BEC5',\n",
       "                                                                  '#B0BEC5']]}],\n",
       "                                       'label': 'Topic 11',\n",
       "                                       'method': 'update'},\n",
       "                                      {'args': [{'marker.color': [['#B0BEC5',\n",
       "                                                                  '#B0BEC5',\n",
       "                                                                  '#B0BEC5',\n",
       "                                                                  '#B0BEC5',\n",
       "                                                                  '#B0BEC5',\n",
       "                                                                  '#B0BEC5',\n",
       "                                                                  '#B0BEC5',\n",
       "                                                                  '#B0BEC5',\n",
       "                                                                  '#B0BEC5',\n",
       "                                                                  '#B0BEC5',\n",
       "                                                                  '#B0BEC5',\n",
       "                                                                  '#B0BEC5', 'red',\n",
       "                                                                  '#B0BEC5',\n",
       "                                                                  '#B0BEC5',\n",
       "                                                                  '#B0BEC5',\n",
       "                                                                  '#B0BEC5',\n",
       "                                                                  '#B0BEC5',\n",
       "                                                                  '#B0BEC5']]}],\n",
       "                                       'label': 'Topic 12',\n",
       "                                       'method': 'update'},\n",
       "                                      {'args': [{'marker.color': [['#B0BEC5',\n",
       "                                                                  '#B0BEC5',\n",
       "                                                                  '#B0BEC5',\n",
       "                                                                  '#B0BEC5',\n",
       "                                                                  '#B0BEC5',\n",
       "                                                                  '#B0BEC5',\n",
       "                                                                  '#B0BEC5',\n",
       "                                                                  '#B0BEC5',\n",
       "                                                                  '#B0BEC5',\n",
       "                                                                  '#B0BEC5',\n",
       "                                                                  '#B0BEC5',\n",
       "                                                                  '#B0BEC5',\n",
       "                                                                  '#B0BEC5', 'red',\n",
       "                                                                  '#B0BEC5',\n",
       "                                                                  '#B0BEC5',\n",
       "                                                                  '#B0BEC5',\n",
       "                                                                  '#B0BEC5',\n",
       "                                                                  '#B0BEC5']]}],\n",
       "                                       'label': 'Topic 13',\n",
       "                                       'method': 'update'},\n",
       "                                      {'args': [{'marker.color': [['#B0BEC5',\n",
       "                                                                  '#B0BEC5',\n",
       "                                                                  '#B0BEC5',\n",
       "                                                                  '#B0BEC5',\n",
       "                                                                  '#B0BEC5',\n",
       "                                                                  '#B0BEC5',\n",
       "                                                                  '#B0BEC5',\n",
       "                                                                  '#B0BEC5',\n",
       "                                                                  '#B0BEC5',\n",
       "                                                                  '#B0BEC5',\n",
       "                                                                  '#B0BEC5',\n",
       "                                                                  '#B0BEC5',\n",
       "                                                                  '#B0BEC5',\n",
       "                                                                  '#B0BEC5', 'red',\n",
       "                                                                  '#B0BEC5',\n",
       "                                                                  '#B0BEC5',\n",
       "                                                                  '#B0BEC5',\n",
       "                                                                  '#B0BEC5']]}],\n",
       "                                       'label': 'Topic 14',\n",
       "                                       'method': 'update'},\n",
       "                                      {'args': [{'marker.color': [['#B0BEC5',\n",
       "                                                                  '#B0BEC5',\n",
       "                                                                  '#B0BEC5',\n",
       "                                                                  '#B0BEC5',\n",
       "                                                                  '#B0BEC5',\n",
       "                                                                  '#B0BEC5',\n",
       "                                                                  '#B0BEC5',\n",
       "                                                                  '#B0BEC5',\n",
       "                                                                  '#B0BEC5',\n",
       "                                                                  '#B0BEC5',\n",
       "                                                                  '#B0BEC5',\n",
       "                                                                  '#B0BEC5',\n",
       "                                                                  '#B0BEC5',\n",
       "                                                                  '#B0BEC5',\n",
       "                                                                  '#B0BEC5', 'red',\n",
       "                                                                  '#B0BEC5',\n",
       "                                                                  '#B0BEC5',\n",
       "                                                                  '#B0BEC5']]}],\n",
       "                                       'label': 'Topic 15',\n",
       "                                       'method': 'update'},\n",
       "                                      {'args': [{'marker.color': [['#B0BEC5',\n",
       "                                                                  '#B0BEC5',\n",
       "                                                                  '#B0BEC5',\n",
       "                                                                  '#B0BEC5',\n",
       "                                                                  '#B0BEC5',\n",
       "                                                                  '#B0BEC5',\n",
       "                                                                  '#B0BEC5',\n",
       "                                                                  '#B0BEC5',\n",
       "                                                                  '#B0BEC5',\n",
       "                                                                  '#B0BEC5',\n",
       "                                                                  '#B0BEC5',\n",
       "                                                                  '#B0BEC5',\n",
       "                                                                  '#B0BEC5',\n",
       "                                                                  '#B0BEC5',\n",
       "                                                                  '#B0BEC5',\n",
       "                                                                  '#B0BEC5', 'red',\n",
       "                                                                  '#B0BEC5',\n",
       "                                                                  '#B0BEC5']]}],\n",
       "                                       'label': 'Topic 16',\n",
       "                                       'method': 'update'},\n",
       "                                      {'args': [{'marker.color': [['#B0BEC5',\n",
       "                                                                  '#B0BEC5',\n",
       "                                                                  '#B0BEC5',\n",
       "                                                                  '#B0BEC5',\n",
       "                                                                  '#B0BEC5',\n",
       "                                                                  '#B0BEC5',\n",
       "                                                                  '#B0BEC5',\n",
       "                                                                  '#B0BEC5',\n",
       "                                                                  '#B0BEC5',\n",
       "                                                                  '#B0BEC5',\n",
       "                                                                  '#B0BEC5',\n",
       "                                                                  '#B0BEC5',\n",
       "                                                                  '#B0BEC5',\n",
       "                                                                  '#B0BEC5',\n",
       "                                                                  '#B0BEC5',\n",
       "                                                                  '#B0BEC5',\n",
       "                                                                  '#B0BEC5', 'red',\n",
       "                                                                  '#B0BEC5']]}],\n",
       "                                       'label': 'Topic 17',\n",
       "                                       'method': 'update'},\n",
       "                                      {'args': [{'marker.color': [['#B0BEC5',\n",
       "                                                                  '#B0BEC5',\n",
       "                                                                  '#B0BEC5',\n",
       "                                                                  '#B0BEC5',\n",
       "                                                                  '#B0BEC5',\n",
       "                                                                  '#B0BEC5',\n",
       "                                                                  '#B0BEC5',\n",
       "                                                                  '#B0BEC5',\n",
       "                                                                  '#B0BEC5',\n",
       "                                                                  '#B0BEC5',\n",
       "                                                                  '#B0BEC5',\n",
       "                                                                  '#B0BEC5',\n",
       "                                                                  '#B0BEC5',\n",
       "                                                                  '#B0BEC5',\n",
       "                                                                  '#B0BEC5',\n",
       "                                                                  '#B0BEC5',\n",
       "                                                                  '#B0BEC5',\n",
       "                                                                  '#B0BEC5',\n",
       "                                                                  'red']]}],\n",
       "                                       'label': 'Topic 18',\n",
       "                                       'method': 'update'}]}],\n",
       "               'template': '...',\n",
       "               'title': {'font': {'color': 'Black', 'size': 22},\n",
       "                         'text': '<b>Intertopic Distance Map</b>',\n",
       "                         'x': 0.5,\n",
       "                         'xanchor': 'center',\n",
       "                         'y': 0.95,\n",
       "                         'yanchor': 'top'},\n",
       "               'width': 650,\n",
       "               'xaxis': {'anchor': 'y',\n",
       "                         'domain': [0.0, 1.0],\n",
       "                         'range': [4.486736297607422, 11.37493896484375],\n",
       "                         'title': {'text': ''},\n",
       "                         'visible': False},\n",
       "               'yaxis': {'anchor': 'x',\n",
       "                         'domain': [0.0, 1.0],\n",
       "                         'range': [-2.0928258895874023, 4.071892261505127],\n",
       "                         'title': {'text': ''},\n",
       "                         'visible': False}}\n",
       "})"
      ]
     },
     "execution_count": 23,
     "metadata": {},
     "output_type": "execute_result"
    }
   ],
   "source": [
    "model.visualize_topics()"
   ]
  },
  {
   "cell_type": "code",
   "execution_count": 24,
   "metadata": {
    "id": "awLQxaD1cKAy"
   },
   "outputs": [
    {
     "ename": "ValueError",
     "evalue": "Mime type rendering requires nbformat>=4.2.0 but it is not installed",
     "output_type": "error",
     "traceback": [
      "\u001b[1;31m---------------------------------------------------------------------------\u001b[0m",
      "\u001b[1;31mValueError\u001b[0m                                Traceback (most recent call last)",
      "File \u001b[1;32m~\\AppData\\Roaming\\Python\\Python39\\site-packages\\IPython\\core\\formatters.py:922\u001b[0m, in \u001b[0;36mIPythonDisplayFormatter.__call__\u001b[1;34m(self, obj)\u001b[0m\n\u001b[0;32m    920\u001b[0m method \u001b[38;5;241m=\u001b[39m get_real_method(obj, \u001b[38;5;28mself\u001b[39m\u001b[38;5;241m.\u001b[39mprint_method)\n\u001b[0;32m    921\u001b[0m \u001b[38;5;28;01mif\u001b[39;00m method \u001b[38;5;129;01mis\u001b[39;00m \u001b[38;5;129;01mnot\u001b[39;00m \u001b[38;5;28;01mNone\u001b[39;00m:\n\u001b[1;32m--> 922\u001b[0m     \u001b[43mmethod\u001b[49m\u001b[43m(\u001b[49m\u001b[43m)\u001b[49m\n\u001b[0;32m    923\u001b[0m     \u001b[38;5;28;01mreturn\u001b[39;00m \u001b[38;5;28;01mTrue\u001b[39;00m\n",
      "File \u001b[1;32mc:\\Users\\a0938\\AppData\\Local\\Programs\\Python\\Python39\\lib\\site-packages\\plotly\\basedatatypes.py:833\u001b[0m, in \u001b[0;36mBaseFigure._ipython_display_\u001b[1;34m(self)\u001b[0m\n\u001b[0;32m    830\u001b[0m \u001b[38;5;28;01mimport\u001b[39;00m\u001b[38;5;250m \u001b[39m\u001b[38;5;21;01mplotly\u001b[39;00m\u001b[38;5;21;01m.\u001b[39;00m\u001b[38;5;21;01mio\u001b[39;00m\u001b[38;5;250m \u001b[39m\u001b[38;5;28;01mas\u001b[39;00m\u001b[38;5;250m \u001b[39m\u001b[38;5;21;01mpio\u001b[39;00m\n\u001b[0;32m    832\u001b[0m \u001b[38;5;28;01mif\u001b[39;00m pio\u001b[38;5;241m.\u001b[39mrenderers\u001b[38;5;241m.\u001b[39mrender_on_display \u001b[38;5;129;01mand\u001b[39;00m pio\u001b[38;5;241m.\u001b[39mrenderers\u001b[38;5;241m.\u001b[39mdefault:\n\u001b[1;32m--> 833\u001b[0m     \u001b[43mpio\u001b[49m\u001b[38;5;241;43m.\u001b[39;49m\u001b[43mshow\u001b[49m\u001b[43m(\u001b[49m\u001b[38;5;28;43mself\u001b[39;49m\u001b[43m)\u001b[49m\n\u001b[0;32m    834\u001b[0m \u001b[38;5;28;01melse\u001b[39;00m:\n\u001b[0;32m    835\u001b[0m     \u001b[38;5;28mprint\u001b[39m(\u001b[38;5;28mrepr\u001b[39m(\u001b[38;5;28mself\u001b[39m))\n",
      "File \u001b[1;32mc:\\Users\\a0938\\AppData\\Local\\Programs\\Python\\Python39\\lib\\site-packages\\plotly\\io\\_renderers.py:425\u001b[0m, in \u001b[0;36mshow\u001b[1;34m(fig, renderer, validate, **kwargs)\u001b[0m\n\u001b[0;32m    420\u001b[0m     \u001b[38;5;28;01mraise\u001b[39;00m \u001b[38;5;167;01mValueError\u001b[39;00m(\n\u001b[0;32m    421\u001b[0m         \u001b[38;5;124m\"\u001b[39m\u001b[38;5;124mMime type rendering requires ipython but it is not installed\u001b[39m\u001b[38;5;124m\"\u001b[39m\n\u001b[0;32m    422\u001b[0m     )\n\u001b[0;32m    424\u001b[0m \u001b[38;5;28;01mif\u001b[39;00m \u001b[38;5;129;01mnot\u001b[39;00m nbformat \u001b[38;5;129;01mor\u001b[39;00m Version(nbformat\u001b[38;5;241m.\u001b[39m__version__) \u001b[38;5;241m<\u001b[39m Version(\u001b[38;5;124m\"\u001b[39m\u001b[38;5;124m4.2.0\u001b[39m\u001b[38;5;124m\"\u001b[39m):\n\u001b[1;32m--> 425\u001b[0m     \u001b[38;5;28;01mraise\u001b[39;00m \u001b[38;5;167;01mValueError\u001b[39;00m(\n\u001b[0;32m    426\u001b[0m         \u001b[38;5;124m\"\u001b[39m\u001b[38;5;124mMime type rendering requires nbformat>=4.2.0 but it is not installed\u001b[39m\u001b[38;5;124m\"\u001b[39m\n\u001b[0;32m    427\u001b[0m     )\n\u001b[0;32m    429\u001b[0m display_jupyter_version_warnings()\n\u001b[0;32m    431\u001b[0m ipython_display\u001b[38;5;241m.\u001b[39mdisplay(bundle, raw\u001b[38;5;241m=\u001b[39m\u001b[38;5;28;01mTrue\u001b[39;00m)\n",
      "\u001b[1;31mValueError\u001b[0m: Mime type rendering requires nbformat>=4.2.0 but it is not installed"
     ]
    },
    {
     "data": {
      "application/vnd.plotly.v1+json": {
       "config": {
        "plotlyServerURL": "https://plot.ly"
       },
       "data": [
        {
         "hoverinfo": "text",
         "marker": {
          "color": "rgb(61,153,112)"
         },
         "mode": "lines",
         "type": "scatter",
         "x": {
          "bdata": "AAAAAAAAAAAEQwJ89FjTPwRDAnz0WNM/AAAAAAAAAAA=",
          "dtype": "f8"
         },
         "xaxis": "x",
         "y": {
          "bdata": "AAAAAACAQcAAAAAAAIBBwAAAAAAAgEbAAAAAAACARsA=",
          "dtype": "f8"
         },
         "yaxis": "y"
        },
        {
         "hoverinfo": "text",
         "marker": {
          "color": "rgb(61,153,112)"
         },
         "mode": "lines",
         "type": "scatter",
         "x": {
          "bdata": "AAAAAAAAAABo2yZev9rgP2jbJl6/2uA/BEMCfPRY0z8=",
          "dtype": "f8"
         },
         "xaxis": "x",
         "y": {
          "bdata": "AAAAAAAAOcAAAAAAAAA5wAAAAAAAAETAAAAAAAAARMA=",
          "dtype": "f8"
         },
         "yaxis": "y"
        },
        {
         "hoverinfo": "text",
         "marker": {
          "color": "rgb(61,153,112)"
         },
         "mode": "lines",
         "type": "scatter",
         "x": {
          "bdata": "aNsmXr/a4D/1WMmyeXvjP/VYybJ5e+M/AAAAAAAAAAA=",
          "dtype": "f8"
         },
         "xaxis": "x",
         "y": {
          "bdata": "AAAAAABAQMAAAAAAAEBAwAAAAAAAgEvAAAAAAACAS8A=",
          "dtype": "f8"
         },
         "yaxis": "y"
        },
        {
         "hoverinfo": "text",
         "marker": {
          "color": "rgb(61,153,112)"
         },
         "mode": "lines",
         "type": "scatter",
         "x": {
          "bdata": "AAAAAAAAAAAAeESGHvjoPwB4RIYe+Og/9VjJsnl74z8=",
          "dtype": "f8"
         },
         "xaxis": "x",
         "y": {
          "bdata": "AAAAAAAALsAAAAAAAAAuwAAAAAAA4EXAAAAAAADgRcA=",
          "dtype": "f8"
         },
         "yaxis": "y"
        },
        {
         "hoverinfo": "text",
         "marker": {
          "color": "rgb(61,153,112)"
         },
         "mode": "lines",
         "type": "scatter",
         "x": {
          "bdata": "AHhEhh746D9DG6Hztm3rP0MbofO2bes/AAAAAAAAAAA=",
          "dtype": "f8"
         },
         "xaxis": "x",
         "y": {
          "bdata": "AAAAAABgPcAAAAAAAGA9wAAAAAAAQFDAAAAAAABAUMA=",
          "dtype": "f8"
         },
         "yaxis": "y"
        },
        {
         "hoverinfo": "text",
         "marker": {
          "color": "rgb(61,153,112)"
         },
         "mode": "lines",
         "type": "scatter",
         "x": {
          "bdata": "AAAAAAAAAACL8Mr3qffrP4vwyvep9+s/Qxuh87Zt6z8=",
          "dtype": "f8"
         },
         "xaxis": "x",
         "y": {
          "bdata": "AAAAAAAAFMAAAAAAAAAUwAAAAAAAmEfAAAAAAACYR8A=",
          "dtype": "f8"
         },
         "yaxis": "y"
        },
        {
         "hoverinfo": "text",
         "marker": {
          "color": "rgb(255,65,54)"
         },
         "mode": "lines",
         "type": "scatter",
         "x": {
          "bdata": "AAAAAAAAAADLEEyZMY7pP8sQTJkxjuk/AAAAAAAAAAA=",
          "dtype": "f8"
         },
         "xaxis": "x",
         "y": {
          "bdata": "AAAAAADAUsAAAAAAAMBSwAAAAAAAQFXAAAAAAABAVcA=",
          "dtype": "f8"
         },
         "yaxis": "y"
        },
        {
         "hoverinfo": "text",
         "marker": {
          "color": "rgb(255,65,54)"
         },
         "mode": "lines",
         "type": "scatter",
         "x": {
          "bdata": "AAAAAAAAAAC2FaEfCN3rP7YVoR8I3es/AAAAAAAAAAA=",
          "dtype": "f8"
         },
         "xaxis": "x",
         "y": {
          "bdata": "AAAAAADAV8AAAAAAAMBXwAAAAAAAQFrAAAAAAABAWsA=",
          "dtype": "f8"
         },
         "yaxis": "y"
        },
        {
         "hoverinfo": "text",
         "marker": {
          "color": "rgb(255,65,54)"
         },
         "mode": "lines",
         "type": "scatter",
         "x": {
          "bdata": "thWhHwjd6z/Aua94FtfsP8C5r3gW1+w/AAAAAAAAAAA=",
          "dtype": "f8"
         },
         "xaxis": "x",
         "y": {
          "bdata": "AAAAAAAAWcAAAAAAAABZwAAAAAAAwFzAAAAAAADAXMA=",
          "dtype": "f8"
         },
         "yaxis": "y"
        },
        {
         "hoverinfo": "text",
         "marker": {
          "color": "rgb(255,65,54)"
         },
         "mode": "lines",
         "type": "scatter",
         "x": {
          "bdata": "yxBMmTGO6T9V9FyWc3zuP1X0XJZzfO4/wLmveBbX7D8=",
          "dtype": "f8"
         },
         "xaxis": "x",
         "y": {
          "bdata": "AAAAAAAAVMAAAAAAAABUwAAAAAAA4FrAAAAAAADgWsA=",
          "dtype": "f8"
         },
         "yaxis": "y"
        },
        {
         "hoverinfo": "text",
         "marker": {
          "color": "rgb(35,205,205)"
         },
         "mode": "lines",
         "type": "scatter",
         "x": {
          "bdata": "AAAAAAAAAABuxF21z1/vP27EXbXPX+8/AAAAAAAAAAA=",
          "dtype": "f8"
         },
         "xaxis": "x",
         "y": {
          "bdata": "AAAAAABAX8AAAAAAAEBfwAAAAAAA4GDAAAAAAADgYMA=",
          "dtype": "f8"
         },
         "yaxis": "y"
        },
        {
         "hoverinfo": "text",
         "marker": {
          "color": "rgb(35,205,205)"
         },
         "mode": "lines",
         "type": "scatter",
         "x": {
          "bdata": "AAAAAAAAAABxo2fKcXfvP3GjZ8pxd+8/AAAAAAAAAAA=",
          "dtype": "f8"
         },
         "xaxis": "x",
         "y": {
          "bdata": "AAAAAAAgYsAAAAAAACBiwAAAAAAAYGPAAAAAAABgY8A=",
          "dtype": "f8"
         },
         "yaxis": "y"
        },
        {
         "hoverinfo": "text",
         "marker": {
          "color": "rgb(35,205,205)"
         },
         "mode": "lines",
         "type": "scatter",
         "x": {
          "bdata": "bsRdtc9f7z+3dwcG3/LvP7d3Bwbf8u8/caNnynF37z8=",
          "dtype": "f8"
         },
         "xaxis": "x",
         "y": {
          "bdata": "AAAAAABAYMAAAAAAAEBgwAAAAAAAwGLAAAAAAADAYsA=",
          "dtype": "f8"
         },
         "yaxis": "y"
        },
        {
         "hoverinfo": "text",
         "marker": {
          "color": "rgb(133,20,75)"
         },
         "mode": "lines",
         "type": "scatter",
         "x": {
          "bdata": "AAAAAAAAAAD5m7DSZLXuP/mbsNJkte4/AAAAAAAAAAA=",
          "dtype": "f8"
         },
         "xaxis": "x",
         "y": {
          "bdata": "AAAAAACgZMAAAAAAAKBkwAAAAAAA4GXAAAAAAADgZcA=",
          "dtype": "f8"
         },
         "yaxis": "y"
        },
        {
         "hoverinfo": "text",
         "marker": {
          "color": "rgb(133,20,75)"
         },
         "mode": "lines",
         "type": "scatter",
         "x": {
          "bdata": "+Zuw0mS17j+mPIyXXWvvP6Y8jJdda+8/AAAAAAAAAAA=",
          "dtype": "f8"
         },
         "xaxis": "x",
         "y": {
          "bdata": "AAAAAABAZcAAAAAAAEBlwAAAAAAAIGfAAAAAAAAgZ8A=",
          "dtype": "f8"
         },
         "yaxis": "y"
        },
        {
         "hoverinfo": "text",
         "marker": {
          "color": "rgb(0,116,217)"
         },
         "mode": "lines",
         "type": "scatter",
         "x": {
          "bdata": "t3cHBt/y7z+/MTc9ZzjwP78xNz1nOPA/pjyMl11r7z8=",
          "dtype": "f8"
         },
         "xaxis": "x",
         "y": {
          "bdata": "AAAAAACAYcAAAAAAAIBhwAAAAAAAMGbAAAAAAAAwZsA=",
          "dtype": "f8"
         },
         "yaxis": "y"
        },
        {
         "hoverinfo": "text",
         "marker": {
          "color": "rgb(0,116,217)"
         },
         "mode": "lines",
         "type": "scatter",
         "x": {
          "bdata": "VfRclnN87j/A5oFIwmryP8DmgUjCavI/vzE3PWc48D8=",
          "dtype": "f8"
         },
         "xaxis": "x",
         "y": {
          "bdata": "AAAAAABwV8AAAAAAAHBXwAAAAAAA2GPAAAAAAADYY8A=",
          "dtype": "f8"
         },
         "yaxis": "y"
        },
        {
         "hoverinfo": "text",
         "marker": {
          "color": "rgb(0,116,217)"
         },
         "mode": "lines",
         "type": "scatter",
         "x": {
          "bdata": "i/DK96n36z/5wdTvFw71P/nB1O8XDvU/wOaBSMJq8j8=",
          "dtype": "f8"
         },
         "xaxis": "x",
         "y": {
          "bdata": "AAAAAAAYOsAAAAAAABg6wAAAAAAAkF/AAAAAAACQX8A=",
          "dtype": "f8"
         },
         "yaxis": "y"
        }
       ],
       "layout": {
        "autosize": false,
        "height": 485,
        "hoverlabel": {
         "bgcolor": "white",
         "font": {
          "family": "Rockwell",
          "size": 16
         }
        },
        "hovermode": "closest",
        "plot_bgcolor": "#ECEFF1",
        "showlegend": false,
        "template": {
         "data": {
          "bar": [
           {
            "error_x": {
             "color": "#2a3f5f"
            },
            "error_y": {
             "color": "#2a3f5f"
            },
            "marker": {
             "line": {
              "color": "white",
              "width": 0.5
             },
             "pattern": {
              "fillmode": "overlay",
              "size": 10,
              "solidity": 0.2
             }
            },
            "type": "bar"
           }
          ],
          "barpolar": [
           {
            "marker": {
             "line": {
              "color": "white",
              "width": 0.5
             },
             "pattern": {
              "fillmode": "overlay",
              "size": 10,
              "solidity": 0.2
             }
            },
            "type": "barpolar"
           }
          ],
          "carpet": [
           {
            "aaxis": {
             "endlinecolor": "#2a3f5f",
             "gridcolor": "#C8D4E3",
             "linecolor": "#C8D4E3",
             "minorgridcolor": "#C8D4E3",
             "startlinecolor": "#2a3f5f"
            },
            "baxis": {
             "endlinecolor": "#2a3f5f",
             "gridcolor": "#C8D4E3",
             "linecolor": "#C8D4E3",
             "minorgridcolor": "#C8D4E3",
             "startlinecolor": "#2a3f5f"
            },
            "type": "carpet"
           }
          ],
          "choropleth": [
           {
            "colorbar": {
             "outlinewidth": 0,
             "ticks": ""
            },
            "type": "choropleth"
           }
          ],
          "contour": [
           {
            "colorbar": {
             "outlinewidth": 0,
             "ticks": ""
            },
            "colorscale": [
             [
              0,
              "#0d0887"
             ],
             [
              0.1111111111111111,
              "#46039f"
             ],
             [
              0.2222222222222222,
              "#7201a8"
             ],
             [
              0.3333333333333333,
              "#9c179e"
             ],
             [
              0.4444444444444444,
              "#bd3786"
             ],
             [
              0.5555555555555556,
              "#d8576b"
             ],
             [
              0.6666666666666666,
              "#ed7953"
             ],
             [
              0.7777777777777778,
              "#fb9f3a"
             ],
             [
              0.8888888888888888,
              "#fdca26"
             ],
             [
              1,
              "#f0f921"
             ]
            ],
            "type": "contour"
           }
          ],
          "contourcarpet": [
           {
            "colorbar": {
             "outlinewidth": 0,
             "ticks": ""
            },
            "type": "contourcarpet"
           }
          ],
          "heatmap": [
           {
            "colorbar": {
             "outlinewidth": 0,
             "ticks": ""
            },
            "colorscale": [
             [
              0,
              "#0d0887"
             ],
             [
              0.1111111111111111,
              "#46039f"
             ],
             [
              0.2222222222222222,
              "#7201a8"
             ],
             [
              0.3333333333333333,
              "#9c179e"
             ],
             [
              0.4444444444444444,
              "#bd3786"
             ],
             [
              0.5555555555555556,
              "#d8576b"
             ],
             [
              0.6666666666666666,
              "#ed7953"
             ],
             [
              0.7777777777777778,
              "#fb9f3a"
             ],
             [
              0.8888888888888888,
              "#fdca26"
             ],
             [
              1,
              "#f0f921"
             ]
            ],
            "type": "heatmap"
           }
          ],
          "histogram": [
           {
            "marker": {
             "pattern": {
              "fillmode": "overlay",
              "size": 10,
              "solidity": 0.2
             }
            },
            "type": "histogram"
           }
          ],
          "histogram2d": [
           {
            "colorbar": {
             "outlinewidth": 0,
             "ticks": ""
            },
            "colorscale": [
             [
              0,
              "#0d0887"
             ],
             [
              0.1111111111111111,
              "#46039f"
             ],
             [
              0.2222222222222222,
              "#7201a8"
             ],
             [
              0.3333333333333333,
              "#9c179e"
             ],
             [
              0.4444444444444444,
              "#bd3786"
             ],
             [
              0.5555555555555556,
              "#d8576b"
             ],
             [
              0.6666666666666666,
              "#ed7953"
             ],
             [
              0.7777777777777778,
              "#fb9f3a"
             ],
             [
              0.8888888888888888,
              "#fdca26"
             ],
             [
              1,
              "#f0f921"
             ]
            ],
            "type": "histogram2d"
           }
          ],
          "histogram2dcontour": [
           {
            "colorbar": {
             "outlinewidth": 0,
             "ticks": ""
            },
            "colorscale": [
             [
              0,
              "#0d0887"
             ],
             [
              0.1111111111111111,
              "#46039f"
             ],
             [
              0.2222222222222222,
              "#7201a8"
             ],
             [
              0.3333333333333333,
              "#9c179e"
             ],
             [
              0.4444444444444444,
              "#bd3786"
             ],
             [
              0.5555555555555556,
              "#d8576b"
             ],
             [
              0.6666666666666666,
              "#ed7953"
             ],
             [
              0.7777777777777778,
              "#fb9f3a"
             ],
             [
              0.8888888888888888,
              "#fdca26"
             ],
             [
              1,
              "#f0f921"
             ]
            ],
            "type": "histogram2dcontour"
           }
          ],
          "mesh3d": [
           {
            "colorbar": {
             "outlinewidth": 0,
             "ticks": ""
            },
            "type": "mesh3d"
           }
          ],
          "parcoords": [
           {
            "line": {
             "colorbar": {
              "outlinewidth": 0,
              "ticks": ""
             }
            },
            "type": "parcoords"
           }
          ],
          "pie": [
           {
            "automargin": true,
            "type": "pie"
           }
          ],
          "scatter": [
           {
            "fillpattern": {
             "fillmode": "overlay",
             "size": 10,
             "solidity": 0.2
            },
            "type": "scatter"
           }
          ],
          "scatter3d": [
           {
            "line": {
             "colorbar": {
              "outlinewidth": 0,
              "ticks": ""
             }
            },
            "marker": {
             "colorbar": {
              "outlinewidth": 0,
              "ticks": ""
             }
            },
            "type": "scatter3d"
           }
          ],
          "scattercarpet": [
           {
            "marker": {
             "colorbar": {
              "outlinewidth": 0,
              "ticks": ""
             }
            },
            "type": "scattercarpet"
           }
          ],
          "scattergeo": [
           {
            "marker": {
             "colorbar": {
              "outlinewidth": 0,
              "ticks": ""
             }
            },
            "type": "scattergeo"
           }
          ],
          "scattergl": [
           {
            "marker": {
             "colorbar": {
              "outlinewidth": 0,
              "ticks": ""
             }
            },
            "type": "scattergl"
           }
          ],
          "scattermap": [
           {
            "marker": {
             "colorbar": {
              "outlinewidth": 0,
              "ticks": ""
             }
            },
            "type": "scattermap"
           }
          ],
          "scattermapbox": [
           {
            "marker": {
             "colorbar": {
              "outlinewidth": 0,
              "ticks": ""
             }
            },
            "type": "scattermapbox"
           }
          ],
          "scatterpolar": [
           {
            "marker": {
             "colorbar": {
              "outlinewidth": 0,
              "ticks": ""
             }
            },
            "type": "scatterpolar"
           }
          ],
          "scatterpolargl": [
           {
            "marker": {
             "colorbar": {
              "outlinewidth": 0,
              "ticks": ""
             }
            },
            "type": "scatterpolargl"
           }
          ],
          "scatterternary": [
           {
            "marker": {
             "colorbar": {
              "outlinewidth": 0,
              "ticks": ""
             }
            },
            "type": "scatterternary"
           }
          ],
          "surface": [
           {
            "colorbar": {
             "outlinewidth": 0,
             "ticks": ""
            },
            "colorscale": [
             [
              0,
              "#0d0887"
             ],
             [
              0.1111111111111111,
              "#46039f"
             ],
             [
              0.2222222222222222,
              "#7201a8"
             ],
             [
              0.3333333333333333,
              "#9c179e"
             ],
             [
              0.4444444444444444,
              "#bd3786"
             ],
             [
              0.5555555555555556,
              "#d8576b"
             ],
             [
              0.6666666666666666,
              "#ed7953"
             ],
             [
              0.7777777777777778,
              "#fb9f3a"
             ],
             [
              0.8888888888888888,
              "#fdca26"
             ],
             [
              1,
              "#f0f921"
             ]
            ],
            "type": "surface"
           }
          ],
          "table": [
           {
            "cells": {
             "fill": {
              "color": "#EBF0F8"
             },
             "line": {
              "color": "white"
             }
            },
            "header": {
             "fill": {
              "color": "#C8D4E3"
             },
             "line": {
              "color": "white"
             }
            },
            "type": "table"
           }
          ]
         },
         "layout": {
          "annotationdefaults": {
           "arrowcolor": "#2a3f5f",
           "arrowhead": 0,
           "arrowwidth": 1
          },
          "autotypenumbers": "strict",
          "coloraxis": {
           "colorbar": {
            "outlinewidth": 0,
            "ticks": ""
           }
          },
          "colorscale": {
           "diverging": [
            [
             0,
             "#8e0152"
            ],
            [
             0.1,
             "#c51b7d"
            ],
            [
             0.2,
             "#de77ae"
            ],
            [
             0.3,
             "#f1b6da"
            ],
            [
             0.4,
             "#fde0ef"
            ],
            [
             0.5,
             "#f7f7f7"
            ],
            [
             0.6,
             "#e6f5d0"
            ],
            [
             0.7,
             "#b8e186"
            ],
            [
             0.8,
             "#7fbc41"
            ],
            [
             0.9,
             "#4d9221"
            ],
            [
             1,
             "#276419"
            ]
           ],
           "sequential": [
            [
             0,
             "#0d0887"
            ],
            [
             0.1111111111111111,
             "#46039f"
            ],
            [
             0.2222222222222222,
             "#7201a8"
            ],
            [
             0.3333333333333333,
             "#9c179e"
            ],
            [
             0.4444444444444444,
             "#bd3786"
            ],
            [
             0.5555555555555556,
             "#d8576b"
            ],
            [
             0.6666666666666666,
             "#ed7953"
            ],
            [
             0.7777777777777778,
             "#fb9f3a"
            ],
            [
             0.8888888888888888,
             "#fdca26"
            ],
            [
             1,
             "#f0f921"
            ]
           ],
           "sequentialminus": [
            [
             0,
             "#0d0887"
            ],
            [
             0.1111111111111111,
             "#46039f"
            ],
            [
             0.2222222222222222,
             "#7201a8"
            ],
            [
             0.3333333333333333,
             "#9c179e"
            ],
            [
             0.4444444444444444,
             "#bd3786"
            ],
            [
             0.5555555555555556,
             "#d8576b"
            ],
            [
             0.6666666666666666,
             "#ed7953"
            ],
            [
             0.7777777777777778,
             "#fb9f3a"
            ],
            [
             0.8888888888888888,
             "#fdca26"
            ],
            [
             1,
             "#f0f921"
            ]
           ]
          },
          "colorway": [
           "#636efa",
           "#EF553B",
           "#00cc96",
           "#ab63fa",
           "#FFA15A",
           "#19d3f3",
           "#FF6692",
           "#B6E880",
           "#FF97FF",
           "#FECB52"
          ],
          "font": {
           "color": "#2a3f5f"
          },
          "geo": {
           "bgcolor": "white",
           "lakecolor": "white",
           "landcolor": "white",
           "showlakes": true,
           "showland": true,
           "subunitcolor": "#C8D4E3"
          },
          "hoverlabel": {
           "align": "left"
          },
          "hovermode": "closest",
          "mapbox": {
           "style": "light"
          },
          "paper_bgcolor": "white",
          "plot_bgcolor": "white",
          "polar": {
           "angularaxis": {
            "gridcolor": "#EBF0F8",
            "linecolor": "#EBF0F8",
            "ticks": ""
           },
           "bgcolor": "white",
           "radialaxis": {
            "gridcolor": "#EBF0F8",
            "linecolor": "#EBF0F8",
            "ticks": ""
           }
          },
          "scene": {
           "xaxis": {
            "backgroundcolor": "white",
            "gridcolor": "#DFE8F3",
            "gridwidth": 2,
            "linecolor": "#EBF0F8",
            "showbackground": true,
            "ticks": "",
            "zerolinecolor": "#EBF0F8"
           },
           "yaxis": {
            "backgroundcolor": "white",
            "gridcolor": "#DFE8F3",
            "gridwidth": 2,
            "linecolor": "#EBF0F8",
            "showbackground": true,
            "ticks": "",
            "zerolinecolor": "#EBF0F8"
           },
           "zaxis": {
            "backgroundcolor": "white",
            "gridcolor": "#DFE8F3",
            "gridwidth": 2,
            "linecolor": "#EBF0F8",
            "showbackground": true,
            "ticks": "",
            "zerolinecolor": "#EBF0F8"
           }
          },
          "shapedefaults": {
           "line": {
            "color": "#2a3f5f"
           }
          },
          "ternary": {
           "aaxis": {
            "gridcolor": "#DFE8F3",
            "linecolor": "#A2B1C6",
            "ticks": ""
           },
           "baxis": {
            "gridcolor": "#DFE8F3",
            "linecolor": "#A2B1C6",
            "ticks": ""
           },
           "bgcolor": "white",
           "caxis": {
            "gridcolor": "#DFE8F3",
            "linecolor": "#A2B1C6",
            "ticks": ""
           }
          },
          "title": {
           "x": 0.05
          },
          "xaxis": {
           "automargin": true,
           "gridcolor": "#EBF0F8",
           "linecolor": "#EBF0F8",
           "ticks": "",
           "title": {
            "standoff": 15
           },
           "zerolinecolor": "#EBF0F8",
           "zerolinewidth": 2
          },
          "yaxis": {
           "automargin": true,
           "gridcolor": "#EBF0F8",
           "linecolor": "#EBF0F8",
           "ticks": "",
           "title": {
            "standoff": 15
           },
           "zerolinecolor": "#EBF0F8",
           "zerolinewidth": 2
          }
         }
        },
        "title": {
         "font": {
          "color": "Black",
          "size": 22
         },
         "text": "<b>Hierarchical Clustering</b>",
         "x": 0.5,
         "xanchor": "center",
         "yanchor": "top"
        },
        "width": 1000,
        "xaxis": {
         "mirror": "allticks",
         "rangemode": "tozero",
         "showgrid": false,
         "showline": true,
         "showticklabels": true,
         "ticks": "outside",
         "type": "linear",
         "zeroline": false
        },
        "yaxis": {
         "mirror": "allticks",
         "range": [
          -190,
          0
         ],
         "rangemode": "tozero",
         "showgrid": false,
         "showline": true,
         "showticklabels": true,
         "tickmode": "array",
         "ticks": "outside",
         "ticktext": [
          "12_amazon_br_product",
          "4_pedal_pedals_sustain",
          "1_great_good_works",
          "0_guitar_br_mic",
          "2_arm_br_blue",
          "3_cable_strings_winder",
          "8_bench_shoulder_comfortable",
          "10_gift_loved_great gift",
          "6_love_loves_love love",
          "5_bowl_singing_singing bowl",
          "14_play_ernie_ernie ball",
          "7_picks_variety_pick",
          "16_pay_pay pay_pay pay pay",
          "18_craftsmanship_craftsmans...",
          "17_bulbs_light_bulb",
          "15_just needed_needed just_...",
          "11_advertised_advertised wo...",
          "9_does_job_does job",
          "13_expected_expected expect..."
         ],
         "tickvals": [
          -5,
          -15,
          -25,
          -35,
          -45,
          -55,
          -65,
          -75,
          -85,
          -95,
          -105,
          -115,
          -125,
          -135,
          -145,
          -155,
          -165,
          -175,
          -185
         ],
         "type": "linear",
         "zeroline": false
        }
       }
      },
      "text/html": [
       "<div>                        <script type=\"text/javascript\">window.PlotlyConfig = {MathJaxConfig: 'local'};</script>\n",
       "        <script charset=\"utf-8\" src=\"https://cdn.plot.ly/plotly-3.0.1.min.js\"></script>                <div id=\"b3a0ef9e-1586-4df4-be65-9720922bff3b\" class=\"plotly-graph-div\" style=\"height:485px; width:1000px;\"></div>            <script type=\"text/javascript\">                window.PLOTLYENV=window.PLOTLYENV || {};                                if (document.getElementById(\"b3a0ef9e-1586-4df4-be65-9720922bff3b\")) {                    Plotly.newPlot(                        \"b3a0ef9e-1586-4df4-be65-9720922bff3b\",                        [{\"hoverinfo\":\"text\",\"marker\":{\"color\":\"rgb(61,153,112)\"},\"mode\":\"lines\",\"x\":{\"dtype\":\"f8\",\"bdata\":\"AAAAAAAAAAAEQwJ89FjTPwRDAnz0WNM\\u002fAAAAAAAAAAA=\"},\"xaxis\":\"x\",\"y\":{\"dtype\":\"f8\",\"bdata\":\"AAAAAACAQcAAAAAAAIBBwAAAAAAAgEbAAAAAAACARsA=\"},\"yaxis\":\"y\",\"type\":\"scatter\"},{\"hoverinfo\":\"text\",\"marker\":{\"color\":\"rgb(61,153,112)\"},\"mode\":\"lines\",\"x\":{\"dtype\":\"f8\",\"bdata\":\"AAAAAAAAAABo2yZev9rgP2jbJl6\\u002f2uA\\u002fBEMCfPRY0z8=\"},\"xaxis\":\"x\",\"y\":{\"dtype\":\"f8\",\"bdata\":\"AAAAAAAAOcAAAAAAAAA5wAAAAAAAAETAAAAAAAAARMA=\"},\"yaxis\":\"y\",\"type\":\"scatter\"},{\"hoverinfo\":\"text\",\"marker\":{\"color\":\"rgb(61,153,112)\"},\"mode\":\"lines\",\"x\":{\"dtype\":\"f8\",\"bdata\":\"aNsmXr\\u002fa4D\\u002f1WMmyeXvjP\\u002fVYybJ5e+M\\u002fAAAAAAAAAAA=\"},\"xaxis\":\"x\",\"y\":{\"dtype\":\"f8\",\"bdata\":\"AAAAAABAQMAAAAAAAEBAwAAAAAAAgEvAAAAAAACAS8A=\"},\"yaxis\":\"y\",\"type\":\"scatter\"},{\"hoverinfo\":\"text\",\"marker\":{\"color\":\"rgb(61,153,112)\"},\"mode\":\"lines\",\"x\":{\"dtype\":\"f8\",\"bdata\":\"AAAAAAAAAAAAeESGHvjoPwB4RIYe+Og\\u002f9VjJsnl74z8=\"},\"xaxis\":\"x\",\"y\":{\"dtype\":\"f8\",\"bdata\":\"AAAAAAAALsAAAAAAAAAuwAAAAAAA4EXAAAAAAADgRcA=\"},\"yaxis\":\"y\",\"type\":\"scatter\"},{\"hoverinfo\":\"text\",\"marker\":{\"color\":\"rgb(61,153,112)\"},\"mode\":\"lines\",\"x\":{\"dtype\":\"f8\",\"bdata\":\"AHhEhh746D9DG6Hztm3rP0MbofO2bes\\u002fAAAAAAAAAAA=\"},\"xaxis\":\"x\",\"y\":{\"dtype\":\"f8\",\"bdata\":\"AAAAAABgPcAAAAAAAGA9wAAAAAAAQFDAAAAAAABAUMA=\"},\"yaxis\":\"y\",\"type\":\"scatter\"},{\"hoverinfo\":\"text\",\"marker\":{\"color\":\"rgb(61,153,112)\"},\"mode\":\"lines\",\"x\":{\"dtype\":\"f8\",\"bdata\":\"AAAAAAAAAACL8Mr3qffrP4vwyvep9+s\\u002fQxuh87Zt6z8=\"},\"xaxis\":\"x\",\"y\":{\"dtype\":\"f8\",\"bdata\":\"AAAAAAAAFMAAAAAAAAAUwAAAAAAAmEfAAAAAAACYR8A=\"},\"yaxis\":\"y\",\"type\":\"scatter\"},{\"hoverinfo\":\"text\",\"marker\":{\"color\":\"rgb(255,65,54)\"},\"mode\":\"lines\",\"x\":{\"dtype\":\"f8\",\"bdata\":\"AAAAAAAAAADLEEyZMY7pP8sQTJkxjuk\\u002fAAAAAAAAAAA=\"},\"xaxis\":\"x\",\"y\":{\"dtype\":\"f8\",\"bdata\":\"AAAAAADAUsAAAAAAAMBSwAAAAAAAQFXAAAAAAABAVcA=\"},\"yaxis\":\"y\",\"type\":\"scatter\"},{\"hoverinfo\":\"text\",\"marker\":{\"color\":\"rgb(255,65,54)\"},\"mode\":\"lines\",\"x\":{\"dtype\":\"f8\",\"bdata\":\"AAAAAAAAAAC2FaEfCN3rP7YVoR8I3es\\u002fAAAAAAAAAAA=\"},\"xaxis\":\"x\",\"y\":{\"dtype\":\"f8\",\"bdata\":\"AAAAAADAV8AAAAAAAMBXwAAAAAAAQFrAAAAAAABAWsA=\"},\"yaxis\":\"y\",\"type\":\"scatter\"},{\"hoverinfo\":\"text\",\"marker\":{\"color\":\"rgb(255,65,54)\"},\"mode\":\"lines\",\"x\":{\"dtype\":\"f8\",\"bdata\":\"thWhHwjd6z\\u002fAua94FtfsP8C5r3gW1+w\\u002fAAAAAAAAAAA=\"},\"xaxis\":\"x\",\"y\":{\"dtype\":\"f8\",\"bdata\":\"AAAAAAAAWcAAAAAAAABZwAAAAAAAwFzAAAAAAADAXMA=\"},\"yaxis\":\"y\",\"type\":\"scatter\"},{\"hoverinfo\":\"text\",\"marker\":{\"color\":\"rgb(255,65,54)\"},\"mode\":\"lines\",\"x\":{\"dtype\":\"f8\",\"bdata\":\"yxBMmTGO6T9V9FyWc3zuP1X0XJZzfO4\\u002fwLmveBbX7D8=\"},\"xaxis\":\"x\",\"y\":{\"dtype\":\"f8\",\"bdata\":\"AAAAAAAAVMAAAAAAAABUwAAAAAAA4FrAAAAAAADgWsA=\"},\"yaxis\":\"y\",\"type\":\"scatter\"},{\"hoverinfo\":\"text\",\"marker\":{\"color\":\"rgb(35,205,205)\"},\"mode\":\"lines\",\"x\":{\"dtype\":\"f8\",\"bdata\":\"AAAAAAAAAABuxF21z1\\u002fvP27EXbXPX+8\\u002fAAAAAAAAAAA=\"},\"xaxis\":\"x\",\"y\":{\"dtype\":\"f8\",\"bdata\":\"AAAAAABAX8AAAAAAAEBfwAAAAAAA4GDAAAAAAADgYMA=\"},\"yaxis\":\"y\",\"type\":\"scatter\"},{\"hoverinfo\":\"text\",\"marker\":{\"color\":\"rgb(35,205,205)\"},\"mode\":\"lines\",\"x\":{\"dtype\":\"f8\",\"bdata\":\"AAAAAAAAAABxo2fKcXfvP3GjZ8pxd+8\\u002fAAAAAAAAAAA=\"},\"xaxis\":\"x\",\"y\":{\"dtype\":\"f8\",\"bdata\":\"AAAAAAAgYsAAAAAAACBiwAAAAAAAYGPAAAAAAABgY8A=\"},\"yaxis\":\"y\",\"type\":\"scatter\"},{\"hoverinfo\":\"text\",\"marker\":{\"color\":\"rgb(35,205,205)\"},\"mode\":\"lines\",\"x\":{\"dtype\":\"f8\",\"bdata\":\"bsRdtc9f7z+3dwcG3\\u002fLvP7d3Bwbf8u8\\u002fcaNnynF37z8=\"},\"xaxis\":\"x\",\"y\":{\"dtype\":\"f8\",\"bdata\":\"AAAAAABAYMAAAAAAAEBgwAAAAAAAwGLAAAAAAADAYsA=\"},\"yaxis\":\"y\",\"type\":\"scatter\"},{\"hoverinfo\":\"text\",\"marker\":{\"color\":\"rgb(133,20,75)\"},\"mode\":\"lines\",\"x\":{\"dtype\":\"f8\",\"bdata\":\"AAAAAAAAAAD5m7DSZLXuP\\u002fmbsNJkte4\\u002fAAAAAAAAAAA=\"},\"xaxis\":\"x\",\"y\":{\"dtype\":\"f8\",\"bdata\":\"AAAAAACgZMAAAAAAAKBkwAAAAAAA4GXAAAAAAADgZcA=\"},\"yaxis\":\"y\",\"type\":\"scatter\"},{\"hoverinfo\":\"text\",\"marker\":{\"color\":\"rgb(133,20,75)\"},\"mode\":\"lines\",\"x\":{\"dtype\":\"f8\",\"bdata\":\"+Zuw0mS17j+mPIyXXWvvP6Y8jJdda+8\\u002fAAAAAAAAAAA=\"},\"xaxis\":\"x\",\"y\":{\"dtype\":\"f8\",\"bdata\":\"AAAAAABAZcAAAAAAAEBlwAAAAAAAIGfAAAAAAAAgZ8A=\"},\"yaxis\":\"y\",\"type\":\"scatter\"},{\"hoverinfo\":\"text\",\"marker\":{\"color\":\"rgb(0,116,217)\"},\"mode\":\"lines\",\"x\":{\"dtype\":\"f8\",\"bdata\":\"t3cHBt\\u002fy7z+\\u002fMTc9ZzjwP78xNz1nOPA\\u002fpjyMl11r7z8=\"},\"xaxis\":\"x\",\"y\":{\"dtype\":\"f8\",\"bdata\":\"AAAAAACAYcAAAAAAAIBhwAAAAAAAMGbAAAAAAAAwZsA=\"},\"yaxis\":\"y\",\"type\":\"scatter\"},{\"hoverinfo\":\"text\",\"marker\":{\"color\":\"rgb(0,116,217)\"},\"mode\":\"lines\",\"x\":{\"dtype\":\"f8\",\"bdata\":\"VfRclnN87j\\u002fA5oFIwmryP8DmgUjCavI\\u002fvzE3PWc48D8=\"},\"xaxis\":\"x\",\"y\":{\"dtype\":\"f8\",\"bdata\":\"AAAAAABwV8AAAAAAAHBXwAAAAAAA2GPAAAAAAADYY8A=\"},\"yaxis\":\"y\",\"type\":\"scatter\"},{\"hoverinfo\":\"text\",\"marker\":{\"color\":\"rgb(0,116,217)\"},\"mode\":\"lines\",\"x\":{\"dtype\":\"f8\",\"bdata\":\"i\\u002fDK96n36z\\u002f5wdTvFw71P\\u002fnB1O8XDvU\\u002fwOaBSMJq8j8=\"},\"xaxis\":\"x\",\"y\":{\"dtype\":\"f8\",\"bdata\":\"AAAAAAAYOsAAAAAAABg6wAAAAAAAkF\\u002fAAAAAAACQX8A=\"},\"yaxis\":\"y\",\"type\":\"scatter\"}],                        {\"autosize\":false,\"height\":485,\"hovermode\":\"closest\",\"showlegend\":false,\"width\":1000,\"xaxis\":{\"mirror\":\"allticks\",\"rangemode\":\"tozero\",\"showgrid\":false,\"showline\":true,\"showticklabels\":true,\"ticks\":\"outside\",\"type\":\"linear\",\"zeroline\":false},\"yaxis\":{\"mirror\":\"allticks\",\"rangemode\":\"tozero\",\"showgrid\":false,\"showline\":true,\"showticklabels\":true,\"tickmode\":\"array\",\"ticks\":\"outside\",\"ticktext\":[\"12_amazon_br_product\",\"4_pedal_pedals_sustain\",\"1_great_good_works\",\"0_guitar_br_mic\",\"2_arm_br_blue\",\"3_cable_strings_winder\",\"8_bench_shoulder_comfortable\",\"10_gift_loved_great gift\",\"6_love_loves_love love\",\"5_bowl_singing_singing bowl\",\"14_play_ernie_ernie ball\",\"7_picks_variety_pick\",\"16_pay_pay pay_pay pay pay\",\"18_craftsmanship_craftsmans...\",\"17_bulbs_light_bulb\",\"15_just needed_needed just_...\",\"11_advertised_advertised wo...\",\"9_does_job_does job\",\"13_expected_expected expect...\"],\"tickvals\":[-5.0,-15.0,-25.0,-35.0,-45.0,-55.0,-65.0,-75.0,-85.0,-95.0,-105.0,-115.0,-125.0,-135.0,-145.0,-155.0,-165.0,-175.0,-185.0],\"type\":\"linear\",\"zeroline\":false,\"range\":[-190.0,0.0]},\"template\":{\"data\":{\"barpolar\":[{\"marker\":{\"line\":{\"color\":\"white\",\"width\":0.5},\"pattern\":{\"fillmode\":\"overlay\",\"size\":10,\"solidity\":0.2}},\"type\":\"barpolar\"}],\"bar\":[{\"error_x\":{\"color\":\"#2a3f5f\"},\"error_y\":{\"color\":\"#2a3f5f\"},\"marker\":{\"line\":{\"color\":\"white\",\"width\":0.5},\"pattern\":{\"fillmode\":\"overlay\",\"size\":10,\"solidity\":0.2}},\"type\":\"bar\"}],\"carpet\":[{\"aaxis\":{\"endlinecolor\":\"#2a3f5f\",\"gridcolor\":\"#C8D4E3\",\"linecolor\":\"#C8D4E3\",\"minorgridcolor\":\"#C8D4E3\",\"startlinecolor\":\"#2a3f5f\"},\"baxis\":{\"endlinecolor\":\"#2a3f5f\",\"gridcolor\":\"#C8D4E3\",\"linecolor\":\"#C8D4E3\",\"minorgridcolor\":\"#C8D4E3\",\"startlinecolor\":\"#2a3f5f\"},\"type\":\"carpet\"}],\"choropleth\":[{\"colorbar\":{\"outlinewidth\":0,\"ticks\":\"\"},\"type\":\"choropleth\"}],\"contourcarpet\":[{\"colorbar\":{\"outlinewidth\":0,\"ticks\":\"\"},\"type\":\"contourcarpet\"}],\"contour\":[{\"colorbar\":{\"outlinewidth\":0,\"ticks\":\"\"},\"colorscale\":[[0.0,\"#0d0887\"],[0.1111111111111111,\"#46039f\"],[0.2222222222222222,\"#7201a8\"],[0.3333333333333333,\"#9c179e\"],[0.4444444444444444,\"#bd3786\"],[0.5555555555555556,\"#d8576b\"],[0.6666666666666666,\"#ed7953\"],[0.7777777777777778,\"#fb9f3a\"],[0.8888888888888888,\"#fdca26\"],[1.0,\"#f0f921\"]],\"type\":\"contour\"}],\"heatmap\":[{\"colorbar\":{\"outlinewidth\":0,\"ticks\":\"\"},\"colorscale\":[[0.0,\"#0d0887\"],[0.1111111111111111,\"#46039f\"],[0.2222222222222222,\"#7201a8\"],[0.3333333333333333,\"#9c179e\"],[0.4444444444444444,\"#bd3786\"],[0.5555555555555556,\"#d8576b\"],[0.6666666666666666,\"#ed7953\"],[0.7777777777777778,\"#fb9f3a\"],[0.8888888888888888,\"#fdca26\"],[1.0,\"#f0f921\"]],\"type\":\"heatmap\"}],\"histogram2dcontour\":[{\"colorbar\":{\"outlinewidth\":0,\"ticks\":\"\"},\"colorscale\":[[0.0,\"#0d0887\"],[0.1111111111111111,\"#46039f\"],[0.2222222222222222,\"#7201a8\"],[0.3333333333333333,\"#9c179e\"],[0.4444444444444444,\"#bd3786\"],[0.5555555555555556,\"#d8576b\"],[0.6666666666666666,\"#ed7953\"],[0.7777777777777778,\"#fb9f3a\"],[0.8888888888888888,\"#fdca26\"],[1.0,\"#f0f921\"]],\"type\":\"histogram2dcontour\"}],\"histogram2d\":[{\"colorbar\":{\"outlinewidth\":0,\"ticks\":\"\"},\"colorscale\":[[0.0,\"#0d0887\"],[0.1111111111111111,\"#46039f\"],[0.2222222222222222,\"#7201a8\"],[0.3333333333333333,\"#9c179e\"],[0.4444444444444444,\"#bd3786\"],[0.5555555555555556,\"#d8576b\"],[0.6666666666666666,\"#ed7953\"],[0.7777777777777778,\"#fb9f3a\"],[0.8888888888888888,\"#fdca26\"],[1.0,\"#f0f921\"]],\"type\":\"histogram2d\"}],\"histogram\":[{\"marker\":{\"pattern\":{\"fillmode\":\"overlay\",\"size\":10,\"solidity\":0.2}},\"type\":\"histogram\"}],\"mesh3d\":[{\"colorbar\":{\"outlinewidth\":0,\"ticks\":\"\"},\"type\":\"mesh3d\"}],\"parcoords\":[{\"line\":{\"colorbar\":{\"outlinewidth\":0,\"ticks\":\"\"}},\"type\":\"parcoords\"}],\"pie\":[{\"automargin\":true,\"type\":\"pie\"}],\"scatter3d\":[{\"line\":{\"colorbar\":{\"outlinewidth\":0,\"ticks\":\"\"}},\"marker\":{\"colorbar\":{\"outlinewidth\":0,\"ticks\":\"\"}},\"type\":\"scatter3d\"}],\"scattercarpet\":[{\"marker\":{\"colorbar\":{\"outlinewidth\":0,\"ticks\":\"\"}},\"type\":\"scattercarpet\"}],\"scattergeo\":[{\"marker\":{\"colorbar\":{\"outlinewidth\":0,\"ticks\":\"\"}},\"type\":\"scattergeo\"}],\"scattergl\":[{\"marker\":{\"colorbar\":{\"outlinewidth\":0,\"ticks\":\"\"}},\"type\":\"scattergl\"}],\"scattermapbox\":[{\"marker\":{\"colorbar\":{\"outlinewidth\":0,\"ticks\":\"\"}},\"type\":\"scattermapbox\"}],\"scattermap\":[{\"marker\":{\"colorbar\":{\"outlinewidth\":0,\"ticks\":\"\"}},\"type\":\"scattermap\"}],\"scatterpolargl\":[{\"marker\":{\"colorbar\":{\"outlinewidth\":0,\"ticks\":\"\"}},\"type\":\"scatterpolargl\"}],\"scatterpolar\":[{\"marker\":{\"colorbar\":{\"outlinewidth\":0,\"ticks\":\"\"}},\"type\":\"scatterpolar\"}],\"scatter\":[{\"fillpattern\":{\"fillmode\":\"overlay\",\"size\":10,\"solidity\":0.2},\"type\":\"scatter\"}],\"scatterternary\":[{\"marker\":{\"colorbar\":{\"outlinewidth\":0,\"ticks\":\"\"}},\"type\":\"scatterternary\"}],\"surface\":[{\"colorbar\":{\"outlinewidth\":0,\"ticks\":\"\"},\"colorscale\":[[0.0,\"#0d0887\"],[0.1111111111111111,\"#46039f\"],[0.2222222222222222,\"#7201a8\"],[0.3333333333333333,\"#9c179e\"],[0.4444444444444444,\"#bd3786\"],[0.5555555555555556,\"#d8576b\"],[0.6666666666666666,\"#ed7953\"],[0.7777777777777778,\"#fb9f3a\"],[0.8888888888888888,\"#fdca26\"],[1.0,\"#f0f921\"]],\"type\":\"surface\"}],\"table\":[{\"cells\":{\"fill\":{\"color\":\"#EBF0F8\"},\"line\":{\"color\":\"white\"}},\"header\":{\"fill\":{\"color\":\"#C8D4E3\"},\"line\":{\"color\":\"white\"}},\"type\":\"table\"}]},\"layout\":{\"annotationdefaults\":{\"arrowcolor\":\"#2a3f5f\",\"arrowhead\":0,\"arrowwidth\":1},\"autotypenumbers\":\"strict\",\"coloraxis\":{\"colorbar\":{\"outlinewidth\":0,\"ticks\":\"\"}},\"colorscale\":{\"diverging\":[[0,\"#8e0152\"],[0.1,\"#c51b7d\"],[0.2,\"#de77ae\"],[0.3,\"#f1b6da\"],[0.4,\"#fde0ef\"],[0.5,\"#f7f7f7\"],[0.6,\"#e6f5d0\"],[0.7,\"#b8e186\"],[0.8,\"#7fbc41\"],[0.9,\"#4d9221\"],[1,\"#276419\"]],\"sequential\":[[0.0,\"#0d0887\"],[0.1111111111111111,\"#46039f\"],[0.2222222222222222,\"#7201a8\"],[0.3333333333333333,\"#9c179e\"],[0.4444444444444444,\"#bd3786\"],[0.5555555555555556,\"#d8576b\"],[0.6666666666666666,\"#ed7953\"],[0.7777777777777778,\"#fb9f3a\"],[0.8888888888888888,\"#fdca26\"],[1.0,\"#f0f921\"]],\"sequentialminus\":[[0.0,\"#0d0887\"],[0.1111111111111111,\"#46039f\"],[0.2222222222222222,\"#7201a8\"],[0.3333333333333333,\"#9c179e\"],[0.4444444444444444,\"#bd3786\"],[0.5555555555555556,\"#d8576b\"],[0.6666666666666666,\"#ed7953\"],[0.7777777777777778,\"#fb9f3a\"],[0.8888888888888888,\"#fdca26\"],[1.0,\"#f0f921\"]]},\"colorway\":[\"#636efa\",\"#EF553B\",\"#00cc96\",\"#ab63fa\",\"#FFA15A\",\"#19d3f3\",\"#FF6692\",\"#B6E880\",\"#FF97FF\",\"#FECB52\"],\"font\":{\"color\":\"#2a3f5f\"},\"geo\":{\"bgcolor\":\"white\",\"lakecolor\":\"white\",\"landcolor\":\"white\",\"showlakes\":true,\"showland\":true,\"subunitcolor\":\"#C8D4E3\"},\"hoverlabel\":{\"align\":\"left\"},\"hovermode\":\"closest\",\"mapbox\":{\"style\":\"light\"},\"paper_bgcolor\":\"white\",\"plot_bgcolor\":\"white\",\"polar\":{\"angularaxis\":{\"gridcolor\":\"#EBF0F8\",\"linecolor\":\"#EBF0F8\",\"ticks\":\"\"},\"bgcolor\":\"white\",\"radialaxis\":{\"gridcolor\":\"#EBF0F8\",\"linecolor\":\"#EBF0F8\",\"ticks\":\"\"}},\"scene\":{\"xaxis\":{\"backgroundcolor\":\"white\",\"gridcolor\":\"#DFE8F3\",\"gridwidth\":2,\"linecolor\":\"#EBF0F8\",\"showbackground\":true,\"ticks\":\"\",\"zerolinecolor\":\"#EBF0F8\"},\"yaxis\":{\"backgroundcolor\":\"white\",\"gridcolor\":\"#DFE8F3\",\"gridwidth\":2,\"linecolor\":\"#EBF0F8\",\"showbackground\":true,\"ticks\":\"\",\"zerolinecolor\":\"#EBF0F8\"},\"zaxis\":{\"backgroundcolor\":\"white\",\"gridcolor\":\"#DFE8F3\",\"gridwidth\":2,\"linecolor\":\"#EBF0F8\",\"showbackground\":true,\"ticks\":\"\",\"zerolinecolor\":\"#EBF0F8\"}},\"shapedefaults\":{\"line\":{\"color\":\"#2a3f5f\"}},\"ternary\":{\"aaxis\":{\"gridcolor\":\"#DFE8F3\",\"linecolor\":\"#A2B1C6\",\"ticks\":\"\"},\"baxis\":{\"gridcolor\":\"#DFE8F3\",\"linecolor\":\"#A2B1C6\",\"ticks\":\"\"},\"bgcolor\":\"white\",\"caxis\":{\"gridcolor\":\"#DFE8F3\",\"linecolor\":\"#A2B1C6\",\"ticks\":\"\"}},\"title\":{\"x\":0.05},\"xaxis\":{\"automargin\":true,\"gridcolor\":\"#EBF0F8\",\"linecolor\":\"#EBF0F8\",\"ticks\":\"\",\"title\":{\"standoff\":15},\"zerolinecolor\":\"#EBF0F8\",\"zerolinewidth\":2},\"yaxis\":{\"automargin\":true,\"gridcolor\":\"#EBF0F8\",\"linecolor\":\"#EBF0F8\",\"ticks\":\"\",\"title\":{\"standoff\":15},\"zerolinecolor\":\"#EBF0F8\",\"zerolinewidth\":2}}},\"title\":{\"font\":{\"size\":22,\"color\":\"Black\"},\"text\":\"\\u003cb\\u003eHierarchical Clustering\\u003c\\u002fb\\u003e\",\"x\":0.5,\"xanchor\":\"center\",\"yanchor\":\"top\"},\"hoverlabel\":{\"font\":{\"size\":16,\"family\":\"Rockwell\"},\"bgcolor\":\"white\"},\"plot_bgcolor\":\"#ECEFF1\"},                        {\"responsive\": true}                    )                };            </script>        </div>"
      ],
      "text/plain": [
       "Figure({\n",
       "    'data': [{'hoverinfo': 'text',\n",
       "              'marker': {'color': 'rgb(61,153,112)'},\n",
       "              'mode': 'lines',\n",
       "              'type': 'scatter',\n",
       "              'x': {'bdata': 'AAAAAAAAAAAEQwJ89FjTPwRDAnz0WNM/AAAAAAAAAAA=', 'dtype': 'f8'},\n",
       "              'xaxis': 'x',\n",
       "              'y': {'bdata': 'AAAAAACAQcAAAAAAAIBBwAAAAAAAgEbAAAAAAACARsA=', 'dtype': 'f8'},\n",
       "              'yaxis': 'y'},\n",
       "             {'hoverinfo': 'text',\n",
       "              'marker': {'color': 'rgb(61,153,112)'},\n",
       "              'mode': 'lines',\n",
       "              'type': 'scatter',\n",
       "              'x': {'bdata': 'AAAAAAAAAABo2yZev9rgP2jbJl6/2uA/BEMCfPRY0z8=', 'dtype': 'f8'},\n",
       "              'xaxis': 'x',\n",
       "              'y': {'bdata': 'AAAAAAAAOcAAAAAAAAA5wAAAAAAAAETAAAAAAAAARMA=', 'dtype': 'f8'},\n",
       "              'yaxis': 'y'},\n",
       "             {'hoverinfo': 'text',\n",
       "              'marker': {'color': 'rgb(61,153,112)'},\n",
       "              'mode': 'lines',\n",
       "              'type': 'scatter',\n",
       "              'x': {'bdata': 'aNsmXr/a4D/1WMmyeXvjP/VYybJ5e+M/AAAAAAAAAAA=', 'dtype': 'f8'},\n",
       "              'xaxis': 'x',\n",
       "              'y': {'bdata': 'AAAAAABAQMAAAAAAAEBAwAAAAAAAgEvAAAAAAACAS8A=', 'dtype': 'f8'},\n",
       "              'yaxis': 'y'},\n",
       "             {'hoverinfo': 'text',\n",
       "              'marker': {'color': 'rgb(61,153,112)'},\n",
       "              'mode': 'lines',\n",
       "              'type': 'scatter',\n",
       "              'x': {'bdata': 'AAAAAAAAAAAAeESGHvjoPwB4RIYe+Og/9VjJsnl74z8=', 'dtype': 'f8'},\n",
       "              'xaxis': 'x',\n",
       "              'y': {'bdata': 'AAAAAAAALsAAAAAAAAAuwAAAAAAA4EXAAAAAAADgRcA=', 'dtype': 'f8'},\n",
       "              'yaxis': 'y'},\n",
       "             {'hoverinfo': 'text',\n",
       "              'marker': {'color': 'rgb(61,153,112)'},\n",
       "              'mode': 'lines',\n",
       "              'type': 'scatter',\n",
       "              'x': {'bdata': 'AHhEhh746D9DG6Hztm3rP0MbofO2bes/AAAAAAAAAAA=', 'dtype': 'f8'},\n",
       "              'xaxis': 'x',\n",
       "              'y': {'bdata': 'AAAAAABgPcAAAAAAAGA9wAAAAAAAQFDAAAAAAABAUMA=', 'dtype': 'f8'},\n",
       "              'yaxis': 'y'},\n",
       "             {'hoverinfo': 'text',\n",
       "              'marker': {'color': 'rgb(61,153,112)'},\n",
       "              'mode': 'lines',\n",
       "              'type': 'scatter',\n",
       "              'x': {'bdata': 'AAAAAAAAAACL8Mr3qffrP4vwyvep9+s/Qxuh87Zt6z8=', 'dtype': 'f8'},\n",
       "              'xaxis': 'x',\n",
       "              'y': {'bdata': 'AAAAAAAAFMAAAAAAAAAUwAAAAAAAmEfAAAAAAACYR8A=', 'dtype': 'f8'},\n",
       "              'yaxis': 'y'},\n",
       "             {'hoverinfo': 'text',\n",
       "              'marker': {'color': 'rgb(255,65,54)'},\n",
       "              'mode': 'lines',\n",
       "              'type': 'scatter',\n",
       "              'x': {'bdata': 'AAAAAAAAAADLEEyZMY7pP8sQTJkxjuk/AAAAAAAAAAA=', 'dtype': 'f8'},\n",
       "              'xaxis': 'x',\n",
       "              'y': {'bdata': 'AAAAAADAUsAAAAAAAMBSwAAAAAAAQFXAAAAAAABAVcA=', 'dtype': 'f8'},\n",
       "              'yaxis': 'y'},\n",
       "             {'hoverinfo': 'text',\n",
       "              'marker': {'color': 'rgb(255,65,54)'},\n",
       "              'mode': 'lines',\n",
       "              'type': 'scatter',\n",
       "              'x': {'bdata': 'AAAAAAAAAAC2FaEfCN3rP7YVoR8I3es/AAAAAAAAAAA=', 'dtype': 'f8'},\n",
       "              'xaxis': 'x',\n",
       "              'y': {'bdata': 'AAAAAADAV8AAAAAAAMBXwAAAAAAAQFrAAAAAAABAWsA=', 'dtype': 'f8'},\n",
       "              'yaxis': 'y'},\n",
       "             {'hoverinfo': 'text',\n",
       "              'marker': {'color': 'rgb(255,65,54)'},\n",
       "              'mode': 'lines',\n",
       "              'type': 'scatter',\n",
       "              'x': {'bdata': 'thWhHwjd6z/Aua94FtfsP8C5r3gW1+w/AAAAAAAAAAA=', 'dtype': 'f8'},\n",
       "              'xaxis': 'x',\n",
       "              'y': {'bdata': 'AAAAAAAAWcAAAAAAAABZwAAAAAAAwFzAAAAAAADAXMA=', 'dtype': 'f8'},\n",
       "              'yaxis': 'y'},\n",
       "             {'hoverinfo': 'text',\n",
       "              'marker': {'color': 'rgb(255,65,54)'},\n",
       "              'mode': 'lines',\n",
       "              'type': 'scatter',\n",
       "              'x': {'bdata': 'yxBMmTGO6T9V9FyWc3zuP1X0XJZzfO4/wLmveBbX7D8=', 'dtype': 'f8'},\n",
       "              'xaxis': 'x',\n",
       "              'y': {'bdata': 'AAAAAAAAVMAAAAAAAABUwAAAAAAA4FrAAAAAAADgWsA=', 'dtype': 'f8'},\n",
       "              'yaxis': 'y'},\n",
       "             {'hoverinfo': 'text',\n",
       "              'marker': {'color': 'rgb(35,205,205)'},\n",
       "              'mode': 'lines',\n",
       "              'type': 'scatter',\n",
       "              'x': {'bdata': 'AAAAAAAAAABuxF21z1/vP27EXbXPX+8/AAAAAAAAAAA=', 'dtype': 'f8'},\n",
       "              'xaxis': 'x',\n",
       "              'y': {'bdata': 'AAAAAABAX8AAAAAAAEBfwAAAAAAA4GDAAAAAAADgYMA=', 'dtype': 'f8'},\n",
       "              'yaxis': 'y'},\n",
       "             {'hoverinfo': 'text',\n",
       "              'marker': {'color': 'rgb(35,205,205)'},\n",
       "              'mode': 'lines',\n",
       "              'type': 'scatter',\n",
       "              'x': {'bdata': 'AAAAAAAAAABxo2fKcXfvP3GjZ8pxd+8/AAAAAAAAAAA=', 'dtype': 'f8'},\n",
       "              'xaxis': 'x',\n",
       "              'y': {'bdata': 'AAAAAAAgYsAAAAAAACBiwAAAAAAAYGPAAAAAAABgY8A=', 'dtype': 'f8'},\n",
       "              'yaxis': 'y'},\n",
       "             {'hoverinfo': 'text',\n",
       "              'marker': {'color': 'rgb(35,205,205)'},\n",
       "              'mode': 'lines',\n",
       "              'type': 'scatter',\n",
       "              'x': {'bdata': 'bsRdtc9f7z+3dwcG3/LvP7d3Bwbf8u8/caNnynF37z8=', 'dtype': 'f8'},\n",
       "              'xaxis': 'x',\n",
       "              'y': {'bdata': 'AAAAAABAYMAAAAAAAEBgwAAAAAAAwGLAAAAAAADAYsA=', 'dtype': 'f8'},\n",
       "              'yaxis': 'y'},\n",
       "             {'hoverinfo': 'text',\n",
       "              'marker': {'color': 'rgb(133,20,75)'},\n",
       "              'mode': 'lines',\n",
       "              'type': 'scatter',\n",
       "              'x': {'bdata': 'AAAAAAAAAAD5m7DSZLXuP/mbsNJkte4/AAAAAAAAAAA=', 'dtype': 'f8'},\n",
       "              'xaxis': 'x',\n",
       "              'y': {'bdata': 'AAAAAACgZMAAAAAAAKBkwAAAAAAA4GXAAAAAAADgZcA=', 'dtype': 'f8'},\n",
       "              'yaxis': 'y'},\n",
       "             {'hoverinfo': 'text',\n",
       "              'marker': {'color': 'rgb(133,20,75)'},\n",
       "              'mode': 'lines',\n",
       "              'type': 'scatter',\n",
       "              'x': {'bdata': '+Zuw0mS17j+mPIyXXWvvP6Y8jJdda+8/AAAAAAAAAAA=', 'dtype': 'f8'},\n",
       "              'xaxis': 'x',\n",
       "              'y': {'bdata': 'AAAAAABAZcAAAAAAAEBlwAAAAAAAIGfAAAAAAAAgZ8A=', 'dtype': 'f8'},\n",
       "              'yaxis': 'y'},\n",
       "             {'hoverinfo': 'text',\n",
       "              'marker': {'color': 'rgb(0,116,217)'},\n",
       "              'mode': 'lines',\n",
       "              'type': 'scatter',\n",
       "              'x': {'bdata': 't3cHBt/y7z+/MTc9ZzjwP78xNz1nOPA/pjyMl11r7z8=', 'dtype': 'f8'},\n",
       "              'xaxis': 'x',\n",
       "              'y': {'bdata': 'AAAAAACAYcAAAAAAAIBhwAAAAAAAMGbAAAAAAAAwZsA=', 'dtype': 'f8'},\n",
       "              'yaxis': 'y'},\n",
       "             {'hoverinfo': 'text',\n",
       "              'marker': {'color': 'rgb(0,116,217)'},\n",
       "              'mode': 'lines',\n",
       "              'type': 'scatter',\n",
       "              'x': {'bdata': 'VfRclnN87j/A5oFIwmryP8DmgUjCavI/vzE3PWc48D8=', 'dtype': 'f8'},\n",
       "              'xaxis': 'x',\n",
       "              'y': {'bdata': 'AAAAAABwV8AAAAAAAHBXwAAAAAAA2GPAAAAAAADYY8A=', 'dtype': 'f8'},\n",
       "              'yaxis': 'y'},\n",
       "             {'hoverinfo': 'text',\n",
       "              'marker': {'color': 'rgb(0,116,217)'},\n",
       "              'mode': 'lines',\n",
       "              'type': 'scatter',\n",
       "              'x': {'bdata': 'i/DK96n36z/5wdTvFw71P/nB1O8XDvU/wOaBSMJq8j8=', 'dtype': 'f8'},\n",
       "              'xaxis': 'x',\n",
       "              'y': {'bdata': 'AAAAAAAYOsAAAAAAABg6wAAAAAAAkF/AAAAAAACQX8A=', 'dtype': 'f8'},\n",
       "              'yaxis': 'y'}],\n",
       "    'layout': {'autosize': False,\n",
       "               'height': 485,\n",
       "               'hoverlabel': {'bgcolor': 'white', 'font': {'family': 'Rockwell', 'size': 16}},\n",
       "               'hovermode': 'closest',\n",
       "               'plot_bgcolor': '#ECEFF1',\n",
       "               'showlegend': False,\n",
       "               'template': '...',\n",
       "               'title': {'font': {'color': 'Black', 'size': 22},\n",
       "                         'text': '<b>Hierarchical Clustering</b>',\n",
       "                         'x': 0.5,\n",
       "                         'xanchor': 'center',\n",
       "                         'yanchor': 'top'},\n",
       "               'width': 1000,\n",
       "               'xaxis': {'mirror': 'allticks',\n",
       "                         'rangemode': 'tozero',\n",
       "                         'showgrid': False,\n",
       "                         'showline': True,\n",
       "                         'showticklabels': True,\n",
       "                         'ticks': 'outside',\n",
       "                         'type': 'linear',\n",
       "                         'zeroline': False},\n",
       "               'yaxis': {'mirror': 'allticks',\n",
       "                         'range': [-190.0, 0.0],\n",
       "                         'rangemode': 'tozero',\n",
       "                         'showgrid': False,\n",
       "                         'showline': True,\n",
       "                         'showticklabels': True,\n",
       "                         'tickmode': 'array',\n",
       "                         'ticks': 'outside',\n",
       "                         'ticktext': [12_amazon_br_product,\n",
       "                                      4_pedal_pedals_sustain, 1_great_good_works,\n",
       "                                      0_guitar_br_mic, 2_arm_br_blue,\n",
       "                                      3_cable_strings_winder,\n",
       "                                      8_bench_shoulder_comfortable,\n",
       "                                      10_gift_loved_great gift, 6_love_loves_love\n",
       "                                      love, 5_bowl_singing_singing bowl,\n",
       "                                      14_play_ernie_ernie ball,\n",
       "                                      7_picks_variety_pick, 16_pay_pay pay_pay pay\n",
       "                                      pay, 18_craftsmanship_craftsmans...,\n",
       "                                      17_bulbs_light_bulb, 15_just needed_needed\n",
       "                                      just_..., 11_advertised_advertised wo...,\n",
       "                                      9_does_job_does job, 13_expected_expected\n",
       "                                      expect...],\n",
       "                         'tickvals': [-5.0, -15.0, -25.0, -35.0, -45.0, -55.0,\n",
       "                                      -65.0, -75.0, -85.0, -95.0, -105.0, -115.0,\n",
       "                                      -125.0, -135.0, -145.0, -155.0, -165.0,\n",
       "                                      -175.0, -185.0],\n",
       "                         'type': 'linear',\n",
       "                         'zeroline': False}}\n",
       "})"
      ]
     },
     "execution_count": 24,
     "metadata": {},
     "output_type": "execute_result"
    }
   ],
   "source": [
    "model.visualize_hierarchy()"
   ]
  },
  {
   "cell_type": "code",
   "execution_count": 25,
   "metadata": {
    "id": "4eaoqDzrcN-C"
   },
   "outputs": [
    {
     "ename": "ValueError",
     "evalue": "Mime type rendering requires nbformat>=4.2.0 but it is not installed",
     "output_type": "error",
     "traceback": [
      "\u001b[1;31m---------------------------------------------------------------------------\u001b[0m",
      "\u001b[1;31mValueError\u001b[0m                                Traceback (most recent call last)",
      "File \u001b[1;32m~\\AppData\\Roaming\\Python\\Python39\\site-packages\\IPython\\core\\formatters.py:922\u001b[0m, in \u001b[0;36mIPythonDisplayFormatter.__call__\u001b[1;34m(self, obj)\u001b[0m\n\u001b[0;32m    920\u001b[0m method \u001b[38;5;241m=\u001b[39m get_real_method(obj, \u001b[38;5;28mself\u001b[39m\u001b[38;5;241m.\u001b[39mprint_method)\n\u001b[0;32m    921\u001b[0m \u001b[38;5;28;01mif\u001b[39;00m method \u001b[38;5;129;01mis\u001b[39;00m \u001b[38;5;129;01mnot\u001b[39;00m \u001b[38;5;28;01mNone\u001b[39;00m:\n\u001b[1;32m--> 922\u001b[0m     \u001b[43mmethod\u001b[49m\u001b[43m(\u001b[49m\u001b[43m)\u001b[49m\n\u001b[0;32m    923\u001b[0m     \u001b[38;5;28;01mreturn\u001b[39;00m \u001b[38;5;28;01mTrue\u001b[39;00m\n",
      "File \u001b[1;32mc:\\Users\\a0938\\AppData\\Local\\Programs\\Python\\Python39\\lib\\site-packages\\plotly\\basedatatypes.py:833\u001b[0m, in \u001b[0;36mBaseFigure._ipython_display_\u001b[1;34m(self)\u001b[0m\n\u001b[0;32m    830\u001b[0m \u001b[38;5;28;01mimport\u001b[39;00m\u001b[38;5;250m \u001b[39m\u001b[38;5;21;01mplotly\u001b[39;00m\u001b[38;5;21;01m.\u001b[39;00m\u001b[38;5;21;01mio\u001b[39;00m\u001b[38;5;250m \u001b[39m\u001b[38;5;28;01mas\u001b[39;00m\u001b[38;5;250m \u001b[39m\u001b[38;5;21;01mpio\u001b[39;00m\n\u001b[0;32m    832\u001b[0m \u001b[38;5;28;01mif\u001b[39;00m pio\u001b[38;5;241m.\u001b[39mrenderers\u001b[38;5;241m.\u001b[39mrender_on_display \u001b[38;5;129;01mand\u001b[39;00m pio\u001b[38;5;241m.\u001b[39mrenderers\u001b[38;5;241m.\u001b[39mdefault:\n\u001b[1;32m--> 833\u001b[0m     \u001b[43mpio\u001b[49m\u001b[38;5;241;43m.\u001b[39;49m\u001b[43mshow\u001b[49m\u001b[43m(\u001b[49m\u001b[38;5;28;43mself\u001b[39;49m\u001b[43m)\u001b[49m\n\u001b[0;32m    834\u001b[0m \u001b[38;5;28;01melse\u001b[39;00m:\n\u001b[0;32m    835\u001b[0m     \u001b[38;5;28mprint\u001b[39m(\u001b[38;5;28mrepr\u001b[39m(\u001b[38;5;28mself\u001b[39m))\n",
      "File \u001b[1;32mc:\\Users\\a0938\\AppData\\Local\\Programs\\Python\\Python39\\lib\\site-packages\\plotly\\io\\_renderers.py:425\u001b[0m, in \u001b[0;36mshow\u001b[1;34m(fig, renderer, validate, **kwargs)\u001b[0m\n\u001b[0;32m    420\u001b[0m     \u001b[38;5;28;01mraise\u001b[39;00m \u001b[38;5;167;01mValueError\u001b[39;00m(\n\u001b[0;32m    421\u001b[0m         \u001b[38;5;124m\"\u001b[39m\u001b[38;5;124mMime type rendering requires ipython but it is not installed\u001b[39m\u001b[38;5;124m\"\u001b[39m\n\u001b[0;32m    422\u001b[0m     )\n\u001b[0;32m    424\u001b[0m \u001b[38;5;28;01mif\u001b[39;00m \u001b[38;5;129;01mnot\u001b[39;00m nbformat \u001b[38;5;129;01mor\u001b[39;00m Version(nbformat\u001b[38;5;241m.\u001b[39m__version__) \u001b[38;5;241m<\u001b[39m Version(\u001b[38;5;124m\"\u001b[39m\u001b[38;5;124m4.2.0\u001b[39m\u001b[38;5;124m\"\u001b[39m):\n\u001b[1;32m--> 425\u001b[0m     \u001b[38;5;28;01mraise\u001b[39;00m \u001b[38;5;167;01mValueError\u001b[39;00m(\n\u001b[0;32m    426\u001b[0m         \u001b[38;5;124m\"\u001b[39m\u001b[38;5;124mMime type rendering requires nbformat>=4.2.0 but it is not installed\u001b[39m\u001b[38;5;124m\"\u001b[39m\n\u001b[0;32m    427\u001b[0m     )\n\u001b[0;32m    429\u001b[0m display_jupyter_version_warnings()\n\u001b[0;32m    431\u001b[0m ipython_display\u001b[38;5;241m.\u001b[39mdisplay(bundle, raw\u001b[38;5;241m=\u001b[39m\u001b[38;5;28;01mTrue\u001b[39;00m)\n",
      "\u001b[1;31mValueError\u001b[0m: Mime type rendering requires nbformat>=4.2.0 but it is not installed"
     ]
    },
    {
     "data": {
      "application/vnd.plotly.v1+json": {
       "config": {
        "plotlyServerURL": "https://plot.ly"
       },
       "data": [
        {
         "coloraxis": "coloraxis",
         "hovertemplate": "x: %{x}<br>y: %{y}<br>Similarity Score: %{z}<extra></extra>",
         "name": "0",
         "type": "heatmap",
         "x": [
          "0_guitar_br_mic",
          "1_great_good_works",
          "2_arm_br_blue",
          "3_cable_strings_winder",
          "4_pedal_pedals_sustain",
          "5_bowl_singing_singing bowl",
          "6_love_loves_love love",
          "7_picks_variety_pick",
          "8_bench_shoulder_comfortable",
          "9_does_job_does job",
          "10_gift_loved_great gift",
          "11_advertised_advertised wo...",
          "12_amazon_br_product",
          "13_expected_expected expect...",
          "14_play_ernie_ernie ball",
          "15_just needed_needed just_...",
          "16_pay_pay pay_pay pay pay",
          "17_bulbs_light_bulb",
          "18_craftsmanship_craftsmans..."
         ],
         "xaxis": "x",
         "y": [
          "0_guitar_br_mic",
          "1_great_good_works",
          "2_arm_br_blue",
          "3_cable_strings_winder",
          "4_pedal_pedals_sustain",
          "5_bowl_singing_singing bowl",
          "6_love_loves_love love",
          "7_picks_variety_pick",
          "8_bench_shoulder_comfortable",
          "9_does_job_does job",
          "10_gift_loved_great gift",
          "11_advertised_advertised wo...",
          "12_amazon_br_product",
          "13_expected_expected expect...",
          "14_play_ernie_ernie ball",
          "15_just needed_needed just_...",
          "16_pay_pay pay_pay pay pay",
          "17_bulbs_light_bulb",
          "18_craftsmanship_craftsmans..."
         ],
         "yaxis": "y",
         "z": {
          "bdata": "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",
          "dtype": "f8",
          "shape": "19, 19"
         }
        }
       ],
       "layout": {
        "coloraxis": {
         "colorbar": {
          "title": {
           "text": "Similarity Score"
          }
         },
         "colorscale": [
          [
           0,
           "rgb(247,252,240)"
          ],
          [
           0.125,
           "rgb(224,243,219)"
          ],
          [
           0.25,
           "rgb(204,235,197)"
          ],
          [
           0.375,
           "rgb(168,221,181)"
          ],
          [
           0.5,
           "rgb(123,204,196)"
          ],
          [
           0.625,
           "rgb(78,179,211)"
          ],
          [
           0.75,
           "rgb(43,140,190)"
          ],
          [
           0.875,
           "rgb(8,104,172)"
          ],
          [
           1,
           "rgb(8,64,129)"
          ]
         ]
        },
        "height": 800,
        "hoverlabel": {
         "bgcolor": "white",
         "font": {
          "family": "Rockwell",
          "size": 16
         }
        },
        "legend": {
         "title": {
          "text": "Trend"
         }
        },
        "margin": {
         "t": 60
        },
        "showlegend": true,
        "template": {
         "data": {
          "bar": [
           {
            "error_x": {
             "color": "#2a3f5f"
            },
            "error_y": {
             "color": "#2a3f5f"
            },
            "marker": {
             "line": {
              "color": "#E5ECF6",
              "width": 0.5
             },
             "pattern": {
              "fillmode": "overlay",
              "size": 10,
              "solidity": 0.2
             }
            },
            "type": "bar"
           }
          ],
          "barpolar": [
           {
            "marker": {
             "line": {
              "color": "#E5ECF6",
              "width": 0.5
             },
             "pattern": {
              "fillmode": "overlay",
              "size": 10,
              "solidity": 0.2
             }
            },
            "type": "barpolar"
           }
          ],
          "carpet": [
           {
            "aaxis": {
             "endlinecolor": "#2a3f5f",
             "gridcolor": "white",
             "linecolor": "white",
             "minorgridcolor": "white",
             "startlinecolor": "#2a3f5f"
            },
            "baxis": {
             "endlinecolor": "#2a3f5f",
             "gridcolor": "white",
             "linecolor": "white",
             "minorgridcolor": "white",
             "startlinecolor": "#2a3f5f"
            },
            "type": "carpet"
           }
          ],
          "choropleth": [
           {
            "colorbar": {
             "outlinewidth": 0,
             "ticks": ""
            },
            "type": "choropleth"
           }
          ],
          "contour": [
           {
            "colorbar": {
             "outlinewidth": 0,
             "ticks": ""
            },
            "colorscale": [
             [
              0,
              "#0d0887"
             ],
             [
              0.1111111111111111,
              "#46039f"
             ],
             [
              0.2222222222222222,
              "#7201a8"
             ],
             [
              0.3333333333333333,
              "#9c179e"
             ],
             [
              0.4444444444444444,
              "#bd3786"
             ],
             [
              0.5555555555555556,
              "#d8576b"
             ],
             [
              0.6666666666666666,
              "#ed7953"
             ],
             [
              0.7777777777777778,
              "#fb9f3a"
             ],
             [
              0.8888888888888888,
              "#fdca26"
             ],
             [
              1,
              "#f0f921"
             ]
            ],
            "type": "contour"
           }
          ],
          "contourcarpet": [
           {
            "colorbar": {
             "outlinewidth": 0,
             "ticks": ""
            },
            "type": "contourcarpet"
           }
          ],
          "heatmap": [
           {
            "colorbar": {
             "outlinewidth": 0,
             "ticks": ""
            },
            "colorscale": [
             [
              0,
              "#0d0887"
             ],
             [
              0.1111111111111111,
              "#46039f"
             ],
             [
              0.2222222222222222,
              "#7201a8"
             ],
             [
              0.3333333333333333,
              "#9c179e"
             ],
             [
              0.4444444444444444,
              "#bd3786"
             ],
             [
              0.5555555555555556,
              "#d8576b"
             ],
             [
              0.6666666666666666,
              "#ed7953"
             ],
             [
              0.7777777777777778,
              "#fb9f3a"
             ],
             [
              0.8888888888888888,
              "#fdca26"
             ],
             [
              1,
              "#f0f921"
             ]
            ],
            "type": "heatmap"
           }
          ],
          "histogram": [
           {
            "marker": {
             "pattern": {
              "fillmode": "overlay",
              "size": 10,
              "solidity": 0.2
             }
            },
            "type": "histogram"
           }
          ],
          "histogram2d": [
           {
            "colorbar": {
             "outlinewidth": 0,
             "ticks": ""
            },
            "colorscale": [
             [
              0,
              "#0d0887"
             ],
             [
              0.1111111111111111,
              "#46039f"
             ],
             [
              0.2222222222222222,
              "#7201a8"
             ],
             [
              0.3333333333333333,
              "#9c179e"
             ],
             [
              0.4444444444444444,
              "#bd3786"
             ],
             [
              0.5555555555555556,
              "#d8576b"
             ],
             [
              0.6666666666666666,
              "#ed7953"
             ],
             [
              0.7777777777777778,
              "#fb9f3a"
             ],
             [
              0.8888888888888888,
              "#fdca26"
             ],
             [
              1,
              "#f0f921"
             ]
            ],
            "type": "histogram2d"
           }
          ],
          "histogram2dcontour": [
           {
            "colorbar": {
             "outlinewidth": 0,
             "ticks": ""
            },
            "colorscale": [
             [
              0,
              "#0d0887"
             ],
             [
              0.1111111111111111,
              "#46039f"
             ],
             [
              0.2222222222222222,
              "#7201a8"
             ],
             [
              0.3333333333333333,
              "#9c179e"
             ],
             [
              0.4444444444444444,
              "#bd3786"
             ],
             [
              0.5555555555555556,
              "#d8576b"
             ],
             [
              0.6666666666666666,
              "#ed7953"
             ],
             [
              0.7777777777777778,
              "#fb9f3a"
             ],
             [
              0.8888888888888888,
              "#fdca26"
             ],
             [
              1,
              "#f0f921"
             ]
            ],
            "type": "histogram2dcontour"
           }
          ],
          "mesh3d": [
           {
            "colorbar": {
             "outlinewidth": 0,
             "ticks": ""
            },
            "type": "mesh3d"
           }
          ],
          "parcoords": [
           {
            "line": {
             "colorbar": {
              "outlinewidth": 0,
              "ticks": ""
             }
            },
            "type": "parcoords"
           }
          ],
          "pie": [
           {
            "automargin": true,
            "type": "pie"
           }
          ],
          "scatter": [
           {
            "fillpattern": {
             "fillmode": "overlay",
             "size": 10,
             "solidity": 0.2
            },
            "type": "scatter"
           }
          ],
          "scatter3d": [
           {
            "line": {
             "colorbar": {
              "outlinewidth": 0,
              "ticks": ""
             }
            },
            "marker": {
             "colorbar": {
              "outlinewidth": 0,
              "ticks": ""
             }
            },
            "type": "scatter3d"
           }
          ],
          "scattercarpet": [
           {
            "marker": {
             "colorbar": {
              "outlinewidth": 0,
              "ticks": ""
             }
            },
            "type": "scattercarpet"
           }
          ],
          "scattergeo": [
           {
            "marker": {
             "colorbar": {
              "outlinewidth": 0,
              "ticks": ""
             }
            },
            "type": "scattergeo"
           }
          ],
          "scattergl": [
           {
            "marker": {
             "colorbar": {
              "outlinewidth": 0,
              "ticks": ""
             }
            },
            "type": "scattergl"
           }
          ],
          "scattermap": [
           {
            "marker": {
             "colorbar": {
              "outlinewidth": 0,
              "ticks": ""
             }
            },
            "type": "scattermap"
           }
          ],
          "scattermapbox": [
           {
            "marker": {
             "colorbar": {
              "outlinewidth": 0,
              "ticks": ""
             }
            },
            "type": "scattermapbox"
           }
          ],
          "scatterpolar": [
           {
            "marker": {
             "colorbar": {
              "outlinewidth": 0,
              "ticks": ""
             }
            },
            "type": "scatterpolar"
           }
          ],
          "scatterpolargl": [
           {
            "marker": {
             "colorbar": {
              "outlinewidth": 0,
              "ticks": ""
             }
            },
            "type": "scatterpolargl"
           }
          ],
          "scatterternary": [
           {
            "marker": {
             "colorbar": {
              "outlinewidth": 0,
              "ticks": ""
             }
            },
            "type": "scatterternary"
           }
          ],
          "surface": [
           {
            "colorbar": {
             "outlinewidth": 0,
             "ticks": ""
            },
            "colorscale": [
             [
              0,
              "#0d0887"
             ],
             [
              0.1111111111111111,
              "#46039f"
             ],
             [
              0.2222222222222222,
              "#7201a8"
             ],
             [
              0.3333333333333333,
              "#9c179e"
             ],
             [
              0.4444444444444444,
              "#bd3786"
             ],
             [
              0.5555555555555556,
              "#d8576b"
             ],
             [
              0.6666666666666666,
              "#ed7953"
             ],
             [
              0.7777777777777778,
              "#fb9f3a"
             ],
             [
              0.8888888888888888,
              "#fdca26"
             ],
             [
              1,
              "#f0f921"
             ]
            ],
            "type": "surface"
           }
          ],
          "table": [
           {
            "cells": {
             "fill": {
              "color": "#EBF0F8"
             },
             "line": {
              "color": "white"
             }
            },
            "header": {
             "fill": {
              "color": "#C8D4E3"
             },
             "line": {
              "color": "white"
             }
            },
            "type": "table"
           }
          ]
         },
         "layout": {
          "annotationdefaults": {
           "arrowcolor": "#2a3f5f",
           "arrowhead": 0,
           "arrowwidth": 1
          },
          "autotypenumbers": "strict",
          "coloraxis": {
           "colorbar": {
            "outlinewidth": 0,
            "ticks": ""
           }
          },
          "colorscale": {
           "diverging": [
            [
             0,
             "#8e0152"
            ],
            [
             0.1,
             "#c51b7d"
            ],
            [
             0.2,
             "#de77ae"
            ],
            [
             0.3,
             "#f1b6da"
            ],
            [
             0.4,
             "#fde0ef"
            ],
            [
             0.5,
             "#f7f7f7"
            ],
            [
             0.6,
             "#e6f5d0"
            ],
            [
             0.7,
             "#b8e186"
            ],
            [
             0.8,
             "#7fbc41"
            ],
            [
             0.9,
             "#4d9221"
            ],
            [
             1,
             "#276419"
            ]
           ],
           "sequential": [
            [
             0,
             "#0d0887"
            ],
            [
             0.1111111111111111,
             "#46039f"
            ],
            [
             0.2222222222222222,
             "#7201a8"
            ],
            [
             0.3333333333333333,
             "#9c179e"
            ],
            [
             0.4444444444444444,
             "#bd3786"
            ],
            [
             0.5555555555555556,
             "#d8576b"
            ],
            [
             0.6666666666666666,
             "#ed7953"
            ],
            [
             0.7777777777777778,
             "#fb9f3a"
            ],
            [
             0.8888888888888888,
             "#fdca26"
            ],
            [
             1,
             "#f0f921"
            ]
           ],
           "sequentialminus": [
            [
             0,
             "#0d0887"
            ],
            [
             0.1111111111111111,
             "#46039f"
            ],
            [
             0.2222222222222222,
             "#7201a8"
            ],
            [
             0.3333333333333333,
             "#9c179e"
            ],
            [
             0.4444444444444444,
             "#bd3786"
            ],
            [
             0.5555555555555556,
             "#d8576b"
            ],
            [
             0.6666666666666666,
             "#ed7953"
            ],
            [
             0.7777777777777778,
             "#fb9f3a"
            ],
            [
             0.8888888888888888,
             "#fdca26"
            ],
            [
             1,
             "#f0f921"
            ]
           ]
          },
          "colorway": [
           "#636efa",
           "#EF553B",
           "#00cc96",
           "#ab63fa",
           "#FFA15A",
           "#19d3f3",
           "#FF6692",
           "#B6E880",
           "#FF97FF",
           "#FECB52"
          ],
          "font": {
           "color": "#2a3f5f"
          },
          "geo": {
           "bgcolor": "white",
           "lakecolor": "white",
           "landcolor": "#E5ECF6",
           "showlakes": true,
           "showland": true,
           "subunitcolor": "white"
          },
          "hoverlabel": {
           "align": "left"
          },
          "hovermode": "closest",
          "mapbox": {
           "style": "light"
          },
          "paper_bgcolor": "white",
          "plot_bgcolor": "#E5ECF6",
          "polar": {
           "angularaxis": {
            "gridcolor": "white",
            "linecolor": "white",
            "ticks": ""
           },
           "bgcolor": "#E5ECF6",
           "radialaxis": {
            "gridcolor": "white",
            "linecolor": "white",
            "ticks": ""
           }
          },
          "scene": {
           "xaxis": {
            "backgroundcolor": "#E5ECF6",
            "gridcolor": "white",
            "gridwidth": 2,
            "linecolor": "white",
            "showbackground": true,
            "ticks": "",
            "zerolinecolor": "white"
           },
           "yaxis": {
            "backgroundcolor": "#E5ECF6",
            "gridcolor": "white",
            "gridwidth": 2,
            "linecolor": "white",
            "showbackground": true,
            "ticks": "",
            "zerolinecolor": "white"
           },
           "zaxis": {
            "backgroundcolor": "#E5ECF6",
            "gridcolor": "white",
            "gridwidth": 2,
            "linecolor": "white",
            "showbackground": true,
            "ticks": "",
            "zerolinecolor": "white"
           }
          },
          "shapedefaults": {
           "line": {
            "color": "#2a3f5f"
           }
          },
          "ternary": {
           "aaxis": {
            "gridcolor": "white",
            "linecolor": "white",
            "ticks": ""
           },
           "baxis": {
            "gridcolor": "white",
            "linecolor": "white",
            "ticks": ""
           },
           "bgcolor": "#E5ECF6",
           "caxis": {
            "gridcolor": "white",
            "linecolor": "white",
            "ticks": ""
           }
          },
          "title": {
           "x": 0.05
          },
          "xaxis": {
           "automargin": true,
           "gridcolor": "white",
           "linecolor": "white",
           "ticks": "",
           "title": {
            "standoff": 15
           },
           "zerolinecolor": "white",
           "zerolinewidth": 2
          },
          "yaxis": {
           "automargin": true,
           "gridcolor": "white",
           "linecolor": "white",
           "ticks": "",
           "title": {
            "standoff": 15
           },
           "zerolinecolor": "white",
           "zerolinewidth": 2
          }
         }
        },
        "title": {
         "font": {
          "color": "Black",
          "size": 22
         },
         "text": "<b>Similarity Matrix</b>",
         "x": 0.55,
         "xanchor": "center",
         "y": 0.95,
         "yanchor": "top"
        },
        "width": 800,
        "xaxis": {
         "anchor": "y",
         "constrain": "domain",
         "domain": [
          0,
          1
         ],
         "scaleanchor": "y"
        },
        "yaxis": {
         "anchor": "x",
         "autorange": "reversed",
         "constrain": "domain",
         "domain": [
          0,
          1
         ]
        }
       }
      },
      "text/html": [
       "<div>                        <script type=\"text/javascript\">window.PlotlyConfig = {MathJaxConfig: 'local'};</script>\n",
       "        <script charset=\"utf-8\" src=\"https://cdn.plot.ly/plotly-3.0.1.min.js\"></script>                <div id=\"83a34542-fef2-4548-96ae-585e369dd346\" class=\"plotly-graph-div\" style=\"height:800px; width:800px;\"></div>            <script type=\"text/javascript\">                window.PLOTLYENV=window.PLOTLYENV || {};                                if (document.getElementById(\"83a34542-fef2-4548-96ae-585e369dd346\")) {                    Plotly.newPlot(                        \"83a34542-fef2-4548-96ae-585e369dd346\",                        [{\"coloraxis\":\"coloraxis\",\"name\":\"0\",\"x\":[\"0_guitar_br_mic\",\"1_great_good_works\",\"2_arm_br_blue\",\"3_cable_strings_winder\",\"4_pedal_pedals_sustain\",\"5_bowl_singing_singing bowl\",\"6_love_loves_love love\",\"7_picks_variety_pick\",\"8_bench_shoulder_comfortable\",\"9_does_job_does job\",\"10_gift_loved_great gift\",\"11_advertised_advertised wo...\",\"12_amazon_br_product\",\"13_expected_expected expect...\",\"14_play_ernie_ernie ball\",\"15_just needed_needed just_...\",\"16_pay_pay pay_pay pay pay\",\"17_bulbs_light_bulb\",\"18_craftsmanship_craftsmans...\"],\"y\":[\"0_guitar_br_mic\",\"1_great_good_works\",\"2_arm_br_blue\",\"3_cable_strings_winder\",\"4_pedal_pedals_sustain\",\"5_bowl_singing_singing bowl\",\"6_love_loves_love love\",\"7_picks_variety_pick\",\"8_bench_shoulder_comfortable\",\"9_does_job_does job\",\"10_gift_loved_great gift\",\"11_advertised_advertised wo...\",\"12_amazon_br_product\",\"13_expected_expected expect...\",\"14_play_ernie_ernie ball\",\"15_just needed_needed just_...\",\"16_pay_pay pay_pay pay pay\",\"17_bulbs_light_bulb\",\"18_craftsmanship_craftsmans...\"],\"z\":{\"dtype\":\"f8\",\"bdata\":\"\\u002fv\\u002f\\u002f\\u002f\\u002f\\u002f\\u002f7z\\u002f5av\\u002f0W7rhPza2ijQ\\u002fjOc\\u002fv3FI8A4m5j8McfcrRU\\u002fjP4\\u002fOE7vAwOE\\u002fGAfPAfAy1D\\u002fQhG9ex9LbP5cqghZ3veE\\u002fo+xR0cHVzz9zQ+4hANTRPyoH2t8DDNA\\u002ffMzuXruY3j\\u002f8cpFjAPjLPwj8DWknb+M\\u002fujMroVm\\u002f0T82gdypysLIP5\\u002frTVHnMNY\\u002fLl12ammf1j\\u002f5av\\u002f0W7rhPwMAAAAAAPA\\u002fEN\\u002fLfwzT5D\\u002focMz1i0ngP5Tt+1kZq98\\u002fs5BeFSBZ4T+s\\u002f9GYy4vjP5zAbRL4UeQ\\u002fwqmDS7oE4D\\u002fayUg5jCjkP9yu4DPBH+E\\u002f8rDswUAv4T\\u002fikobnGA\\u002fgP7RPs\\u002fV9ZOE\\u002fVECWnj7B5D\\u002faUqdwkEfgP\\u002fGwEW+HS9g\\u002fIP\\u002fHXkPL2z87ScO5Ya7iPza2ijQ\\u002fjOc\\u002fEN\\u002fLfwzT5D8AAAAAAADwP27Ztfr5O+U\\u002fgJ0W5f7B5D9gxjSKy7DgPzP3j2ddBdM\\u002fE0UfKA6S3D+Q1OYWNvThP1NdZAAIxto\\u002fFg6OyXNL1z+pv6oMLj\\u002fVP5CLoW8g8OE\\u002fE0bBCE9Z1D\\u002fGZuJzXjniP7NAsJ5qvNc\\u002f9I2goa7K0z8yiiEwQEHbP2G1Lu0qYNw\\u002fv3FI8A4m5j\\u002focMz1i0ngP27Ztfr5O+U\\u002f\\u002f\\u002f\\u002f\\u002f\\u002f\\u002f\\u002f\\u002f7z++X982yOHgPyzJM2KhT9c\\u002fcjTVqA1Q0D+RkfJOC0fYP69qVv5Td9o\\u002fWtkBwEpszT8h9jW\\u002f3F\\u002fSPx6FvesYscY\\u002fWv7AxmwG1D9+esxXM+nEP7q+CTVo1uA\\u002fReIy4jvcyj+WbDYLsbLHP0ZYM8WxwNg\\u002fDgyRdtT41j8McfcrRU\\u002fjP5Tt+1kZq98\\u002fgJ0W5f7B5D++X982yOHgP\\u002f\\u002f\\u002f\\u002f\\u002f\\u002f\\u002f\\u002f+8\\u002f9K8MFMTA1z9lI0y6TC\\u002fNPx5dpRx22Nc\\u002fDSXeqmw34j9VsMIdPHnQP7Udj\\u002f7WlMM\\u002fYWD+rX3czT++QpLXhfLYPy0Wn79dDMM\\u002fvOL7xQDa3D\\u002fA40leqovJP1IhUVIXzMc\\u002f4t\\u002fOlauH0z\\u002fT7\\u002fHs0BLXP4\\u002fOE7vAwOE\\u002fs5BeFSBZ4T9gxjSKy7DgPyzJM2KhT9c\\u002f9K8MFMTA1z8AAAAAAADwP26+lHl3Ft0\\u002fi2WCIYGc1T\\u002f1nC4o4FnZPwJVyzrDhs0\\u002fbI4TzYSI1z\\u002faGCYNP2vKP2aIkGgajtc\\u002f4X9xA9tqyj+apw8ed5XiP+MxoHYRkdA\\u002fhUadW+PWvz+e7o3eXxnRPyA8i5M8udU\\u002fGAfPAfAy1D+s\\u002f9GYy4vjPzP3j2ddBdM\\u002fcjTVqA1Q0D9lI0y6TC\\u002fNP26+lHl3Ft0\\u002fAAAAAAAA8D+kfQaop8rUP3nVmljmPNM\\u002fN9fY85oL2D9cdh5ZXWHhP1pVK5e\\u002fw9I\\u002fQAxWGGmbzz\\u002fwAMeViWPRP5BuJOVvIOI\\u002fSB3xS7B60j+zdfi8V\\u002fW6P3GtJxgcRs0\\u002f1oDhcJHI0z\\u002fQhG9ex9LbP5zAbRL4UeQ\\u002fE0UfKA6S3D+RkfJOC0fYPx5dpRx22Nc\\u002fi2WCIYGc1T+kfQaop8rUPwAAAAAAAPA\\u002fNFsAwlaA2z8mh5OVBcjMP30xdlZFTtg\\u002fEY\\u002f3Xup20z9CziUzxTLZP7\\u002fXS6t2udE\\u002fwtTa8YHS4D+wLRi+iu3YPyhPnwJGKNA\\u002fTthO0tzO1j92G7wJdWneP5cqghZ3veE\\u002fwqmDS7oE4D+Q1OYWNvThP69qVv5Td9o\\u002fDSXeqmw34j\\u002f1nC4o4FnZP3nVmljmPNM\\u002fNFsAwlaA2z\\u002f\\u002f\\u002f\\u002f\\u002f\\u002f\\u002f\\u002f\\u002fvP7obxIZ76cs\\u002fEvdRg0N+zz\\u002f3UJZusnnIP1CHbXdXJtM\\u002fRmvh8\\u002fpXyj\\u002fM7RdGHdTbP46BkwUUudA\\u002faD6IGPsByT\\u002f4iZ8hzEbPP+qggomJe9s\\u002fo+xR0cHVzz\\u002fayUg5jCjkP1NdZAAIxto\\u002fWtkBwEpszT9VsMIdPHnQPwJVyzrDhs0\\u002fN9fY85oL2D8mh5OVBcjMP7obxIZ76cs\\u002f\\u002fP\\u002f\\u002f\\u002f\\u002f\\u002f\\u002f7z9djYXnN1jLPyoK5I2pieM\\u002f6etSoWGnyz98jayMkcLiP7Awo\\u002f8GMdM\\u002fE7Hk5hSr3D8IUH1subDfP8Ns5t4L5sA\\u002fCNxnqQNb3D9zQ+4hANTRP9yu4DPBH+E\\u002fFg6OyXNL1z8h9jW\\u002f3F\\u002fSP7Udj\\u002f7WlMM\\u002fbI4TzYSI1z9cdh5ZXWHhP30xdlZFTtg\\u002fEvdRg0N+zz9djYXnN1jLPwIAAAAAAPA\\u002fowq+TnpSzj+ZFEL64U7YP2dbDb32gNA\\u002fLloQcrOX2T\\u002fuySeozgvVP1a6LTQKl9I\\u002fprXc0uyk0j+cPwnZm\\u002f7VPyoH2t8DDNA\\u002f8rDswUAv4T+pv6oMLj\\u002fVPx6FvesYscY\\u002fYWD+rX3czT\\u002faGCYNP2vKP1pVK5e\\u002fw9I\\u002fEY\\u002f3Xup20z\\u002f3UJZusnnIPyoK5I2pieM\\u002fowq+TnpSzj\\u002f9\\u002f\\u002f\\u002f\\u002f\\u002f\\u002f\\u002fvP3vJi1md9dY\\u002fvSpw\\u002fF+W3z8InJoJg1DSP8gZ3QLl8tQ\\u002fiHUv7txI0z98xZNkOPjEP1QnBI48S9Y\\u002ffMzuXruY3j\\u002fikobnGA\\u002fgP5CLoW8g8OE\\u002fWv7AxmwG1D++QpLXhfLYP2aIkGgajtc\\u002fQAxWGGmbzz9CziUzxTLZP1CHbXdXJtM\\u002f6etSoWGnyz+ZFEL64U7YP3vJi1md9dY\\u002fAgAAAAAA8D+QxRIeYLLLP3PebTwYids\\u002fmIKSf9ntzz+uPr5A4ynNP5D1sY+c29A\\u002f5j4Ur7SOyj\\u002f8cpFjAPjLP7RPs\\u002fV9ZOE\\u002fE0bBCE9Z1D9+esxXM+nEPy0Wn79dDMM\\u002f4X9xA9tqyj\\u002fwAMeViWPRP7\\u002fXS6t2udE\\u002fRmvh8\\u002fpXyj98jayMkcLiP2dbDb32gNA\\u002fvSpw\\u002fF+W3z+QxRIeYLLLP\\u002fz\\u002f\\u002f\\u002f\\u002f\\u002f\\u002f+8\\u002f32kW9uML0T\\u002fZKxeeQVzZP8HA3eExYdI\\u002f3uEBxisLxD+AUaRm4QLNPwj8DWknb+M\\u002fVECWnj7B5D\\u002fGZuJzXjniP7q+CTVo1uA\\u002fvOL7xQDa3D+apw8ed5XiP5BuJOVvIOI\\u002fwtTa8YHS4D\\u002fM7RdGHdTbP7Awo\\u002f8GMdM\\u002fLloQcrOX2T8InJoJg1DSP3PebTwYids\\u002f32kW9uML0T\\u002f+\\u002f\\u002f\\u002f\\u002f\\u002f\\u002f\\u002fvP91IU5NBydQ\\u002f561iJ5aZxj+z5NFRzIrQPxmJAmo9ztU\\u002fujMroVm\\u002f0T\\u002faUqdwkEfgP7NAsJ5qvNc\\u002fReIy4jvcyj\\u002fA40leqovJP+MxoHYRkdA\\u002fSB3xS7B60j+wLRi+iu3YP46BkwUUudA\\u002fE7Hk5hSr3D\\u002fuySeozgvVP8gZ3QLl8tQ\\u002fmIKSf9ntzz\\u002fZKxeeQVzZP91IU5NBydQ\\u002fAwAAAAAA8D+Kf\\u002f0eD8vRP8DgqK35OsI\\u002fwZ1DbIb31T82gdypysLIP\\u002fGwEW+HS9g\\u002f9I2goa7K0z+WbDYLsbLHP1IhUVIXzMc\\u002fhUadW+PWvz+zdfi8V\\u002fW6PyhPnwJGKNA\\u002faD6IGPsByT8IUH1subDfP1a6LTQKl9I\\u002fiHUv7txI0z+uPr5A4ynNP8HA3eExYdI\\u002f561iJ5aZxj+Kf\\u002f0eD8vRPwEAAAAAAPA\\u002f0iBToquyuz9Uu1E2iMbMP5\\u002frTVHnMNY\\u002fIP\\u002fHXkPL2z8yiiEwQEHbP0ZYM8WxwNg\\u002f4t\\u002fOlauH0z+e7o3eXxnRP3GtJxgcRs0\\u002fTthO0tzO1j\\u002f4iZ8hzEbPP8Ns5t4L5sA\\u002fprXc0uyk0j98xZNkOPjEP5D1sY+c29A\\u002f3uEBxisLxD+z5NFRzIrQP8DgqK35OsI\\u002f0iBToquyuz8EAAAAAADwP3ahdZMU9dI\\u002fLl12ammf1j87ScO5Ya7iP2G1Lu0qYNw\\u002fDgyRdtT41j\\u002fT7\\u002fHs0BLXPyA8i5M8udU\\u002f1oDhcJHI0z92G7wJdWneP+qggomJe9s\\u002fCNxnqQNb3D+cPwnZm\\u002f7VP1QnBI48S9Y\\u002f5j4Ur7SOyj+AUaRm4QLNPxmJAmo9ztU\\u002fwZ1DbIb31T9Uu1E2iMbMP3ahdZMU9dI\\u002fAQAAAAAA8D8=\",\"shape\":\"19, 19\"},\"type\":\"heatmap\",\"xaxis\":\"x\",\"yaxis\":\"y\",\"hovertemplate\":\"x: %{x}\\u003cbr\\u003ey: %{y}\\u003cbr\\u003eSimilarity Score: %{z}\\u003cextra\\u003e\\u003c\\u002fextra\\u003e\"}],                        {\"template\":{\"data\":{\"histogram2dcontour\":[{\"type\":\"histogram2dcontour\",\"colorbar\":{\"outlinewidth\":0,\"ticks\":\"\"},\"colorscale\":[[0.0,\"#0d0887\"],[0.1111111111111111,\"#46039f\"],[0.2222222222222222,\"#7201a8\"],[0.3333333333333333,\"#9c179e\"],[0.4444444444444444,\"#bd3786\"],[0.5555555555555556,\"#d8576b\"],[0.6666666666666666,\"#ed7953\"],[0.7777777777777778,\"#fb9f3a\"],[0.8888888888888888,\"#fdca26\"],[1.0,\"#f0f921\"]]}],\"choropleth\":[{\"type\":\"choropleth\",\"colorbar\":{\"outlinewidth\":0,\"ticks\":\"\"}}],\"histogram2d\":[{\"type\":\"histogram2d\",\"colorbar\":{\"outlinewidth\":0,\"ticks\":\"\"},\"colorscale\":[[0.0,\"#0d0887\"],[0.1111111111111111,\"#46039f\"],[0.2222222222222222,\"#7201a8\"],[0.3333333333333333,\"#9c179e\"],[0.4444444444444444,\"#bd3786\"],[0.5555555555555556,\"#d8576b\"],[0.6666666666666666,\"#ed7953\"],[0.7777777777777778,\"#fb9f3a\"],[0.8888888888888888,\"#fdca26\"],[1.0,\"#f0f921\"]]}],\"heatmap\":[{\"type\":\"heatmap\",\"colorbar\":{\"outlinewidth\":0,\"ticks\":\"\"},\"colorscale\":[[0.0,\"#0d0887\"],[0.1111111111111111,\"#46039f\"],[0.2222222222222222,\"#7201a8\"],[0.3333333333333333,\"#9c179e\"],[0.4444444444444444,\"#bd3786\"],[0.5555555555555556,\"#d8576b\"],[0.6666666666666666,\"#ed7953\"],[0.7777777777777778,\"#fb9f3a\"],[0.8888888888888888,\"#fdca26\"],[1.0,\"#f0f921\"]]}],\"contourcarpet\":[{\"type\":\"contourcarpet\",\"colorbar\":{\"outlinewidth\":0,\"ticks\":\"\"}}],\"contour\":[{\"type\":\"contour\",\"colorbar\":{\"outlinewidth\":0,\"ticks\":\"\"},\"colorscale\":[[0.0,\"#0d0887\"],[0.1111111111111111,\"#46039f\"],[0.2222222222222222,\"#7201a8\"],[0.3333333333333333,\"#9c179e\"],[0.4444444444444444,\"#bd3786\"],[0.5555555555555556,\"#d8576b\"],[0.6666666666666666,\"#ed7953\"],[0.7777777777777778,\"#fb9f3a\"],[0.8888888888888888,\"#fdca26\"],[1.0,\"#f0f921\"]]}],\"surface\":[{\"type\":\"surface\",\"colorbar\":{\"outlinewidth\":0,\"ticks\":\"\"},\"colorscale\":[[0.0,\"#0d0887\"],[0.1111111111111111,\"#46039f\"],[0.2222222222222222,\"#7201a8\"],[0.3333333333333333,\"#9c179e\"],[0.4444444444444444,\"#bd3786\"],[0.5555555555555556,\"#d8576b\"],[0.6666666666666666,\"#ed7953\"],[0.7777777777777778,\"#fb9f3a\"],[0.8888888888888888,\"#fdca26\"],[1.0,\"#f0f921\"]]}],\"mesh3d\":[{\"type\":\"mesh3d\",\"colorbar\":{\"outlinewidth\":0,\"ticks\":\"\"}}],\"scatter\":[{\"fillpattern\":{\"fillmode\":\"overlay\",\"size\":10,\"solidity\":0.2},\"type\":\"scatter\"}],\"parcoords\":[{\"type\":\"parcoords\",\"line\":{\"colorbar\":{\"outlinewidth\":0,\"ticks\":\"\"}}}],\"scatterpolargl\":[{\"type\":\"scatterpolargl\",\"marker\":{\"colorbar\":{\"outlinewidth\":0,\"ticks\":\"\"}}}],\"bar\":[{\"error_x\":{\"color\":\"#2a3f5f\"},\"error_y\":{\"color\":\"#2a3f5f\"},\"marker\":{\"line\":{\"color\":\"#E5ECF6\",\"width\":0.5},\"pattern\":{\"fillmode\":\"overlay\",\"size\":10,\"solidity\":0.2}},\"type\":\"bar\"}],\"scattergeo\":[{\"type\":\"scattergeo\",\"marker\":{\"colorbar\":{\"outlinewidth\":0,\"ticks\":\"\"}}}],\"scatterpolar\":[{\"type\":\"scatterpolar\",\"marker\":{\"colorbar\":{\"outlinewidth\":0,\"ticks\":\"\"}}}],\"histogram\":[{\"marker\":{\"pattern\":{\"fillmode\":\"overlay\",\"size\":10,\"solidity\":0.2}},\"type\":\"histogram\"}],\"scattergl\":[{\"type\":\"scattergl\",\"marker\":{\"colorbar\":{\"outlinewidth\":0,\"ticks\":\"\"}}}],\"scatter3d\":[{\"type\":\"scatter3d\",\"line\":{\"colorbar\":{\"outlinewidth\":0,\"ticks\":\"\"}},\"marker\":{\"colorbar\":{\"outlinewidth\":0,\"ticks\":\"\"}}}],\"scattermap\":[{\"type\":\"scattermap\",\"marker\":{\"colorbar\":{\"outlinewidth\":0,\"ticks\":\"\"}}}],\"scattermapbox\":[{\"type\":\"scattermapbox\",\"marker\":{\"colorbar\":{\"outlinewidth\":0,\"ticks\":\"\"}}}],\"scatterternary\":[{\"type\":\"scatterternary\",\"marker\":{\"colorbar\":{\"outlinewidth\":0,\"ticks\":\"\"}}}],\"scattercarpet\":[{\"type\":\"scattercarpet\",\"marker\":{\"colorbar\":{\"outlinewidth\":0,\"ticks\":\"\"}}}],\"carpet\":[{\"aaxis\":{\"endlinecolor\":\"#2a3f5f\",\"gridcolor\":\"white\",\"linecolor\":\"white\",\"minorgridcolor\":\"white\",\"startlinecolor\":\"#2a3f5f\"},\"baxis\":{\"endlinecolor\":\"#2a3f5f\",\"gridcolor\":\"white\",\"linecolor\":\"white\",\"minorgridcolor\":\"white\",\"startlinecolor\":\"#2a3f5f\"},\"type\":\"carpet\"}],\"table\":[{\"cells\":{\"fill\":{\"color\":\"#EBF0F8\"},\"line\":{\"color\":\"white\"}},\"header\":{\"fill\":{\"color\":\"#C8D4E3\"},\"line\":{\"color\":\"white\"}},\"type\":\"table\"}],\"barpolar\":[{\"marker\":{\"line\":{\"color\":\"#E5ECF6\",\"width\":0.5},\"pattern\":{\"fillmode\":\"overlay\",\"size\":10,\"solidity\":0.2}},\"type\":\"barpolar\"}],\"pie\":[{\"automargin\":true,\"type\":\"pie\"}]},\"layout\":{\"autotypenumbers\":\"strict\",\"colorway\":[\"#636efa\",\"#EF553B\",\"#00cc96\",\"#ab63fa\",\"#FFA15A\",\"#19d3f3\",\"#FF6692\",\"#B6E880\",\"#FF97FF\",\"#FECB52\"],\"font\":{\"color\":\"#2a3f5f\"},\"hovermode\":\"closest\",\"hoverlabel\":{\"align\":\"left\"},\"paper_bgcolor\":\"white\",\"plot_bgcolor\":\"#E5ECF6\",\"polar\":{\"bgcolor\":\"#E5ECF6\",\"angularaxis\":{\"gridcolor\":\"white\",\"linecolor\":\"white\",\"ticks\":\"\"},\"radialaxis\":{\"gridcolor\":\"white\",\"linecolor\":\"white\",\"ticks\":\"\"}},\"ternary\":{\"bgcolor\":\"#E5ECF6\",\"aaxis\":{\"gridcolor\":\"white\",\"linecolor\":\"white\",\"ticks\":\"\"},\"baxis\":{\"gridcolor\":\"white\",\"linecolor\":\"white\",\"ticks\":\"\"},\"caxis\":{\"gridcolor\":\"white\",\"linecolor\":\"white\",\"ticks\":\"\"}},\"coloraxis\":{\"colorbar\":{\"outlinewidth\":0,\"ticks\":\"\"}},\"colorscale\":{\"sequential\":[[0.0,\"#0d0887\"],[0.1111111111111111,\"#46039f\"],[0.2222222222222222,\"#7201a8\"],[0.3333333333333333,\"#9c179e\"],[0.4444444444444444,\"#bd3786\"],[0.5555555555555556,\"#d8576b\"],[0.6666666666666666,\"#ed7953\"],[0.7777777777777778,\"#fb9f3a\"],[0.8888888888888888,\"#fdca26\"],[1.0,\"#f0f921\"]],\"sequentialminus\":[[0.0,\"#0d0887\"],[0.1111111111111111,\"#46039f\"],[0.2222222222222222,\"#7201a8\"],[0.3333333333333333,\"#9c179e\"],[0.4444444444444444,\"#bd3786\"],[0.5555555555555556,\"#d8576b\"],[0.6666666666666666,\"#ed7953\"],[0.7777777777777778,\"#fb9f3a\"],[0.8888888888888888,\"#fdca26\"],[1.0,\"#f0f921\"]],\"diverging\":[[0,\"#8e0152\"],[0.1,\"#c51b7d\"],[0.2,\"#de77ae\"],[0.3,\"#f1b6da\"],[0.4,\"#fde0ef\"],[0.5,\"#f7f7f7\"],[0.6,\"#e6f5d0\"],[0.7,\"#b8e186\"],[0.8,\"#7fbc41\"],[0.9,\"#4d9221\"],[1,\"#276419\"]]},\"xaxis\":{\"gridcolor\":\"white\",\"linecolor\":\"white\",\"ticks\":\"\",\"title\":{\"standoff\":15},\"zerolinecolor\":\"white\",\"automargin\":true,\"zerolinewidth\":2},\"yaxis\":{\"gridcolor\":\"white\",\"linecolor\":\"white\",\"ticks\":\"\",\"title\":{\"standoff\":15},\"zerolinecolor\":\"white\",\"automargin\":true,\"zerolinewidth\":2},\"scene\":{\"xaxis\":{\"backgroundcolor\":\"#E5ECF6\",\"gridcolor\":\"white\",\"linecolor\":\"white\",\"showbackground\":true,\"ticks\":\"\",\"zerolinecolor\":\"white\",\"gridwidth\":2},\"yaxis\":{\"backgroundcolor\":\"#E5ECF6\",\"gridcolor\":\"white\",\"linecolor\":\"white\",\"showbackground\":true,\"ticks\":\"\",\"zerolinecolor\":\"white\",\"gridwidth\":2},\"zaxis\":{\"backgroundcolor\":\"#E5ECF6\",\"gridcolor\":\"white\",\"linecolor\":\"white\",\"showbackground\":true,\"ticks\":\"\",\"zerolinecolor\":\"white\",\"gridwidth\":2}},\"shapedefaults\":{\"line\":{\"color\":\"#2a3f5f\"}},\"annotationdefaults\":{\"arrowcolor\":\"#2a3f5f\",\"arrowhead\":0,\"arrowwidth\":1},\"geo\":{\"bgcolor\":\"white\",\"landcolor\":\"#E5ECF6\",\"subunitcolor\":\"white\",\"showland\":true,\"showlakes\":true,\"lakecolor\":\"white\"},\"title\":{\"x\":0.05},\"mapbox\":{\"style\":\"light\"}}},\"xaxis\":{\"anchor\":\"y\",\"domain\":[0.0,1.0],\"scaleanchor\":\"y\",\"constrain\":\"domain\"},\"yaxis\":{\"anchor\":\"x\",\"domain\":[0.0,1.0],\"autorange\":\"reversed\",\"constrain\":\"domain\"},\"coloraxis\":{\"colorbar\":{\"title\":{\"text\":\"Similarity Score\"}},\"colorscale\":[[0.0,\"rgb(247,252,240)\"],[0.125,\"rgb(224,243,219)\"],[0.25,\"rgb(204,235,197)\"],[0.375,\"rgb(168,221,181)\"],[0.5,\"rgb(123,204,196)\"],[0.625,\"rgb(78,179,211)\"],[0.75,\"rgb(43,140,190)\"],[0.875,\"rgb(8,104,172)\"],[1.0,\"rgb(8,64,129)\"]]},\"margin\":{\"t\":60},\"title\":{\"font\":{\"size\":22,\"color\":\"Black\"},\"text\":\"\\u003cb\\u003eSimilarity Matrix\\u003c\\u002fb\\u003e\",\"y\":0.95,\"x\":0.55,\"xanchor\":\"center\",\"yanchor\":\"top\"},\"hoverlabel\":{\"font\":{\"size\":16,\"family\":\"Rockwell\"},\"bgcolor\":\"white\"},\"width\":800,\"height\":800,\"showlegend\":true,\"legend\":{\"title\":{\"text\":\"Trend\"}}},                        {\"responsive\": true}                    )                };            </script>        </div>"
      ],
      "text/plain": [
       "Figure({\n",
       "    'data': [{'coloraxis': 'coloraxis',\n",
       "              'hovertemplate': 'x: %{x}<br>y: %{y}<br>Similarity Score: %{z}<extra></extra>',\n",
       "              'name': '0',\n",
       "              'type': 'heatmap',\n",
       "              'x': [0_guitar_br_mic, 1_great_good_works, 2_arm_br_blue,\n",
       "                    3_cable_strings_winder, 4_pedal_pedals_sustain,\n",
       "                    5_bowl_singing_singing bowl, 6_love_loves_love love,\n",
       "                    7_picks_variety_pick, 8_bench_shoulder_comfortable,\n",
       "                    9_does_job_does job, 10_gift_loved_great gift,\n",
       "                    11_advertised_advertised wo..., 12_amazon_br_product,\n",
       "                    13_expected_expected expect..., 14_play_ernie_ernie ball,\n",
       "                    15_just needed_needed just_..., 16_pay_pay pay_pay pay pay,\n",
       "                    17_bulbs_light_bulb, 18_craftsmanship_craftsmans...],\n",
       "              'xaxis': 'x',\n",
       "              'y': [0_guitar_br_mic, 1_great_good_works, 2_arm_br_blue,\n",
       "                    3_cable_strings_winder, 4_pedal_pedals_sustain,\n",
       "                    5_bowl_singing_singing bowl, 6_love_loves_love love,\n",
       "                    7_picks_variety_pick, 8_bench_shoulder_comfortable,\n",
       "                    9_does_job_does job, 10_gift_loved_great gift,\n",
       "                    11_advertised_advertised wo..., 12_amazon_br_product,\n",
       "                    13_expected_expected expect..., 14_play_ernie_ernie ball,\n",
       "                    15_just needed_needed just_..., 16_pay_pay pay_pay pay pay,\n",
       "                    17_bulbs_light_bulb, 18_craftsmanship_craftsmans...],\n",
       "              'yaxis': 'y',\n",
       "              'z': {'bdata': ('/v//////7z/5av/0W7rhPza2ijQ/jO' ... 'E2iMbMP3ahdZMU9dI/AQAAAAAA8D8='),\n",
       "                    'dtype': 'f8',\n",
       "                    'shape': '19, 19'}}],\n",
       "    'layout': {'coloraxis': {'colorbar': {'title': {'text': 'Similarity Score'}},\n",
       "                             'colorscale': [[0.0, 'rgb(247,252,240)'], [0.125,\n",
       "                                            'rgb(224,243,219)'], [0.25,\n",
       "                                            'rgb(204,235,197)'], [0.375,\n",
       "                                            'rgb(168,221,181)'], [0.5,\n",
       "                                            'rgb(123,204,196)'], [0.625,\n",
       "                                            'rgb(78,179,211)'], [0.75,\n",
       "                                            'rgb(43,140,190)'], [0.875,\n",
       "                                            'rgb(8,104,172)'], [1.0,\n",
       "                                            'rgb(8,64,129)']]},\n",
       "               'height': 800,\n",
       "               'hoverlabel': {'bgcolor': 'white', 'font': {'family': 'Rockwell', 'size': 16}},\n",
       "               'legend': {'title': {'text': 'Trend'}},\n",
       "               'margin': {'t': 60},\n",
       "               'showlegend': True,\n",
       "               'template': '...',\n",
       "               'title': {'font': {'color': 'Black', 'size': 22},\n",
       "                         'text': '<b>Similarity Matrix</b>',\n",
       "                         'x': 0.55,\n",
       "                         'xanchor': 'center',\n",
       "                         'y': 0.95,\n",
       "                         'yanchor': 'top'},\n",
       "               'width': 800,\n",
       "               'xaxis': {'anchor': 'y', 'constrain': 'domain', 'domain': [0.0, 1.0], 'scaleanchor': 'y'},\n",
       "               'yaxis': {'anchor': 'x', 'autorange': 'reversed', 'constrain': 'domain', 'domain': [0.0, 1.0]}}\n",
       "})"
      ]
     },
     "execution_count": 25,
     "metadata": {},
     "output_type": "execute_result"
    }
   ],
   "source": [
    "model.visualize_heatmap()"
   ]
  },
  {
   "cell_type": "code",
   "execution_count": 26,
   "metadata": {
    "id": "QzslqX9ycRFu"
   },
   "outputs": [
    {
     "ename": "ValueError",
     "evalue": "Mime type rendering requires nbformat>=4.2.0 but it is not installed",
     "output_type": "error",
     "traceback": [
      "\u001b[1;31m---------------------------------------------------------------------------\u001b[0m",
      "\u001b[1;31mValueError\u001b[0m                                Traceback (most recent call last)",
      "File \u001b[1;32m~\\AppData\\Roaming\\Python\\Python39\\site-packages\\IPython\\core\\formatters.py:922\u001b[0m, in \u001b[0;36mIPythonDisplayFormatter.__call__\u001b[1;34m(self, obj)\u001b[0m\n\u001b[0;32m    920\u001b[0m method \u001b[38;5;241m=\u001b[39m get_real_method(obj, \u001b[38;5;28mself\u001b[39m\u001b[38;5;241m.\u001b[39mprint_method)\n\u001b[0;32m    921\u001b[0m \u001b[38;5;28;01mif\u001b[39;00m method \u001b[38;5;129;01mis\u001b[39;00m \u001b[38;5;129;01mnot\u001b[39;00m \u001b[38;5;28;01mNone\u001b[39;00m:\n\u001b[1;32m--> 922\u001b[0m     \u001b[43mmethod\u001b[49m\u001b[43m(\u001b[49m\u001b[43m)\u001b[49m\n\u001b[0;32m    923\u001b[0m     \u001b[38;5;28;01mreturn\u001b[39;00m \u001b[38;5;28;01mTrue\u001b[39;00m\n",
      "File \u001b[1;32mc:\\Users\\a0938\\AppData\\Local\\Programs\\Python\\Python39\\lib\\site-packages\\plotly\\basedatatypes.py:833\u001b[0m, in \u001b[0;36mBaseFigure._ipython_display_\u001b[1;34m(self)\u001b[0m\n\u001b[0;32m    830\u001b[0m \u001b[38;5;28;01mimport\u001b[39;00m\u001b[38;5;250m \u001b[39m\u001b[38;5;21;01mplotly\u001b[39;00m\u001b[38;5;21;01m.\u001b[39;00m\u001b[38;5;21;01mio\u001b[39;00m\u001b[38;5;250m \u001b[39m\u001b[38;5;28;01mas\u001b[39;00m\u001b[38;5;250m \u001b[39m\u001b[38;5;21;01mpio\u001b[39;00m\n\u001b[0;32m    832\u001b[0m \u001b[38;5;28;01mif\u001b[39;00m pio\u001b[38;5;241m.\u001b[39mrenderers\u001b[38;5;241m.\u001b[39mrender_on_display \u001b[38;5;129;01mand\u001b[39;00m pio\u001b[38;5;241m.\u001b[39mrenderers\u001b[38;5;241m.\u001b[39mdefault:\n\u001b[1;32m--> 833\u001b[0m     \u001b[43mpio\u001b[49m\u001b[38;5;241;43m.\u001b[39;49m\u001b[43mshow\u001b[49m\u001b[43m(\u001b[49m\u001b[38;5;28;43mself\u001b[39;49m\u001b[43m)\u001b[49m\n\u001b[0;32m    834\u001b[0m \u001b[38;5;28;01melse\u001b[39;00m:\n\u001b[0;32m    835\u001b[0m     \u001b[38;5;28mprint\u001b[39m(\u001b[38;5;28mrepr\u001b[39m(\u001b[38;5;28mself\u001b[39m))\n",
      "File \u001b[1;32mc:\\Users\\a0938\\AppData\\Local\\Programs\\Python\\Python39\\lib\\site-packages\\plotly\\io\\_renderers.py:425\u001b[0m, in \u001b[0;36mshow\u001b[1;34m(fig, renderer, validate, **kwargs)\u001b[0m\n\u001b[0;32m    420\u001b[0m     \u001b[38;5;28;01mraise\u001b[39;00m \u001b[38;5;167;01mValueError\u001b[39;00m(\n\u001b[0;32m    421\u001b[0m         \u001b[38;5;124m\"\u001b[39m\u001b[38;5;124mMime type rendering requires ipython but it is not installed\u001b[39m\u001b[38;5;124m\"\u001b[39m\n\u001b[0;32m    422\u001b[0m     )\n\u001b[0;32m    424\u001b[0m \u001b[38;5;28;01mif\u001b[39;00m \u001b[38;5;129;01mnot\u001b[39;00m nbformat \u001b[38;5;129;01mor\u001b[39;00m Version(nbformat\u001b[38;5;241m.\u001b[39m__version__) \u001b[38;5;241m<\u001b[39m Version(\u001b[38;5;124m\"\u001b[39m\u001b[38;5;124m4.2.0\u001b[39m\u001b[38;5;124m\"\u001b[39m):\n\u001b[1;32m--> 425\u001b[0m     \u001b[38;5;28;01mraise\u001b[39;00m \u001b[38;5;167;01mValueError\u001b[39;00m(\n\u001b[0;32m    426\u001b[0m         \u001b[38;5;124m\"\u001b[39m\u001b[38;5;124mMime type rendering requires nbformat>=4.2.0 but it is not installed\u001b[39m\u001b[38;5;124m\"\u001b[39m\n\u001b[0;32m    427\u001b[0m     )\n\u001b[0;32m    429\u001b[0m display_jupyter_version_warnings()\n\u001b[0;32m    431\u001b[0m ipython_display\u001b[38;5;241m.\u001b[39mdisplay(bundle, raw\u001b[38;5;241m=\u001b[39m\u001b[38;5;28;01mTrue\u001b[39;00m)\n",
      "\u001b[1;31mValueError\u001b[0m: Mime type rendering requires nbformat>=4.2.0 but it is not installed"
     ]
    },
    {
     "data": {
      "application/vnd.plotly.v1+json": {
       "config": {
        "plotlyServerURL": "https://plot.ly"
       },
       "data": [
        {
         "hovertext": "<b>Topic -1</b>:br_great_guitar_good_use_mic_works",
         "line": {
          "color": "black",
          "width": 1.5
         },
         "mode": "lines+lines",
         "name": "",
         "opacity": 0.1,
         "type": "scatter",
         "x": {
          "bdata": "AQIDBAUGBwgJCgsMDQ4PEBESExQ=",
          "dtype": "i1"
         },
         "y": {
          "bdata": "0ok15Rqi/b82PUobZJj+vzGDYrGRof+/C7V35vz//7/wCdYmCycAwLZn+S/8PADAAxZxK/RKAMDMhrjF1IcAwLLJTpLgswDA4b49WlDCAMAUdpJGpMoAwEXDAfGa2wDA6uVFXrDkAMAh0HwiaP4AwC85F3NFLwHAnntWuqw4AcCRtzuPRs8BwJSRFic39QHAuZ8/YZP/AcB9yFacCgICwA==",
          "dtype": "f8"
         }
        },
        {
         "hovertext": "<b>Topic 0</b>:guitar_br_mic_great_stand_use_sound",
         "line": {
          "color": "black",
          "width": 1.5
         },
         "mode": "lines+lines",
         "name": "",
         "opacity": 0.1,
         "type": "scatter",
         "x": {
          "bdata": "AQIDBAUGBwgJCgsMDQ4PEBESExQ=",
          "dtype": "i1"
         },
         "y": {
          "bdata": "ldorNuzd/L/ULC1YNBD9v+i2f9lVxv6/RBnyPvw4/7+4WErVWykAwIZ3visaVQDAI5p4dj9lAMAnLHslxKcAwJohhxrdrQDAyaO2ixbfAMBktMk6nPoAwEqBmVZCGAHAwrFqMwo8AcCkNwCuK0EBwHTl6txdSQHApLFCBdtjAcCnBcS6EI8BwCNG0h/qkQHAfOj4DbHSAcBhJ07PmuABwA==",
          "dtype": "f8"
         }
        },
        {
         "hovertext": "<b>Topic 1</b>:great_good_works_product_price_easy",
         "line": {
          "color": "black",
          "width": 1.5
         },
         "mode": "lines+lines",
         "name": "",
         "opacity": 0.1,
         "type": "scatter",
         "x": {
          "bdata": "AQIDBAUGBwgJCgsMDQ4PEBESExQ=",
          "dtype": "i1"
         },
         "y": {
          "bdata": "95bJ+gjT9L/9i1DvOzr2v1yxMspMbfe/ym5dADbA97/YWmKjCvv4v8lZ/euvrfq/KQwQjJjO+r8p7kacLk/7v3SH9FN0B/y/lN2lGc13/L+1ynYT89D8vzGCisxV+/y/AK47paFN/r/egGwP1IH+vx2QjDwv9f6/ZxSj8dJ5/78OZkK6e8z/v7KOOYSO3/+/xTul5r0RAMAGOv/r4SYAwA==",
          "dtype": "f8"
         }
        },
        {
         "hovertext": "<b>Topic 2</b>:arm_br_blue_just_snowball_works_des",
         "line": {
          "color": "black",
          "width": 1.5
         },
         "mode": "lines+lines",
         "name": "",
         "opacity": 0.1,
         "type": "scatter",
         "x": {
          "bdata": "AQIDBAUGBwgJCgsMDQ4PEBESExQ=",
          "dtype": "i1"
         },
         "y": {
          "bdata": "PXc+rxfb/L/hJ2j9qrf9vw1PrfE7jv6/zSZq+x+x/7+M7vMkuPT/v6vcjgTcOwDA7QenmoxQAMC05Nw1dlMAwNKYIcroZQDA36k3Fd6zAMCkBjg44L4AwE/CeRFsBAHAqzxPInMJAcC/7RDo5AsBwFQYrh9dDwHArC1SMLYfAcD8lMsiCyYBwJ78YJR7MgHA7lWr8ctAAcCrw7gl2UABwA==",
          "dtype": "f8"
         }
        },
        {
         "hovertext": "<b>Topic 3</b>:cable_strings_winder_cables_string_",
         "line": {
          "color": "black",
          "width": 1.5
         },
         "mode": "lines+lines",
         "name": "",
         "opacity": 0.1,
         "type": "scatter",
         "x": {
          "bdata": "AQIDBAUGBwgJCgsMDQ4PEBESExQ=",
          "dtype": "i1"
         },
         "y": {
          "bdata": "iF6G51II9r+nu6u5z1j5v5PfXylIrPu/GJEbHuG1+797GSbLjf/7v1Q1mvPJlvy/wNB/vKb6/L97kqHqa2H9vyRCCUipPP6/b6bBD2RN/r+E4pt6g6X+v7pistKEA/+/9yZAh0XV/7+Bz5s3VX4AwH2c57DLigDADS5+RymmAMAO2aZiP78AwIi3RCdGzQDAwATuWSXQAMDzZEQAEdQAwA==",
          "dtype": "f8"
         }
        },
        {
         "hovertext": "<b>Topic 4</b>:pedal_pedals_sustain_power_piano_su",
         "line": {
          "color": "black",
          "width": 1.5
         },
         "mode": "lines+lines",
         "name": "",
         "opacity": 0.1,
         "type": "scatter",
         "x": {
          "bdata": "AQIDBAUGBwgJCgsMDQ4PEBESExQ=",
          "dtype": "i1"
         },
         "y": {
          "bdata": "CdKdoATU8b9NxbWHHGr4v7/b4l9rtfm/Hj+NQUAv+784Sw5i1kb8v4hDs4Deffy/l9gk2eED/b94T64DXpz9v3dV58rIFP6/s9HkluBF/r/E5k6xa3v/vy8yt8q5fP+/LNdVJuGD/78PYe9TwRMAwCMKiPhaQADADZiHSahBAMA3a9o1n3cAwJbyUHXBogDAym7E/KOqAMD2ogJSm9wAwA==",
          "dtype": "f8"
         }
        },
        {
         "hovertext": "<b>Topic 5</b>:bowl_singing_singing bowl_sound_bea",
         "line": {
          "color": "black",
          "width": 1.5
         },
         "mode": "lines+lines",
         "name": "",
         "opacity": 0.1,
         "type": "scatter",
         "x": {
          "bdata": "AQIDBAUGBwgJCgsMDQ4PEBESExQ=",
          "dtype": "i1"
         },
         "y": {
          "bdata": "wkRL3jhK778MrUBp+5z1v0HaRfuWS/a/y54/fYUB+b/QFyHHU/b5v4sImfu4Rvq/44ywfK7I+r9evOvNJBX9vwQYXLjGKv2/Wye+qrw7/b8b+vvqodH9v8sg/rsj/P2/t11sIKXL/r8Z/PFK4lj/v9AuRZGdev+/lueFXinv/78f4+/aj+//v9AOatw0QADAjnUTABhLAMDnWjwMC2wAwA==",
          "dtype": "f8"
         }
        },
        {
         "hovertext": "<b>Topic 6</b>:love_loves_love love_loved_son_daug",
         "line": {
          "color": "black",
          "width": 1.5
         },
         "mode": "lines+lines",
         "name": "",
         "opacity": 0.1,
         "type": "scatter",
         "x": {
          "bdata": "AQIDBAUGBwgJCgsMDQ4PEBESExQ=",
          "dtype": "i1"
         },
         "y": {
          "bdata": "LpjoxKyv5L8cL0VD94Pqv+tohQql4uq/PkqnUQVR8L+iPt2Hfjbyv8aFc8T8sPK/UPwGcM6x8r+5ols+HKvzv0ueZ/lSBvS/GuAoBzyR9b8ixC4EjBf3v4M/lf4BIve/KyJsnYKJ97+44kyEtbH3v2dJIWfwuPe/2tkC3Xju+L+nlsZuTff4v4EK2OyNMvm/tZRVuk5C+b9Qk3jVaW75vw==",
          "dtype": "f8"
         }
        },
        {
         "hovertext": "<b>Topic 7</b>:picks_variety_pick_pack_good_great_",
         "line": {
          "color": "black",
          "width": 1.5
         },
         "mode": "lines+lines",
         "name": "",
         "opacity": 0.1,
         "type": "scatter",
         "x": {
          "bdata": "AQIDBAUGBwgJCgsMDQ4PEBESExQ=",
          "dtype": "i1"
         },
         "y": {
          "bdata": "eABDB3Xa7L9HOG/wqRT0v38SHlMJfPe/rwKe3lEE+L9imNcL+VP4vyuZn+DObPi/LUTaoSyo+L+ryC3qP+H4v7AtuqB5/Pi/7rjnSgMC+b/3fiPF51z5vz2fLM+0BPq//9Qh6A0b+r9vBHqMNVH7v+Qy0eFShvy/KSBK3BKP/L9L5KcX8df8v+SAkWwaQv2/RUR1pdtO/b+g/qMIw4D9vw==",
          "dtype": "f8"
         }
        },
        {
         "hovertext": "<b>Topic 8</b>:bench_shoulder_comfortable_seat_res",
         "line": {
          "color": "black",
          "width": 1.5
         },
         "mode": "lines+lines",
         "name": "",
         "opacity": 0.1,
         "type": "scatter",
         "x": {
          "bdata": "AQIDBAUGBwgJCgsMDQ4PEBESExQ=",
          "dtype": "i1"
         },
         "y": {
          "bdata": "QY1kz5oP879ToUCJPGT1v49aEyIxyPa/4iN9xlXj97/DWkw0aAD4v1VztATGGfi/91tEYU5f+7/U0NzmYcf7vxV9AxoOw/y/X+9X2UjH/L8h+RVMKdn8v7WcwsQVuf2/nk+T7CRU/r+fuNaiZcn+vx0ul5FGVP+/nrFbbzTj/7+yAFLiFyUAwKvkeH0qOQDAZs+D85dHAMDsa4mdK2EAwA==",
          "dtype": "f8"
         }
        },
        {
         "hovertext": "<b>Topic 9</b>:does_job_does job_described_job doe",
         "line": {
          "color": "black",
          "width": 1.5
         },
         "mode": "lines+lines",
         "name": "",
         "opacity": 0.1,
         "type": "scatter",
         "x": {
          "bdata": "AQIDBAUGBwgJCgsMDQ4PEBESExQ=",
          "dtype": "i1"
         },
         "y": {
          "bdata": "qreSI4KW5L+MVPR0EaLkv0N0c0kMwOa/OZB8vMCQ6r8NK70QzW3sv3Fwfpwkd/C/sW37U65J8b9NZhG9f9fxv/c50pSJZ/K/Kg1ktGSO879SmTX0wrHzvxveS6NOcPS/5vjwjpr29L8qpG+kmTz1v0HnY25GfvW/f+kp4MdS9r8wID01RIH2v3XLyjM4pfa/BUNVtlKz9r+WZbklhVD3vw==",
          "dtype": "f8"
         }
        },
        {
         "hovertext": "<b>Topic 10</b>:gift_loved_great gift_gift gift_lo",
         "line": {
          "color": "black",
          "width": 1.5
         },
         "mode": "lines+lines",
         "name": "",
         "opacity": 0.1,
         "type": "scatter",
         "x": {
          "bdata": "AQIDBAUGBwgJCgsMDQ4PEBESExQ=",
          "dtype": "i1"
         },
         "y": {
          "bdata": "uSTzDSu83r8JP3qRMOXwv/ZwEoFHI/O/ZPOPz+G887+cl3SWeJT0vyngCnxZ2fS/sv5qjjh89r/pw7neJMj2vy+c0ILi+fa/R5amY/0h978AP8PuLD33v3R10e8/eve/g92HIYmR978Jh6Oc9q/3v+49Tm8XLfi/UdoL7bgt+L8jt3pCr1H4vyQ7peGdb/i/nR+iDFtz+L/zvOmbItv5vw==",
          "dtype": "f8"
         }
        },
        {
         "hovertext": "<b>Topic 11</b>:advertised_advertised works_advert",
         "line": {
          "color": "black",
          "width": 1.5
         },
         "mode": "lines+lines",
         "name": "",
         "opacity": 0.1,
         "type": "scatter",
         "x": {
          "bdata": "AQIDBAUGBwgJCgsMDQ4PEBESExQ=",
          "dtype": "i1"
         },
         "y": {
          "bdata": "rxvz6Nefs7+E1TmWvE7Uv0oKDas0VtW/onnVwkfN17/dKf8ij6fcvyVOrzNxHuK/bKwbAbCK5r/dmF7n98rpv66eC1OPP+u/+hdFFrHm7L9zzCOoHxjuv9JQy1W2LfC/IAwEWqzh8L+rPaIG8O3xvxuaStedKPS/S78H4M6c9L/WJ03O37T1vyscytr0vva/G7G26OL59r9WjNVR0UH3vw==",
          "dtype": "f8"
         }
        },
        {
         "hovertext": "<b>Topic 12</b>:amazon_br_product_cancer_br br_war",
         "line": {
          "color": "black",
          "width": 1.5
         },
         "mode": "lines+lines",
         "name": "",
         "opacity": 0.1,
         "type": "scatter",
         "x": {
          "bdata": "AQIDBAUGBwgJCgsMDQ4PEBESExQ=",
          "dtype": "i1"
         },
         "y": {
          "bdata": "KAVuadMP8b/8ied1FI36v7PniiDjqPu/wXfP8Ud2/L9gWMRZ1RD+v104X+RoNf6/4qDQWo3X/r9EK6B2E67/v0ZalAvbPADAfIU/SYmAAMDXUO4MQJAAwL2TCzfgrQDAYqCMN9K0AMD25DDIWbgAwLt1jLQ93QDAlnJcb8LeAMCo2JTgUuwAwPAZDfXd9ADA9U7X9kP1AMAx6qLZ5PUAwA==",
          "dtype": "f8"
         }
        },
        {
         "hovertext": "<b>Topic 13</b>:expected_expected expected_expecte",
         "line": {
          "color": "black",
          "width": 1.5
         },
         "mode": "lines+lines",
         "name": "",
         "opacity": 0.1,
         "type": "scatter",
         "x": {
          "bdata": "AQIDBAUGBwgJCgsMDQ4PEBESExQ=",
          "dtype": "i1"
         },
         "y": {
          "bdata": "7estTPGftL+EgbCadQbQv35GSMRE19e/C4tbJ/rc2L/46JwjPuHZv3V20K0YleW/ZNOueb+o5b9UsSiqlUvmv+NXt9mOtua/5cCkifKj6L+65cKOfOzrvzdeBISp++y/34EykHQR8L/Kz+d3yE7xv03rDJaHRfK/LbFh0aVV87+e3O4tg9D0v57c7i2D0PS/ntzuLYPQ9L9MAnmnzBb1vw==",
          "dtype": "f8"
         }
        },
        {
         "hovertext": "<b>Topic 14</b>:play_ernie_ernie ball_ball_great_p",
         "line": {
          "color": "black",
          "width": 1.5
         },
         "mode": "lines+lines",
         "name": "",
         "opacity": 0.1,
         "type": "scatter",
         "x": {
          "bdata": "AQIDBAUGBwgJCgsMDQ4PEBESExQ=",
          "dtype": "i1"
         },
         "y": {
          "bdata": "mc1btm8Y8r/ugGPXudvyv0Wuyq6q8PO/kzQ+tkby8796d8RwwJz4vzJb66LvXPm/Niv1hK+H+r+kHY4BQI/6v+Hn7leMq/u/gEy8aWtd/L+txqsD+2T8v6NP6Te/efy/gUjdE5zB/L8aYyg4jOD8v3VEqno86Py/0Lr819Me/b8OtlNbTib9v/uBmbpgNf2/z/Nv1Fk+/b8egqYTmJf9vw==",
          "dtype": "f8"
         }
        },
        {
         "hovertext": "<b>Topic 15</b>:just needed_needed just_just neede",
         "line": {
          "color": "black",
          "width": 1.5
         },
         "mode": "lines+lines",
         "name": "",
         "opacity": 0.1,
         "type": "scatter",
         "x": {
          "bdata": "AQIDBAUGBwgJCgsMDQ4PEBESExQ=",
          "dtype": "i1"
         },
         "y": {
          "bdata": "z88+ssK61r8ZlipcEA7avyYCFx1Zldu/t5YQT5Rs3L8P8INuNQXgv7iP3fJOMeC/TvsVhRVZ57+JtNizScHov+RkoRR4B+m/JZa1tZa77L/lACyjqJbuv0Ve++ZPTvG/luPa8Oq08r+W49rw6rTyv8XCg2pB2/K/fG+ss6nT879Gij8tAdv0vwMGq/99afW/dWgLWvB59b8kkHNk3qD1vw==",
          "dtype": "f8"
         }
        },
        {
         "hovertext": "<b>Topic 16</b>:pay_pay pay_pay pay pay_lip_undern",
         "line": {
          "color": "black",
          "width": 1.5
         },
         "mode": "lines+lines",
         "name": "",
         "opacity": 0.1,
         "type": "scatter",
         "x": {
          "bdata": "AQIDBAUGBwgJCgsMDQ4PEBESExQ=",
          "dtype": "i1"
         },
         "y": {
          "bdata": "8Njd8chn1b/zeywL5dzfv2cECCrZkO2/lp41XWvu77+2iStBjOPwv7aJK0GM4/C/tokrQYzj8L+2iStBjOPwv7aJK0GM4/C/tokrQYzj8L+2iStBjOPwvwcPC0snSvK/Bw8LSydK8r9oJY3N5qzyv7sznT1EsfK/53MlOJ7Z8r8xMWgKQ+fzvw5JyzuqGfS/DknLO6oZ9L+I1sYN50n0vw==",
          "dtype": "f8"
         }
        },
        {
         "hovertext": "<b>Topic 17</b>:bulbs_light_bulb_led_light bulbs_l",
         "line": {
          "color": "black",
          "width": 1.5
         },
         "mode": "lines+lines",
         "name": "",
         "opacity": 0.1,
         "type": "scatter",
         "x": {
          "bdata": "AQIDBAUGBwgJCgsMDQ4PEBESExQ=",
          "dtype": "i1"
         },
         "y": {
          "bdata": "sTQNUXKY6b/b7j5unDnyvyrrQpRNm/S/ECsU/D/29L8fwu3v84b1vzCOoFIv4fW/MeDqp//e+L+lIk6PpAj7v+Q1FW4JWvu/J4WO+69O/L9nUTqMyFD8vwTIFTpAbPy/BMgVOkBs/L9R5Q+oeq38v2e9PBopdf2/Z708Gil1/b8claxTCZv9vw997+eEr/2/RVg0eU8P/r+4QhwkxNv+vw==",
          "dtype": "f8"
         }
        },
        {
         "hovertext": "<b>Topic 18</b>:craftsmanship_craftsmanship great_",
         "line": {
          "color": "black",
          "width": 1.5
         },
         "mode": "lines+lines",
         "name": "",
         "opacity": 0.1,
         "type": "scatter",
         "x": {
          "bdata": "AQIDBAUGBwgJCgsMDQ4PEBESExQ=",
          "dtype": "i1"
         },
         "y": {
          "bdata": "bRhFuXj1z7/yUCNYuyHtv0oxOkZ0J+6/LIlOqg498L/5b81unZDwv5VjBcazufC/rF40Tel18r+sXjRN6XXyv5VxXHBRuvK/w8c2Gpbf8r/8wBFC/efyv/mGOYDiYfO/+YY5gOJh87/cJSwvdHfzv4LDTxSxL/W/mU4YGBOW9b9Y2sNGnA72v/vTuGrkKPa/1pKCZrrb9r/WkoJmutv2vw==",
          "dtype": "f8"
         }
        }
       ],
       "layout": {
        "height": 500,
        "hoverlabel": {
         "bgcolor": "white",
         "font": {
          "family": "Rockwell",
          "size": 16
         }
        },
        "showlegend": false,
        "template": {
         "data": {
          "bar": [
           {
            "error_x": {
             "color": "#2a3f5f"
            },
            "error_y": {
             "color": "#2a3f5f"
            },
            "marker": {
             "line": {
              "color": "white",
              "width": 0.5
             },
             "pattern": {
              "fillmode": "overlay",
              "size": 10,
              "solidity": 0.2
             }
            },
            "type": "bar"
           }
          ],
          "barpolar": [
           {
            "marker": {
             "line": {
              "color": "white",
              "width": 0.5
             },
             "pattern": {
              "fillmode": "overlay",
              "size": 10,
              "solidity": 0.2
             }
            },
            "type": "barpolar"
           }
          ],
          "carpet": [
           {
            "aaxis": {
             "endlinecolor": "#2a3f5f",
             "gridcolor": "#C8D4E3",
             "linecolor": "#C8D4E3",
             "minorgridcolor": "#C8D4E3",
             "startlinecolor": "#2a3f5f"
            },
            "baxis": {
             "endlinecolor": "#2a3f5f",
             "gridcolor": "#C8D4E3",
             "linecolor": "#C8D4E3",
             "minorgridcolor": "#C8D4E3",
             "startlinecolor": "#2a3f5f"
            },
            "type": "carpet"
           }
          ],
          "choropleth": [
           {
            "colorbar": {
             "outlinewidth": 0,
             "ticks": ""
            },
            "type": "choropleth"
           }
          ],
          "contour": [
           {
            "colorbar": {
             "outlinewidth": 0,
             "ticks": ""
            },
            "colorscale": [
             [
              0,
              "#0d0887"
             ],
             [
              0.1111111111111111,
              "#46039f"
             ],
             [
              0.2222222222222222,
              "#7201a8"
             ],
             [
              0.3333333333333333,
              "#9c179e"
             ],
             [
              0.4444444444444444,
              "#bd3786"
             ],
             [
              0.5555555555555556,
              "#d8576b"
             ],
             [
              0.6666666666666666,
              "#ed7953"
             ],
             [
              0.7777777777777778,
              "#fb9f3a"
             ],
             [
              0.8888888888888888,
              "#fdca26"
             ],
             [
              1,
              "#f0f921"
             ]
            ],
            "type": "contour"
           }
          ],
          "contourcarpet": [
           {
            "colorbar": {
             "outlinewidth": 0,
             "ticks": ""
            },
            "type": "contourcarpet"
           }
          ],
          "heatmap": [
           {
            "colorbar": {
             "outlinewidth": 0,
             "ticks": ""
            },
            "colorscale": [
             [
              0,
              "#0d0887"
             ],
             [
              0.1111111111111111,
              "#46039f"
             ],
             [
              0.2222222222222222,
              "#7201a8"
             ],
             [
              0.3333333333333333,
              "#9c179e"
             ],
             [
              0.4444444444444444,
              "#bd3786"
             ],
             [
              0.5555555555555556,
              "#d8576b"
             ],
             [
              0.6666666666666666,
              "#ed7953"
             ],
             [
              0.7777777777777778,
              "#fb9f3a"
             ],
             [
              0.8888888888888888,
              "#fdca26"
             ],
             [
              1,
              "#f0f921"
             ]
            ],
            "type": "heatmap"
           }
          ],
          "histogram": [
           {
            "marker": {
             "pattern": {
              "fillmode": "overlay",
              "size": 10,
              "solidity": 0.2
             }
            },
            "type": "histogram"
           }
          ],
          "histogram2d": [
           {
            "colorbar": {
             "outlinewidth": 0,
             "ticks": ""
            },
            "colorscale": [
             [
              0,
              "#0d0887"
             ],
             [
              0.1111111111111111,
              "#46039f"
             ],
             [
              0.2222222222222222,
              "#7201a8"
             ],
             [
              0.3333333333333333,
              "#9c179e"
             ],
             [
              0.4444444444444444,
              "#bd3786"
             ],
             [
              0.5555555555555556,
              "#d8576b"
             ],
             [
              0.6666666666666666,
              "#ed7953"
             ],
             [
              0.7777777777777778,
              "#fb9f3a"
             ],
             [
              0.8888888888888888,
              "#fdca26"
             ],
             [
              1,
              "#f0f921"
             ]
            ],
            "type": "histogram2d"
           }
          ],
          "histogram2dcontour": [
           {
            "colorbar": {
             "outlinewidth": 0,
             "ticks": ""
            },
            "colorscale": [
             [
              0,
              "#0d0887"
             ],
             [
              0.1111111111111111,
              "#46039f"
             ],
             [
              0.2222222222222222,
              "#7201a8"
             ],
             [
              0.3333333333333333,
              "#9c179e"
             ],
             [
              0.4444444444444444,
              "#bd3786"
             ],
             [
              0.5555555555555556,
              "#d8576b"
             ],
             [
              0.6666666666666666,
              "#ed7953"
             ],
             [
              0.7777777777777778,
              "#fb9f3a"
             ],
             [
              0.8888888888888888,
              "#fdca26"
             ],
             [
              1,
              "#f0f921"
             ]
            ],
            "type": "histogram2dcontour"
           }
          ],
          "mesh3d": [
           {
            "colorbar": {
             "outlinewidth": 0,
             "ticks": ""
            },
            "type": "mesh3d"
           }
          ],
          "parcoords": [
           {
            "line": {
             "colorbar": {
              "outlinewidth": 0,
              "ticks": ""
             }
            },
            "type": "parcoords"
           }
          ],
          "pie": [
           {
            "automargin": true,
            "type": "pie"
           }
          ],
          "scatter": [
           {
            "fillpattern": {
             "fillmode": "overlay",
             "size": 10,
             "solidity": 0.2
            },
            "type": "scatter"
           }
          ],
          "scatter3d": [
           {
            "line": {
             "colorbar": {
              "outlinewidth": 0,
              "ticks": ""
             }
            },
            "marker": {
             "colorbar": {
              "outlinewidth": 0,
              "ticks": ""
             }
            },
            "type": "scatter3d"
           }
          ],
          "scattercarpet": [
           {
            "marker": {
             "colorbar": {
              "outlinewidth": 0,
              "ticks": ""
             }
            },
            "type": "scattercarpet"
           }
          ],
          "scattergeo": [
           {
            "marker": {
             "colorbar": {
              "outlinewidth": 0,
              "ticks": ""
             }
            },
            "type": "scattergeo"
           }
          ],
          "scattergl": [
           {
            "marker": {
             "colorbar": {
              "outlinewidth": 0,
              "ticks": ""
             }
            },
            "type": "scattergl"
           }
          ],
          "scattermap": [
           {
            "marker": {
             "colorbar": {
              "outlinewidth": 0,
              "ticks": ""
             }
            },
            "type": "scattermap"
           }
          ],
          "scattermapbox": [
           {
            "marker": {
             "colorbar": {
              "outlinewidth": 0,
              "ticks": ""
             }
            },
            "type": "scattermapbox"
           }
          ],
          "scatterpolar": [
           {
            "marker": {
             "colorbar": {
              "outlinewidth": 0,
              "ticks": ""
             }
            },
            "type": "scatterpolar"
           }
          ],
          "scatterpolargl": [
           {
            "marker": {
             "colorbar": {
              "outlinewidth": 0,
              "ticks": ""
             }
            },
            "type": "scatterpolargl"
           }
          ],
          "scatterternary": [
           {
            "marker": {
             "colorbar": {
              "outlinewidth": 0,
              "ticks": ""
             }
            },
            "type": "scatterternary"
           }
          ],
          "surface": [
           {
            "colorbar": {
             "outlinewidth": 0,
             "ticks": ""
            },
            "colorscale": [
             [
              0,
              "#0d0887"
             ],
             [
              0.1111111111111111,
              "#46039f"
             ],
             [
              0.2222222222222222,
              "#7201a8"
             ],
             [
              0.3333333333333333,
              "#9c179e"
             ],
             [
              0.4444444444444444,
              "#bd3786"
             ],
             [
              0.5555555555555556,
              "#d8576b"
             ],
             [
              0.6666666666666666,
              "#ed7953"
             ],
             [
              0.7777777777777778,
              "#fb9f3a"
             ],
             [
              0.8888888888888888,
              "#fdca26"
             ],
             [
              1,
              "#f0f921"
             ]
            ],
            "type": "surface"
           }
          ],
          "table": [
           {
            "cells": {
             "fill": {
              "color": "#EBF0F8"
             },
             "line": {
              "color": "white"
             }
            },
            "header": {
             "fill": {
              "color": "#C8D4E3"
             },
             "line": {
              "color": "white"
             }
            },
            "type": "table"
           }
          ]
         },
         "layout": {
          "annotationdefaults": {
           "arrowcolor": "#2a3f5f",
           "arrowhead": 0,
           "arrowwidth": 1
          },
          "autotypenumbers": "strict",
          "coloraxis": {
           "colorbar": {
            "outlinewidth": 0,
            "ticks": ""
           }
          },
          "colorscale": {
           "diverging": [
            [
             0,
             "#8e0152"
            ],
            [
             0.1,
             "#c51b7d"
            ],
            [
             0.2,
             "#de77ae"
            ],
            [
             0.3,
             "#f1b6da"
            ],
            [
             0.4,
             "#fde0ef"
            ],
            [
             0.5,
             "#f7f7f7"
            ],
            [
             0.6,
             "#e6f5d0"
            ],
            [
             0.7,
             "#b8e186"
            ],
            [
             0.8,
             "#7fbc41"
            ],
            [
             0.9,
             "#4d9221"
            ],
            [
             1,
             "#276419"
            ]
           ],
           "sequential": [
            [
             0,
             "#0d0887"
            ],
            [
             0.1111111111111111,
             "#46039f"
            ],
            [
             0.2222222222222222,
             "#7201a8"
            ],
            [
             0.3333333333333333,
             "#9c179e"
            ],
            [
             0.4444444444444444,
             "#bd3786"
            ],
            [
             0.5555555555555556,
             "#d8576b"
            ],
            [
             0.6666666666666666,
             "#ed7953"
            ],
            [
             0.7777777777777778,
             "#fb9f3a"
            ],
            [
             0.8888888888888888,
             "#fdca26"
            ],
            [
             1,
             "#f0f921"
            ]
           ],
           "sequentialminus": [
            [
             0,
             "#0d0887"
            ],
            [
             0.1111111111111111,
             "#46039f"
            ],
            [
             0.2222222222222222,
             "#7201a8"
            ],
            [
             0.3333333333333333,
             "#9c179e"
            ],
            [
             0.4444444444444444,
             "#bd3786"
            ],
            [
             0.5555555555555556,
             "#d8576b"
            ],
            [
             0.6666666666666666,
             "#ed7953"
            ],
            [
             0.7777777777777778,
             "#fb9f3a"
            ],
            [
             0.8888888888888888,
             "#fdca26"
            ],
            [
             1,
             "#f0f921"
            ]
           ]
          },
          "colorway": [
           "#636efa",
           "#EF553B",
           "#00cc96",
           "#ab63fa",
           "#FFA15A",
           "#19d3f3",
           "#FF6692",
           "#B6E880",
           "#FF97FF",
           "#FECB52"
          ],
          "font": {
           "color": "#2a3f5f"
          },
          "geo": {
           "bgcolor": "white",
           "lakecolor": "white",
           "landcolor": "white",
           "showlakes": true,
           "showland": true,
           "subunitcolor": "#C8D4E3"
          },
          "hoverlabel": {
           "align": "left"
          },
          "hovermode": "closest",
          "mapbox": {
           "style": "light"
          },
          "paper_bgcolor": "white",
          "plot_bgcolor": "white",
          "polar": {
           "angularaxis": {
            "gridcolor": "#EBF0F8",
            "linecolor": "#EBF0F8",
            "ticks": ""
           },
           "bgcolor": "white",
           "radialaxis": {
            "gridcolor": "#EBF0F8",
            "linecolor": "#EBF0F8",
            "ticks": ""
           }
          },
          "scene": {
           "xaxis": {
            "backgroundcolor": "white",
            "gridcolor": "#DFE8F3",
            "gridwidth": 2,
            "linecolor": "#EBF0F8",
            "showbackground": true,
            "ticks": "",
            "zerolinecolor": "#EBF0F8"
           },
           "yaxis": {
            "backgroundcolor": "white",
            "gridcolor": "#DFE8F3",
            "gridwidth": 2,
            "linecolor": "#EBF0F8",
            "showbackground": true,
            "ticks": "",
            "zerolinecolor": "#EBF0F8"
           },
           "zaxis": {
            "backgroundcolor": "white",
            "gridcolor": "#DFE8F3",
            "gridwidth": 2,
            "linecolor": "#EBF0F8",
            "showbackground": true,
            "ticks": "",
            "zerolinecolor": "#EBF0F8"
           }
          },
          "shapedefaults": {
           "line": {
            "color": "#2a3f5f"
           }
          },
          "ternary": {
           "aaxis": {
            "gridcolor": "#DFE8F3",
            "linecolor": "#A2B1C6",
            "ticks": ""
           },
           "baxis": {
            "gridcolor": "#DFE8F3",
            "linecolor": "#A2B1C6",
            "ticks": ""
           },
           "bgcolor": "white",
           "caxis": {
            "gridcolor": "#DFE8F3",
            "linecolor": "#A2B1C6",
            "ticks": ""
           }
          },
          "title": {
           "x": 0.05
          },
          "xaxis": {
           "automargin": true,
           "gridcolor": "#EBF0F8",
           "linecolor": "#EBF0F8",
           "ticks": "",
           "title": {
            "standoff": 15
           },
           "zerolinecolor": "#EBF0F8",
           "zerolinewidth": 2
          },
          "yaxis": {
           "automargin": true,
           "gridcolor": "#EBF0F8",
           "linecolor": "#EBF0F8",
           "ticks": "",
           "title": {
            "standoff": 15
           },
           "zerolinecolor": "#EBF0F8",
           "zerolinewidth": 2
          }
         }
        },
        "title": {
         "font": {
          "color": "Black",
          "size": 22
         },
         "text": "<b>Term score decline per Topic</b>",
         "x": 0.5,
         "xanchor": "center",
         "y": 0.9,
         "yanchor": "top"
        },
        "width": 800,
        "xaxis": {
         "dtick": 2,
         "range": [
          0,
          20
         ],
         "tick0": 1,
         "title": {
          "text": "Term Rank"
         }
        },
        "yaxis": {
         "title": {
          "text": "c-TF-IDF score (log scale)"
         }
        }
       }
      },
      "text/html": [
       "<div>                        <script type=\"text/javascript\">window.PlotlyConfig = {MathJaxConfig: 'local'};</script>\n",
       "        <script charset=\"utf-8\" src=\"https://cdn.plot.ly/plotly-3.0.1.min.js\"></script>                <div id=\"9a849bc5-479d-4d42-a843-3c265dc513f6\" class=\"plotly-graph-div\" style=\"height:500px; width:800px;\"></div>            <script type=\"text/javascript\">                window.PLOTLYENV=window.PLOTLYENV || {};                                if (document.getElementById(\"9a849bc5-479d-4d42-a843-3c265dc513f6\")) {                    Plotly.newPlot(                        \"9a849bc5-479d-4d42-a843-3c265dc513f6\",                        [{\"hovertext\":\"\\u003cb\\u003eTopic -1\\u003c\\u002fb\\u003e:br_great_guitar_good_use_mic_works\",\"line\":{\"color\":\"black\",\"width\":1.5},\"mode\":\"lines+lines\",\"name\":\"\",\"opacity\":0.1,\"x\":{\"dtype\":\"i1\",\"bdata\":\"AQIDBAUGBwgJCgsMDQ4PEBESExQ=\"},\"y\":{\"dtype\":\"f8\",\"bdata\":\"0ok15Rqi\\u002fb82PUobZJj+vzGDYrGRof+\\u002fC7V35vz\\u002f\\u002f7\\u002fwCdYmCycAwLZn+S\\u002f8PADAAxZxK\\u002fRKAMDMhrjF1IcAwLLJTpLgswDA4b49WlDCAMAUdpJGpMoAwEXDAfGa2wDA6uVFXrDkAMAh0HwiaP4AwC85F3NFLwHAnntWuqw4AcCRtzuPRs8BwJSRFic39QHAuZ8\\u002fYZP\\u002fAcB9yFacCgICwA==\"},\"type\":\"scatter\"},{\"hovertext\":\"\\u003cb\\u003eTopic 0\\u003c\\u002fb\\u003e:guitar_br_mic_great_stand_use_sound\",\"line\":{\"color\":\"black\",\"width\":1.5},\"mode\":\"lines+lines\",\"name\":\"\",\"opacity\":0.1,\"x\":{\"dtype\":\"i1\",\"bdata\":\"AQIDBAUGBwgJCgsMDQ4PEBESExQ=\"},\"y\":{\"dtype\":\"f8\",\"bdata\":\"ldorNuzd\\u002fL\\u002fULC1YNBD9v+i2f9lVxv6\\u002fRBnyPvw4\\u002f7+4WErVWykAwIZ3visaVQDAI5p4dj9lAMAnLHslxKcAwJohhxrdrQDAyaO2ixbfAMBktMk6nPoAwEqBmVZCGAHAwrFqMwo8AcCkNwCuK0EBwHTl6txdSQHApLFCBdtjAcCnBcS6EI8BwCNG0h\\u002fqkQHAfOj4DbHSAcBhJ07PmuABwA==\"},\"type\":\"scatter\"},{\"hovertext\":\"\\u003cb\\u003eTopic 1\\u003c\\u002fb\\u003e:great_good_works_product_price_easy\",\"line\":{\"color\":\"black\",\"width\":1.5},\"mode\":\"lines+lines\",\"name\":\"\",\"opacity\":0.1,\"x\":{\"dtype\":\"i1\",\"bdata\":\"AQIDBAUGBwgJCgsMDQ4PEBESExQ=\"},\"y\":{\"dtype\":\"f8\",\"bdata\":\"95bJ+gjT9L\\u002f9i1DvOzr2v1yxMspMbfe\\u002fym5dADbA97\\u002fYWmKjCvv4v8lZ\\u002feuvrfq\\u002fKQwQjJjO+r8p7kacLk\\u002f7v3SH9FN0B\\u002fy\\u002flN2lGc13\\u002fL+1ynYT89D8vzGCisxV+\\u002fy\\u002fAK47paFN\\u002fr\\u002fegGwP1IH+vx2QjDwv9f6\\u002fZxSj8dJ5\\u002f78OZkK6e8z\\u002fv7KOOYSO3\\u002f+\\u002fxTul5r0RAMAGOv\\u002fr4SYAwA==\"},\"type\":\"scatter\"},{\"hovertext\":\"\\u003cb\\u003eTopic 2\\u003c\\u002fb\\u003e:arm_br_blue_just_snowball_works_des\",\"line\":{\"color\":\"black\",\"width\":1.5},\"mode\":\"lines+lines\",\"name\":\"\",\"opacity\":0.1,\"x\":{\"dtype\":\"i1\",\"bdata\":\"AQIDBAUGBwgJCgsMDQ4PEBESExQ=\"},\"y\":{\"dtype\":\"f8\",\"bdata\":\"PXc+rxfb\\u002fL\\u002fhJ2j9qrf9vw1PrfE7jv6\\u002fzSZq+x+x\\u002f7+M7vMkuPT\\u002fv6vcjgTcOwDA7QenmoxQAMC05Nw1dlMAwNKYIcroZQDA36k3Fd6zAMCkBjg44L4AwE\\u002fCeRFsBAHAqzxPInMJAcC\\u002f7RDo5AsBwFQYrh9dDwHArC1SMLYfAcD8lMsiCyYBwJ78YJR7MgHA7lWr8ctAAcCrw7gl2UABwA==\"},\"type\":\"scatter\"},{\"hovertext\":\"\\u003cb\\u003eTopic 3\\u003c\\u002fb\\u003e:cable_strings_winder_cables_string_\",\"line\":{\"color\":\"black\",\"width\":1.5},\"mode\":\"lines+lines\",\"name\":\"\",\"opacity\":0.1,\"x\":{\"dtype\":\"i1\",\"bdata\":\"AQIDBAUGBwgJCgsMDQ4PEBESExQ=\"},\"y\":{\"dtype\":\"f8\",\"bdata\":\"iF6G51II9r+nu6u5z1j5v5PfXylIrPu\\u002fGJEbHuG1+797GSbLjf\\u002f7v1Q1mvPJlvy\\u002fwNB\\u002fvKb6\\u002fL97kqHqa2H9vyRCCUipPP6\\u002fb6bBD2RN\\u002fr+E4pt6g6X+v7pistKEA\\u002f+\\u002f9yZAh0XV\\u002f7+Bz5s3VX4AwH2c57DLigDADS5+RymmAMAO2aZiP78AwIi3RCdGzQDAwATuWSXQAMDzZEQAEdQAwA==\"},\"type\":\"scatter\"},{\"hovertext\":\"\\u003cb\\u003eTopic 4\\u003c\\u002fb\\u003e:pedal_pedals_sustain_power_piano_su\",\"line\":{\"color\":\"black\",\"width\":1.5},\"mode\":\"lines+lines\",\"name\":\"\",\"opacity\":0.1,\"x\":{\"dtype\":\"i1\",\"bdata\":\"AQIDBAUGBwgJCgsMDQ4PEBESExQ=\"},\"y\":{\"dtype\":\"f8\",\"bdata\":\"CdKdoATU8b9NxbWHHGr4v7\\u002fb4l9rtfm\\u002fHj+NQUAv+784Sw5i1kb8v4hDs4Deffy\\u002fl9gk2eED\\u002fb94T64DXpz9v3dV58rIFP6\\u002fs9HkluBF\\u002fr\\u002fE5k6xa3v\\u002fvy8yt8q5fP+\\u002fLNdVJuGD\\u002f78PYe9TwRMAwCMKiPhaQADADZiHSahBAMA3a9o1n3cAwJbyUHXBogDAym7E\\u002fKOqAMD2ogJSm9wAwA==\"},\"type\":\"scatter\"},{\"hovertext\":\"\\u003cb\\u003eTopic 5\\u003c\\u002fb\\u003e:bowl_singing_singing bowl_sound_bea\",\"line\":{\"color\":\"black\",\"width\":1.5},\"mode\":\"lines+lines\",\"name\":\"\",\"opacity\":0.1,\"x\":{\"dtype\":\"i1\",\"bdata\":\"AQIDBAUGBwgJCgsMDQ4PEBESExQ=\"},\"y\":{\"dtype\":\"f8\",\"bdata\":\"wkRL3jhK778MrUBp+5z1v0HaRfuWS\\u002fa\\u002fy54\\u002ffYUB+b\\u002fQFyHHU\\u002fb5v4sImfu4Rvq\\u002f44ywfK7I+r9evOvNJBX9vwQYXLjGKv2\\u002fWye+qrw7\\u002fb8b+vvqodH9v8sg\\u002frsj\\u002fP2\\u002ft11sIKXL\\u002fr8Z\\u002fPFK4lj\\u002fv9AuRZGdev+\\u002flueFXinv\\u002f78f4+\\u002faj+\\u002f\\u002fv9AOatw0QADAjnUTABhLAMDnWjwMC2wAwA==\"},\"type\":\"scatter\"},{\"hovertext\":\"\\u003cb\\u003eTopic 6\\u003c\\u002fb\\u003e:love_loves_love love_loved_son_daug\",\"line\":{\"color\":\"black\",\"width\":1.5},\"mode\":\"lines+lines\",\"name\":\"\",\"opacity\":0.1,\"x\":{\"dtype\":\"i1\",\"bdata\":\"AQIDBAUGBwgJCgsMDQ4PEBESExQ=\"},\"y\":{\"dtype\":\"f8\",\"bdata\":\"LpjoxKyv5L8cL0VD94Pqv+tohQql4uq\\u002fPkqnUQVR8L+iPt2Hfjbyv8aFc8T8sPK\\u002fUPwGcM6x8r+5ols+HKvzv0ueZ\\u002flSBvS\\u002fGuAoBzyR9b8ixC4EjBf3v4M\\u002flf4BIve\\u002fKyJsnYKJ97+44kyEtbH3v2dJIWfwuPe\\u002f2tkC3Xju+L+nlsZuTff4v4EK2OyNMvm\\u002ftZRVuk5C+b9Qk3jVaW75vw==\"},\"type\":\"scatter\"},{\"hovertext\":\"\\u003cb\\u003eTopic 7\\u003c\\u002fb\\u003e:picks_variety_pick_pack_good_great_\",\"line\":{\"color\":\"black\",\"width\":1.5},\"mode\":\"lines+lines\",\"name\":\"\",\"opacity\":0.1,\"x\":{\"dtype\":\"i1\",\"bdata\":\"AQIDBAUGBwgJCgsMDQ4PEBESExQ=\"},\"y\":{\"dtype\":\"f8\",\"bdata\":\"eABDB3Xa7L9HOG\\u002fwqRT0v38SHlMJfPe\\u002frwKe3lEE+L9imNcL+VP4vyuZn+DObPi\\u002fLUTaoSyo+L+ryC3qP+H4v7AtuqB5\\u002fPi\\u002f7rjnSgMC+b\\u002f3fiPF51z5vz2fLM+0BPq\\u002f\\u002f9Qh6A0b+r9vBHqMNVH7v+Qy0eFShvy\\u002fKSBK3BKP\\u002fL9L5KcX8df8v+SAkWwaQv2\\u002fRUR1pdtO\\u002fb+g\\u002fqMIw4D9vw==\"},\"type\":\"scatter\"},{\"hovertext\":\"\\u003cb\\u003eTopic 8\\u003c\\u002fb\\u003e:bench_shoulder_comfortable_seat_res\",\"line\":{\"color\":\"black\",\"width\":1.5},\"mode\":\"lines+lines\",\"name\":\"\",\"opacity\":0.1,\"x\":{\"dtype\":\"i1\",\"bdata\":\"AQIDBAUGBwgJCgsMDQ4PEBESExQ=\"},\"y\":{\"dtype\":\"f8\",\"bdata\":\"QY1kz5oP879ToUCJPGT1v49aEyIxyPa\\u002f4iN9xlXj97\\u002fDWkw0aAD4v1VztATGGfi\\u002f91tEYU5f+7\\u002fU0NzmYcf7vxV9AxoOw\\u002fy\\u002fX+9X2UjH\\u002fL8h+RVMKdn8v7WcwsQVuf2\\u002fnk+T7CRU\\u002fr+fuNaiZcn+vx0ul5FGVP+\\u002fnrFbbzTj\\u002f7+yAFLiFyUAwKvkeH0qOQDAZs+D85dHAMDsa4mdK2EAwA==\"},\"type\":\"scatter\"},{\"hovertext\":\"\\u003cb\\u003eTopic 9\\u003c\\u002fb\\u003e:does_job_does job_described_job doe\",\"line\":{\"color\":\"black\",\"width\":1.5},\"mode\":\"lines+lines\",\"name\":\"\",\"opacity\":0.1,\"x\":{\"dtype\":\"i1\",\"bdata\":\"AQIDBAUGBwgJCgsMDQ4PEBESExQ=\"},\"y\":{\"dtype\":\"f8\",\"bdata\":\"qreSI4KW5L+MVPR0EaLkv0N0c0kMwOa\\u002fOZB8vMCQ6r8NK70QzW3sv3Fwfpwkd\\u002fC\\u002fsW37U65J8b9NZhG9f9fxv\\u002fc50pSJZ\\u002fK\\u002fKg1ktGSO879SmTX0wrHzvxveS6NOcPS\\u002f5vjwjpr29L8qpG+kmTz1v0HnY25GfvW\\u002ff+kp4MdS9r8wID01RIH2v3XLyjM4pfa\\u002fBUNVtlKz9r+WZbklhVD3vw==\"},\"type\":\"scatter\"},{\"hovertext\":\"\\u003cb\\u003eTopic 10\\u003c\\u002fb\\u003e:gift_loved_great gift_gift gift_lo\",\"line\":{\"color\":\"black\",\"width\":1.5},\"mode\":\"lines+lines\",\"name\":\"\",\"opacity\":0.1,\"x\":{\"dtype\":\"i1\",\"bdata\":\"AQIDBAUGBwgJCgsMDQ4PEBESExQ=\"},\"y\":{\"dtype\":\"f8\",\"bdata\":\"uSTzDSu83r8JP3qRMOXwv\\u002fZwEoFHI\\u002fO\\u002fZPOPz+G887+cl3SWeJT0vyngCnxZ2fS\\u002fsv5qjjh89r\\u002fpw7neJMj2vy+c0ILi+fa\\u002fR5amY\\u002f0h978AP8PuLD33v3R10e8\\u002feve\\u002fg92HIYmR978Jh6Oc9q\\u002f3v+49Tm8XLfi\\u002fUdoL7bgt+L8jt3pCr1H4vyQ7peGdb\\u002fi\\u002fnR+iDFtz+L\\u002fzvOmbItv5vw==\"},\"type\":\"scatter\"},{\"hovertext\":\"\\u003cb\\u003eTopic 11\\u003c\\u002fb\\u003e:advertised_advertised works_advert\",\"line\":{\"color\":\"black\",\"width\":1.5},\"mode\":\"lines+lines\",\"name\":\"\",\"opacity\":0.1,\"x\":{\"dtype\":\"i1\",\"bdata\":\"AQIDBAUGBwgJCgsMDQ4PEBESExQ=\"},\"y\":{\"dtype\":\"f8\",\"bdata\":\"rxvz6Nefs7+E1TmWvE7Uv0oKDas0VtW\\u002fonnVwkfN17\\u002fdKf8ij6fcvyVOrzNxHuK\\u002fbKwbAbCK5r\\u002fdmF7n98rpv66eC1OPP+u\\u002f+hdFFrHm7L9zzCOoHxjuv9JQy1W2LfC\\u002fIAwEWqzh8L+rPaIG8O3xvxuaStedKPS\\u002fS78H4M6c9L\\u002fWJ03O37T1vyscytr0vva\\u002fG7G26OL59r9WjNVR0UH3vw==\"},\"type\":\"scatter\"},{\"hovertext\":\"\\u003cb\\u003eTopic 12\\u003c\\u002fb\\u003e:amazon_br_product_cancer_br br_war\",\"line\":{\"color\":\"black\",\"width\":1.5},\"mode\":\"lines+lines\",\"name\":\"\",\"opacity\":0.1,\"x\":{\"dtype\":\"i1\",\"bdata\":\"AQIDBAUGBwgJCgsMDQ4PEBESExQ=\"},\"y\":{\"dtype\":\"f8\",\"bdata\":\"KAVuadMP8b\\u002f8ied1FI36v7PniiDjqPu\\u002fwXfP8Ud2\\u002fL9gWMRZ1RD+v104X+RoNf6\\u002f4qDQWo3X\\u002fr9EK6B2E67\\u002fv0ZalAvbPADAfIU\\u002fSYmAAMDXUO4MQJAAwL2TCzfgrQDAYqCMN9K0AMD25DDIWbgAwLt1jLQ93QDAlnJcb8LeAMCo2JTgUuwAwPAZDfXd9ADA9U7X9kP1AMAx6qLZ5PUAwA==\"},\"type\":\"scatter\"},{\"hovertext\":\"\\u003cb\\u003eTopic 13\\u003c\\u002fb\\u003e:expected_expected expected_expecte\",\"line\":{\"color\":\"black\",\"width\":1.5},\"mode\":\"lines+lines\",\"name\":\"\",\"opacity\":0.1,\"x\":{\"dtype\":\"i1\",\"bdata\":\"AQIDBAUGBwgJCgsMDQ4PEBESExQ=\"},\"y\":{\"dtype\":\"f8\",\"bdata\":\"7estTPGftL+EgbCadQbQv35GSMRE19e\\u002fC4tbJ\\u002frc2L\\u002f46JwjPuHZv3V20K0YleW\\u002fZNOueb+o5b9UsSiqlUvmv+NXt9mOtua\\u002f5cCkifKj6L+65cKOfOzrvzdeBISp++y\\u002f34EykHQR8L\\u002fKz+d3yE7xv03rDJaHRfK\\u002fLbFh0aVV87+e3O4tg9D0v57c7i2D0PS\\u002fntzuLYPQ9L9MAnmnzBb1vw==\"},\"type\":\"scatter\"},{\"hovertext\":\"\\u003cb\\u003eTopic 14\\u003c\\u002fb\\u003e:play_ernie_ernie ball_ball_great_p\",\"line\":{\"color\":\"black\",\"width\":1.5},\"mode\":\"lines+lines\",\"name\":\"\",\"opacity\":0.1,\"x\":{\"dtype\":\"i1\",\"bdata\":\"AQIDBAUGBwgJCgsMDQ4PEBESExQ=\"},\"y\":{\"dtype\":\"f8\",\"bdata\":\"mc1btm8Y8r\\u002fugGPXudvyv0Wuyq6q8PO\\u002fkzQ+tkby8796d8RwwJz4vzJb66LvXPm\\u002fNiv1hK+H+r+kHY4BQI\\u002f6v+Hn7leMq\\u002fu\\u002fgEy8aWtd\\u002fL+txqsD+2T8v6NP6Te\\u002fefy\\u002fgUjdE5zB\\u002fL8aYyg4jOD8v3VEqno86Py\\u002f0Lr819Me\\u002fb8OtlNbTib9v\\u002fuBmbpgNf2\\u002fz\\u002fNv1Fk+\\u002fb8egqYTmJf9vw==\"},\"type\":\"scatter\"},{\"hovertext\":\"\\u003cb\\u003eTopic 15\\u003c\\u002fb\\u003e:just needed_needed just_just neede\",\"line\":{\"color\":\"black\",\"width\":1.5},\"mode\":\"lines+lines\",\"name\":\"\",\"opacity\":0.1,\"x\":{\"dtype\":\"i1\",\"bdata\":\"AQIDBAUGBwgJCgsMDQ4PEBESExQ=\"},\"y\":{\"dtype\":\"f8\",\"bdata\":\"z88+ssK61r8ZlipcEA7avyYCFx1Zldu\\u002ft5YQT5Rs3L8P8INuNQXgv7iP3fJOMeC\\u002fTvsVhRVZ57+JtNizScHov+RkoRR4B+m\\u002fJZa1tZa77L\\u002flACyjqJbuv0Ve++ZPTvG\\u002fluPa8Oq08r+W49rw6rTyv8XCg2pB2\\u002fK\\u002ffG+ss6nT879Gij8tAdv0vwMGq\\u002f99afW\\u002fdWgLWvB59b8kkHNk3qD1vw==\"},\"type\":\"scatter\"},{\"hovertext\":\"\\u003cb\\u003eTopic 16\\u003c\\u002fb\\u003e:pay_pay pay_pay pay pay_lip_undern\",\"line\":{\"color\":\"black\",\"width\":1.5},\"mode\":\"lines+lines\",\"name\":\"\",\"opacity\":0.1,\"x\":{\"dtype\":\"i1\",\"bdata\":\"AQIDBAUGBwgJCgsMDQ4PEBESExQ=\"},\"y\":{\"dtype\":\"f8\",\"bdata\":\"8Njd8chn1b\\u002fzeywL5dzfv2cECCrZkO2\\u002flp41XWvu77+2iStBjOPwv7aJK0GM4\\u002fC\\u002ftokrQYzj8L+2iStBjOPwv7aJK0GM4\\u002fC\\u002ftokrQYzj8L+2iStBjOPwvwcPC0snSvK\\u002fBw8LSydK8r9oJY3N5qzyv7sznT1EsfK\\u002f53MlOJ7Z8r8xMWgKQ+fzvw5JyzuqGfS\\u002fDknLO6oZ9L+I1sYN50n0vw==\"},\"type\":\"scatter\"},{\"hovertext\":\"\\u003cb\\u003eTopic 17\\u003c\\u002fb\\u003e:bulbs_light_bulb_led_light bulbs_l\",\"line\":{\"color\":\"black\",\"width\":1.5},\"mode\":\"lines+lines\",\"name\":\"\",\"opacity\":0.1,\"x\":{\"dtype\":\"i1\",\"bdata\":\"AQIDBAUGBwgJCgsMDQ4PEBESExQ=\"},\"y\":{\"dtype\":\"f8\",\"bdata\":\"sTQNUXKY6b\\u002fb7j5unDnyvyrrQpRNm\\u002fS\\u002fECsU\\u002fD\\u002f29L8fwu3v84b1vzCOoFIv4fW\\u002fMeDqp\\u002f\\u002fe+L+lIk6PpAj7v+Q1FW4JWvu\\u002fJ4WO+69O\\u002fL9nUTqMyFD8vwTIFTpAbPy\\u002fBMgVOkBs\\u002fL9R5Q+oeq38v2e9PBopdf2\\u002fZ708Gil1\\u002fb8claxTCZv9vw997+eEr\\u002f2\\u002fRVg0eU8P\\u002fr+4QhwkxNv+vw==\"},\"type\":\"scatter\"},{\"hovertext\":\"\\u003cb\\u003eTopic 18\\u003c\\u002fb\\u003e:craftsmanship_craftsmanship great_\",\"line\":{\"color\":\"black\",\"width\":1.5},\"mode\":\"lines+lines\",\"name\":\"\",\"opacity\":0.1,\"x\":{\"dtype\":\"i1\",\"bdata\":\"AQIDBAUGBwgJCgsMDQ4PEBESExQ=\"},\"y\":{\"dtype\":\"f8\",\"bdata\":\"bRhFuXj1z7\\u002fyUCNYuyHtv0oxOkZ0J+6\\u002fLIlOqg498L\\u002f5b81unZDwv5VjBcazufC\\u002frF40Tel18r+sXjRN6XXyv5VxXHBRuvK\\u002fw8c2Gpbf8r\\u002f8wBFC\\u002fefyv\\u002fmGOYDiYfO\\u002f+YY5gOJh87\\u002fcJSwvdHfzv4LDTxSxL\\u002fW\\u002fmU4YGBOW9b9Y2sNGnA72v\\u002fvTuGrkKPa\\u002f1pKCZrrb9r\\u002fWkoJmutv2vw==\"},\"type\":\"scatter\"}],                        {\"template\":{\"data\":{\"barpolar\":[{\"marker\":{\"line\":{\"color\":\"white\",\"width\":0.5},\"pattern\":{\"fillmode\":\"overlay\",\"size\":10,\"solidity\":0.2}},\"type\":\"barpolar\"}],\"bar\":[{\"error_x\":{\"color\":\"#2a3f5f\"},\"error_y\":{\"color\":\"#2a3f5f\"},\"marker\":{\"line\":{\"color\":\"white\",\"width\":0.5},\"pattern\":{\"fillmode\":\"overlay\",\"size\":10,\"solidity\":0.2}},\"type\":\"bar\"}],\"carpet\":[{\"aaxis\":{\"endlinecolor\":\"#2a3f5f\",\"gridcolor\":\"#C8D4E3\",\"linecolor\":\"#C8D4E3\",\"minorgridcolor\":\"#C8D4E3\",\"startlinecolor\":\"#2a3f5f\"},\"baxis\":{\"endlinecolor\":\"#2a3f5f\",\"gridcolor\":\"#C8D4E3\",\"linecolor\":\"#C8D4E3\",\"minorgridcolor\":\"#C8D4E3\",\"startlinecolor\":\"#2a3f5f\"},\"type\":\"carpet\"}],\"choropleth\":[{\"colorbar\":{\"outlinewidth\":0,\"ticks\":\"\"},\"type\":\"choropleth\"}],\"contourcarpet\":[{\"colorbar\":{\"outlinewidth\":0,\"ticks\":\"\"},\"type\":\"contourcarpet\"}],\"contour\":[{\"colorbar\":{\"outlinewidth\":0,\"ticks\":\"\"},\"colorscale\":[[0.0,\"#0d0887\"],[0.1111111111111111,\"#46039f\"],[0.2222222222222222,\"#7201a8\"],[0.3333333333333333,\"#9c179e\"],[0.4444444444444444,\"#bd3786\"],[0.5555555555555556,\"#d8576b\"],[0.6666666666666666,\"#ed7953\"],[0.7777777777777778,\"#fb9f3a\"],[0.8888888888888888,\"#fdca26\"],[1.0,\"#f0f921\"]],\"type\":\"contour\"}],\"heatmap\":[{\"colorbar\":{\"outlinewidth\":0,\"ticks\":\"\"},\"colorscale\":[[0.0,\"#0d0887\"],[0.1111111111111111,\"#46039f\"],[0.2222222222222222,\"#7201a8\"],[0.3333333333333333,\"#9c179e\"],[0.4444444444444444,\"#bd3786\"],[0.5555555555555556,\"#d8576b\"],[0.6666666666666666,\"#ed7953\"],[0.7777777777777778,\"#fb9f3a\"],[0.8888888888888888,\"#fdca26\"],[1.0,\"#f0f921\"]],\"type\":\"heatmap\"}],\"histogram2dcontour\":[{\"colorbar\":{\"outlinewidth\":0,\"ticks\":\"\"},\"colorscale\":[[0.0,\"#0d0887\"],[0.1111111111111111,\"#46039f\"],[0.2222222222222222,\"#7201a8\"],[0.3333333333333333,\"#9c179e\"],[0.4444444444444444,\"#bd3786\"],[0.5555555555555556,\"#d8576b\"],[0.6666666666666666,\"#ed7953\"],[0.7777777777777778,\"#fb9f3a\"],[0.8888888888888888,\"#fdca26\"],[1.0,\"#f0f921\"]],\"type\":\"histogram2dcontour\"}],\"histogram2d\":[{\"colorbar\":{\"outlinewidth\":0,\"ticks\":\"\"},\"colorscale\":[[0.0,\"#0d0887\"],[0.1111111111111111,\"#46039f\"],[0.2222222222222222,\"#7201a8\"],[0.3333333333333333,\"#9c179e\"],[0.4444444444444444,\"#bd3786\"],[0.5555555555555556,\"#d8576b\"],[0.6666666666666666,\"#ed7953\"],[0.7777777777777778,\"#fb9f3a\"],[0.8888888888888888,\"#fdca26\"],[1.0,\"#f0f921\"]],\"type\":\"histogram2d\"}],\"histogram\":[{\"marker\":{\"pattern\":{\"fillmode\":\"overlay\",\"size\":10,\"solidity\":0.2}},\"type\":\"histogram\"}],\"mesh3d\":[{\"colorbar\":{\"outlinewidth\":0,\"ticks\":\"\"},\"type\":\"mesh3d\"}],\"parcoords\":[{\"line\":{\"colorbar\":{\"outlinewidth\":0,\"ticks\":\"\"}},\"type\":\"parcoords\"}],\"pie\":[{\"automargin\":true,\"type\":\"pie\"}],\"scatter3d\":[{\"line\":{\"colorbar\":{\"outlinewidth\":0,\"ticks\":\"\"}},\"marker\":{\"colorbar\":{\"outlinewidth\":0,\"ticks\":\"\"}},\"type\":\"scatter3d\"}],\"scattercarpet\":[{\"marker\":{\"colorbar\":{\"outlinewidth\":0,\"ticks\":\"\"}},\"type\":\"scattercarpet\"}],\"scattergeo\":[{\"marker\":{\"colorbar\":{\"outlinewidth\":0,\"ticks\":\"\"}},\"type\":\"scattergeo\"}],\"scattergl\":[{\"marker\":{\"colorbar\":{\"outlinewidth\":0,\"ticks\":\"\"}},\"type\":\"scattergl\"}],\"scattermapbox\":[{\"marker\":{\"colorbar\":{\"outlinewidth\":0,\"ticks\":\"\"}},\"type\":\"scattermapbox\"}],\"scattermap\":[{\"marker\":{\"colorbar\":{\"outlinewidth\":0,\"ticks\":\"\"}},\"type\":\"scattermap\"}],\"scatterpolargl\":[{\"marker\":{\"colorbar\":{\"outlinewidth\":0,\"ticks\":\"\"}},\"type\":\"scatterpolargl\"}],\"scatterpolar\":[{\"marker\":{\"colorbar\":{\"outlinewidth\":0,\"ticks\":\"\"}},\"type\":\"scatterpolar\"}],\"scatter\":[{\"fillpattern\":{\"fillmode\":\"overlay\",\"size\":10,\"solidity\":0.2},\"type\":\"scatter\"}],\"scatterternary\":[{\"marker\":{\"colorbar\":{\"outlinewidth\":0,\"ticks\":\"\"}},\"type\":\"scatterternary\"}],\"surface\":[{\"colorbar\":{\"outlinewidth\":0,\"ticks\":\"\"},\"colorscale\":[[0.0,\"#0d0887\"],[0.1111111111111111,\"#46039f\"],[0.2222222222222222,\"#7201a8\"],[0.3333333333333333,\"#9c179e\"],[0.4444444444444444,\"#bd3786\"],[0.5555555555555556,\"#d8576b\"],[0.6666666666666666,\"#ed7953\"],[0.7777777777777778,\"#fb9f3a\"],[0.8888888888888888,\"#fdca26\"],[1.0,\"#f0f921\"]],\"type\":\"surface\"}],\"table\":[{\"cells\":{\"fill\":{\"color\":\"#EBF0F8\"},\"line\":{\"color\":\"white\"}},\"header\":{\"fill\":{\"color\":\"#C8D4E3\"},\"line\":{\"color\":\"white\"}},\"type\":\"table\"}]},\"layout\":{\"annotationdefaults\":{\"arrowcolor\":\"#2a3f5f\",\"arrowhead\":0,\"arrowwidth\":1},\"autotypenumbers\":\"strict\",\"coloraxis\":{\"colorbar\":{\"outlinewidth\":0,\"ticks\":\"\"}},\"colorscale\":{\"diverging\":[[0,\"#8e0152\"],[0.1,\"#c51b7d\"],[0.2,\"#de77ae\"],[0.3,\"#f1b6da\"],[0.4,\"#fde0ef\"],[0.5,\"#f7f7f7\"],[0.6,\"#e6f5d0\"],[0.7,\"#b8e186\"],[0.8,\"#7fbc41\"],[0.9,\"#4d9221\"],[1,\"#276419\"]],\"sequential\":[[0.0,\"#0d0887\"],[0.1111111111111111,\"#46039f\"],[0.2222222222222222,\"#7201a8\"],[0.3333333333333333,\"#9c179e\"],[0.4444444444444444,\"#bd3786\"],[0.5555555555555556,\"#d8576b\"],[0.6666666666666666,\"#ed7953\"],[0.7777777777777778,\"#fb9f3a\"],[0.8888888888888888,\"#fdca26\"],[1.0,\"#f0f921\"]],\"sequentialminus\":[[0.0,\"#0d0887\"],[0.1111111111111111,\"#46039f\"],[0.2222222222222222,\"#7201a8\"],[0.3333333333333333,\"#9c179e\"],[0.4444444444444444,\"#bd3786\"],[0.5555555555555556,\"#d8576b\"],[0.6666666666666666,\"#ed7953\"],[0.7777777777777778,\"#fb9f3a\"],[0.8888888888888888,\"#fdca26\"],[1.0,\"#f0f921\"]]},\"colorway\":[\"#636efa\",\"#EF553B\",\"#00cc96\",\"#ab63fa\",\"#FFA15A\",\"#19d3f3\",\"#FF6692\",\"#B6E880\",\"#FF97FF\",\"#FECB52\"],\"font\":{\"color\":\"#2a3f5f\"},\"geo\":{\"bgcolor\":\"white\",\"lakecolor\":\"white\",\"landcolor\":\"white\",\"showlakes\":true,\"showland\":true,\"subunitcolor\":\"#C8D4E3\"},\"hoverlabel\":{\"align\":\"left\"},\"hovermode\":\"closest\",\"mapbox\":{\"style\":\"light\"},\"paper_bgcolor\":\"white\",\"plot_bgcolor\":\"white\",\"polar\":{\"angularaxis\":{\"gridcolor\":\"#EBF0F8\",\"linecolor\":\"#EBF0F8\",\"ticks\":\"\"},\"bgcolor\":\"white\",\"radialaxis\":{\"gridcolor\":\"#EBF0F8\",\"linecolor\":\"#EBF0F8\",\"ticks\":\"\"}},\"scene\":{\"xaxis\":{\"backgroundcolor\":\"white\",\"gridcolor\":\"#DFE8F3\",\"gridwidth\":2,\"linecolor\":\"#EBF0F8\",\"showbackground\":true,\"ticks\":\"\",\"zerolinecolor\":\"#EBF0F8\"},\"yaxis\":{\"backgroundcolor\":\"white\",\"gridcolor\":\"#DFE8F3\",\"gridwidth\":2,\"linecolor\":\"#EBF0F8\",\"showbackground\":true,\"ticks\":\"\",\"zerolinecolor\":\"#EBF0F8\"},\"zaxis\":{\"backgroundcolor\":\"white\",\"gridcolor\":\"#DFE8F3\",\"gridwidth\":2,\"linecolor\":\"#EBF0F8\",\"showbackground\":true,\"ticks\":\"\",\"zerolinecolor\":\"#EBF0F8\"}},\"shapedefaults\":{\"line\":{\"color\":\"#2a3f5f\"}},\"ternary\":{\"aaxis\":{\"gridcolor\":\"#DFE8F3\",\"linecolor\":\"#A2B1C6\",\"ticks\":\"\"},\"baxis\":{\"gridcolor\":\"#DFE8F3\",\"linecolor\":\"#A2B1C6\",\"ticks\":\"\"},\"bgcolor\":\"white\",\"caxis\":{\"gridcolor\":\"#DFE8F3\",\"linecolor\":\"#A2B1C6\",\"ticks\":\"\"}},\"title\":{\"x\":0.05},\"xaxis\":{\"automargin\":true,\"gridcolor\":\"#EBF0F8\",\"linecolor\":\"#EBF0F8\",\"ticks\":\"\",\"title\":{\"standoff\":15},\"zerolinecolor\":\"#EBF0F8\",\"zerolinewidth\":2},\"yaxis\":{\"automargin\":true,\"gridcolor\":\"#EBF0F8\",\"linecolor\":\"#EBF0F8\",\"ticks\":\"\",\"title\":{\"standoff\":15},\"zerolinecolor\":\"#EBF0F8\",\"zerolinewidth\":2}}},\"xaxis\":{\"range\":[0,20],\"tick0\":1,\"dtick\":2,\"title\":{\"text\":\"Term Rank\"}},\"title\":{\"font\":{\"size\":22,\"color\":\"Black\"},\"text\":\"\\u003cb\\u003eTerm score decline per Topic\\u003c\\u002fb\\u003e\",\"y\":0.9,\"x\":0.5,\"xanchor\":\"center\",\"yanchor\":\"top\"},\"hoverlabel\":{\"font\":{\"size\":16,\"family\":\"Rockwell\"},\"bgcolor\":\"white\"},\"showlegend\":false,\"width\":800,\"height\":500,\"yaxis\":{\"title\":{\"text\":\"c-TF-IDF score (log scale)\"}}},                        {\"responsive\": true}                    )                };            </script>        </div>"
      ],
      "text/plain": [
       "Figure({\n",
       "    'data': [{'hovertext': '<b>Topic -1</b>:br_great_guitar_good_use_mic_works',\n",
       "              'line': {'color': 'black', 'width': 1.5},\n",
       "              'mode': 'lines+lines',\n",
       "              'name': '',\n",
       "              'opacity': 0.1,\n",
       "              'type': 'scatter',\n",
       "              'x': {'bdata': 'AQIDBAUGBwgJCgsMDQ4PEBESExQ=', 'dtype': 'i1'},\n",
       "              'y': {'bdata': ('0ok15Rqi/b82PUobZJj+vzGDYrGRof' ... 'c39QHAuZ8/YZP/AcB9yFacCgICwA=='),\n",
       "                    'dtype': 'f8'}},\n",
       "             {'hovertext': '<b>Topic 0</b>:guitar_br_mic_great_stand_use_sound',\n",
       "              'line': {'color': 'black', 'width': 1.5},\n",
       "              'mode': 'lines+lines',\n",
       "              'name': '',\n",
       "              'opacity': 0.1,\n",
       "              'type': 'scatter',\n",
       "              'x': {'bdata': 'AQIDBAUGBwgJCgsMDQ4PEBESExQ=', 'dtype': 'i1'},\n",
       "              'y': {'bdata': ('ldorNuzd/L/ULC1YNBD9v+i2f9lVxv' ... '/qkQHAfOj4DbHSAcBhJ07PmuABwA=='),\n",
       "                    'dtype': 'f8'}},\n",
       "             {'hovertext': '<b>Topic 1</b>:great_good_works_product_price_easy',\n",
       "              'line': {'color': 'black', 'width': 1.5},\n",
       "              'mode': 'lines+lines',\n",
       "              'name': '',\n",
       "              'opacity': 0.1,\n",
       "              'type': 'scatter',\n",
       "              'x': {'bdata': 'AQIDBAUGBwgJCgsMDQ4PEBESExQ=', 'dtype': 'i1'},\n",
       "              'y': {'bdata': ('95bJ+gjT9L/9i1DvOzr2v1yxMspMbf' ... 'SO3/+/xTul5r0RAMAGOv/r4SYAwA=='),\n",
       "                    'dtype': 'f8'}},\n",
       "             {'hovertext': '<b>Topic 2</b>:arm_br_blue_just_snowball_works_des',\n",
       "              'line': {'color': 'black', 'width': 1.5},\n",
       "              'mode': 'lines+lines',\n",
       "              'name': '',\n",
       "              'opacity': 0.1,\n",
       "              'type': 'scatter',\n",
       "              'x': {'bdata': 'AQIDBAUGBwgJCgsMDQ4PEBESExQ=', 'dtype': 'i1'},\n",
       "              'y': {'bdata': ('PXc+rxfb/L/hJ2j9qrf9vw1PrfE7jv' ... 'R7MgHA7lWr8ctAAcCrw7gl2UABwA=='),\n",
       "                    'dtype': 'f8'}},\n",
       "             {'hovertext': '<b>Topic 3</b>:cable_strings_winder_cables_string_',\n",
       "              'line': {'color': 'black', 'width': 1.5},\n",
       "              'mode': 'lines+lines',\n",
       "              'name': '',\n",
       "              'opacity': 0.1,\n",
       "              'type': 'scatter',\n",
       "              'x': {'bdata': 'AQIDBAUGBwgJCgsMDQ4PEBESExQ=', 'dtype': 'i1'},\n",
       "              'y': {'bdata': ('iF6G51II9r+nu6u5z1j5v5PfXylIrP' ... 'dGzQDAwATuWSXQAMDzZEQAEdQAwA=='),\n",
       "                    'dtype': 'f8'}},\n",
       "             {'hovertext': '<b>Topic 4</b>:pedal_pedals_sustain_power_piano_su',\n",
       "              'line': {'color': 'black', 'width': 1.5},\n",
       "              'mode': 'lines+lines',\n",
       "              'name': '',\n",
       "              'opacity': 0.1,\n",
       "              'type': 'scatter',\n",
       "              'x': {'bdata': 'AQIDBAUGBwgJCgsMDQ4PEBESExQ=', 'dtype': 'i1'},\n",
       "              'y': {'bdata': ('CdKdoATU8b9NxbWHHGr4v7/b4l9rtf' ... 'XBogDAym7E/KOqAMD2ogJSm9wAwA=='),\n",
       "                    'dtype': 'f8'}},\n",
       "             {'hovertext': '<b>Topic 5</b>:bowl_singing_singing bowl_sound_bea',\n",
       "              'line': {'color': 'black', 'width': 1.5},\n",
       "              'mode': 'lines+lines',\n",
       "              'name': '',\n",
       "              'opacity': 0.1,\n",
       "              'type': 'scatter',\n",
       "              'x': {'bdata': 'AQIDBAUGBwgJCgsMDQ4PEBESExQ=', 'dtype': 'i1'},\n",
       "              'y': {'bdata': ('wkRL3jhK778MrUBp+5z1v0HaRfuWS/' ... 'w0QADAjnUTABhLAMDnWjwMC2wAwA=='),\n",
       "                    'dtype': 'f8'}},\n",
       "             {'hovertext': '<b>Topic 6</b>:love_loves_love love_loved_son_daug',\n",
       "              'line': {'color': 'black', 'width': 1.5},\n",
       "              'mode': 'lines+lines',\n",
       "              'name': '',\n",
       "              'opacity': 0.1,\n",
       "              'type': 'scatter',\n",
       "              'x': {'bdata': 'AQIDBAUGBwgJCgsMDQ4PEBESExQ=', 'dtype': 'i1'},\n",
       "              'y': {'bdata': ('LpjoxKyv5L8cL0VD94Pqv+tohQql4u' ... 'yNMvm/tZRVuk5C+b9Qk3jVaW75vw=='),\n",
       "                    'dtype': 'f8'}},\n",
       "             {'hovertext': '<b>Topic 7</b>:picks_variety_pick_pack_good_great_',\n",
       "              'line': {'color': 'black', 'width': 1.5},\n",
       "              'mode': 'lines+lines',\n",
       "              'name': '',\n",
       "              'opacity': 0.1,\n",
       "              'type': 'scatter',\n",
       "              'x': {'bdata': 'AQIDBAUGBwgJCgsMDQ4PEBESExQ=', 'dtype': 'i1'},\n",
       "              'y': {'bdata': ('eABDB3Xa7L9HOG/wqRT0v38SHlMJfP' ... 'waQv2/RUR1pdtO/b+g/qMIw4D9vw=='),\n",
       "                    'dtype': 'f8'}},\n",
       "             {'hovertext': '<b>Topic 8</b>:bench_shoulder_comfortable_seat_res',\n",
       "              'line': {'color': 'black', 'width': 1.5},\n",
       "              'mode': 'lines+lines',\n",
       "              'name': '',\n",
       "              'opacity': 0.1,\n",
       "              'type': 'scatter',\n",
       "              'x': {'bdata': 'AQIDBAUGBwgJCgsMDQ4PEBESExQ=', 'dtype': 'i1'},\n",
       "              'y': {'bdata': ('QY1kz5oP879ToUCJPGT1v49aEyIxyP' ... '0qOQDAZs+D85dHAMDsa4mdK2EAwA=='),\n",
       "                    'dtype': 'f8'}},\n",
       "             {'hovertext': '<b>Topic 9</b>:does_job_does job_described_job doe',\n",
       "              'line': {'color': 'black', 'width': 1.5},\n",
       "              'mode': 'lines+lines',\n",
       "              'name': '',\n",
       "              'opacity': 0.1,\n",
       "              'type': 'scatter',\n",
       "              'x': {'bdata': 'AQIDBAUGBwgJCgsMDQ4PEBESExQ=', 'dtype': 'i1'},\n",
       "              'y': {'bdata': ('qreSI4KW5L+MVPR0EaLkv0N0c0kMwO' ... 'M4pfa/BUNVtlKz9r+WZbklhVD3vw=='),\n",
       "                    'dtype': 'f8'}},\n",
       "             {'hovertext': '<b>Topic 10</b>:gift_loved_great gift_gift gift_lo',\n",
       "              'line': {'color': 'black', 'width': 1.5},\n",
       "              'mode': 'lines+lines',\n",
       "              'name': '',\n",
       "              'opacity': 0.1,\n",
       "              'type': 'scatter',\n",
       "              'x': {'bdata': 'AQIDBAUGBwgJCgsMDQ4PEBESExQ=', 'dtype': 'i1'},\n",
       "              'y': {'bdata': ('uSTzDSu83r8JP3qRMOXwv/ZwEoFHI/' ... 'Gdb/i/nR+iDFtz+L/zvOmbItv5vw=='),\n",
       "                    'dtype': 'f8'}},\n",
       "             {'hovertext': '<b>Topic 11</b>:advertised_advertised works_advert',\n",
       "              'line': {'color': 'black', 'width': 1.5},\n",
       "              'mode': 'lines+lines',\n",
       "              'name': '',\n",
       "              'opacity': 0.1,\n",
       "              'type': 'scatter',\n",
       "              'x': {'bdata': 'AQIDBAUGBwgJCgsMDQ4PEBESExQ=', 'dtype': 'i1'},\n",
       "              'y': {'bdata': ('rxvz6Nefs7+E1TmWvE7Uv0oKDas0Vt' ... 'r0vva/G7G26OL59r9WjNVR0UH3vw=='),\n",
       "                    'dtype': 'f8'}},\n",
       "             {'hovertext': '<b>Topic 12</b>:amazon_br_product_cancer_br br_war',\n",
       "              'line': {'color': 'black', 'width': 1.5},\n",
       "              'mode': 'lines+lines',\n",
       "              'name': '',\n",
       "              'opacity': 0.1,\n",
       "              'type': 'scatter',\n",
       "              'x': {'bdata': 'AQIDBAUGBwgJCgsMDQ4PEBESExQ=', 'dtype': 'i1'},\n",
       "              'y': {'bdata': ('KAVuadMP8b/8ied1FI36v7PniiDjqP' ... 'Xd9ADA9U7X9kP1AMAx6qLZ5PUAwA=='),\n",
       "                    'dtype': 'f8'}},\n",
       "             {'hovertext': '<b>Topic 13</b>:expected_expected expected_expecte',\n",
       "              'line': {'color': 'black', 'width': 1.5},\n",
       "              'mode': 'lines+lines',\n",
       "              'name': '',\n",
       "              'opacity': 0.1,\n",
       "              'type': 'scatter',\n",
       "              'x': {'bdata': 'AQIDBAUGBwgJCgsMDQ4PEBESExQ=', 'dtype': 'i1'},\n",
       "              'y': {'bdata': ('7estTPGftL+EgbCadQbQv35GSMRE19' ... '2D0PS/ntzuLYPQ9L9MAnmnzBb1vw=='),\n",
       "                    'dtype': 'f8'}},\n",
       "             {'hovertext': '<b>Topic 14</b>:play_ernie_ernie ball_ball_great_p',\n",
       "              'line': {'color': 'black', 'width': 1.5},\n",
       "              'mode': 'lines+lines',\n",
       "              'name': '',\n",
       "              'opacity': 0.1,\n",
       "              'type': 'scatter',\n",
       "              'x': {'bdata': 'AQIDBAUGBwgJCgsMDQ4PEBESExQ=', 'dtype': 'i1'},\n",
       "              'y': {'bdata': ('mc1btm8Y8r/ugGPXudvyv0Wuyq6q8P' ... 'pgNf2/z/Nv1Fk+/b8egqYTmJf9vw=='),\n",
       "                    'dtype': 'f8'}},\n",
       "             {'hovertext': '<b>Topic 15</b>:just needed_needed just_just neede',\n",
       "              'line': {'color': 'black', 'width': 1.5},\n",
       "              'mode': 'lines+lines',\n",
       "              'name': '',\n",
       "              'opacity': 0.1,\n",
       "              'type': 'scatter',\n",
       "              'x': {'bdata': 'AQIDBAUGBwgJCgsMDQ4PEBESExQ=', 'dtype': 'i1'},\n",
       "              'y': {'bdata': ('z88+ssK61r8ZlipcEA7avyYCFx1Zld' ... '99afW/dWgLWvB59b8kkHNk3qD1vw=='),\n",
       "                    'dtype': 'f8'}},\n",
       "             {'hovertext': '<b>Topic 16</b>:pay_pay pay_pay pay pay_lip_undern',\n",
       "              'line': {'color': 'black', 'width': 1.5},\n",
       "              'mode': 'lines+lines',\n",
       "              'name': '',\n",
       "              'opacity': 0.1,\n",
       "              'type': 'scatter',\n",
       "              'x': {'bdata': 'AQIDBAUGBwgJCgsMDQ4PEBESExQ=', 'dtype': 'i1'},\n",
       "              'y': {'bdata': ('8Njd8chn1b/zeywL5dzfv2cECCrZkO' ... 'uqGfS/DknLO6oZ9L+I1sYN50n0vw=='),\n",
       "                    'dtype': 'f8'}},\n",
       "             {'hovertext': '<b>Topic 17</b>:bulbs_light_bulb_led_light bulbs_l',\n",
       "              'line': {'color': 'black', 'width': 1.5},\n",
       "              'mode': 'lines+lines',\n",
       "              'name': '',\n",
       "              'opacity': 0.1,\n",
       "              'type': 'scatter',\n",
       "              'x': {'bdata': 'AQIDBAUGBwgJCgsMDQ4PEBESExQ=', 'dtype': 'i1'},\n",
       "              'y': {'bdata': ('sTQNUXKY6b/b7j5unDnyvyrrQpRNm/' ... 'eEr/2/RVg0eU8P/r+4QhwkxNv+vw=='),\n",
       "                    'dtype': 'f8'}},\n",
       "             {'hovertext': '<b>Topic 18</b>:craftsmanship_craftsmanship great_',\n",
       "              'line': {'color': 'black', 'width': 1.5},\n",
       "              'mode': 'lines+lines',\n",
       "              'name': '',\n",
       "              'opacity': 0.1,\n",
       "              'type': 'scatter',\n",
       "              'x': {'bdata': 'AQIDBAUGBwgJCgsMDQ4PEBESExQ=', 'dtype': 'i1'},\n",
       "              'y': {'bdata': ('bRhFuXj1z7/yUCNYuyHtv0oxOkZ0J+' ... 'rkKPa/1pKCZrrb9r/WkoJmutv2vw=='),\n",
       "                    'dtype': 'f8'}}],\n",
       "    'layout': {'height': 500,\n",
       "               'hoverlabel': {'bgcolor': 'white', 'font': {'family': 'Rockwell', 'size': 16}},\n",
       "               'showlegend': False,\n",
       "               'template': '...',\n",
       "               'title': {'font': {'color': 'Black', 'size': 22},\n",
       "                         'text': '<b>Term score decline per Topic</b>',\n",
       "                         'x': 0.5,\n",
       "                         'xanchor': 'center',\n",
       "                         'y': 0.9,\n",
       "                         'yanchor': 'top'},\n",
       "               'width': 800,\n",
       "               'xaxis': {'dtick': 2, 'range': [0, 20], 'tick0': 1, 'title': {'text': 'Term Rank'}},\n",
       "               'yaxis': {'title': {'text': 'c-TF-IDF score (log scale)'}}}\n",
       "})"
      ]
     },
     "execution_count": 26,
     "metadata": {},
     "output_type": "execute_result"
    }
   ],
   "source": [
    "## Visualize Term Score Decline(To visualize the c-TF-IDF score decline)\n",
    "model.visualize_term_rank()\n",
    "\n",
    "##To enable the log scale on the y-axis for a better view of individual topics\n",
    "model.visualize_term_rank(log_scale=True)"
   ]
  },
  {
   "cell_type": "code",
   "execution_count": 27,
   "metadata": {
    "id": "_xLWMMGpcUI_"
   },
   "outputs": [
    {
     "name": "stdout",
     "output_type": "stream",
     "text": [
      "<class 'pandas.core.frame.DataFrame'>\n",
      "    Topic  Count                                               Name  \\\n",
      "0      -1  15996                            -1_br_great_guitar_good   \n",
      "1       0  20495                              0_guitar_br_mic_great   \n",
      "2       1  15084                         1_great_good_works_product   \n",
      "3       2   5841                                 2_arm_br_blue_just   \n",
      "4       3   2644                      3_cable_strings_winder_cables   \n",
      "5       4   1848                       4_pedal_pedals_sustain_power   \n",
      "6       5   1452                  5_bowl_singing_singing bowl_sound   \n",
      "7       6   1086                       6_love_loves_love love_loved   \n",
      "8       7   1003                          7_picks_variety_pick_pack   \n",
      "9       8    683                  8_bench_shoulder_comfortable_seat   \n",
      "10      9    613                      9_does_job_does job_described   \n",
      "11     10    424                 10_gift_loved_great gift_gift gift   \n",
      "12     11    177  11_advertised_advertised works_advertised work...   \n",
      "13     12    170                        12_amazon_br_product_cancer   \n",
      "14     13    170  13_expected_expected expected_expected works e...   \n",
      "15     14    164                      14_play_ernie_ernie ball_ball   \n",
      "16     15     93  15_just needed_needed just_just needed just_ne...   \n",
      "17     16     62                     16_pay_pay pay_pay pay pay_lip   \n",
      "18     17     62                            17_bulbs_light_bulb_led   \n",
      "19     18     27  18_craftsmanship_craftsmanship great_great cra...   \n",
      "\n",
      "                                       Representation  \\\n",
      "0   [br, great, guitar, good, use, mic, works, jus...   \n",
      "1   [guitar, br, mic, great, stand, use, sound, go...   \n",
      "2   [great, good, works, product, price, easy, wor...   \n",
      "3   [arm, br, blue, just, snowball, works, desk, u...   \n",
      "4   [cable, strings, winder, cables, string, great...   \n",
      "5   [pedal, pedals, sustain, power, piano, sustain...   \n",
      "6   [bowl, singing, singing bowl, sound, beautiful...   \n",
      "7   [love, loves, love love, loved, son, daughter,...   \n",
      "8   [picks, variety, pick, pack, good, great, diff...   \n",
      "9   [bench, shoulder, comfortable, seat, rest, sho...   \n",
      "10  [does, job, does job, described, job does, doe...   \n",
      "11  [gift, loved, great gift, gift gift, loves, ch...   \n",
      "12  [advertised, advertised works, advertised work...   \n",
      "13  [amazon, br, product, cancer, br br, warning, ...   \n",
      "14  [expected, expected expected, expected works e...   \n",
      "15  [play, ernie, ernie ball, ball, great, playing...   \n",
      "16  [just needed, needed just, just needed just, n...   \n",
      "17  [pay, pay pay, pay pay pay, lip, underneath wo...   \n",
      "18  [bulbs, light, bulb, led, light bulbs, lights,...   \n",
      "19  [craftsmanship, craftsmanship great, great cra...   \n",
      "\n",
      "                                  Representative_Docs  \n",
      "0          [Good quality!, Works Great, Works great!]  \n",
      "1   [I should have know better since I normally us...  \n",
      "2           [Works great., Works great!, works great]  \n",
      "3   [This stand is surprisingly well built for the...  \n",
      "4   [Good, thick quality cable., Good cable., Grea...  \n",
      "5   [Great pedal for the $, M-Audio SP-2 | Univers...  \n",
      "6   [Loved everything about this singing bowl., Pe...  \n",
      "7                      [Love it, I love it!, Love it]  \n",
      "8   [Picks are picks, Can never have too many pick...  \n",
      "9   [Nice bench., Great bench, Well put together b...  \n",
      "10  [It does the job, It does the job well!, Does ...  \n",
      "11                          [Gift, Gift, Was a gift.]  \n",
      "12  [Works as advertised, Works as advertised., Wo...  \n",
      "13  [&#34;This product contains chemicals known to...  \n",
      "14          [as expected, As expected., As expected.]  \n",
      "15  [Ernie ball strings are the best!, Love ernie ...  \n",
      "16  [Just what I needed., It is just what I needed...  \n",
      "17  [You get what you pay for!, You get what you p...  \n",
      "18  [I have used the light bulbs for one day so fa...  \n",
      "19  [Great craftsmanship, Craftsmanship, Craftsman...  \n"
     ]
    }
   ],
   "source": [
    "## Topic Information\n",
    "topic_information = model.get_topic_info()\n",
    "print(type(topic_information))\n",
    "print(topic_information)"
   ]
  },
  {
   "cell_type": "code",
   "execution_count": 28,
   "metadata": {
    "id": "96KEPbO8cX6I"
   },
   "outputs": [
    {
     "ename": "ValueError",
     "evalue": "Mime type rendering requires nbformat>=4.2.0 but it is not installed",
     "output_type": "error",
     "traceback": [
      "\u001b[1;31m---------------------------------------------------------------------------\u001b[0m",
      "\u001b[1;31mValueError\u001b[0m                                Traceback (most recent call last)",
      "File \u001b[1;32m~\\AppData\\Roaming\\Python\\Python39\\site-packages\\IPython\\core\\formatters.py:922\u001b[0m, in \u001b[0;36mIPythonDisplayFormatter.__call__\u001b[1;34m(self, obj)\u001b[0m\n\u001b[0;32m    920\u001b[0m method \u001b[38;5;241m=\u001b[39m get_real_method(obj, \u001b[38;5;28mself\u001b[39m\u001b[38;5;241m.\u001b[39mprint_method)\n\u001b[0;32m    921\u001b[0m \u001b[38;5;28;01mif\u001b[39;00m method \u001b[38;5;129;01mis\u001b[39;00m \u001b[38;5;129;01mnot\u001b[39;00m \u001b[38;5;28;01mNone\u001b[39;00m:\n\u001b[1;32m--> 922\u001b[0m     \u001b[43mmethod\u001b[49m\u001b[43m(\u001b[49m\u001b[43m)\u001b[49m\n\u001b[0;32m    923\u001b[0m     \u001b[38;5;28;01mreturn\u001b[39;00m \u001b[38;5;28;01mTrue\u001b[39;00m\n",
      "File \u001b[1;32mc:\\Users\\a0938\\AppData\\Local\\Programs\\Python\\Python39\\lib\\site-packages\\plotly\\basedatatypes.py:833\u001b[0m, in \u001b[0;36mBaseFigure._ipython_display_\u001b[1;34m(self)\u001b[0m\n\u001b[0;32m    830\u001b[0m \u001b[38;5;28;01mimport\u001b[39;00m\u001b[38;5;250m \u001b[39m\u001b[38;5;21;01mplotly\u001b[39;00m\u001b[38;5;21;01m.\u001b[39;00m\u001b[38;5;21;01mio\u001b[39;00m\u001b[38;5;250m \u001b[39m\u001b[38;5;28;01mas\u001b[39;00m\u001b[38;5;250m \u001b[39m\u001b[38;5;21;01mpio\u001b[39;00m\n\u001b[0;32m    832\u001b[0m \u001b[38;5;28;01mif\u001b[39;00m pio\u001b[38;5;241m.\u001b[39mrenderers\u001b[38;5;241m.\u001b[39mrender_on_display \u001b[38;5;129;01mand\u001b[39;00m pio\u001b[38;5;241m.\u001b[39mrenderers\u001b[38;5;241m.\u001b[39mdefault:\n\u001b[1;32m--> 833\u001b[0m     \u001b[43mpio\u001b[49m\u001b[38;5;241;43m.\u001b[39;49m\u001b[43mshow\u001b[49m\u001b[43m(\u001b[49m\u001b[38;5;28;43mself\u001b[39;49m\u001b[43m)\u001b[49m\n\u001b[0;32m    834\u001b[0m \u001b[38;5;28;01melse\u001b[39;00m:\n\u001b[0;32m    835\u001b[0m     \u001b[38;5;28mprint\u001b[39m(\u001b[38;5;28mrepr\u001b[39m(\u001b[38;5;28mself\u001b[39m))\n",
      "File \u001b[1;32mc:\\Users\\a0938\\AppData\\Local\\Programs\\Python\\Python39\\lib\\site-packages\\plotly\\io\\_renderers.py:425\u001b[0m, in \u001b[0;36mshow\u001b[1;34m(fig, renderer, validate, **kwargs)\u001b[0m\n\u001b[0;32m    420\u001b[0m     \u001b[38;5;28;01mraise\u001b[39;00m \u001b[38;5;167;01mValueError\u001b[39;00m(\n\u001b[0;32m    421\u001b[0m         \u001b[38;5;124m\"\u001b[39m\u001b[38;5;124mMime type rendering requires ipython but it is not installed\u001b[39m\u001b[38;5;124m\"\u001b[39m\n\u001b[0;32m    422\u001b[0m     )\n\u001b[0;32m    424\u001b[0m \u001b[38;5;28;01mif\u001b[39;00m \u001b[38;5;129;01mnot\u001b[39;00m nbformat \u001b[38;5;129;01mor\u001b[39;00m Version(nbformat\u001b[38;5;241m.\u001b[39m__version__) \u001b[38;5;241m<\u001b[39m Version(\u001b[38;5;124m\"\u001b[39m\u001b[38;5;124m4.2.0\u001b[39m\u001b[38;5;124m\"\u001b[39m):\n\u001b[1;32m--> 425\u001b[0m     \u001b[38;5;28;01mraise\u001b[39;00m \u001b[38;5;167;01mValueError\u001b[39;00m(\n\u001b[0;32m    426\u001b[0m         \u001b[38;5;124m\"\u001b[39m\u001b[38;5;124mMime type rendering requires nbformat>=4.2.0 but it is not installed\u001b[39m\u001b[38;5;124m\"\u001b[39m\n\u001b[0;32m    427\u001b[0m     )\n\u001b[0;32m    429\u001b[0m display_jupyter_version_warnings()\n\u001b[0;32m    431\u001b[0m ipython_display\u001b[38;5;241m.\u001b[39mdisplay(bundle, raw\u001b[38;5;241m=\u001b[39m\u001b[38;5;28;01mTrue\u001b[39;00m)\n",
      "\u001b[1;31mValueError\u001b[0m: Mime type rendering requires nbformat>=4.2.0 but it is not installed"
     ]
    },
    {
     "data": {
      "application/vnd.plotly.v1+json": {
       "config": {
        "plotlyServerURL": "https://plot.ly"
       },
       "data": [
        {
         "marker": {
          "color": "#D55E00"
         },
         "orientation": "h",
         "type": "bar",
         "x": [
          0.009545645700112869,
          0.01118375294159604,
          0.011928292597374893,
          0.01525962392268128,
          0.01569710823838691
         ],
         "xaxis": "x",
         "y": [
          "stand  ",
          "great  ",
          "mic  ",
          "br  ",
          "guitar  "
         ],
         "yaxis": "y"
        },
        {
         "marker": {
          "color": "#0072B2"
         },
         "orientation": "h",
         "type": "bar",
         "x": [
          0.027460633867001823,
          0.03277732446282198,
          0.034341197828888795,
          0.0408115120446199,
          0.04994336089574864
         ],
         "xaxis": "x2",
         "y": [
          "price  ",
          "product  ",
          "works  ",
          "good  ",
          "great  "
         ],
         "yaxis": "y2"
        },
        {
         "marker": {
          "color": "#CC79A7"
         },
         "orientation": "h",
         "type": "bar",
         "x": [
          0.010063616390111831,
          0.01045337688959433,
          0.012310476520186837,
          0.01388862324373399,
          0.015722102226894356
         ],
         "xaxis": "x3",
         "y": [
          "snowball  ",
          "just  ",
          "blue  ",
          "br  ",
          "arm  "
         ],
         "yaxis": "y3"
        },
        {
         "marker": {
          "color": "#E69F00"
         },
         "orientation": "h",
         "type": "bar",
         "x": [
          0.017787254367481423,
          0.01853940782269921,
          0.01863970324357754,
          0.026050587539853204,
          0.04197278736863602
         ],
         "xaxis": "x4",
         "y": [
          "string  ",
          "cables  ",
          "winder  ",
          "strings  ",
          "cable  "
         ],
         "yaxis": "y4"
        },
        {
         "marker": {
          "color": "#56B4E9"
         },
         "orientation": "h",
         "type": "bar",
         "x": [
          0.01708856932731578,
          0.01999696614163756,
          0.02472909064713726,
          0.02979160391481872,
          0.07686661820992119
         ],
         "xaxis": "x5",
         "y": [
          "piano  ",
          "power  ",
          "sustain  ",
          "pedals  ",
          "pedal  "
         ],
         "yaxis": "y5"
        },
        {
         "marker": {
          "color": "#009E73"
         },
         "orientation": "h",
         "type": "bar",
         "x": [
          0.023843033527028427,
          0.02736078504192631,
          0.04041526826931794,
          0.044583514233293445,
          0.1052421422938179
         ],
         "xaxis": "x6",
         "y": [
          "beautiful  ",
          "sound  ",
          "singing bowl  ",
          "singing  ",
          "bowl  "
         ],
         "yaxis": "y6"
        },
        {
         "marker": {
          "color": "#F0E442"
         },
         "orientation": "h",
         "type": "bar",
         "x": [
          0.07272701070506411,
          0.09554754589208458,
          0.14448854297058855,
          0.1483853020186058,
          0.2257123448619174
         ],
         "xaxis": "x7",
         "y": [
          "son  ",
          "loved  ",
          "love love  ",
          "loves  ",
          "love  "
         ],
         "yaxis": "y7"
        },
        {
         "marker": {
          "color": "#D55E00"
         },
         "orientation": "h",
         "type": "bar",
         "x": [
          0.0301646867103515,
          0.031546077110754495,
          0.03405788461463263,
          0.05558468141730687,
          0.12541020229711625
         ],
         "xaxis": "x8",
         "y": [
          "good  ",
          "pack  ",
          "pick  ",
          "variety  ",
          "picks  "
         ],
         "yaxis": "y8"
        }
       ],
       "layout": {
        "annotations": [
         {
          "font": {
           "size": 16
          },
          "showarrow": false,
          "text": "Topic 0",
          "x": 0.0875,
          "xanchor": "center",
          "xref": "paper",
          "y": 1,
          "yanchor": "bottom",
          "yref": "paper"
         },
         {
          "font": {
           "size": 16
          },
          "showarrow": false,
          "text": "Topic 1",
          "x": 0.36250000000000004,
          "xanchor": "center",
          "xref": "paper",
          "y": 1,
          "yanchor": "bottom",
          "yref": "paper"
         },
         {
          "font": {
           "size": 16
          },
          "showarrow": false,
          "text": "Topic 2",
          "x": 0.6375000000000001,
          "xanchor": "center",
          "xref": "paper",
          "y": 1,
          "yanchor": "bottom",
          "yref": "paper"
         },
         {
          "font": {
           "size": 16
          },
          "showarrow": false,
          "text": "Topic 3",
          "x": 0.9125,
          "xanchor": "center",
          "xref": "paper",
          "y": 1,
          "yanchor": "bottom",
          "yref": "paper"
         },
         {
          "font": {
           "size": 16
          },
          "showarrow": false,
          "text": "Topic 4",
          "x": 0.0875,
          "xanchor": "center",
          "xref": "paper",
          "y": 0.4,
          "yanchor": "bottom",
          "yref": "paper"
         },
         {
          "font": {
           "size": 16
          },
          "showarrow": false,
          "text": "Topic 5",
          "x": 0.36250000000000004,
          "xanchor": "center",
          "xref": "paper",
          "y": 0.4,
          "yanchor": "bottom",
          "yref": "paper"
         },
         {
          "font": {
           "size": 16
          },
          "showarrow": false,
          "text": "Topic 6",
          "x": 0.6375000000000001,
          "xanchor": "center",
          "xref": "paper",
          "y": 0.4,
          "yanchor": "bottom",
          "yref": "paper"
         },
         {
          "font": {
           "size": 16
          },
          "showarrow": false,
          "text": "Topic 7",
          "x": 0.9125,
          "xanchor": "center",
          "xref": "paper",
          "y": 0.4,
          "yanchor": "bottom",
          "yref": "paper"
         }
        ],
        "height": 500,
        "hoverlabel": {
         "bgcolor": "white",
         "font": {
          "family": "Rockwell",
          "size": 16
         }
        },
        "showlegend": false,
        "template": {
         "data": {
          "bar": [
           {
            "error_x": {
             "color": "#2a3f5f"
            },
            "error_y": {
             "color": "#2a3f5f"
            },
            "marker": {
             "line": {
              "color": "white",
              "width": 0.5
             },
             "pattern": {
              "fillmode": "overlay",
              "size": 10,
              "solidity": 0.2
             }
            },
            "type": "bar"
           }
          ],
          "barpolar": [
           {
            "marker": {
             "line": {
              "color": "white",
              "width": 0.5
             },
             "pattern": {
              "fillmode": "overlay",
              "size": 10,
              "solidity": 0.2
             }
            },
            "type": "barpolar"
           }
          ],
          "carpet": [
           {
            "aaxis": {
             "endlinecolor": "#2a3f5f",
             "gridcolor": "#C8D4E3",
             "linecolor": "#C8D4E3",
             "minorgridcolor": "#C8D4E3",
             "startlinecolor": "#2a3f5f"
            },
            "baxis": {
             "endlinecolor": "#2a3f5f",
             "gridcolor": "#C8D4E3",
             "linecolor": "#C8D4E3",
             "minorgridcolor": "#C8D4E3",
             "startlinecolor": "#2a3f5f"
            },
            "type": "carpet"
           }
          ],
          "choropleth": [
           {
            "colorbar": {
             "outlinewidth": 0,
             "ticks": ""
            },
            "type": "choropleth"
           }
          ],
          "contour": [
           {
            "colorbar": {
             "outlinewidth": 0,
             "ticks": ""
            },
            "colorscale": [
             [
              0,
              "#0d0887"
             ],
             [
              0.1111111111111111,
              "#46039f"
             ],
             [
              0.2222222222222222,
              "#7201a8"
             ],
             [
              0.3333333333333333,
              "#9c179e"
             ],
             [
              0.4444444444444444,
              "#bd3786"
             ],
             [
              0.5555555555555556,
              "#d8576b"
             ],
             [
              0.6666666666666666,
              "#ed7953"
             ],
             [
              0.7777777777777778,
              "#fb9f3a"
             ],
             [
              0.8888888888888888,
              "#fdca26"
             ],
             [
              1,
              "#f0f921"
             ]
            ],
            "type": "contour"
           }
          ],
          "contourcarpet": [
           {
            "colorbar": {
             "outlinewidth": 0,
             "ticks": ""
            },
            "type": "contourcarpet"
           }
          ],
          "heatmap": [
           {
            "colorbar": {
             "outlinewidth": 0,
             "ticks": ""
            },
            "colorscale": [
             [
              0,
              "#0d0887"
             ],
             [
              0.1111111111111111,
              "#46039f"
             ],
             [
              0.2222222222222222,
              "#7201a8"
             ],
             [
              0.3333333333333333,
              "#9c179e"
             ],
             [
              0.4444444444444444,
              "#bd3786"
             ],
             [
              0.5555555555555556,
              "#d8576b"
             ],
             [
              0.6666666666666666,
              "#ed7953"
             ],
             [
              0.7777777777777778,
              "#fb9f3a"
             ],
             [
              0.8888888888888888,
              "#fdca26"
             ],
             [
              1,
              "#f0f921"
             ]
            ],
            "type": "heatmap"
           }
          ],
          "histogram": [
           {
            "marker": {
             "pattern": {
              "fillmode": "overlay",
              "size": 10,
              "solidity": 0.2
             }
            },
            "type": "histogram"
           }
          ],
          "histogram2d": [
           {
            "colorbar": {
             "outlinewidth": 0,
             "ticks": ""
            },
            "colorscale": [
             [
              0,
              "#0d0887"
             ],
             [
              0.1111111111111111,
              "#46039f"
             ],
             [
              0.2222222222222222,
              "#7201a8"
             ],
             [
              0.3333333333333333,
              "#9c179e"
             ],
             [
              0.4444444444444444,
              "#bd3786"
             ],
             [
              0.5555555555555556,
              "#d8576b"
             ],
             [
              0.6666666666666666,
              "#ed7953"
             ],
             [
              0.7777777777777778,
              "#fb9f3a"
             ],
             [
              0.8888888888888888,
              "#fdca26"
             ],
             [
              1,
              "#f0f921"
             ]
            ],
            "type": "histogram2d"
           }
          ],
          "histogram2dcontour": [
           {
            "colorbar": {
             "outlinewidth": 0,
             "ticks": ""
            },
            "colorscale": [
             [
              0,
              "#0d0887"
             ],
             [
              0.1111111111111111,
              "#46039f"
             ],
             [
              0.2222222222222222,
              "#7201a8"
             ],
             [
              0.3333333333333333,
              "#9c179e"
             ],
             [
              0.4444444444444444,
              "#bd3786"
             ],
             [
              0.5555555555555556,
              "#d8576b"
             ],
             [
              0.6666666666666666,
              "#ed7953"
             ],
             [
              0.7777777777777778,
              "#fb9f3a"
             ],
             [
              0.8888888888888888,
              "#fdca26"
             ],
             [
              1,
              "#f0f921"
             ]
            ],
            "type": "histogram2dcontour"
           }
          ],
          "mesh3d": [
           {
            "colorbar": {
             "outlinewidth": 0,
             "ticks": ""
            },
            "type": "mesh3d"
           }
          ],
          "parcoords": [
           {
            "line": {
             "colorbar": {
              "outlinewidth": 0,
              "ticks": ""
             }
            },
            "type": "parcoords"
           }
          ],
          "pie": [
           {
            "automargin": true,
            "type": "pie"
           }
          ],
          "scatter": [
           {
            "fillpattern": {
             "fillmode": "overlay",
             "size": 10,
             "solidity": 0.2
            },
            "type": "scatter"
           }
          ],
          "scatter3d": [
           {
            "line": {
             "colorbar": {
              "outlinewidth": 0,
              "ticks": ""
             }
            },
            "marker": {
             "colorbar": {
              "outlinewidth": 0,
              "ticks": ""
             }
            },
            "type": "scatter3d"
           }
          ],
          "scattercarpet": [
           {
            "marker": {
             "colorbar": {
              "outlinewidth": 0,
              "ticks": ""
             }
            },
            "type": "scattercarpet"
           }
          ],
          "scattergeo": [
           {
            "marker": {
             "colorbar": {
              "outlinewidth": 0,
              "ticks": ""
             }
            },
            "type": "scattergeo"
           }
          ],
          "scattergl": [
           {
            "marker": {
             "colorbar": {
              "outlinewidth": 0,
              "ticks": ""
             }
            },
            "type": "scattergl"
           }
          ],
          "scattermap": [
           {
            "marker": {
             "colorbar": {
              "outlinewidth": 0,
              "ticks": ""
             }
            },
            "type": "scattermap"
           }
          ],
          "scattermapbox": [
           {
            "marker": {
             "colorbar": {
              "outlinewidth": 0,
              "ticks": ""
             }
            },
            "type": "scattermapbox"
           }
          ],
          "scatterpolar": [
           {
            "marker": {
             "colorbar": {
              "outlinewidth": 0,
              "ticks": ""
             }
            },
            "type": "scatterpolar"
           }
          ],
          "scatterpolargl": [
           {
            "marker": {
             "colorbar": {
              "outlinewidth": 0,
              "ticks": ""
             }
            },
            "type": "scatterpolargl"
           }
          ],
          "scatterternary": [
           {
            "marker": {
             "colorbar": {
              "outlinewidth": 0,
              "ticks": ""
             }
            },
            "type": "scatterternary"
           }
          ],
          "surface": [
           {
            "colorbar": {
             "outlinewidth": 0,
             "ticks": ""
            },
            "colorscale": [
             [
              0,
              "#0d0887"
             ],
             [
              0.1111111111111111,
              "#46039f"
             ],
             [
              0.2222222222222222,
              "#7201a8"
             ],
             [
              0.3333333333333333,
              "#9c179e"
             ],
             [
              0.4444444444444444,
              "#bd3786"
             ],
             [
              0.5555555555555556,
              "#d8576b"
             ],
             [
              0.6666666666666666,
              "#ed7953"
             ],
             [
              0.7777777777777778,
              "#fb9f3a"
             ],
             [
              0.8888888888888888,
              "#fdca26"
             ],
             [
              1,
              "#f0f921"
             ]
            ],
            "type": "surface"
           }
          ],
          "table": [
           {
            "cells": {
             "fill": {
              "color": "#EBF0F8"
             },
             "line": {
              "color": "white"
             }
            },
            "header": {
             "fill": {
              "color": "#C8D4E3"
             },
             "line": {
              "color": "white"
             }
            },
            "type": "table"
           }
          ]
         },
         "layout": {
          "annotationdefaults": {
           "arrowcolor": "#2a3f5f",
           "arrowhead": 0,
           "arrowwidth": 1
          },
          "autotypenumbers": "strict",
          "coloraxis": {
           "colorbar": {
            "outlinewidth": 0,
            "ticks": ""
           }
          },
          "colorscale": {
           "diverging": [
            [
             0,
             "#8e0152"
            ],
            [
             0.1,
             "#c51b7d"
            ],
            [
             0.2,
             "#de77ae"
            ],
            [
             0.3,
             "#f1b6da"
            ],
            [
             0.4,
             "#fde0ef"
            ],
            [
             0.5,
             "#f7f7f7"
            ],
            [
             0.6,
             "#e6f5d0"
            ],
            [
             0.7,
             "#b8e186"
            ],
            [
             0.8,
             "#7fbc41"
            ],
            [
             0.9,
             "#4d9221"
            ],
            [
             1,
             "#276419"
            ]
           ],
           "sequential": [
            [
             0,
             "#0d0887"
            ],
            [
             0.1111111111111111,
             "#46039f"
            ],
            [
             0.2222222222222222,
             "#7201a8"
            ],
            [
             0.3333333333333333,
             "#9c179e"
            ],
            [
             0.4444444444444444,
             "#bd3786"
            ],
            [
             0.5555555555555556,
             "#d8576b"
            ],
            [
             0.6666666666666666,
             "#ed7953"
            ],
            [
             0.7777777777777778,
             "#fb9f3a"
            ],
            [
             0.8888888888888888,
             "#fdca26"
            ],
            [
             1,
             "#f0f921"
            ]
           ],
           "sequentialminus": [
            [
             0,
             "#0d0887"
            ],
            [
             0.1111111111111111,
             "#46039f"
            ],
            [
             0.2222222222222222,
             "#7201a8"
            ],
            [
             0.3333333333333333,
             "#9c179e"
            ],
            [
             0.4444444444444444,
             "#bd3786"
            ],
            [
             0.5555555555555556,
             "#d8576b"
            ],
            [
             0.6666666666666666,
             "#ed7953"
            ],
            [
             0.7777777777777778,
             "#fb9f3a"
            ],
            [
             0.8888888888888888,
             "#fdca26"
            ],
            [
             1,
             "#f0f921"
            ]
           ]
          },
          "colorway": [
           "#636efa",
           "#EF553B",
           "#00cc96",
           "#ab63fa",
           "#FFA15A",
           "#19d3f3",
           "#FF6692",
           "#B6E880",
           "#FF97FF",
           "#FECB52"
          ],
          "font": {
           "color": "#2a3f5f"
          },
          "geo": {
           "bgcolor": "white",
           "lakecolor": "white",
           "landcolor": "white",
           "showlakes": true,
           "showland": true,
           "subunitcolor": "#C8D4E3"
          },
          "hoverlabel": {
           "align": "left"
          },
          "hovermode": "closest",
          "mapbox": {
           "style": "light"
          },
          "paper_bgcolor": "white",
          "plot_bgcolor": "white",
          "polar": {
           "angularaxis": {
            "gridcolor": "#EBF0F8",
            "linecolor": "#EBF0F8",
            "ticks": ""
           },
           "bgcolor": "white",
           "radialaxis": {
            "gridcolor": "#EBF0F8",
            "linecolor": "#EBF0F8",
            "ticks": ""
           }
          },
          "scene": {
           "xaxis": {
            "backgroundcolor": "white",
            "gridcolor": "#DFE8F3",
            "gridwidth": 2,
            "linecolor": "#EBF0F8",
            "showbackground": true,
            "ticks": "",
            "zerolinecolor": "#EBF0F8"
           },
           "yaxis": {
            "backgroundcolor": "white",
            "gridcolor": "#DFE8F3",
            "gridwidth": 2,
            "linecolor": "#EBF0F8",
            "showbackground": true,
            "ticks": "",
            "zerolinecolor": "#EBF0F8"
           },
           "zaxis": {
            "backgroundcolor": "white",
            "gridcolor": "#DFE8F3",
            "gridwidth": 2,
            "linecolor": "#EBF0F8",
            "showbackground": true,
            "ticks": "",
            "zerolinecolor": "#EBF0F8"
           }
          },
          "shapedefaults": {
           "line": {
            "color": "#2a3f5f"
           }
          },
          "ternary": {
           "aaxis": {
            "gridcolor": "#DFE8F3",
            "linecolor": "#A2B1C6",
            "ticks": ""
           },
           "baxis": {
            "gridcolor": "#DFE8F3",
            "linecolor": "#A2B1C6",
            "ticks": ""
           },
           "bgcolor": "white",
           "caxis": {
            "gridcolor": "#DFE8F3",
            "linecolor": "#A2B1C6",
            "ticks": ""
           }
          },
          "title": {
           "x": 0.05
          },
          "xaxis": {
           "automargin": true,
           "gridcolor": "#EBF0F8",
           "linecolor": "#EBF0F8",
           "ticks": "",
           "title": {
            "standoff": 15
           },
           "zerolinecolor": "#EBF0F8",
           "zerolinewidth": 2
          },
          "yaxis": {
           "automargin": true,
           "gridcolor": "#EBF0F8",
           "linecolor": "#EBF0F8",
           "ticks": "",
           "title": {
            "standoff": 15
           },
           "zerolinecolor": "#EBF0F8",
           "zerolinewidth": 2
          }
         }
        },
        "title": {
         "font": {
          "color": "Black",
          "size": 22
         },
         "text": "Topic Word Scores",
         "x": 0.5,
         "xanchor": "center",
         "yanchor": "top"
        },
        "width": 1000,
        "xaxis": {
         "anchor": "y",
         "domain": [
          0,
          0.175
         ],
         "showgrid": true
        },
        "xaxis2": {
         "anchor": "y2",
         "domain": [
          0.275,
          0.45
         ],
         "showgrid": true
        },
        "xaxis3": {
         "anchor": "y3",
         "domain": [
          0.55,
          0.7250000000000001
         ],
         "showgrid": true
        },
        "xaxis4": {
         "anchor": "y4",
         "domain": [
          0.825,
          1
         ],
         "showgrid": true
        },
        "xaxis5": {
         "anchor": "y5",
         "domain": [
          0,
          0.175
         ],
         "showgrid": true
        },
        "xaxis6": {
         "anchor": "y6",
         "domain": [
          0.275,
          0.45
         ],
         "showgrid": true
        },
        "xaxis7": {
         "anchor": "y7",
         "domain": [
          0.55,
          0.7250000000000001
         ],
         "showgrid": true
        },
        "xaxis8": {
         "anchor": "y8",
         "domain": [
          0.825,
          1
         ],
         "showgrid": true
        },
        "yaxis": {
         "anchor": "x",
         "domain": [
          0.6000000000000001,
          1
         ],
         "showgrid": true
        },
        "yaxis2": {
         "anchor": "x2",
         "domain": [
          0.6000000000000001,
          1
         ],
         "showgrid": true
        },
        "yaxis3": {
         "anchor": "x3",
         "domain": [
          0.6000000000000001,
          1
         ],
         "showgrid": true
        },
        "yaxis4": {
         "anchor": "x4",
         "domain": [
          0.6000000000000001,
          1
         ],
         "showgrid": true
        },
        "yaxis5": {
         "anchor": "x5",
         "domain": [
          0,
          0.4
         ],
         "showgrid": true
        },
        "yaxis6": {
         "anchor": "x6",
         "domain": [
          0,
          0.4
         ],
         "showgrid": true
        },
        "yaxis7": {
         "anchor": "x7",
         "domain": [
          0,
          0.4
         ],
         "showgrid": true
        },
        "yaxis8": {
         "anchor": "x8",
         "domain": [
          0,
          0.4
         ],
         "showgrid": true
        }
       }
      },
      "text/html": [
       "<div>                        <script type=\"text/javascript\">window.PlotlyConfig = {MathJaxConfig: 'local'};</script>\n",
       "        <script charset=\"utf-8\" src=\"https://cdn.plot.ly/plotly-3.0.1.min.js\"></script>                <div id=\"3528155e-dd80-4aba-afc1-5821cbabb63d\" class=\"plotly-graph-div\" style=\"height:500px; width:1000px;\"></div>            <script type=\"text/javascript\">                window.PLOTLYENV=window.PLOTLYENV || {};                                if (document.getElementById(\"3528155e-dd80-4aba-afc1-5821cbabb63d\")) {                    Plotly.newPlot(                        \"3528155e-dd80-4aba-afc1-5821cbabb63d\",                        [{\"marker\":{\"color\":\"#D55E00\"},\"orientation\":\"h\",\"x\":[0.009545645700112869,0.01118375294159604,0.011928292597374893,0.01525962392268128,0.01569710823838691],\"y\":[\"stand  \",\"great  \",\"mic  \",\"br  \",\"guitar  \"],\"type\":\"bar\",\"xaxis\":\"x\",\"yaxis\":\"y\"},{\"marker\":{\"color\":\"#0072B2\"},\"orientation\":\"h\",\"x\":[0.027460633867001823,0.03277732446282198,0.034341197828888795,0.0408115120446199,0.04994336089574864],\"y\":[\"price  \",\"product  \",\"works  \",\"good  \",\"great  \"],\"type\":\"bar\",\"xaxis\":\"x2\",\"yaxis\":\"y2\"},{\"marker\":{\"color\":\"#CC79A7\"},\"orientation\":\"h\",\"x\":[0.010063616390111831,0.01045337688959433,0.012310476520186837,0.01388862324373399,0.015722102226894356],\"y\":[\"snowball  \",\"just  \",\"blue  \",\"br  \",\"arm  \"],\"type\":\"bar\",\"xaxis\":\"x3\",\"yaxis\":\"y3\"},{\"marker\":{\"color\":\"#E69F00\"},\"orientation\":\"h\",\"x\":[0.017787254367481423,0.01853940782269921,0.01863970324357754,0.026050587539853204,0.04197278736863602],\"y\":[\"string  \",\"cables  \",\"winder  \",\"strings  \",\"cable  \"],\"type\":\"bar\",\"xaxis\":\"x4\",\"yaxis\":\"y4\"},{\"marker\":{\"color\":\"#56B4E9\"},\"orientation\":\"h\",\"x\":[0.01708856932731578,0.01999696614163756,0.02472909064713726,0.02979160391481872,0.07686661820992119],\"y\":[\"piano  \",\"power  \",\"sustain  \",\"pedals  \",\"pedal  \"],\"type\":\"bar\",\"xaxis\":\"x5\",\"yaxis\":\"y5\"},{\"marker\":{\"color\":\"#009E73\"},\"orientation\":\"h\",\"x\":[0.023843033527028427,0.02736078504192631,0.04041526826931794,0.044583514233293445,0.1052421422938179],\"y\":[\"beautiful  \",\"sound  \",\"singing bowl  \",\"singing  \",\"bowl  \"],\"type\":\"bar\",\"xaxis\":\"x6\",\"yaxis\":\"y6\"},{\"marker\":{\"color\":\"#F0E442\"},\"orientation\":\"h\",\"x\":[0.07272701070506411,0.09554754589208458,0.14448854297058855,0.1483853020186058,0.2257123448619174],\"y\":[\"son  \",\"loved  \",\"love love  \",\"loves  \",\"love  \"],\"type\":\"bar\",\"xaxis\":\"x7\",\"yaxis\":\"y7\"},{\"marker\":{\"color\":\"#D55E00\"},\"orientation\":\"h\",\"x\":[0.0301646867103515,0.031546077110754495,0.03405788461463263,0.05558468141730687,0.12541020229711625],\"y\":[\"good  \",\"pack  \",\"pick  \",\"variety  \",\"picks  \"],\"type\":\"bar\",\"xaxis\":\"x8\",\"yaxis\":\"y8\"}],                        {\"template\":{\"data\":{\"barpolar\":[{\"marker\":{\"line\":{\"color\":\"white\",\"width\":0.5},\"pattern\":{\"fillmode\":\"overlay\",\"size\":10,\"solidity\":0.2}},\"type\":\"barpolar\"}],\"bar\":[{\"error_x\":{\"color\":\"#2a3f5f\"},\"error_y\":{\"color\":\"#2a3f5f\"},\"marker\":{\"line\":{\"color\":\"white\",\"width\":0.5},\"pattern\":{\"fillmode\":\"overlay\",\"size\":10,\"solidity\":0.2}},\"type\":\"bar\"}],\"carpet\":[{\"aaxis\":{\"endlinecolor\":\"#2a3f5f\",\"gridcolor\":\"#C8D4E3\",\"linecolor\":\"#C8D4E3\",\"minorgridcolor\":\"#C8D4E3\",\"startlinecolor\":\"#2a3f5f\"},\"baxis\":{\"endlinecolor\":\"#2a3f5f\",\"gridcolor\":\"#C8D4E3\",\"linecolor\":\"#C8D4E3\",\"minorgridcolor\":\"#C8D4E3\",\"startlinecolor\":\"#2a3f5f\"},\"type\":\"carpet\"}],\"choropleth\":[{\"colorbar\":{\"outlinewidth\":0,\"ticks\":\"\"},\"type\":\"choropleth\"}],\"contourcarpet\":[{\"colorbar\":{\"outlinewidth\":0,\"ticks\":\"\"},\"type\":\"contourcarpet\"}],\"contour\":[{\"colorbar\":{\"outlinewidth\":0,\"ticks\":\"\"},\"colorscale\":[[0.0,\"#0d0887\"],[0.1111111111111111,\"#46039f\"],[0.2222222222222222,\"#7201a8\"],[0.3333333333333333,\"#9c179e\"],[0.4444444444444444,\"#bd3786\"],[0.5555555555555556,\"#d8576b\"],[0.6666666666666666,\"#ed7953\"],[0.7777777777777778,\"#fb9f3a\"],[0.8888888888888888,\"#fdca26\"],[1.0,\"#f0f921\"]],\"type\":\"contour\"}],\"heatmap\":[{\"colorbar\":{\"outlinewidth\":0,\"ticks\":\"\"},\"colorscale\":[[0.0,\"#0d0887\"],[0.1111111111111111,\"#46039f\"],[0.2222222222222222,\"#7201a8\"],[0.3333333333333333,\"#9c179e\"],[0.4444444444444444,\"#bd3786\"],[0.5555555555555556,\"#d8576b\"],[0.6666666666666666,\"#ed7953\"],[0.7777777777777778,\"#fb9f3a\"],[0.8888888888888888,\"#fdca26\"],[1.0,\"#f0f921\"]],\"type\":\"heatmap\"}],\"histogram2dcontour\":[{\"colorbar\":{\"outlinewidth\":0,\"ticks\":\"\"},\"colorscale\":[[0.0,\"#0d0887\"],[0.1111111111111111,\"#46039f\"],[0.2222222222222222,\"#7201a8\"],[0.3333333333333333,\"#9c179e\"],[0.4444444444444444,\"#bd3786\"],[0.5555555555555556,\"#d8576b\"],[0.6666666666666666,\"#ed7953\"],[0.7777777777777778,\"#fb9f3a\"],[0.8888888888888888,\"#fdca26\"],[1.0,\"#f0f921\"]],\"type\":\"histogram2dcontour\"}],\"histogram2d\":[{\"colorbar\":{\"outlinewidth\":0,\"ticks\":\"\"},\"colorscale\":[[0.0,\"#0d0887\"],[0.1111111111111111,\"#46039f\"],[0.2222222222222222,\"#7201a8\"],[0.3333333333333333,\"#9c179e\"],[0.4444444444444444,\"#bd3786\"],[0.5555555555555556,\"#d8576b\"],[0.6666666666666666,\"#ed7953\"],[0.7777777777777778,\"#fb9f3a\"],[0.8888888888888888,\"#fdca26\"],[1.0,\"#f0f921\"]],\"type\":\"histogram2d\"}],\"histogram\":[{\"marker\":{\"pattern\":{\"fillmode\":\"overlay\",\"size\":10,\"solidity\":0.2}},\"type\":\"histogram\"}],\"mesh3d\":[{\"colorbar\":{\"outlinewidth\":0,\"ticks\":\"\"},\"type\":\"mesh3d\"}],\"parcoords\":[{\"line\":{\"colorbar\":{\"outlinewidth\":0,\"ticks\":\"\"}},\"type\":\"parcoords\"}],\"pie\":[{\"automargin\":true,\"type\":\"pie\"}],\"scatter3d\":[{\"line\":{\"colorbar\":{\"outlinewidth\":0,\"ticks\":\"\"}},\"marker\":{\"colorbar\":{\"outlinewidth\":0,\"ticks\":\"\"}},\"type\":\"scatter3d\"}],\"scattercarpet\":[{\"marker\":{\"colorbar\":{\"outlinewidth\":0,\"ticks\":\"\"}},\"type\":\"scattercarpet\"}],\"scattergeo\":[{\"marker\":{\"colorbar\":{\"outlinewidth\":0,\"ticks\":\"\"}},\"type\":\"scattergeo\"}],\"scattergl\":[{\"marker\":{\"colorbar\":{\"outlinewidth\":0,\"ticks\":\"\"}},\"type\":\"scattergl\"}],\"scattermapbox\":[{\"marker\":{\"colorbar\":{\"outlinewidth\":0,\"ticks\":\"\"}},\"type\":\"scattermapbox\"}],\"scattermap\":[{\"marker\":{\"colorbar\":{\"outlinewidth\":0,\"ticks\":\"\"}},\"type\":\"scattermap\"}],\"scatterpolargl\":[{\"marker\":{\"colorbar\":{\"outlinewidth\":0,\"ticks\":\"\"}},\"type\":\"scatterpolargl\"}],\"scatterpolar\":[{\"marker\":{\"colorbar\":{\"outlinewidth\":0,\"ticks\":\"\"}},\"type\":\"scatterpolar\"}],\"scatter\":[{\"fillpattern\":{\"fillmode\":\"overlay\",\"size\":10,\"solidity\":0.2},\"type\":\"scatter\"}],\"scatterternary\":[{\"marker\":{\"colorbar\":{\"outlinewidth\":0,\"ticks\":\"\"}},\"type\":\"scatterternary\"}],\"surface\":[{\"colorbar\":{\"outlinewidth\":0,\"ticks\":\"\"},\"colorscale\":[[0.0,\"#0d0887\"],[0.1111111111111111,\"#46039f\"],[0.2222222222222222,\"#7201a8\"],[0.3333333333333333,\"#9c179e\"],[0.4444444444444444,\"#bd3786\"],[0.5555555555555556,\"#d8576b\"],[0.6666666666666666,\"#ed7953\"],[0.7777777777777778,\"#fb9f3a\"],[0.8888888888888888,\"#fdca26\"],[1.0,\"#f0f921\"]],\"type\":\"surface\"}],\"table\":[{\"cells\":{\"fill\":{\"color\":\"#EBF0F8\"},\"line\":{\"color\":\"white\"}},\"header\":{\"fill\":{\"color\":\"#C8D4E3\"},\"line\":{\"color\":\"white\"}},\"type\":\"table\"}]},\"layout\":{\"annotationdefaults\":{\"arrowcolor\":\"#2a3f5f\",\"arrowhead\":0,\"arrowwidth\":1},\"autotypenumbers\":\"strict\",\"coloraxis\":{\"colorbar\":{\"outlinewidth\":0,\"ticks\":\"\"}},\"colorscale\":{\"diverging\":[[0,\"#8e0152\"],[0.1,\"#c51b7d\"],[0.2,\"#de77ae\"],[0.3,\"#f1b6da\"],[0.4,\"#fde0ef\"],[0.5,\"#f7f7f7\"],[0.6,\"#e6f5d0\"],[0.7,\"#b8e186\"],[0.8,\"#7fbc41\"],[0.9,\"#4d9221\"],[1,\"#276419\"]],\"sequential\":[[0.0,\"#0d0887\"],[0.1111111111111111,\"#46039f\"],[0.2222222222222222,\"#7201a8\"],[0.3333333333333333,\"#9c179e\"],[0.4444444444444444,\"#bd3786\"],[0.5555555555555556,\"#d8576b\"],[0.6666666666666666,\"#ed7953\"],[0.7777777777777778,\"#fb9f3a\"],[0.8888888888888888,\"#fdca26\"],[1.0,\"#f0f921\"]],\"sequentialminus\":[[0.0,\"#0d0887\"],[0.1111111111111111,\"#46039f\"],[0.2222222222222222,\"#7201a8\"],[0.3333333333333333,\"#9c179e\"],[0.4444444444444444,\"#bd3786\"],[0.5555555555555556,\"#d8576b\"],[0.6666666666666666,\"#ed7953\"],[0.7777777777777778,\"#fb9f3a\"],[0.8888888888888888,\"#fdca26\"],[1.0,\"#f0f921\"]]},\"colorway\":[\"#636efa\",\"#EF553B\",\"#00cc96\",\"#ab63fa\",\"#FFA15A\",\"#19d3f3\",\"#FF6692\",\"#B6E880\",\"#FF97FF\",\"#FECB52\"],\"font\":{\"color\":\"#2a3f5f\"},\"geo\":{\"bgcolor\":\"white\",\"lakecolor\":\"white\",\"landcolor\":\"white\",\"showlakes\":true,\"showland\":true,\"subunitcolor\":\"#C8D4E3\"},\"hoverlabel\":{\"align\":\"left\"},\"hovermode\":\"closest\",\"mapbox\":{\"style\":\"light\"},\"paper_bgcolor\":\"white\",\"plot_bgcolor\":\"white\",\"polar\":{\"angularaxis\":{\"gridcolor\":\"#EBF0F8\",\"linecolor\":\"#EBF0F8\",\"ticks\":\"\"},\"bgcolor\":\"white\",\"radialaxis\":{\"gridcolor\":\"#EBF0F8\",\"linecolor\":\"#EBF0F8\",\"ticks\":\"\"}},\"scene\":{\"xaxis\":{\"backgroundcolor\":\"white\",\"gridcolor\":\"#DFE8F3\",\"gridwidth\":2,\"linecolor\":\"#EBF0F8\",\"showbackground\":true,\"ticks\":\"\",\"zerolinecolor\":\"#EBF0F8\"},\"yaxis\":{\"backgroundcolor\":\"white\",\"gridcolor\":\"#DFE8F3\",\"gridwidth\":2,\"linecolor\":\"#EBF0F8\",\"showbackground\":true,\"ticks\":\"\",\"zerolinecolor\":\"#EBF0F8\"},\"zaxis\":{\"backgroundcolor\":\"white\",\"gridcolor\":\"#DFE8F3\",\"gridwidth\":2,\"linecolor\":\"#EBF0F8\",\"showbackground\":true,\"ticks\":\"\",\"zerolinecolor\":\"#EBF0F8\"}},\"shapedefaults\":{\"line\":{\"color\":\"#2a3f5f\"}},\"ternary\":{\"aaxis\":{\"gridcolor\":\"#DFE8F3\",\"linecolor\":\"#A2B1C6\",\"ticks\":\"\"},\"baxis\":{\"gridcolor\":\"#DFE8F3\",\"linecolor\":\"#A2B1C6\",\"ticks\":\"\"},\"bgcolor\":\"white\",\"caxis\":{\"gridcolor\":\"#DFE8F3\",\"linecolor\":\"#A2B1C6\",\"ticks\":\"\"}},\"title\":{\"x\":0.05},\"xaxis\":{\"automargin\":true,\"gridcolor\":\"#EBF0F8\",\"linecolor\":\"#EBF0F8\",\"ticks\":\"\",\"title\":{\"standoff\":15},\"zerolinecolor\":\"#EBF0F8\",\"zerolinewidth\":2},\"yaxis\":{\"automargin\":true,\"gridcolor\":\"#EBF0F8\",\"linecolor\":\"#EBF0F8\",\"ticks\":\"\",\"title\":{\"standoff\":15},\"zerolinecolor\":\"#EBF0F8\",\"zerolinewidth\":2}}},\"xaxis\":{\"anchor\":\"y\",\"domain\":[0.0,0.175],\"showgrid\":true},\"yaxis\":{\"anchor\":\"x\",\"domain\":[0.6000000000000001,1.0],\"showgrid\":true},\"xaxis2\":{\"anchor\":\"y2\",\"domain\":[0.275,0.45],\"showgrid\":true},\"yaxis2\":{\"anchor\":\"x2\",\"domain\":[0.6000000000000001,1.0],\"showgrid\":true},\"xaxis3\":{\"anchor\":\"y3\",\"domain\":[0.55,0.7250000000000001],\"showgrid\":true},\"yaxis3\":{\"anchor\":\"x3\",\"domain\":[0.6000000000000001,1.0],\"showgrid\":true},\"xaxis4\":{\"anchor\":\"y4\",\"domain\":[0.825,1.0],\"showgrid\":true},\"yaxis4\":{\"anchor\":\"x4\",\"domain\":[0.6000000000000001,1.0],\"showgrid\":true},\"xaxis5\":{\"anchor\":\"y5\",\"domain\":[0.0,0.175],\"showgrid\":true},\"yaxis5\":{\"anchor\":\"x5\",\"domain\":[0.0,0.4],\"showgrid\":true},\"xaxis6\":{\"anchor\":\"y6\",\"domain\":[0.275,0.45],\"showgrid\":true},\"yaxis6\":{\"anchor\":\"x6\",\"domain\":[0.0,0.4],\"showgrid\":true},\"xaxis7\":{\"anchor\":\"y7\",\"domain\":[0.55,0.7250000000000001],\"showgrid\":true},\"yaxis7\":{\"anchor\":\"x7\",\"domain\":[0.0,0.4],\"showgrid\":true},\"xaxis8\":{\"anchor\":\"y8\",\"domain\":[0.825,1.0],\"showgrid\":true},\"yaxis8\":{\"anchor\":\"x8\",\"domain\":[0.0,0.4],\"showgrid\":true},\"annotations\":[{\"font\":{\"size\":16},\"showarrow\":false,\"text\":\"Topic 0\",\"x\":0.0875,\"xanchor\":\"center\",\"xref\":\"paper\",\"y\":1.0,\"yanchor\":\"bottom\",\"yref\":\"paper\"},{\"font\":{\"size\":16},\"showarrow\":false,\"text\":\"Topic 1\",\"x\":0.36250000000000004,\"xanchor\":\"center\",\"xref\":\"paper\",\"y\":1.0,\"yanchor\":\"bottom\",\"yref\":\"paper\"},{\"font\":{\"size\":16},\"showarrow\":false,\"text\":\"Topic 2\",\"x\":0.6375000000000001,\"xanchor\":\"center\",\"xref\":\"paper\",\"y\":1.0,\"yanchor\":\"bottom\",\"yref\":\"paper\"},{\"font\":{\"size\":16},\"showarrow\":false,\"text\":\"Topic 3\",\"x\":0.9125,\"xanchor\":\"center\",\"xref\":\"paper\",\"y\":1.0,\"yanchor\":\"bottom\",\"yref\":\"paper\"},{\"font\":{\"size\":16},\"showarrow\":false,\"text\":\"Topic 4\",\"x\":0.0875,\"xanchor\":\"center\",\"xref\":\"paper\",\"y\":0.4,\"yanchor\":\"bottom\",\"yref\":\"paper\"},{\"font\":{\"size\":16},\"showarrow\":false,\"text\":\"Topic 5\",\"x\":0.36250000000000004,\"xanchor\":\"center\",\"xref\":\"paper\",\"y\":0.4,\"yanchor\":\"bottom\",\"yref\":\"paper\"},{\"font\":{\"size\":16},\"showarrow\":false,\"text\":\"Topic 6\",\"x\":0.6375000000000001,\"xanchor\":\"center\",\"xref\":\"paper\",\"y\":0.4,\"yanchor\":\"bottom\",\"yref\":\"paper\"},{\"font\":{\"size\":16},\"showarrow\":false,\"text\":\"Topic 7\",\"x\":0.9125,\"xanchor\":\"center\",\"xref\":\"paper\",\"y\":0.4,\"yanchor\":\"bottom\",\"yref\":\"paper\"}],\"title\":{\"font\":{\"size\":22,\"color\":\"Black\"},\"text\":\"Topic Word Scores\",\"x\":0.5,\"xanchor\":\"center\",\"yanchor\":\"top\"},\"hoverlabel\":{\"font\":{\"size\":16,\"family\":\"Rockwell\"},\"bgcolor\":\"white\"},\"showlegend\":false,\"width\":1000,\"height\":500},                        {\"responsive\": true}                    )                };            </script>        </div>"
      ],
      "text/plain": [
       "Figure({\n",
       "    'data': [{'marker': {'color': '#D55E00'},\n",
       "              'orientation': 'h',\n",
       "              'type': 'bar',\n",
       "              'x': [0.009545645700112869, 0.01118375294159604,\n",
       "                    0.011928292597374893, 0.01525962392268128, 0.01569710823838691],\n",
       "              'xaxis': 'x',\n",
       "              'y': [stand  , great  , mic  , br  , guitar  ],\n",
       "              'yaxis': 'y'},\n",
       "             {'marker': {'color': '#0072B2'},\n",
       "              'orientation': 'h',\n",
       "              'type': 'bar',\n",
       "              'x': [0.027460633867001823, 0.03277732446282198,\n",
       "                    0.034341197828888795, 0.0408115120446199, 0.04994336089574864],\n",
       "              'xaxis': 'x2',\n",
       "              'y': [price  , product  , works  , good  , great  ],\n",
       "              'yaxis': 'y2'},\n",
       "             {'marker': {'color': '#CC79A7'},\n",
       "              'orientation': 'h',\n",
       "              'type': 'bar',\n",
       "              'x': [0.010063616390111831, 0.01045337688959433,\n",
       "                    0.012310476520186837, 0.01388862324373399,\n",
       "                    0.015722102226894356],\n",
       "              'xaxis': 'x3',\n",
       "              'y': [snowball  , just  , blue  , br  , arm  ],\n",
       "              'yaxis': 'y3'},\n",
       "             {'marker': {'color': '#E69F00'},\n",
       "              'orientation': 'h',\n",
       "              'type': 'bar',\n",
       "              'x': [0.017787254367481423, 0.01853940782269921,\n",
       "                    0.01863970324357754, 0.026050587539853204, 0.04197278736863602],\n",
       "              'xaxis': 'x4',\n",
       "              'y': [string  , cables  , winder  , strings  , cable  ],\n",
       "              'yaxis': 'y4'},\n",
       "             {'marker': {'color': '#56B4E9'},\n",
       "              'orientation': 'h',\n",
       "              'type': 'bar',\n",
       "              'x': [0.01708856932731578, 0.01999696614163756, 0.02472909064713726,\n",
       "                    0.02979160391481872, 0.07686661820992119],\n",
       "              'xaxis': 'x5',\n",
       "              'y': [piano  , power  , sustain  , pedals  , pedal  ],\n",
       "              'yaxis': 'y5'},\n",
       "             {'marker': {'color': '#009E73'},\n",
       "              'orientation': 'h',\n",
       "              'type': 'bar',\n",
       "              'x': [0.023843033527028427, 0.02736078504192631,\n",
       "                    0.04041526826931794, 0.044583514233293445, 0.1052421422938179],\n",
       "              'xaxis': 'x6',\n",
       "              'y': [beautiful  , sound  , singing bowl  , singing  , bowl  ],\n",
       "              'yaxis': 'y6'},\n",
       "             {'marker': {'color': '#F0E442'},\n",
       "              'orientation': 'h',\n",
       "              'type': 'bar',\n",
       "              'x': [0.07272701070506411, 0.09554754589208458, 0.14448854297058855,\n",
       "                    0.1483853020186058, 0.2257123448619174],\n",
       "              'xaxis': 'x7',\n",
       "              'y': [son  , loved  , love love  , loves  , love  ],\n",
       "              'yaxis': 'y7'},\n",
       "             {'marker': {'color': '#D55E00'},\n",
       "              'orientation': 'h',\n",
       "              'type': 'bar',\n",
       "              'x': [0.0301646867103515, 0.031546077110754495, 0.03405788461463263,\n",
       "                    0.05558468141730687, 0.12541020229711625],\n",
       "              'xaxis': 'x8',\n",
       "              'y': [good  , pack  , pick  , variety  , picks  ],\n",
       "              'yaxis': 'y8'}],\n",
       "    'layout': {'annotations': [{'font': {'size': 16},\n",
       "                                'showarrow': False,\n",
       "                                'text': 'Topic 0',\n",
       "                                'x': 0.0875,\n",
       "                                'xanchor': 'center',\n",
       "                                'xref': 'paper',\n",
       "                                'y': 1.0,\n",
       "                                'yanchor': 'bottom',\n",
       "                                'yref': 'paper'},\n",
       "                               {'font': {'size': 16},\n",
       "                                'showarrow': False,\n",
       "                                'text': 'Topic 1',\n",
       "                                'x': 0.36250000000000004,\n",
       "                                'xanchor': 'center',\n",
       "                                'xref': 'paper',\n",
       "                                'y': 1.0,\n",
       "                                'yanchor': 'bottom',\n",
       "                                'yref': 'paper'},\n",
       "                               {'font': {'size': 16},\n",
       "                                'showarrow': False,\n",
       "                                'text': 'Topic 2',\n",
       "                                'x': 0.6375000000000001,\n",
       "                                'xanchor': 'center',\n",
       "                                'xref': 'paper',\n",
       "                                'y': 1.0,\n",
       "                                'yanchor': 'bottom',\n",
       "                                'yref': 'paper'},\n",
       "                               {'font': {'size': 16},\n",
       "                                'showarrow': False,\n",
       "                                'text': 'Topic 3',\n",
       "                                'x': 0.9125,\n",
       "                                'xanchor': 'center',\n",
       "                                'xref': 'paper',\n",
       "                                'y': 1.0,\n",
       "                                'yanchor': 'bottom',\n",
       "                                'yref': 'paper'},\n",
       "                               {'font': {'size': 16},\n",
       "                                'showarrow': False,\n",
       "                                'text': 'Topic 4',\n",
       "                                'x': 0.0875,\n",
       "                                'xanchor': 'center',\n",
       "                                'xref': 'paper',\n",
       "                                'y': 0.4,\n",
       "                                'yanchor': 'bottom',\n",
       "                                'yref': 'paper'},\n",
       "                               {'font': {'size': 16},\n",
       "                                'showarrow': False,\n",
       "                                'text': 'Topic 5',\n",
       "                                'x': 0.36250000000000004,\n",
       "                                'xanchor': 'center',\n",
       "                                'xref': 'paper',\n",
       "                                'y': 0.4,\n",
       "                                'yanchor': 'bottom',\n",
       "                                'yref': 'paper'},\n",
       "                               {'font': {'size': 16},\n",
       "                                'showarrow': False,\n",
       "                                'text': 'Topic 6',\n",
       "                                'x': 0.6375000000000001,\n",
       "                                'xanchor': 'center',\n",
       "                                'xref': 'paper',\n",
       "                                'y': 0.4,\n",
       "                                'yanchor': 'bottom',\n",
       "                                'yref': 'paper'},\n",
       "                               {'font': {'size': 16},\n",
       "                                'showarrow': False,\n",
       "                                'text': 'Topic 7',\n",
       "                                'x': 0.9125,\n",
       "                                'xanchor': 'center',\n",
       "                                'xref': 'paper',\n",
       "                                'y': 0.4,\n",
       "                                'yanchor': 'bottom',\n",
       "                                'yref': 'paper'}],\n",
       "               'height': 500,\n",
       "               'hoverlabel': {'bgcolor': 'white', 'font': {'family': 'Rockwell', 'size': 16}},\n",
       "               'showlegend': False,\n",
       "               'template': '...',\n",
       "               'title': {'font': {'color': 'Black', 'size': 22},\n",
       "                         'text': 'Topic Word Scores',\n",
       "                         'x': 0.5,\n",
       "                         'xanchor': 'center',\n",
       "                         'yanchor': 'top'},\n",
       "               'width': 1000,\n",
       "               'xaxis': {'anchor': 'y', 'domain': [0.0, 0.175], 'showgrid': True},\n",
       "               'xaxis2': {'anchor': 'y2', 'domain': [0.275, 0.45], 'showgrid': True},\n",
       "               'xaxis3': {'anchor': 'y3', 'domain': [0.55, 0.7250000000000001], 'showgrid': True},\n",
       "               'xaxis4': {'anchor': 'y4', 'domain': [0.825, 1.0], 'showgrid': True},\n",
       "               'xaxis5': {'anchor': 'y5', 'domain': [0.0, 0.175], 'showgrid': True},\n",
       "               'xaxis6': {'anchor': 'y6', 'domain': [0.275, 0.45], 'showgrid': True},\n",
       "               'xaxis7': {'anchor': 'y7', 'domain': [0.55, 0.7250000000000001], 'showgrid': True},\n",
       "               'xaxis8': {'anchor': 'y8', 'domain': [0.825, 1.0], 'showgrid': True},\n",
       "               'yaxis': {'anchor': 'x', 'domain': [0.6000000000000001, 1.0], 'showgrid': True},\n",
       "               'yaxis2': {'anchor': 'x2', 'domain': [0.6000000000000001, 1.0], 'showgrid': True},\n",
       "               'yaxis3': {'anchor': 'x3', 'domain': [0.6000000000000001, 1.0], 'showgrid': True},\n",
       "               'yaxis4': {'anchor': 'x4', 'domain': [0.6000000000000001, 1.0], 'showgrid': True},\n",
       "               'yaxis5': {'anchor': 'x5', 'domain': [0.0, 0.4], 'showgrid': True},\n",
       "               'yaxis6': {'anchor': 'x6', 'domain': [0.0, 0.4], 'showgrid': True},\n",
       "               'yaxis7': {'anchor': 'x7', 'domain': [0.0, 0.4], 'showgrid': True},\n",
       "               'yaxis8': {'anchor': 'x8', 'domain': [0.0, 0.4], 'showgrid': True}}\n",
       "})"
      ]
     },
     "execution_count": 28,
     "metadata": {},
     "output_type": "execute_result"
    }
   ],
   "source": [
    "## Visualize\n",
    "model.visualize_topics()\n",
    "\n",
    "model.visualize_barchart()"
   ]
  },
  {
   "cell_type": "code",
   "execution_count": 29,
   "metadata": {
    "id": "GPMRiE48caZr"
   },
   "outputs": [
    {
     "name": "stdout",
     "output_type": "stream",
     "text": [
      "             0         1              0         1              0         1  \\\n",
      "0       guitar  0.015697          great  0.049943            arm  0.015722   \n",
      "1           br  0.015260           good  0.040812             br  0.013889   \n",
      "2          mic  0.011928          works  0.034341           blue  0.012310   \n",
      "3        great  0.011184        product  0.032777           just  0.010453   \n",
      "4        stand  0.009546          price  0.027461       snowball  0.010064   \n",
      "5          use  0.009088           easy  0.021508          works  0.009349   \n",
      "6        sound  0.008924    works great  0.021114           desk  0.009134   \n",
      "7         good  0.008281        quality  0.019641            use  0.009104   \n",
      "8         just  0.008224  great product  0.017708        product  0.008917   \n",
      "9        br br  0.007782           nice  0.016625           yeti  0.008169   \n",
      "10  microphone  0.007545        perfect  0.015812          great  0.008069   \n",
      "11        like  0.007297         sturdy  0.015440          stand  0.007462   \n",
      "12    keyboard  0.007009      excellent  0.012766      fretboard  0.007420   \n",
      "13       works  0.006969          stand  0.012397           like  0.007399   \n",
      "14     quality  0.006905            use  0.011618          clamp  0.007371   \n",
      "15        easy  0.006703   good product  0.010783  blue snowball  0.007236   \n",
      "16       price  0.006385   good quality  0.010294           work  0.007185   \n",
      "17       tuner  0.006364       easy use  0.010184           good  0.007085   \n",
      "18      bought  0.005917           fast  0.009803         little  0.006972   \n",
      "19      really  0.005825           love  0.009572          br br  0.006972   \n",
      "\n",
      "          0         1  \n",
      "0     cable  0.041973  \n",
      "1   strings  0.026051  \n",
      "2    winder  0.018640  \n",
      "3    cables  0.018539  \n",
      "4    string  0.017787  \n",
      "5     great  0.016338  \n",
      "6       bow  0.015446  \n",
      "7      cord  0.014579  \n",
      "8      good  0.012888  \n",
      "9    cutter  0.012767  \n",
      "10  quality  0.012150  \n",
      "11       br  0.011525  \n",
      "12     tool  0.010243  \n",
      "13     like  0.008676  \n",
      "14       ve  0.008555  \n",
      "15   puller  0.008296  \n",
      "16    price  0.008065  \n",
      "17    works  0.007939  \n",
      "18      use  0.007913  \n",
      "19     just  0.007879  \n"
     ]
    }
   ],
   "source": [
    "df0 = pd.DataFrame(model.get_topic(0))\n",
    "df1 = pd.DataFrame(model.get_topic(1))\n",
    "df2 = pd.DataFrame(model.get_topic(2))\n",
    "df3 = pd.DataFrame(model.get_topic(3))\n",
    "\n",
    "\n",
    "\n",
    "# 將所有的 DataFrame 放入列表中\n",
    "dataframes = [df0, df1, df2, df3]\n",
    "\n",
    "# 使用 for 迴圈合併 DataFrame\n",
    "combined_df = pd.concat([df for df in dataframes], axis=1)\n",
    "print(combined_df)"
   ]
  },
  {
   "cell_type": "code",
   "execution_count": 1,
   "metadata": {
    "id": "wajWqwB5cdjy"
   },
   "outputs": [
    {
     "ename": "NameError",
     "evalue": "name 'combined_df' is not defined",
     "output_type": "error",
     "traceback": [
      "\u001b[1;31m---------------------------------------------------------------------------\u001b[0m",
      "\u001b[1;31mNameError\u001b[0m                                 Traceback (most recent call last)",
      "Cell \u001b[1;32mIn[1], line 1\u001b[0m\n\u001b[1;32m----> 1\u001b[0m \u001b[43mcombined_df\u001b[49m\u001b[38;5;241m.\u001b[39mto_excel(\u001b[38;5;124m\"\u001b[39m\u001b[38;5;124mC:/Users/a0938/Desktop/專題/程式/500筆評論最後.xlsx\u001b[39m\u001b[38;5;124m\"\u001b[39m, engine\u001b[38;5;241m=\u001b[39m\u001b[38;5;124m\"\u001b[39m\u001b[38;5;124mxlsxwriter\u001b[39m\u001b[38;5;124m\"\u001b[39m)\n",
      "\u001b[1;31mNameError\u001b[0m: name 'combined_df' is not defined"
     ]
    }
   ],
   "source": [
    "combined_df.to_excel(\"C:/Users/a0938/Desktop/專題/程式/500筆評論最後.xlsx\", engine=\"xlsxwriter\")"
   ]
  },
  {
   "cell_type": "code",
   "execution_count": null,
   "metadata": {},
   "outputs": [
    {
     "data": {
      "text/html": [
       "<div>\n",
       "<style scoped>\n",
       "    .dataframe tbody tr th:only-of-type {\n",
       "        vertical-align: middle;\n",
       "    }\n",
       "\n",
       "    .dataframe tbody tr th {\n",
       "        vertical-align: top;\n",
       "    }\n",
       "\n",
       "    .dataframe thead th {\n",
       "        text-align: right;\n",
       "    }\n",
       "</style>\n",
       "<table border=\"1\" class=\"dataframe\">\n",
       "  <thead>\n",
       "    <tr style=\"text-align: right;\">\n",
       "      <th></th>\n",
       "      <th>reviewerID</th>\n",
       "      <th>(Guitars &amp; Bass)</th>\n",
       "      <th>(Miscellaneous Instruments &amp; Accessories)</th>\n",
       "      <th>(Band &amp; Orchestra, Wind &amp; Woodwind Instruments)</th>\n",
       "      <th>(Live Sound, Studio Recording)</th>\n",
       "      <th>(Amplifiers &amp; Effects)</th>\n",
       "      <th>(Keyboards &amp; MIDI)</th>\n",
       "      <th>(Microphones &amp; Accessories)</th>\n",
       "      <th>(Drums &amp; Percussion)</th>\n",
       "    </tr>\n",
       "  </thead>\n",
       "  <tbody>\n",
       "    <tr>\n",
       "      <th>0</th>\n",
       "      <td>A0319772GS3FXLLFSOZ8</td>\n",
       "      <td>1</td>\n",
       "      <td>0</td>\n",
       "      <td>0</td>\n",
       "      <td>0</td>\n",
       "      <td>0</td>\n",
       "      <td>0</td>\n",
       "      <td>0</td>\n",
       "      <td>0</td>\n",
       "    </tr>\n",
       "    <tr>\n",
       "      <th>1</th>\n",
       "      <td>A0538326NBPKF5HIMW2B</td>\n",
       "      <td>1</td>\n",
       "      <td>0</td>\n",
       "      <td>0</td>\n",
       "      <td>0</td>\n",
       "      <td>0</td>\n",
       "      <td>0</td>\n",
       "      <td>0</td>\n",
       "      <td>0</td>\n",
       "    </tr>\n",
       "    <tr>\n",
       "      <th>2</th>\n",
       "      <td>A101ST964VHFYJ</td>\n",
       "      <td>1</td>\n",
       "      <td>0</td>\n",
       "      <td>0</td>\n",
       "      <td>0</td>\n",
       "      <td>0</td>\n",
       "      <td>0</td>\n",
       "      <td>0</td>\n",
       "      <td>0</td>\n",
       "    </tr>\n",
       "    <tr>\n",
       "      <th>3</th>\n",
       "      <td>A1022R52JDJVMA</td>\n",
       "      <td>3</td>\n",
       "      <td>4</td>\n",
       "      <td>0</td>\n",
       "      <td>0</td>\n",
       "      <td>1</td>\n",
       "      <td>0</td>\n",
       "      <td>0</td>\n",
       "      <td>0</td>\n",
       "    </tr>\n",
       "    <tr>\n",
       "      <th>4</th>\n",
       "      <td>A102EXIR8MWSNW</td>\n",
       "      <td>1</td>\n",
       "      <td>0</td>\n",
       "      <td>0</td>\n",
       "      <td>0</td>\n",
       "      <td>0</td>\n",
       "      <td>0</td>\n",
       "      <td>0</td>\n",
       "      <td>0</td>\n",
       "    </tr>\n",
       "    <tr>\n",
       "      <th>...</th>\n",
       "      <td>...</td>\n",
       "      <td>...</td>\n",
       "      <td>...</td>\n",
       "      <td>...</td>\n",
       "      <td>...</td>\n",
       "      <td>...</td>\n",
       "      <td>...</td>\n",
       "      <td>...</td>\n",
       "      <td>...</td>\n",
       "    </tr>\n",
       "    <tr>\n",
       "      <th>7258</th>\n",
       "      <td>AZTXXW9VR0KHW</td>\n",
       "      <td>1</td>\n",
       "      <td>0</td>\n",
       "      <td>0</td>\n",
       "      <td>0</td>\n",
       "      <td>0</td>\n",
       "      <td>0</td>\n",
       "      <td>0</td>\n",
       "      <td>0</td>\n",
       "    </tr>\n",
       "    <tr>\n",
       "      <th>7259</th>\n",
       "      <td>AZUWEZ2APVM28</td>\n",
       "      <td>1</td>\n",
       "      <td>1</td>\n",
       "      <td>0</td>\n",
       "      <td>0</td>\n",
       "      <td>1</td>\n",
       "      <td>0</td>\n",
       "      <td>0</td>\n",
       "      <td>0</td>\n",
       "    </tr>\n",
       "    <tr>\n",
       "      <th>7260</th>\n",
       "      <td>AZVTBBR3K1T13</td>\n",
       "      <td>1</td>\n",
       "      <td>0</td>\n",
       "      <td>0</td>\n",
       "      <td>0</td>\n",
       "      <td>0</td>\n",
       "      <td>0</td>\n",
       "      <td>0</td>\n",
       "      <td>0</td>\n",
       "    </tr>\n",
       "    <tr>\n",
       "      <th>7261</th>\n",
       "      <td>AZWK7WX2A0RXS</td>\n",
       "      <td>1</td>\n",
       "      <td>0</td>\n",
       "      <td>0</td>\n",
       "      <td>0</td>\n",
       "      <td>0</td>\n",
       "      <td>0</td>\n",
       "      <td>0</td>\n",
       "      <td>0</td>\n",
       "    </tr>\n",
       "    <tr>\n",
       "      <th>7262</th>\n",
       "      <td>AZYZKLJW4KJTM</td>\n",
       "      <td>2</td>\n",
       "      <td>0</td>\n",
       "      <td>0</td>\n",
       "      <td>0</td>\n",
       "      <td>0</td>\n",
       "      <td>0</td>\n",
       "      <td>0</td>\n",
       "      <td>0</td>\n",
       "    </tr>\n",
       "  </tbody>\n",
       "</table>\n",
       "<p>7263 rows × 9 columns</p>\n",
       "</div>"
      ],
      "text/plain": [
       "                reviewerID  (Guitars & Bass)  \\\n",
       "0     A0319772GS3FXLLFSOZ8                 1   \n",
       "1     A0538326NBPKF5HIMW2B                 1   \n",
       "2           A101ST964VHFYJ                 1   \n",
       "3           A1022R52JDJVMA                 3   \n",
       "4           A102EXIR8MWSNW                 1   \n",
       "...                    ...               ...   \n",
       "7258         AZTXXW9VR0KHW                 1   \n",
       "7259         AZUWEZ2APVM28                 1   \n",
       "7260         AZVTBBR3K1T13                 1   \n",
       "7261         AZWK7WX2A0RXS                 1   \n",
       "7262         AZYZKLJW4KJTM                 2   \n",
       "\n",
       "      (Miscellaneous Instruments & Accessories)  \\\n",
       "0                                             0   \n",
       "1                                             0   \n",
       "2                                             0   \n",
       "3                                             4   \n",
       "4                                             0   \n",
       "...                                         ...   \n",
       "7258                                          0   \n",
       "7259                                          1   \n",
       "7260                                          0   \n",
       "7261                                          0   \n",
       "7262                                          0   \n",
       "\n",
       "      (Band & Orchestra, Wind & Woodwind Instruments)  \\\n",
       "0                                                   0   \n",
       "1                                                   0   \n",
       "2                                                   0   \n",
       "3                                                   0   \n",
       "4                                                   0   \n",
       "...                                               ...   \n",
       "7258                                                0   \n",
       "7259                                                0   \n",
       "7260                                                0   \n",
       "7261                                                0   \n",
       "7262                                                0   \n",
       "\n",
       "      (Live Sound, Studio Recording)   (Amplifiers & Effects)  \\\n",
       "0                                  0                        0   \n",
       "1                                  0                        0   \n",
       "2                                  0                        0   \n",
       "3                                  0                        1   \n",
       "4                                  0                        0   \n",
       "...                              ...                      ...   \n",
       "7258                               0                        0   \n",
       "7259                               0                        1   \n",
       "7260                               0                        0   \n",
       "7261                               0                        0   \n",
       "7262                               0                        0   \n",
       "\n",
       "      (Keyboards & MIDI)  (Microphones & Accessories)  (Drums & Percussion)  \n",
       "0                      0                            0                     0  \n",
       "1                      0                            0                     0  \n",
       "2                      0                            0                     0  \n",
       "3                      0                            0                     0  \n",
       "4                      0                            0                     0  \n",
       "...                  ...                          ...                   ...  \n",
       "7258                   0                            0                     0  \n",
       "7259                   0                            0                     0  \n",
       "7260                   0                            0                     0  \n",
       "7261                   0                            0                     0  \n",
       "7262                   0                            0                     0  \n",
       "\n",
       "[7263 rows x 9 columns]"
      ]
     },
     "execution_count": 6,
     "metadata": {},
     "output_type": "execute_result"
    }
   ],
   "source": [
    "df1"
   ]
  },
  {
   "cell_type": "code",
   "execution_count": null,
   "metadata": {},
   "outputs": [
    {
     "data": {
      "text/html": [
       "<div>\n",
       "<style scoped>\n",
       "    .dataframe tbody tr th:only-of-type {\n",
       "        vertical-align: middle;\n",
       "    }\n",
       "\n",
       "    .dataframe tbody tr th {\n",
       "        vertical-align: top;\n",
       "    }\n",
       "\n",
       "    .dataframe thead th {\n",
       "        text-align: right;\n",
       "    }\n",
       "</style>\n",
       "<table border=\"1\" class=\"dataframe\">\n",
       "  <thead>\n",
       "    <tr style=\"text-align: right;\">\n",
       "      <th></th>\n",
       "      <th>Unnamed: 0</th>\n",
       "      <th>asin</th>\n",
       "      <th>reviewerID</th>\n",
       "      <th>reviewText</th>\n",
       "      <th>rank</th>\n",
       "      <th>0</th>\n",
       "      <th>1</th>\n",
       "      <th>2</th>\n",
       "      <th>3</th>\n",
       "    </tr>\n",
       "  </thead>\n",
       "  <tbody>\n",
       "    <tr>\n",
       "      <th>0</th>\n",
       "      <td>0</td>\n",
       "      <td>B00Q7WU7LC</td>\n",
       "      <td>A299XFV0LPNYX</td>\n",
       "      <td>So I was extremely excited to try out this pro...</td>\n",
       "      <td>1</td>\n",
       "      <td>1.858845e-01</td>\n",
       "      <td>0.001615</td>\n",
       "      <td>2.797556e-02</td>\n",
       "      <td>1.475166e-02</td>\n",
       "    </tr>\n",
       "    <tr>\n",
       "      <th>1</th>\n",
       "      <td>1</td>\n",
       "      <td>B00Q7WU7LC</td>\n",
       "      <td>A2JLIBNAM9T8RT</td>\n",
       "      <td>Very fun to play.</td>\n",
       "      <td>1</td>\n",
       "      <td>8.479535e-02</td>\n",
       "      <td>0.024685</td>\n",
       "      <td>8.820343e-02</td>\n",
       "      <td>1.154049e-01</td>\n",
       "    </tr>\n",
       "    <tr>\n",
       "      <th>2</th>\n",
       "      <td>2</td>\n",
       "      <td>B00Q7WU7LC</td>\n",
       "      <td>AAFV7NP2QUTD7</td>\n",
       "      <td>Arrived quickly, and works very well. My son l...</td>\n",
       "      <td>1</td>\n",
       "      <td>8.819580e-02</td>\n",
       "      <td>0.035961</td>\n",
       "      <td>7.938627e-02</td>\n",
       "      <td>6.374901e-02</td>\n",
       "    </tr>\n",
       "    <tr>\n",
       "      <th>3</th>\n",
       "      <td>3</td>\n",
       "      <td>B00Q7WU7LC</td>\n",
       "      <td>A33D17C5D6T70R</td>\n",
       "      <td>Got it and I love it! The sound truely is uniq...</td>\n",
       "      <td>1</td>\n",
       "      <td>4.409584e-306</td>\n",
       "      <td>1.000000</td>\n",
       "      <td>4.746937e-306</td>\n",
       "      <td>4.382001e-306</td>\n",
       "    </tr>\n",
       "    <tr>\n",
       "      <th>4</th>\n",
       "      <td>4</td>\n",
       "      <td>B00Q7WU7LC</td>\n",
       "      <td>A2H571TGPPT8VG</td>\n",
       "      <td>No sound  soon as I turned on. It wasn't even ...</td>\n",
       "      <td>1</td>\n",
       "      <td>5.018088e-01</td>\n",
       "      <td>0.006358</td>\n",
       "      <td>1.024846e-01</td>\n",
       "      <td>5.875513e-02</td>\n",
       "    </tr>\n",
       "    <tr>\n",
       "      <th>...</th>\n",
       "      <td>...</td>\n",
       "      <td>...</td>\n",
       "      <td>...</td>\n",
       "      <td>...</td>\n",
       "      <td>...</td>\n",
       "      <td>...</td>\n",
       "      <td>...</td>\n",
       "      <td>...</td>\n",
       "      <td>...</td>\n",
       "    </tr>\n",
       "    <tr>\n",
       "      <th>9995</th>\n",
       "      <td>10012</td>\n",
       "      <td>B000XI6O2W</td>\n",
       "      <td>A3GRD02278USG3</td>\n",
       "      <td>So far so good. Used these the other night and...</td>\n",
       "      <td>6</td>\n",
       "      <td>1.113172e-01</td>\n",
       "      <td>0.015733</td>\n",
       "      <td>1.701014e-01</td>\n",
       "      <td>3.952551e-01</td>\n",
       "    </tr>\n",
       "    <tr>\n",
       "      <th>9996</th>\n",
       "      <td>10013</td>\n",
       "      <td>B000XI6O2W</td>\n",
       "      <td>A2SWZHXXX4N7FU</td>\n",
       "      <td>Good sound, bought as replacement mic for kara...</td>\n",
       "      <td>6</td>\n",
       "      <td>1.166763e-01</td>\n",
       "      <td>0.019713</td>\n",
       "      <td>8.019227e-02</td>\n",
       "      <td>7.658764e-02</td>\n",
       "    </tr>\n",
       "    <tr>\n",
       "      <th>9997</th>\n",
       "      <td>10014</td>\n",
       "      <td>B000XI6O2W</td>\n",
       "      <td>A23YGJWPJ7JEQ1</td>\n",
       "      <td>Works perfectly with our karaoke Singing Machi...</td>\n",
       "      <td>6</td>\n",
       "      <td>7.682653e-02</td>\n",
       "      <td>0.013825</td>\n",
       "      <td>5.392544e-02</td>\n",
       "      <td>5.042198e-02</td>\n",
       "    </tr>\n",
       "    <tr>\n",
       "      <th>9998</th>\n",
       "      <td>10015</td>\n",
       "      <td>B000XI6O2W</td>\n",
       "      <td>A2BX8X6FJALEDX</td>\n",
       "      <td>Inexpesive but good mic, great sound with smal...</td>\n",
       "      <td>6</td>\n",
       "      <td>1.205703e-01</td>\n",
       "      <td>0.020590</td>\n",
       "      <td>8.307473e-02</td>\n",
       "      <td>7.882337e-02</td>\n",
       "    </tr>\n",
       "    <tr>\n",
       "      <th>9999</th>\n",
       "      <td>10016</td>\n",
       "      <td>B000XI6O2W</td>\n",
       "      <td>A2AEKQNZ8Z3XMB</td>\n",
       "      <td>Unfortunately this microphone doesn't work, ve...</td>\n",
       "      <td>6</td>\n",
       "      <td>2.015175e-01</td>\n",
       "      <td>0.001706</td>\n",
       "      <td>2.773564e-02</td>\n",
       "      <td>1.536452e-02</td>\n",
       "    </tr>\n",
       "  </tbody>\n",
       "</table>\n",
       "<p>10000 rows × 9 columns</p>\n",
       "</div>"
      ],
      "text/plain": [
       "      Unnamed: 0        asin      reviewerID  \\\n",
       "0              0  B00Q7WU7LC   A299XFV0LPNYX   \n",
       "1              1  B00Q7WU7LC  A2JLIBNAM9T8RT   \n",
       "2              2  B00Q7WU7LC   AAFV7NP2QUTD7   \n",
       "3              3  B00Q7WU7LC  A33D17C5D6T70R   \n",
       "4              4  B00Q7WU7LC  A2H571TGPPT8VG   \n",
       "...          ...         ...             ...   \n",
       "9995       10012  B000XI6O2W  A3GRD02278USG3   \n",
       "9996       10013  B000XI6O2W  A2SWZHXXX4N7FU   \n",
       "9997       10014  B000XI6O2W  A23YGJWPJ7JEQ1   \n",
       "9998       10015  B000XI6O2W  A2BX8X6FJALEDX   \n",
       "9999       10016  B000XI6O2W  A2AEKQNZ8Z3XMB   \n",
       "\n",
       "                                             reviewText  rank              0  \\\n",
       "0     So I was extremely excited to try out this pro...     1   1.858845e-01   \n",
       "1                                     Very fun to play.     1   8.479535e-02   \n",
       "2     Arrived quickly, and works very well. My son l...     1   8.819580e-02   \n",
       "3     Got it and I love it! The sound truely is uniq...     1  4.409584e-306   \n",
       "4     No sound  soon as I turned on. It wasn't even ...     1   5.018088e-01   \n",
       "...                                                 ...   ...            ...   \n",
       "9995  So far so good. Used these the other night and...     6   1.113172e-01   \n",
       "9996  Good sound, bought as replacement mic for kara...     6   1.166763e-01   \n",
       "9997  Works perfectly with our karaoke Singing Machi...     6   7.682653e-02   \n",
       "9998  Inexpesive but good mic, great sound with smal...     6   1.205703e-01   \n",
       "9999  Unfortunately this microphone doesn't work, ve...     6   2.015175e-01   \n",
       "\n",
       "             1              2              3  \n",
       "0     0.001615   2.797556e-02   1.475166e-02  \n",
       "1     0.024685   8.820343e-02   1.154049e-01  \n",
       "2     0.035961   7.938627e-02   6.374901e-02  \n",
       "3     1.000000  4.746937e-306  4.382001e-306  \n",
       "4     0.006358   1.024846e-01   5.875513e-02  \n",
       "...        ...            ...            ...  \n",
       "9995  0.015733   1.701014e-01   3.952551e-01  \n",
       "9996  0.019713   8.019227e-02   7.658764e-02  \n",
       "9997  0.013825   5.392544e-02   5.042198e-02  \n",
       "9998  0.020590   8.307473e-02   7.882337e-02  \n",
       "9999  0.001706   2.773564e-02   1.536452e-02  \n",
       "\n",
       "[10000 rows x 9 columns]"
      ]
     },
     "execution_count": 7,
     "metadata": {},
     "output_type": "execute_result"
    }
   ],
   "source": [
    "df2"
   ]
  },
  {
   "cell_type": "code",
   "execution_count": null,
   "metadata": {},
   "outputs": [],
   "source": [
    "import pandas as pd\n",
    "df1 = pd.read_excel(\"500產品詳細資訊.xlsx\")\n",
    "df2 = pd.read_excel(\"500筆評論與評論者 (1).xlsx\")\n",
    "df3=df2.merge(df1,on='asin',how='left')"
   ]
  },
  {
   "cell_type": "code",
   "execution_count": null,
   "metadata": {},
   "outputs": [],
   "source": [
    "df3.to_excel(\"C:/Users/a0938/Desktop/專題/程式/完整資料.xlsx\", engine=\"xlsxwriter\")"
   ]
  },
  {
   "cell_type": "code",
   "execution_count": 2,
   "metadata": {},
   "outputs": [
    {
     "name": "stdout",
     "output_type": "stream",
     "text": [
      "Collecting textblob\n",
      "  Downloading textblob-0.19.0-py3-none-any.whl (624 kB)\n",
      "     -------------------------------------- 624.3/624.3 KB 3.6 MB/s eta 0:00:00\n",
      "Collecting nltk>=3.9\n",
      "  Downloading nltk-3.9.1-py3-none-any.whl (1.5 MB)\n",
      "     ---------------------------------------- 1.5/1.5 MB 15.9 MB/s eta 0:00:00\n",
      "Requirement already satisfied: regex>=2021.8.3 in c:\\users\\a0938\\appdata\\local\\programs\\python\\python39\\lib\\site-packages (from nltk>=3.9->textblob) (2024.11.6)\n",
      "Requirement already satisfied: tqdm in c:\\users\\a0938\\appdata\\local\\programs\\python\\python39\\lib\\site-packages (from nltk>=3.9->textblob) (4.67.1)\n",
      "Collecting click\n",
      "  Downloading click-8.1.8-py3-none-any.whl (98 kB)\n",
      "     ---------------------------------------- 98.2/98.2 KB ? eta 0:00:00\n",
      "Requirement already satisfied: joblib in c:\\users\\a0938\\appdata\\local\\programs\\python\\python39\\lib\\site-packages (from nltk>=3.9->textblob) (1.4.2)\n",
      "Requirement already satisfied: colorama in c:\\users\\a0938\\appdata\\roaming\\python\\python39\\site-packages (from click->nltk>=3.9->textblob) (0.4.6)\n",
      "Installing collected packages: click, nltk, textblob\n",
      "Successfully installed click-8.1.8 nltk-3.9.1 textblob-0.19.0\n",
      "Note: you may need to restart the kernel to use updated packages.\n"
     ]
    },
    {
     "name": "stderr",
     "output_type": "stream",
     "text": [
      "WARNING: You are using pip version 22.0.4; however, version 25.0.1 is available.\n",
      "You should consider upgrading via the 'c:\\Users\\a0938\\AppData\\Local\\Programs\\Python\\Python39\\python.exe -m pip install --upgrade pip' command.\n"
     ]
    }
   ],
   "source": [
    "pip install textblob"
   ]
  },
  {
   "cell_type": "code",
   "execution_count": 7,
   "metadata": {},
   "outputs": [
    {
     "name": "stdout",
     "output_type": "stream",
     "text": [
      "         asin  average_rating  price  rating  \\\n",
      "0  B010MQMAVI             4.5  77.79     5.0   \n",
      "1  B010MQMAVI             4.5  77.79     5.0   \n",
      "2  B010MQMAVI             4.5  77.79     5.0   \n",
      "3  B010MQMAVI             4.5  77.79     5.0   \n",
      "4  B010MQMAVI             4.5  77.79     5.0   \n",
      "\n",
      "                                                text parent_asin_x  \\\n",
      "0  I'm only a novice so my experience with bows i...    B07K6PTRMV   \n",
      "1  This is an excellent cello bow.  Very fine des...    B07K6PTRMV   \n",
      "2  My son loves this bow.  It's his 3rd Fiddlerma...    B07K6PTRMV   \n",
      "3  This bow was recommended to me by a cello teac...    B07K6PTRMV   \n",
      "4  This bow is really great for the price!! I tri...    B07K6PTRMV   \n",
      "\n",
      "                        user_id        Topic 1        Topic 2        Topic 3  \\\n",
      "0  AGUBPYSAXZOCF7JW3XOFNNLYE4CA   7.712078e-02   9.425542e-02   2.956491e-02   \n",
      "1  AFG6X53Q5BJTSLXI7SNJZV5NNF3A  1.039359e-304  1.269710e-304  3.985149e-305   \n",
      "2  AEBE6YU3OIFFYDHQUNQOSIDSMCJA   1.234181e-01   1.508614e-01   4.731245e-02   \n",
      "3  AGH35RQXDE26IOJOJ5QEDB75SEVA  1.039238e-304  1.269561e-304  3.984478e-305   \n",
      "4  AHH3TN725NBCD6LH5IGUBMFP4CPQ  1.036308e-304  1.267565e-304  3.971765e-305   \n",
      "\n",
      "    Topic 4 parent_asin_y  rank  \\\n",
      "0  0.765928    B07K6PTRMV     1   \n",
      "1  1.000000    B07K6PTRMV     1   \n",
      "2  0.625389    B07K6PTRMV     1   \n",
      "3  1.000000    B07K6PTRMV     1   \n",
      "4  1.000000    B07K6PTRMV     1   \n",
      "\n",
      "                                        cleaned_text  sentiment_score  \\\n",
      "0  Im only a novice so my experience with bows qu...         0.248016   \n",
      "1  This an excellent cello bow Very fine design b...         0.533750   \n",
      "2  My son loves this bow Its his 3rd Fiddlerman C...         0.325000   \n",
      "3  This bow was recommended me by a cello teacher...         0.271429   \n",
      "4  This bow really great price I tried some other...         0.147917   \n",
      "\n",
      "  sentiment_label  \n",
      "0        Positive  \n",
      "1        Positive  \n",
      "2        Positive  \n",
      "3        Positive  \n",
      "4        Positive  \n",
      "新增 sentiment_score 與 sentiment_label 欄位完成，並已輸出至檔案 amazon_music_reviews_with_sentiment.csv\n"
     ]
    }
   ],
   "source": [
    "# sentiment_analysis.py\n",
    "import re\n",
    "import pandas as pd\n",
    "from textblob import TextBlob\n",
    "\n",
    "# 1. 讀取 CSV 檔案 (假設檔名為 amazon_music_reviews.csv 且有欄位 'review_text')\n",
    "df = pd.read_excel('all_data.xlsx')\n",
    "\n",
    "# 先將所有 NaN 變為空字串，再把欄位整體轉為字串\n",
    "df['text'] = df['text'].fillna('')\n",
    "df['text'] = df['text'].astype(str)\n",
    "\n",
    "def get_Data_Cleaning(text):\n",
    "    # 去除標點符號\n",
    "    cleaned_text = re.sub(r'[!@#$%^&*()_+{}\\[\\]:;\"\\'<>,.?~\\\\/\\-|=]', '', text)\n",
    "    # 移除常見停用詞\n",
    "    cleaned_text = re.sub(r'\\b(?:and|is|in|the|on|of|to|for)\\b', '', cleaned_text, flags=re.IGNORECASE)\n",
    "    # 移除數字\n",
    "    cleaned_text = re.sub(r'\\b\\d+\\b', '', cleaned_text)\n",
    "    # 移除多餘空白\n",
    "    cleaned_text = re.sub(r'\\s+', ' ', cleaned_text).strip()\n",
    "    return cleaned_text\n",
    "\n",
    "    \n",
    "\n",
    "# 定義情感分析函式\n",
    "def get_sentiment_score(text):\n",
    "    return TextBlob(text).sentiment.polarity\n",
    "\n",
    "def get_sentiment_label(score, pos_threshold=0.1, neg_threshold=-0.1):\n",
    "    if score > pos_threshold:\n",
    "        return \"Positive\"\n",
    "    elif score < neg_threshold:\n",
    "        return \"Negative\"\n",
    "    else:\n",
    "        return \"Neutral\"\n",
    "\n",
    "# 將情感分數與情感標籤加到 DataFrame\n",
    "df['cleaned_text']=df['text'].apply(get_Data_Cleaning)\n",
    "df['sentiment_score'] = df['cleaned_text'].apply(get_sentiment_score)\n",
    "df['sentiment_label'] = df['sentiment_score'].apply(get_sentiment_label)\n",
    "# 5. 檢查新增結果 (可印出前幾筆資料)\n",
    "print(df.head())\n",
    "\n",
    "# 6. 若需要將結果存回 CSV\n",
    "df.to_csv('amazon_music_reviews_with_sentiment.csv', index=False)\n",
    "\n",
    "print(\"新增 sentiment_score 與 sentiment_label 欄位完成，並已輸出至檔案 amazon_music_reviews_with_sentiment.csv\")\n"
   ]
  }
 ],
 "metadata": {
  "colab": {
   "provenance": []
  },
  "kernelspec": {
   "display_name": "Python 3",
   "language": "python",
   "name": "python3"
  },
  "language_info": {
   "codemirror_mode": {
    "name": "ipython",
    "version": 3
   },
   "file_extension": ".py",
   "mimetype": "text/x-python",
   "name": "python",
   "nbconvert_exporter": "python",
   "pygments_lexer": "ipython3",
   "version": "3.9.13"
  },
  "widgets": {
   "application/vnd.jupyter.widget-state+json": {
    "03c833ed1eb643fb8a544f4a80ffbf91": {
     "model_module": "@jupyter-widgets/controls",
     "model_module_version": "1.5.0",
     "model_name": "FloatProgressModel",
     "state": {
      "_dom_classes": [],
      "_model_module": "@jupyter-widgets/controls",
      "_model_module_version": "1.5.0",
      "_model_name": "FloatProgressModel",
      "_view_count": null,
      "_view_module": "@jupyter-widgets/controls",
      "_view_module_version": "1.5.0",
      "_view_name": "ProgressView",
      "bar_style": "success",
      "description": "",
      "description_tooltip": null,
      "layout": "IPY_MODEL_3b1489865e06401a803ac6facbc5909b",
      "max": 150,
      "min": 0,
      "orientation": "horizontal",
      "style": "IPY_MODEL_c273d2bff4a54181be471bbc05f9090f",
      "value": 150
     }
    },
    "047f398410e746099e5eca414157ca62": {
     "model_module": "@jupyter-widgets/controls",
     "model_module_version": "1.5.0",
     "model_name": "DescriptionStyleModel",
     "state": {
      "_model_module": "@jupyter-widgets/controls",
      "_model_module_version": "1.5.0",
      "_model_name": "DescriptionStyleModel",
      "_view_count": null,
      "_view_module": "@jupyter-widgets/base",
      "_view_module_version": "1.2.0",
      "_view_name": "StyleView",
      "description_width": ""
     }
    },
    "0854ac37bd7a428ab167bed948b23790": {
     "model_module": "@jupyter-widgets/controls",
     "model_module_version": "1.5.0",
     "model_name": "HBoxModel",
     "state": {
      "_dom_classes": [],
      "_model_module": "@jupyter-widgets/controls",
      "_model_module_version": "1.5.0",
      "_model_name": "HBoxModel",
      "_view_count": null,
      "_view_module": "@jupyter-widgets/controls",
      "_view_module_version": "1.5.0",
      "_view_name": "HBoxView",
      "box_style": "",
      "children": [
       "IPY_MODEL_e4c2c94000604ac89803d97b550926a6",
       "IPY_MODEL_7eb3552f34e84c628872529643826c36",
       "IPY_MODEL_41fb11dcb3e14235b11bacb6cfae5908"
      ],
      "layout": "IPY_MODEL_22cfd31194a8449d8e0719dcbb0db381"
     }
    },
    "0882bfae0c0c4f829bf092cf02b09403": {
     "model_module": "@jupyter-widgets/controls",
     "model_module_version": "1.5.0",
     "model_name": "HTMLModel",
     "state": {
      "_dom_classes": [],
      "_model_module": "@jupyter-widgets/controls",
      "_model_module_version": "1.5.0",
      "_model_name": "HTMLModel",
      "_view_count": null,
      "_view_module": "@jupyter-widgets/controls",
      "_view_module_version": "1.5.0",
      "_view_name": "HTMLView",
      "description": "",
      "description_tooltip": null,
      "layout": "IPY_MODEL_dc37243a2af7434f85c17b17c16f8515",
      "placeholder": "​",
      "style": "IPY_MODEL_65aaed59bffb49b6a2530c916ff0226e",
      "value": " 47/3470 [10:25&lt;12:15:06, 12.89s/it]"
     }
    },
    "09e1213b08da4803a2b895d3c6fb4359": {
     "model_module": "@jupyter-widgets/controls",
     "model_module_version": "1.5.0",
     "model_name": "HBoxModel",
     "state": {
      "_dom_classes": [],
      "_model_module": "@jupyter-widgets/controls",
      "_model_module_version": "1.5.0",
      "_model_name": "HBoxModel",
      "_view_count": null,
      "_view_module": "@jupyter-widgets/controls",
      "_view_module_version": "1.5.0",
      "_view_name": "HBoxView",
      "box_style": "",
      "children": [
       "IPY_MODEL_0af3feff291248478c87d665ddce67d6",
       "IPY_MODEL_03c833ed1eb643fb8a544f4a80ffbf91",
       "IPY_MODEL_888e4ae3d23f4290a7b7fda2194508e6"
      ],
      "layout": "IPY_MODEL_83ce24f7274249e588f8c9b8fb9b9d66"
     }
    },
    "0af3feff291248478c87d665ddce67d6": {
     "model_module": "@jupyter-widgets/controls",
     "model_module_version": "1.5.0",
     "model_name": "HTMLModel",
     "state": {
      "_dom_classes": [],
      "_model_module": "@jupyter-widgets/controls",
      "_model_module_version": "1.5.0",
      "_model_name": "HTMLModel",
      "_view_count": null,
      "_view_module": "@jupyter-widgets/controls",
      "_view_module_version": "1.5.0",
      "_view_name": "HTMLView",
      "description": "",
      "description_tooltip": null,
      "layout": "IPY_MODEL_785c7709bd5645cf8f456678ef74b7cf",
      "placeholder": "​",
      "style": "IPY_MODEL_c53b93e1c45f4bd3aa13f371ae37d278",
      "value": "special_tokens_map.json: 100%"
     }
    },
    "0b467c21670b433c9a08aad8ee7b7d80": {
     "model_module": "@jupyter-widgets/controls",
     "model_module_version": "1.5.0",
     "model_name": "HTMLModel",
     "state": {
      "_dom_classes": [],
      "_model_module": "@jupyter-widgets/controls",
      "_model_module_version": "1.5.0",
      "_model_name": "HTMLModel",
      "_view_count": null,
      "_view_module": "@jupyter-widgets/controls",
      "_view_module_version": "1.5.0",
      "_view_name": "HTMLView",
      "description": "",
      "description_tooltip": null,
      "layout": "IPY_MODEL_a94ef80ea70245efa6c87de96931d0bf",
      "placeholder": "​",
      "style": "IPY_MODEL_4994aab7173b482e8f4bf2baa568dc4b",
      "value": " 190/190 [00:00&lt;00:00, 9.20kB/s]"
     }
    },
    "0cc58948eeb44409b5d616313d913d64": {
     "model_module": "@jupyter-widgets/base",
     "model_module_version": "1.2.0",
     "model_name": "LayoutModel",
     "state": {
      "_model_module": "@jupyter-widgets/base",
      "_model_module_version": "1.2.0",
      "_model_name": "LayoutModel",
      "_view_count": null,
      "_view_module": "@jupyter-widgets/base",
      "_view_module_version": "1.2.0",
      "_view_name": "LayoutView",
      "align_content": null,
      "align_items": null,
      "align_self": null,
      "border": null,
      "bottom": null,
      "display": null,
      "flex": null,
      "flex_flow": null,
      "grid_area": null,
      "grid_auto_columns": null,
      "grid_auto_flow": null,
      "grid_auto_rows": null,
      "grid_column": null,
      "grid_gap": null,
      "grid_row": null,
      "grid_template_areas": null,
      "grid_template_columns": null,
      "grid_template_rows": null,
      "height": null,
      "justify_content": null,
      "justify_items": null,
      "left": null,
      "margin": null,
      "max_height": null,
      "max_width": null,
      "min_height": null,
      "min_width": null,
      "object_fit": null,
      "object_position": null,
      "order": null,
      "overflow": null,
      "overflow_x": null,
      "overflow_y": null,
      "padding": null,
      "right": null,
      "top": null,
      "visibility": null,
      "width": null
     }
    },
    "0e3b777686bd46cab9e587b3633a9ab7": {
     "model_module": "@jupyter-widgets/controls",
     "model_module_version": "1.5.0",
     "model_name": "HTMLModel",
     "state": {
      "_dom_classes": [],
      "_model_module": "@jupyter-widgets/controls",
      "_model_module_version": "1.5.0",
      "_model_name": "HTMLModel",
      "_view_count": null,
      "_view_module": "@jupyter-widgets/controls",
      "_view_module_version": "1.5.0",
      "_view_name": "HTMLView",
      "description": "",
      "description_tooltip": null,
      "layout": "IPY_MODEL_cc5762dd0160401e878a7dfbc9bf92af",
      "placeholder": "​",
      "style": "IPY_MODEL_373e1afcfab74bbbae75a7e1cc542873",
      "value": " 3.78k/3.78k [00:00&lt;00:00, 250kB/s]"
     }
    },
    "1041135dd8e642318cc3ffaf01e9f86e": {
     "model_module": "@jupyter-widgets/controls",
     "model_module_version": "1.5.0",
     "model_name": "DescriptionStyleModel",
     "state": {
      "_model_module": "@jupyter-widgets/controls",
      "_model_module_version": "1.5.0",
      "_model_name": "DescriptionStyleModel",
      "_view_count": null,
      "_view_module": "@jupyter-widgets/base",
      "_view_module_version": "1.2.0",
      "_view_name": "StyleView",
      "description_width": ""
     }
    },
    "121ea1fed0bf4ce382be7ca25ec116bf": {
     "model_module": "@jupyter-widgets/controls",
     "model_module_version": "1.5.0",
     "model_name": "DescriptionStyleModel",
     "state": {
      "_model_module": "@jupyter-widgets/controls",
      "_model_module_version": "1.5.0",
      "_model_name": "DescriptionStyleModel",
      "_view_count": null,
      "_view_module": "@jupyter-widgets/base",
      "_view_module_version": "1.2.0",
      "_view_name": "StyleView",
      "description_width": ""
     }
    },
    "12809a42ca604766a9639e8d0a6305ed": {
     "model_module": "@jupyter-widgets/base",
     "model_module_version": "1.2.0",
     "model_name": "LayoutModel",
     "state": {
      "_model_module": "@jupyter-widgets/base",
      "_model_module_version": "1.2.0",
      "_model_name": "LayoutModel",
      "_view_count": null,
      "_view_module": "@jupyter-widgets/base",
      "_view_module_version": "1.2.0",
      "_view_name": "LayoutView",
      "align_content": null,
      "align_items": null,
      "align_self": null,
      "border": null,
      "bottom": null,
      "display": null,
      "flex": null,
      "flex_flow": null,
      "grid_area": null,
      "grid_auto_columns": null,
      "grid_auto_flow": null,
      "grid_auto_rows": null,
      "grid_column": null,
      "grid_gap": null,
      "grid_row": null,
      "grid_template_areas": null,
      "grid_template_columns": null,
      "grid_template_rows": null,
      "height": null,
      "justify_content": null,
      "justify_items": null,
      "left": null,
      "margin": null,
      "max_height": null,
      "max_width": null,
      "min_height": null,
      "min_width": null,
      "object_fit": null,
      "object_position": null,
      "order": null,
      "overflow": null,
      "overflow_x": null,
      "overflow_y": null,
      "padding": null,
      "right": null,
      "top": null,
      "visibility": null,
      "width": null
     }
    },
    "1688735663224d23b1a34070054cf905": {
     "model_module": "@jupyter-widgets/controls",
     "model_module_version": "1.5.0",
     "model_name": "HBoxModel",
     "state": {
      "_dom_classes": [],
      "_model_module": "@jupyter-widgets/controls",
      "_model_module_version": "1.5.0",
      "_model_name": "HBoxModel",
      "_view_count": null,
      "_view_module": "@jupyter-widgets/controls",
      "_view_module_version": "1.5.0",
      "_view_name": "HBoxView",
      "box_style": "",
      "children": [
       "IPY_MODEL_1bc75e8b5c4b4f568ab2be04b0fee2ff",
       "IPY_MODEL_1f280e9f9f1e4122afc7a3f651eb04b7",
       "IPY_MODEL_c7d6ec27732c4f60a8936f59143a77a3"
      ],
      "layout": "IPY_MODEL_0cc58948eeb44409b5d616313d913d64"
     }
    },
    "1703b792e0244dcd9013e4698720dbd1": {
     "model_module": "@jupyter-widgets/controls",
     "model_module_version": "1.5.0",
     "model_name": "HTMLModel",
     "state": {
      "_dom_classes": [],
      "_model_module": "@jupyter-widgets/controls",
      "_model_module_version": "1.5.0",
      "_model_name": "HTMLModel",
      "_view_count": null,
      "_view_module": "@jupyter-widgets/controls",
      "_view_module_version": "1.5.0",
      "_view_name": "HTMLView",
      "description": "",
      "description_tooltip": null,
      "layout": "IPY_MODEL_3843ac86f01447b5b880f9e847f3eaa9",
      "placeholder": "​",
      "style": "IPY_MODEL_2067d1cf82eb4584acbeef1dd2e1c094",
      "value": "tokenizer_config.json: 100%"
     }
    },
    "177521f6d16f4e0e88609be11a3c8bdb": {
     "model_module": "@jupyter-widgets/controls",
     "model_module_version": "1.5.0",
     "model_name": "DescriptionStyleModel",
     "state": {
      "_model_module": "@jupyter-widgets/controls",
      "_model_module_version": "1.5.0",
      "_model_name": "DescriptionStyleModel",
      "_view_count": null,
      "_view_module": "@jupyter-widgets/base",
      "_view_module_version": "1.2.0",
      "_view_name": "StyleView",
      "description_width": ""
     }
    },
    "1bc75e8b5c4b4f568ab2be04b0fee2ff": {
     "model_module": "@jupyter-widgets/controls",
     "model_module_version": "1.5.0",
     "model_name": "HTMLModel",
     "state": {
      "_dom_classes": [],
      "_model_module": "@jupyter-widgets/controls",
      "_model_module_version": "1.5.0",
      "_model_name": "HTMLModel",
      "_view_count": null,
      "_view_module": "@jupyter-widgets/controls",
      "_view_module_version": "1.5.0",
      "_view_name": "HTMLView",
      "description": "",
      "description_tooltip": null,
      "layout": "IPY_MODEL_78efa820dc4346eb953863a81f7fb17a",
      "placeholder": "​",
      "style": "IPY_MODEL_a330babe737e4a96b932dc0b661dffe0",
      "value": "config_sentence_transformers.json: 100%"
     }
    },
    "1f280e9f9f1e4122afc7a3f651eb04b7": {
     "model_module": "@jupyter-widgets/controls",
     "model_module_version": "1.5.0",
     "model_name": "FloatProgressModel",
     "state": {
      "_dom_classes": [],
      "_model_module": "@jupyter-widgets/controls",
      "_model_module_version": "1.5.0",
      "_model_name": "FloatProgressModel",
      "_view_count": null,
      "_view_module": "@jupyter-widgets/controls",
      "_view_module_version": "1.5.0",
      "_view_name": "ProgressView",
      "bar_style": "success",
      "description": "",
      "description_tooltip": null,
      "layout": "IPY_MODEL_fc8848e9baff401290679b64b12d81e0",
      "max": 122,
      "min": 0,
      "orientation": "horizontal",
      "style": "IPY_MODEL_4b3a33c3f0104377becf27d0d4136f15",
      "value": 122
     }
    },
    "1fbd4e2d84f74de2a0bd05efaeb3adf8": {
     "model_module": "@jupyter-widgets/controls",
     "model_module_version": "1.5.0",
     "model_name": "DescriptionStyleModel",
     "state": {
      "_model_module": "@jupyter-widgets/controls",
      "_model_module_version": "1.5.0",
      "_model_name": "DescriptionStyleModel",
      "_view_count": null,
      "_view_module": "@jupyter-widgets/base",
      "_view_module_version": "1.2.0",
      "_view_name": "StyleView",
      "description_width": ""
     }
    },
    "2067d1cf82eb4584acbeef1dd2e1c094": {
     "model_module": "@jupyter-widgets/controls",
     "model_module_version": "1.5.0",
     "model_name": "DescriptionStyleModel",
     "state": {
      "_model_module": "@jupyter-widgets/controls",
      "_model_module_version": "1.5.0",
      "_model_name": "DescriptionStyleModel",
      "_view_count": null,
      "_view_module": "@jupyter-widgets/base",
      "_view_module_version": "1.2.0",
      "_view_name": "StyleView",
      "description_width": ""
     }
    },
    "22cfd31194a8449d8e0719dcbb0db381": {
     "model_module": "@jupyter-widgets/base",
     "model_module_version": "1.2.0",
     "model_name": "LayoutModel",
     "state": {
      "_model_module": "@jupyter-widgets/base",
      "_model_module_version": "1.2.0",
      "_model_name": "LayoutModel",
      "_view_count": null,
      "_view_module": "@jupyter-widgets/base",
      "_view_module_version": "1.2.0",
      "_view_name": "LayoutView",
      "align_content": null,
      "align_items": null,
      "align_self": null,
      "border": null,
      "bottom": null,
      "display": null,
      "flex": null,
      "flex_flow": null,
      "grid_area": null,
      "grid_auto_columns": null,
      "grid_auto_flow": null,
      "grid_auto_rows": null,
      "grid_column": null,
      "grid_gap": null,
      "grid_row": null,
      "grid_template_areas": null,
      "grid_template_columns": null,
      "grid_template_rows": null,
      "height": null,
      "justify_content": null,
      "justify_items": null,
      "left": null,
      "margin": null,
      "max_height": null,
      "max_width": null,
      "min_height": null,
      "min_width": null,
      "object_fit": null,
      "object_position": null,
      "order": null,
      "overflow": null,
      "overflow_x": null,
      "overflow_y": null,
      "padding": null,
      "right": null,
      "top": null,
      "visibility": null,
      "width": null
     }
    },
    "234d1e20bc8a412ba0c85f672fb2c303": {
     "model_module": "@jupyter-widgets/controls",
     "model_module_version": "1.5.0",
     "model_name": "HTMLModel",
     "state": {
      "_dom_classes": [],
      "_model_module": "@jupyter-widgets/controls",
      "_model_module_version": "1.5.0",
      "_model_name": "HTMLModel",
      "_view_count": null,
      "_view_module": "@jupyter-widgets/controls",
      "_view_module_version": "1.5.0",
      "_view_name": "HTMLView",
      "description": "",
      "description_tooltip": null,
      "layout": "IPY_MODEL_f42e628639194b9c94a1a3a6c52824f7",
      "placeholder": "​",
      "style": "IPY_MODEL_cb355395989c47feba8224c15520d75b",
      "value": " 53.0/53.0 [00:00&lt;00:00, 2.77kB/s]"
     }
    },
    "23d4e15af72e4db38df46271527131ce": {
     "model_module": "@jupyter-widgets/controls",
     "model_module_version": "1.5.0",
     "model_name": "HBoxModel",
     "state": {
      "_dom_classes": [],
      "_model_module": "@jupyter-widgets/controls",
      "_model_module_version": "1.5.0",
      "_model_name": "HBoxModel",
      "_view_count": null,
      "_view_module": "@jupyter-widgets/controls",
      "_view_module_version": "1.5.0",
      "_view_name": "HBoxView",
      "box_style": "",
      "children": [
       "IPY_MODEL_ffdf0573238945cba74e3d2f1fd0ff5e",
       "IPY_MODEL_deeb45c97a9f407a9ec714c3530544b0",
       "IPY_MODEL_0b467c21670b433c9a08aad8ee7b7d80"
      ],
      "layout": "IPY_MODEL_b98e33af5e634a84888b96ee67b0df18"
     }
    },
    "2483d1bcdcaf4e5db740f34c08ecd373": {
     "model_module": "@jupyter-widgets/controls",
     "model_module_version": "1.5.0",
     "model_name": "HBoxModel",
     "state": {
      "_dom_classes": [],
      "_model_module": "@jupyter-widgets/controls",
      "_model_module_version": "1.5.0",
      "_model_name": "HBoxModel",
      "_view_count": null,
      "_view_module": "@jupyter-widgets/controls",
      "_view_module_version": "1.5.0",
      "_view_name": "HBoxView",
      "box_style": "",
      "children": [
       "IPY_MODEL_fac1bfd8cf6d4911b632bf18ec53a712",
       "IPY_MODEL_c8fc99962c384ddc8735d3442a91ba47",
       "IPY_MODEL_fa250896b347466ea7ae21fd02a2afa8"
      ],
      "layout": "IPY_MODEL_b33f878fde814c4a9a453205579fcd0f"
     }
    },
    "250741578f114e8b8fb78a536be94401": {
     "model_module": "@jupyter-widgets/controls",
     "model_module_version": "1.5.0",
     "model_name": "ProgressStyleModel",
     "state": {
      "_model_module": "@jupyter-widgets/controls",
      "_model_module_version": "1.5.0",
      "_model_name": "ProgressStyleModel",
      "_view_count": null,
      "_view_module": "@jupyter-widgets/base",
      "_view_module_version": "1.2.0",
      "_view_name": "StyleView",
      "bar_color": null,
      "description_width": ""
     }
    },
    "28808eff5b764f6c9833a9cd36178cd3": {
     "model_module": "@jupyter-widgets/base",
     "model_module_version": "1.2.0",
     "model_name": "LayoutModel",
     "state": {
      "_model_module": "@jupyter-widgets/base",
      "_model_module_version": "1.2.0",
      "_model_name": "LayoutModel",
      "_view_count": null,
      "_view_module": "@jupyter-widgets/base",
      "_view_module_version": "1.2.0",
      "_view_name": "LayoutView",
      "align_content": null,
      "align_items": null,
      "align_self": null,
      "border": null,
      "bottom": null,
      "display": null,
      "flex": null,
      "flex_flow": null,
      "grid_area": null,
      "grid_auto_columns": null,
      "grid_auto_flow": null,
      "grid_auto_rows": null,
      "grid_column": null,
      "grid_gap": null,
      "grid_row": null,
      "grid_template_areas": null,
      "grid_template_columns": null,
      "grid_template_rows": null,
      "height": null,
      "justify_content": null,
      "justify_items": null,
      "left": null,
      "margin": null,
      "max_height": null,
      "max_width": null,
      "min_height": null,
      "min_width": null,
      "object_fit": null,
      "object_position": null,
      "order": null,
      "overflow": null,
      "overflow_x": null,
      "overflow_y": null,
      "padding": null,
      "right": null,
      "top": null,
      "visibility": null,
      "width": null
     }
    },
    "2946091de9d040f785de68bf9a2ec55c": {
     "model_module": "@jupyter-widgets/controls",
     "model_module_version": "1.5.0",
     "model_name": "HBoxModel",
     "state": {
      "_dom_classes": [],
      "_model_module": "@jupyter-widgets/controls",
      "_model_module_version": "1.5.0",
      "_model_name": "HBoxModel",
      "_view_count": null,
      "_view_module": "@jupyter-widgets/controls",
      "_view_module_version": "1.5.0",
      "_view_name": "HBoxView",
      "box_style": "",
      "children": [
       "IPY_MODEL_9603227136ad4e27973e63d49670b436",
       "IPY_MODEL_3dffbee5694344e69f14f237eee71923",
       "IPY_MODEL_c371f4ed10be45b793bac4ccd11bc2f8"
      ],
      "layout": "IPY_MODEL_67d97ee26b9944d5a7b59dccf2a2ac7b"
     }
    },
    "2a16494b02254447aef39f665bf3e96f": {
     "model_module": "@jupyter-widgets/controls",
     "model_module_version": "1.5.0",
     "model_name": "ProgressStyleModel",
     "state": {
      "_model_module": "@jupyter-widgets/controls",
      "_model_module_version": "1.5.0",
      "_model_name": "ProgressStyleModel",
      "_view_count": null,
      "_view_module": "@jupyter-widgets/base",
      "_view_module_version": "1.2.0",
      "_view_name": "StyleView",
      "bar_color": null,
      "description_width": ""
     }
    },
    "2deee95ae78b49ecb7f0116d1563e254": {
     "model_module": "@jupyter-widgets/controls",
     "model_module_version": "1.5.0",
     "model_name": "HTMLModel",
     "state": {
      "_dom_classes": [],
      "_model_module": "@jupyter-widgets/controls",
      "_model_module_version": "1.5.0",
      "_model_name": "HTMLModel",
      "_view_count": null,
      "_view_module": "@jupyter-widgets/controls",
      "_view_module_version": "1.5.0",
      "_view_name": "HTMLView",
      "description": "",
      "description_tooltip": null,
      "layout": "IPY_MODEL_8f24a0bd04b44c458fd086dd2b160ad6",
      "placeholder": "​",
      "style": "IPY_MODEL_34dbb2104d804be4890359b5d27e61da",
      "value": "config.json: 100%"
     }
    },
    "2f3e5a3375c64fe1adfdd96d60bd47ac": {
     "model_module": "@jupyter-widgets/controls",
     "model_module_version": "1.5.0",
     "model_name": "HBoxModel",
     "state": {
      "_dom_classes": [],
      "_model_module": "@jupyter-widgets/controls",
      "_model_module_version": "1.5.0",
      "_model_name": "HBoxModel",
      "_view_count": null,
      "_view_module": "@jupyter-widgets/controls",
      "_view_module_version": "1.5.0",
      "_view_name": "HBoxView",
      "box_style": "",
      "children": [
       "IPY_MODEL_2deee95ae78b49ecb7f0116d1563e254",
       "IPY_MODEL_8c4471b454cc4335b591937d352128f6",
       "IPY_MODEL_eda3dd0cf0ac4d12b874b30d18f638a5"
      ],
      "layout": "IPY_MODEL_79d7e027d7004df1b11c6336807c174f"
     }
    },
    "302912d392cf4a22a5f5383c823e15ed": {
     "model_module": "@jupyter-widgets/controls",
     "model_module_version": "1.5.0",
     "model_name": "DescriptionStyleModel",
     "state": {
      "_model_module": "@jupyter-widgets/controls",
      "_model_module_version": "1.5.0",
      "_model_name": "DescriptionStyleModel",
      "_view_count": null,
      "_view_module": "@jupyter-widgets/base",
      "_view_module_version": "1.2.0",
      "_view_name": "StyleView",
      "description_width": ""
     }
    },
    "307d906dba844b0c984b2e634bddd5f0": {
     "model_module": "@jupyter-widgets/base",
     "model_module_version": "1.2.0",
     "model_name": "LayoutModel",
     "state": {
      "_model_module": "@jupyter-widgets/base",
      "_model_module_version": "1.2.0",
      "_model_name": "LayoutModel",
      "_view_count": null,
      "_view_module": "@jupyter-widgets/base",
      "_view_module_version": "1.2.0",
      "_view_name": "LayoutView",
      "align_content": null,
      "align_items": null,
      "align_self": null,
      "border": null,
      "bottom": null,
      "display": null,
      "flex": null,
      "flex_flow": null,
      "grid_area": null,
      "grid_auto_columns": null,
      "grid_auto_flow": null,
      "grid_auto_rows": null,
      "grid_column": null,
      "grid_gap": null,
      "grid_row": null,
      "grid_template_areas": null,
      "grid_template_columns": null,
      "grid_template_rows": null,
      "height": null,
      "justify_content": null,
      "justify_items": null,
      "left": null,
      "margin": null,
      "max_height": null,
      "max_width": null,
      "min_height": null,
      "min_width": null,
      "object_fit": null,
      "object_position": null,
      "order": null,
      "overflow": null,
      "overflow_x": null,
      "overflow_y": null,
      "padding": null,
      "right": null,
      "top": null,
      "visibility": null,
      "width": null
     }
    },
    "3083c9fd31164179bc8a560a0af284bf": {
     "model_module": "@jupyter-widgets/controls",
     "model_module_version": "1.5.0",
     "model_name": "HTMLModel",
     "state": {
      "_dom_classes": [],
      "_model_module": "@jupyter-widgets/controls",
      "_model_module_version": "1.5.0",
      "_model_name": "HTMLModel",
      "_view_count": null,
      "_view_module": "@jupyter-widgets/controls",
      "_view_module_version": "1.5.0",
      "_view_name": "HTMLView",
      "description": "",
      "description_tooltip": null,
      "layout": "IPY_MODEL_28808eff5b764f6c9833a9cd36178cd3",
      "placeholder": "​",
      "style": "IPY_MODEL_f1e6e90c890f4dc6b154180fdf8c39eb",
      "value": "README.md: 100%"
     }
    },
    "3163c37e789441e1a8b9e603d5191faf": {
     "model_module": "@jupyter-widgets/controls",
     "model_module_version": "1.5.0",
     "model_name": "DescriptionStyleModel",
     "state": {
      "_model_module": "@jupyter-widgets/controls",
      "_model_module_version": "1.5.0",
      "_model_name": "DescriptionStyleModel",
      "_view_count": null,
      "_view_module": "@jupyter-widgets/base",
      "_view_module_version": "1.2.0",
      "_view_name": "StyleView",
      "description_width": ""
     }
    },
    "33865a7748f540bb90c46a74448ec2e6": {
     "model_module": "@jupyter-widgets/controls",
     "model_module_version": "1.5.0",
     "model_name": "DescriptionStyleModel",
     "state": {
      "_model_module": "@jupyter-widgets/controls",
      "_model_module_version": "1.5.0",
      "_model_name": "DescriptionStyleModel",
      "_view_count": null,
      "_view_module": "@jupyter-widgets/base",
      "_view_module_version": "1.2.0",
      "_view_name": "StyleView",
      "description_width": ""
     }
    },
    "34dbb2104d804be4890359b5d27e61da": {
     "model_module": "@jupyter-widgets/controls",
     "model_module_version": "1.5.0",
     "model_name": "DescriptionStyleModel",
     "state": {
      "_model_module": "@jupyter-widgets/controls",
      "_model_module_version": "1.5.0",
      "_model_name": "DescriptionStyleModel",
      "_view_count": null,
      "_view_module": "@jupyter-widgets/base",
      "_view_module_version": "1.2.0",
      "_view_name": "StyleView",
      "description_width": ""
     }
    },
    "373e1afcfab74bbbae75a7e1cc542873": {
     "model_module": "@jupyter-widgets/controls",
     "model_module_version": "1.5.0",
     "model_name": "DescriptionStyleModel",
     "state": {
      "_model_module": "@jupyter-widgets/controls",
      "_model_module_version": "1.5.0",
      "_model_name": "DescriptionStyleModel",
      "_view_count": null,
      "_view_module": "@jupyter-widgets/base",
      "_view_module_version": "1.2.0",
      "_view_name": "StyleView",
      "description_width": ""
     }
    },
    "3843ac86f01447b5b880f9e847f3eaa9": {
     "model_module": "@jupyter-widgets/base",
     "model_module_version": "1.2.0",
     "model_name": "LayoutModel",
     "state": {
      "_model_module": "@jupyter-widgets/base",
      "_model_module_version": "1.2.0",
      "_model_name": "LayoutModel",
      "_view_count": null,
      "_view_module": "@jupyter-widgets/base",
      "_view_module_version": "1.2.0",
      "_view_name": "LayoutView",
      "align_content": null,
      "align_items": null,
      "align_self": null,
      "border": null,
      "bottom": null,
      "display": null,
      "flex": null,
      "flex_flow": null,
      "grid_area": null,
      "grid_auto_columns": null,
      "grid_auto_flow": null,
      "grid_auto_rows": null,
      "grid_column": null,
      "grid_gap": null,
      "grid_row": null,
      "grid_template_areas": null,
      "grid_template_columns": null,
      "grid_template_rows": null,
      "height": null,
      "justify_content": null,
      "justify_items": null,
      "left": null,
      "margin": null,
      "max_height": null,
      "max_width": null,
      "min_height": null,
      "min_width": null,
      "object_fit": null,
      "object_position": null,
      "order": null,
      "overflow": null,
      "overflow_x": null,
      "overflow_y": null,
      "padding": null,
      "right": null,
      "top": null,
      "visibility": null,
      "width": null
     }
    },
    "3ab79ac05731496d808ff0cc7688db54": {
     "model_module": "@jupyter-widgets/base",
     "model_module_version": "1.2.0",
     "model_name": "LayoutModel",
     "state": {
      "_model_module": "@jupyter-widgets/base",
      "_model_module_version": "1.2.0",
      "_model_name": "LayoutModel",
      "_view_count": null,
      "_view_module": "@jupyter-widgets/base",
      "_view_module_version": "1.2.0",
      "_view_name": "LayoutView",
      "align_content": null,
      "align_items": null,
      "align_self": null,
      "border": null,
      "bottom": null,
      "display": null,
      "flex": null,
      "flex_flow": null,
      "grid_area": null,
      "grid_auto_columns": null,
      "grid_auto_flow": null,
      "grid_auto_rows": null,
      "grid_column": null,
      "grid_gap": null,
      "grid_row": null,
      "grid_template_areas": null,
      "grid_template_columns": null,
      "grid_template_rows": null,
      "height": null,
      "justify_content": null,
      "justify_items": null,
      "left": null,
      "margin": null,
      "max_height": null,
      "max_width": null,
      "min_height": null,
      "min_width": null,
      "object_fit": null,
      "object_position": null,
      "order": null,
      "overflow": null,
      "overflow_x": null,
      "overflow_y": null,
      "padding": null,
      "right": null,
      "top": null,
      "visibility": null,
      "width": null
     }
    },
    "3b1489865e06401a803ac6facbc5909b": {
     "model_module": "@jupyter-widgets/base",
     "model_module_version": "1.2.0",
     "model_name": "LayoutModel",
     "state": {
      "_model_module": "@jupyter-widgets/base",
      "_model_module_version": "1.2.0",
      "_model_name": "LayoutModel",
      "_view_count": null,
      "_view_module": "@jupyter-widgets/base",
      "_view_module_version": "1.2.0",
      "_view_name": "LayoutView",
      "align_content": null,
      "align_items": null,
      "align_self": null,
      "border": null,
      "bottom": null,
      "display": null,
      "flex": null,
      "flex_flow": null,
      "grid_area": null,
      "grid_auto_columns": null,
      "grid_auto_flow": null,
      "grid_auto_rows": null,
      "grid_column": null,
      "grid_gap": null,
      "grid_row": null,
      "grid_template_areas": null,
      "grid_template_columns": null,
      "grid_template_rows": null,
      "height": null,
      "justify_content": null,
      "justify_items": null,
      "left": null,
      "margin": null,
      "max_height": null,
      "max_width": null,
      "min_height": null,
      "min_width": null,
      "object_fit": null,
      "object_position": null,
      "order": null,
      "overflow": null,
      "overflow_x": null,
      "overflow_y": null,
      "padding": null,
      "right": null,
      "top": null,
      "visibility": null,
      "width": null
     }
    },
    "3cce29ac1df94c6baf5f6c23dfc93b45": {
     "model_module": "@jupyter-widgets/controls",
     "model_module_version": "1.5.0",
     "model_name": "HTMLModel",
     "state": {
      "_dom_classes": [],
      "_model_module": "@jupyter-widgets/controls",
      "_model_module_version": "1.5.0",
      "_model_name": "HTMLModel",
      "_view_count": null,
      "_view_module": "@jupyter-widgets/controls",
      "_view_module_version": "1.5.0",
      "_view_name": "HTMLView",
      "description": "",
      "description_tooltip": null,
      "layout": "IPY_MODEL_aa2475650f074fd1900d9255d905216a",
      "placeholder": "​",
      "style": "IPY_MODEL_33865a7748f540bb90c46a74448ec2e6",
      "value": "sentencepiece.bpe.model: 100%"
     }
    },
    "3dffbee5694344e69f14f237eee71923": {
     "model_module": "@jupyter-widgets/controls",
     "model_module_version": "1.5.0",
     "model_name": "FloatProgressModel",
     "state": {
      "_dom_classes": [],
      "_model_module": "@jupyter-widgets/controls",
      "_model_module_version": "1.5.0",
      "_model_name": "FloatProgressModel",
      "_view_count": null,
      "_view_module": "@jupyter-widgets/controls",
      "_view_module_version": "1.5.0",
      "_view_name": "ProgressView",
      "bar_style": "success",
      "description": "",
      "description_tooltip": null,
      "layout": "IPY_MODEL_6d51b27ba62e466fb98c31e31dea58bd",
      "max": 1112201288,
      "min": 0,
      "orientation": "horizontal",
      "style": "IPY_MODEL_751444889c954702839cf9ec6fc34af6",
      "value": 1112201288
     }
    },
    "4105f49e75234fdf8b7290f69d5ab570": {
     "model_module": "@jupyter-widgets/controls",
     "model_module_version": "1.5.0",
     "model_name": "ProgressStyleModel",
     "state": {
      "_model_module": "@jupyter-widgets/controls",
      "_model_module_version": "1.5.0",
      "_model_name": "ProgressStyleModel",
      "_view_count": null,
      "_view_module": "@jupyter-widgets/base",
      "_view_module_version": "1.2.0",
      "_view_name": "StyleView",
      "bar_color": null,
      "description_width": ""
     }
    },
    "41fb11dcb3e14235b11bacb6cfae5908": {
     "model_module": "@jupyter-widgets/controls",
     "model_module_version": "1.5.0",
     "model_name": "HTMLModel",
     "state": {
      "_dom_classes": [],
      "_model_module": "@jupyter-widgets/controls",
      "_model_module_version": "1.5.0",
      "_model_name": "HTMLModel",
      "_view_count": null,
      "_view_module": "@jupyter-widgets/controls",
      "_view_module_version": "1.5.0",
      "_view_name": "HTMLView",
      "description": "",
      "description_tooltip": null,
      "layout": "IPY_MODEL_307d906dba844b0c984b2e634bddd5f0",
      "placeholder": "​",
      "style": "IPY_MODEL_1fbd4e2d84f74de2a0bd05efaeb3adf8",
      "value": " 229/229 [00:00&lt;00:00, 12.5kB/s]"
     }
    },
    "42538864a0dd4fa39049148476eb2caa": {
     "model_module": "@jupyter-widgets/controls",
     "model_module_version": "1.5.0",
     "model_name": "HBoxModel",
     "state": {
      "_dom_classes": [],
      "_model_module": "@jupyter-widgets/controls",
      "_model_module_version": "1.5.0",
      "_model_name": "HBoxModel",
      "_view_count": null,
      "_view_module": "@jupyter-widgets/controls",
      "_view_module_version": "1.5.0",
      "_view_name": "HBoxView",
      "box_style": "",
      "children": [
       "IPY_MODEL_9e91a888bb3f40debaf7a01bd8469d30",
       "IPY_MODEL_584a911d5fe34c9eb31941185d4d631d",
       "IPY_MODEL_0882bfae0c0c4f829bf092cf02b09403"
      ],
      "layout": "IPY_MODEL_3ab79ac05731496d808ff0cc7688db54"
     }
    },
    "46995ec99487415692c6371e198400a8": {
     "model_module": "@jupyter-widgets/base",
     "model_module_version": "1.2.0",
     "model_name": "LayoutModel",
     "state": {
      "_model_module": "@jupyter-widgets/base",
      "_model_module_version": "1.2.0",
      "_model_name": "LayoutModel",
      "_view_count": null,
      "_view_module": "@jupyter-widgets/base",
      "_view_module_version": "1.2.0",
      "_view_name": "LayoutView",
      "align_content": null,
      "align_items": null,
      "align_self": null,
      "border": null,
      "bottom": null,
      "display": null,
      "flex": null,
      "flex_flow": null,
      "grid_area": null,
      "grid_auto_columns": null,
      "grid_auto_flow": null,
      "grid_auto_rows": null,
      "grid_column": null,
      "grid_gap": null,
      "grid_row": null,
      "grid_template_areas": null,
      "grid_template_columns": null,
      "grid_template_rows": null,
      "height": null,
      "justify_content": null,
      "justify_items": null,
      "left": null,
      "margin": null,
      "max_height": null,
      "max_width": null,
      "min_height": null,
      "min_width": null,
      "object_fit": null,
      "object_position": null,
      "order": null,
      "overflow": null,
      "overflow_x": null,
      "overflow_y": null,
      "padding": null,
      "right": null,
      "top": null,
      "visibility": null,
      "width": null
     }
    },
    "46dccee2c4f74b32bc2a8562621015f4": {
     "model_module": "@jupyter-widgets/base",
     "model_module_version": "1.2.0",
     "model_name": "LayoutModel",
     "state": {
      "_model_module": "@jupyter-widgets/base",
      "_model_module_version": "1.2.0",
      "_model_name": "LayoutModel",
      "_view_count": null,
      "_view_module": "@jupyter-widgets/base",
      "_view_module_version": "1.2.0",
      "_view_name": "LayoutView",
      "align_content": null,
      "align_items": null,
      "align_self": null,
      "border": null,
      "bottom": null,
      "display": null,
      "flex": null,
      "flex_flow": null,
      "grid_area": null,
      "grid_auto_columns": null,
      "grid_auto_flow": null,
      "grid_auto_rows": null,
      "grid_column": null,
      "grid_gap": null,
      "grid_row": null,
      "grid_template_areas": null,
      "grid_template_columns": null,
      "grid_template_rows": null,
      "height": null,
      "justify_content": null,
      "justify_items": null,
      "left": null,
      "margin": null,
      "max_height": null,
      "max_width": null,
      "min_height": null,
      "min_width": null,
      "object_fit": null,
      "object_position": null,
      "order": null,
      "overflow": null,
      "overflow_x": null,
      "overflow_y": null,
      "padding": null,
      "right": null,
      "top": null,
      "visibility": null,
      "width": null
     }
    },
    "478760d44ac148b9a2d9c3ac85e042d7": {
     "model_module": "@jupyter-widgets/controls",
     "model_module_version": "1.5.0",
     "model_name": "ProgressStyleModel",
     "state": {
      "_model_module": "@jupyter-widgets/controls",
      "_model_module_version": "1.5.0",
      "_model_name": "ProgressStyleModel",
      "_view_count": null,
      "_view_module": "@jupyter-widgets/base",
      "_view_module_version": "1.2.0",
      "_view_name": "StyleView",
      "bar_color": null,
      "description_width": ""
     }
    },
    "47d3d5d366474695b4e844b5605d2369": {
     "model_module": "@jupyter-widgets/controls",
     "model_module_version": "1.5.0",
     "model_name": "DescriptionStyleModel",
     "state": {
      "_model_module": "@jupyter-widgets/controls",
      "_model_module_version": "1.5.0",
      "_model_name": "DescriptionStyleModel",
      "_view_count": null,
      "_view_module": "@jupyter-widgets/base",
      "_view_module_version": "1.2.0",
      "_view_name": "StyleView",
      "description_width": ""
     }
    },
    "4994aab7173b482e8f4bf2baa568dc4b": {
     "model_module": "@jupyter-widgets/controls",
     "model_module_version": "1.5.0",
     "model_name": "DescriptionStyleModel",
     "state": {
      "_model_module": "@jupyter-widgets/controls",
      "_model_module_version": "1.5.0",
      "_model_name": "DescriptionStyleModel",
      "_view_count": null,
      "_view_module": "@jupyter-widgets/base",
      "_view_module_version": "1.2.0",
      "_view_name": "StyleView",
      "description_width": ""
     }
    },
    "4a1e37e508a94a648fb3cc8353c1c0cc": {
     "model_module": "@jupyter-widgets/controls",
     "model_module_version": "1.5.0",
     "model_name": "DescriptionStyleModel",
     "state": {
      "_model_module": "@jupyter-widgets/controls",
      "_model_module_version": "1.5.0",
      "_model_name": "DescriptionStyleModel",
      "_view_count": null,
      "_view_module": "@jupyter-widgets/base",
      "_view_module_version": "1.2.0",
      "_view_name": "StyleView",
      "description_width": ""
     }
    },
    "4a870c4673e04d448c44f5fe7021f91f": {
     "model_module": "@jupyter-widgets/base",
     "model_module_version": "1.2.0",
     "model_name": "LayoutModel",
     "state": {
      "_model_module": "@jupyter-widgets/base",
      "_model_module_version": "1.2.0",
      "_model_name": "LayoutModel",
      "_view_count": null,
      "_view_module": "@jupyter-widgets/base",
      "_view_module_version": "1.2.0",
      "_view_name": "LayoutView",
      "align_content": null,
      "align_items": null,
      "align_self": null,
      "border": null,
      "bottom": null,
      "display": null,
      "flex": null,
      "flex_flow": null,
      "grid_area": null,
      "grid_auto_columns": null,
      "grid_auto_flow": null,
      "grid_auto_rows": null,
      "grid_column": null,
      "grid_gap": null,
      "grid_row": null,
      "grid_template_areas": null,
      "grid_template_columns": null,
      "grid_template_rows": null,
      "height": null,
      "justify_content": null,
      "justify_items": null,
      "left": null,
      "margin": null,
      "max_height": null,
      "max_width": null,
      "min_height": null,
      "min_width": null,
      "object_fit": null,
      "object_position": null,
      "order": null,
      "overflow": null,
      "overflow_x": null,
      "overflow_y": null,
      "padding": null,
      "right": null,
      "top": null,
      "visibility": null,
      "width": null
     }
    },
    "4b3a33c3f0104377becf27d0d4136f15": {
     "model_module": "@jupyter-widgets/controls",
     "model_module_version": "1.5.0",
     "model_name": "ProgressStyleModel",
     "state": {
      "_model_module": "@jupyter-widgets/controls",
      "_model_module_version": "1.5.0",
      "_model_name": "ProgressStyleModel",
      "_view_count": null,
      "_view_module": "@jupyter-widgets/base",
      "_view_module_version": "1.2.0",
      "_view_name": "StyleView",
      "bar_color": null,
      "description_width": ""
     }
    },
    "50193444600944dba056277d1f4f558d": {
     "model_module": "@jupyter-widgets/base",
     "model_module_version": "1.2.0",
     "model_name": "LayoutModel",
     "state": {
      "_model_module": "@jupyter-widgets/base",
      "_model_module_version": "1.2.0",
      "_model_name": "LayoutModel",
      "_view_count": null,
      "_view_module": "@jupyter-widgets/base",
      "_view_module_version": "1.2.0",
      "_view_name": "LayoutView",
      "align_content": null,
      "align_items": null,
      "align_self": null,
      "border": null,
      "bottom": null,
      "display": null,
      "flex": null,
      "flex_flow": null,
      "grid_area": null,
      "grid_auto_columns": null,
      "grid_auto_flow": null,
      "grid_auto_rows": null,
      "grid_column": null,
      "grid_gap": null,
      "grid_row": null,
      "grid_template_areas": null,
      "grid_template_columns": null,
      "grid_template_rows": null,
      "height": null,
      "justify_content": null,
      "justify_items": null,
      "left": null,
      "margin": null,
      "max_height": null,
      "max_width": null,
      "min_height": null,
      "min_width": null,
      "object_fit": null,
      "object_position": null,
      "order": null,
      "overflow": null,
      "overflow_x": null,
      "overflow_y": null,
      "padding": null,
      "right": null,
      "top": null,
      "visibility": null,
      "width": null
     }
    },
    "553b671dd741407ebe6c7896e40b079a": {
     "model_module": "@jupyter-widgets/base",
     "model_module_version": "1.2.0",
     "model_name": "LayoutModel",
     "state": {
      "_model_module": "@jupyter-widgets/base",
      "_model_module_version": "1.2.0",
      "_model_name": "LayoutModel",
      "_view_count": null,
      "_view_module": "@jupyter-widgets/base",
      "_view_module_version": "1.2.0",
      "_view_name": "LayoutView",
      "align_content": null,
      "align_items": null,
      "align_self": null,
      "border": null,
      "bottom": null,
      "display": null,
      "flex": null,
      "flex_flow": null,
      "grid_area": null,
      "grid_auto_columns": null,
      "grid_auto_flow": null,
      "grid_auto_rows": null,
      "grid_column": null,
      "grid_gap": null,
      "grid_row": null,
      "grid_template_areas": null,
      "grid_template_columns": null,
      "grid_template_rows": null,
      "height": null,
      "justify_content": null,
      "justify_items": null,
      "left": null,
      "margin": null,
      "max_height": null,
      "max_width": null,
      "min_height": null,
      "min_width": null,
      "object_fit": null,
      "object_position": null,
      "order": null,
      "overflow": null,
      "overflow_x": null,
      "overflow_y": null,
      "padding": null,
      "right": null,
      "top": null,
      "visibility": null,
      "width": null
     }
    },
    "584a911d5fe34c9eb31941185d4d631d": {
     "model_module": "@jupyter-widgets/controls",
     "model_module_version": "1.5.0",
     "model_name": "FloatProgressModel",
     "state": {
      "_dom_classes": [],
      "_model_module": "@jupyter-widgets/controls",
      "_model_module_version": "1.5.0",
      "_model_name": "FloatProgressModel",
      "_view_count": null,
      "_view_module": "@jupyter-widgets/controls",
      "_view_module_version": "1.5.0",
      "_view_name": "ProgressView",
      "bar_style": "",
      "description": "",
      "description_tooltip": null,
      "layout": "IPY_MODEL_50193444600944dba056277d1f4f558d",
      "max": 3470,
      "min": 0,
      "orientation": "horizontal",
      "style": "IPY_MODEL_250741578f114e8b8fb78a536be94401",
      "value": 47
     }
    },
    "5e040605b19c4951bd8cafa06f09f044": {
     "model_module": "@jupyter-widgets/base",
     "model_module_version": "1.2.0",
     "model_name": "LayoutModel",
     "state": {
      "_model_module": "@jupyter-widgets/base",
      "_model_module_version": "1.2.0",
      "_model_name": "LayoutModel",
      "_view_count": null,
      "_view_module": "@jupyter-widgets/base",
      "_view_module_version": "1.2.0",
      "_view_name": "LayoutView",
      "align_content": null,
      "align_items": null,
      "align_self": null,
      "border": null,
      "bottom": null,
      "display": null,
      "flex": null,
      "flex_flow": null,
      "grid_area": null,
      "grid_auto_columns": null,
      "grid_auto_flow": null,
      "grid_auto_rows": null,
      "grid_column": null,
      "grid_gap": null,
      "grid_row": null,
      "grid_template_areas": null,
      "grid_template_columns": null,
      "grid_template_rows": null,
      "height": null,
      "justify_content": null,
      "justify_items": null,
      "left": null,
      "margin": null,
      "max_height": null,
      "max_width": null,
      "min_height": null,
      "min_width": null,
      "object_fit": null,
      "object_position": null,
      "order": null,
      "overflow": null,
      "overflow_x": null,
      "overflow_y": null,
      "padding": null,
      "right": null,
      "top": null,
      "visibility": null,
      "width": null
     }
    },
    "63540ad8e2474ce39f3397d9ff61a15b": {
     "model_module": "@jupyter-widgets/controls",
     "model_module_version": "1.5.0",
     "model_name": "HBoxModel",
     "state": {
      "_dom_classes": [],
      "_model_module": "@jupyter-widgets/controls",
      "_model_module_version": "1.5.0",
      "_model_name": "HBoxModel",
      "_view_count": null,
      "_view_module": "@jupyter-widgets/controls",
      "_view_module_version": "1.5.0",
      "_view_name": "HBoxView",
      "box_style": "",
      "children": [
       "IPY_MODEL_3cce29ac1df94c6baf5f6c23dfc93b45",
       "IPY_MODEL_c55185d3845d4cd1953b8cedd5332125",
       "IPY_MODEL_e53faeee28074f69941ee698e72447e5"
      ],
      "layout": "IPY_MODEL_c20db5541bc547cdb5b2d6035c80d792"
     }
    },
    "65aaed59bffb49b6a2530c916ff0226e": {
     "model_module": "@jupyter-widgets/controls",
     "model_module_version": "1.5.0",
     "model_name": "DescriptionStyleModel",
     "state": {
      "_model_module": "@jupyter-widgets/controls",
      "_model_module_version": "1.5.0",
      "_model_name": "DescriptionStyleModel",
      "_view_count": null,
      "_view_module": "@jupyter-widgets/base",
      "_view_module_version": "1.2.0",
      "_view_name": "StyleView",
      "description_width": ""
     }
    },
    "67d97ee26b9944d5a7b59dccf2a2ac7b": {
     "model_module": "@jupyter-widgets/base",
     "model_module_version": "1.2.0",
     "model_name": "LayoutModel",
     "state": {
      "_model_module": "@jupyter-widgets/base",
      "_model_module_version": "1.2.0",
      "_model_name": "LayoutModel",
      "_view_count": null,
      "_view_module": "@jupyter-widgets/base",
      "_view_module_version": "1.2.0",
      "_view_name": "LayoutView",
      "align_content": null,
      "align_items": null,
      "align_self": null,
      "border": null,
      "bottom": null,
      "display": null,
      "flex": null,
      "flex_flow": null,
      "grid_area": null,
      "grid_auto_columns": null,
      "grid_auto_flow": null,
      "grid_auto_rows": null,
      "grid_column": null,
      "grid_gap": null,
      "grid_row": null,
      "grid_template_areas": null,
      "grid_template_columns": null,
      "grid_template_rows": null,
      "height": null,
      "justify_content": null,
      "justify_items": null,
      "left": null,
      "margin": null,
      "max_height": null,
      "max_width": null,
      "min_height": null,
      "min_width": null,
      "object_fit": null,
      "object_position": null,
      "order": null,
      "overflow": null,
      "overflow_x": null,
      "overflow_y": null,
      "padding": null,
      "right": null,
      "top": null,
      "visibility": null,
      "width": null
     }
    },
    "6d51b27ba62e466fb98c31e31dea58bd": {
     "model_module": "@jupyter-widgets/base",
     "model_module_version": "1.2.0",
     "model_name": "LayoutModel",
     "state": {
      "_model_module": "@jupyter-widgets/base",
      "_model_module_version": "1.2.0",
      "_model_name": "LayoutModel",
      "_view_count": null,
      "_view_module": "@jupyter-widgets/base",
      "_view_module_version": "1.2.0",
      "_view_name": "LayoutView",
      "align_content": null,
      "align_items": null,
      "align_self": null,
      "border": null,
      "bottom": null,
      "display": null,
      "flex": null,
      "flex_flow": null,
      "grid_area": null,
      "grid_auto_columns": null,
      "grid_auto_flow": null,
      "grid_auto_rows": null,
      "grid_column": null,
      "grid_gap": null,
      "grid_row": null,
      "grid_template_areas": null,
      "grid_template_columns": null,
      "grid_template_rows": null,
      "height": null,
      "justify_content": null,
      "justify_items": null,
      "left": null,
      "margin": null,
      "max_height": null,
      "max_width": null,
      "min_height": null,
      "min_width": null,
      "object_fit": null,
      "object_position": null,
      "order": null,
      "overflow": null,
      "overflow_x": null,
      "overflow_y": null,
      "padding": null,
      "right": null,
      "top": null,
      "visibility": null,
      "width": null
     }
    },
    "74eb06c2c31d4cfaaa7fc2a01ee1257b": {
     "model_module": "@jupyter-widgets/base",
     "model_module_version": "1.2.0",
     "model_name": "LayoutModel",
     "state": {
      "_model_module": "@jupyter-widgets/base",
      "_model_module_version": "1.2.0",
      "_model_name": "LayoutModel",
      "_view_count": null,
      "_view_module": "@jupyter-widgets/base",
      "_view_module_version": "1.2.0",
      "_view_name": "LayoutView",
      "align_content": null,
      "align_items": null,
      "align_self": null,
      "border": null,
      "bottom": null,
      "display": null,
      "flex": null,
      "flex_flow": null,
      "grid_area": null,
      "grid_auto_columns": null,
      "grid_auto_flow": null,
      "grid_auto_rows": null,
      "grid_column": null,
      "grid_gap": null,
      "grid_row": null,
      "grid_template_areas": null,
      "grid_template_columns": null,
      "grid_template_rows": null,
      "height": null,
      "justify_content": null,
      "justify_items": null,
      "left": null,
      "margin": null,
      "max_height": null,
      "max_width": null,
      "min_height": null,
      "min_width": null,
      "object_fit": null,
      "object_position": null,
      "order": null,
      "overflow": null,
      "overflow_x": null,
      "overflow_y": null,
      "padding": null,
      "right": null,
      "top": null,
      "visibility": null,
      "width": null
     }
    },
    "75116ee9b778461d812db8279a286847": {
     "model_module": "@jupyter-widgets/controls",
     "model_module_version": "1.5.0",
     "model_name": "DescriptionStyleModel",
     "state": {
      "_model_module": "@jupyter-widgets/controls",
      "_model_module_version": "1.5.0",
      "_model_name": "DescriptionStyleModel",
      "_view_count": null,
      "_view_module": "@jupyter-widgets/base",
      "_view_module_version": "1.2.0",
      "_view_name": "StyleView",
      "description_width": ""
     }
    },
    "751444889c954702839cf9ec6fc34af6": {
     "model_module": "@jupyter-widgets/controls",
     "model_module_version": "1.5.0",
     "model_name": "ProgressStyleModel",
     "state": {
      "_model_module": "@jupyter-widgets/controls",
      "_model_module_version": "1.5.0",
      "_model_name": "ProgressStyleModel",
      "_view_count": null,
      "_view_module": "@jupyter-widgets/base",
      "_view_module_version": "1.2.0",
      "_view_name": "StyleView",
      "bar_color": null,
      "description_width": ""
     }
    },
    "7527fa4d09414fbab1d82daae99bcdd4": {
     "model_module": "@jupyter-widgets/controls",
     "model_module_version": "1.5.0",
     "model_name": "FloatProgressModel",
     "state": {
      "_dom_classes": [],
      "_model_module": "@jupyter-widgets/controls",
      "_model_module_version": "1.5.0",
      "_model_name": "FloatProgressModel",
      "_view_count": null,
      "_view_module": "@jupyter-widgets/controls",
      "_view_module_version": "1.5.0",
      "_view_name": "ProgressView",
      "bar_style": "success",
      "description": "",
      "description_tooltip": null,
      "layout": "IPY_MODEL_ff9e045e0625438eb71e2d1de67f0827",
      "max": 53,
      "min": 0,
      "orientation": "horizontal",
      "style": "IPY_MODEL_9a67d62fb4974790904d2c92050cc8c1",
      "value": 53
     }
    },
    "76bdf9f1be014dfe87acf406caa40a57": {
     "model_module": "@jupyter-widgets/controls",
     "model_module_version": "1.5.0",
     "model_name": "DescriptionStyleModel",
     "state": {
      "_model_module": "@jupyter-widgets/controls",
      "_model_module_version": "1.5.0",
      "_model_name": "DescriptionStyleModel",
      "_view_count": null,
      "_view_module": "@jupyter-widgets/base",
      "_view_module_version": "1.2.0",
      "_view_name": "StyleView",
      "description_width": ""
     }
    },
    "785c7709bd5645cf8f456678ef74b7cf": {
     "model_module": "@jupyter-widgets/base",
     "model_module_version": "1.2.0",
     "model_name": "LayoutModel",
     "state": {
      "_model_module": "@jupyter-widgets/base",
      "_model_module_version": "1.2.0",
      "_model_name": "LayoutModel",
      "_view_count": null,
      "_view_module": "@jupyter-widgets/base",
      "_view_module_version": "1.2.0",
      "_view_name": "LayoutView",
      "align_content": null,
      "align_items": null,
      "align_self": null,
      "border": null,
      "bottom": null,
      "display": null,
      "flex": null,
      "flex_flow": null,
      "grid_area": null,
      "grid_auto_columns": null,
      "grid_auto_flow": null,
      "grid_auto_rows": null,
      "grid_column": null,
      "grid_gap": null,
      "grid_row": null,
      "grid_template_areas": null,
      "grid_template_columns": null,
      "grid_template_rows": null,
      "height": null,
      "justify_content": null,
      "justify_items": null,
      "left": null,
      "margin": null,
      "max_height": null,
      "max_width": null,
      "min_height": null,
      "min_width": null,
      "object_fit": null,
      "object_position": null,
      "order": null,
      "overflow": null,
      "overflow_x": null,
      "overflow_y": null,
      "padding": null,
      "right": null,
      "top": null,
      "visibility": null,
      "width": null
     }
    },
    "78efa820dc4346eb953863a81f7fb17a": {
     "model_module": "@jupyter-widgets/base",
     "model_module_version": "1.2.0",
     "model_name": "LayoutModel",
     "state": {
      "_model_module": "@jupyter-widgets/base",
      "_model_module_version": "1.2.0",
      "_model_name": "LayoutModel",
      "_view_count": null,
      "_view_module": "@jupyter-widgets/base",
      "_view_module_version": "1.2.0",
      "_view_name": "LayoutView",
      "align_content": null,
      "align_items": null,
      "align_self": null,
      "border": null,
      "bottom": null,
      "display": null,
      "flex": null,
      "flex_flow": null,
      "grid_area": null,
      "grid_auto_columns": null,
      "grid_auto_flow": null,
      "grid_auto_rows": null,
      "grid_column": null,
      "grid_gap": null,
      "grid_row": null,
      "grid_template_areas": null,
      "grid_template_columns": null,
      "grid_template_rows": null,
      "height": null,
      "justify_content": null,
      "justify_items": null,
      "left": null,
      "margin": null,
      "max_height": null,
      "max_width": null,
      "min_height": null,
      "min_width": null,
      "object_fit": null,
      "object_position": null,
      "order": null,
      "overflow": null,
      "overflow_x": null,
      "overflow_y": null,
      "padding": null,
      "right": null,
      "top": null,
      "visibility": null,
      "width": null
     }
    },
    "797c13ce4b78475cb5f0345353b8fa6d": {
     "model_module": "@jupyter-widgets/controls",
     "model_module_version": "1.5.0",
     "model_name": "DescriptionStyleModel",
     "state": {
      "_model_module": "@jupyter-widgets/controls",
      "_model_module_version": "1.5.0",
      "_model_name": "DescriptionStyleModel",
      "_view_count": null,
      "_view_module": "@jupyter-widgets/base",
      "_view_module_version": "1.2.0",
      "_view_name": "StyleView",
      "description_width": ""
     }
    },
    "79d7e027d7004df1b11c6336807c174f": {
     "model_module": "@jupyter-widgets/base",
     "model_module_version": "1.2.0",
     "model_name": "LayoutModel",
     "state": {
      "_model_module": "@jupyter-widgets/base",
      "_model_module_version": "1.2.0",
      "_model_name": "LayoutModel",
      "_view_count": null,
      "_view_module": "@jupyter-widgets/base",
      "_view_module_version": "1.2.0",
      "_view_name": "LayoutView",
      "align_content": null,
      "align_items": null,
      "align_self": null,
      "border": null,
      "bottom": null,
      "display": null,
      "flex": null,
      "flex_flow": null,
      "grid_area": null,
      "grid_auto_columns": null,
      "grid_auto_flow": null,
      "grid_auto_rows": null,
      "grid_column": null,
      "grid_gap": null,
      "grid_row": null,
      "grid_template_areas": null,
      "grid_template_columns": null,
      "grid_template_rows": null,
      "height": null,
      "justify_content": null,
      "justify_items": null,
      "left": null,
      "margin": null,
      "max_height": null,
      "max_width": null,
      "min_height": null,
      "min_width": null,
      "object_fit": null,
      "object_position": null,
      "order": null,
      "overflow": null,
      "overflow_x": null,
      "overflow_y": null,
      "padding": null,
      "right": null,
      "top": null,
      "visibility": null,
      "width": null
     }
    },
    "7b26173dff4f49f1a0e6ba6282b64452": {
     "model_module": "@jupyter-widgets/base",
     "model_module_version": "1.2.0",
     "model_name": "LayoutModel",
     "state": {
      "_model_module": "@jupyter-widgets/base",
      "_model_module_version": "1.2.0",
      "_model_name": "LayoutModel",
      "_view_count": null,
      "_view_module": "@jupyter-widgets/base",
      "_view_module_version": "1.2.0",
      "_view_name": "LayoutView",
      "align_content": null,
      "align_items": null,
      "align_self": null,
      "border": null,
      "bottom": null,
      "display": null,
      "flex": null,
      "flex_flow": null,
      "grid_area": null,
      "grid_auto_columns": null,
      "grid_auto_flow": null,
      "grid_auto_rows": null,
      "grid_column": null,
      "grid_gap": null,
      "grid_row": null,
      "grid_template_areas": null,
      "grid_template_columns": null,
      "grid_template_rows": null,
      "height": null,
      "justify_content": null,
      "justify_items": null,
      "left": null,
      "margin": null,
      "max_height": null,
      "max_width": null,
      "min_height": null,
      "min_width": null,
      "object_fit": null,
      "object_position": null,
      "order": null,
      "overflow": null,
      "overflow_x": null,
      "overflow_y": null,
      "padding": null,
      "right": null,
      "top": null,
      "visibility": null,
      "width": null
     }
    },
    "7ba8d173eadd4b00af14b99d94d91d54": {
     "model_module": "@jupyter-widgets/base",
     "model_module_version": "1.2.0",
     "model_name": "LayoutModel",
     "state": {
      "_model_module": "@jupyter-widgets/base",
      "_model_module_version": "1.2.0",
      "_model_name": "LayoutModel",
      "_view_count": null,
      "_view_module": "@jupyter-widgets/base",
      "_view_module_version": "1.2.0",
      "_view_name": "LayoutView",
      "align_content": null,
      "align_items": null,
      "align_self": null,
      "border": null,
      "bottom": null,
      "display": null,
      "flex": null,
      "flex_flow": null,
      "grid_area": null,
      "grid_auto_columns": null,
      "grid_auto_flow": null,
      "grid_auto_rows": null,
      "grid_column": null,
      "grid_gap": null,
      "grid_row": null,
      "grid_template_areas": null,
      "grid_template_columns": null,
      "grid_template_rows": null,
      "height": null,
      "justify_content": null,
      "justify_items": null,
      "left": null,
      "margin": null,
      "max_height": null,
      "max_width": null,
      "min_height": null,
      "min_width": null,
      "object_fit": null,
      "object_position": null,
      "order": null,
      "overflow": null,
      "overflow_x": null,
      "overflow_y": null,
      "padding": null,
      "right": null,
      "top": null,
      "visibility": null,
      "width": null
     }
    },
    "7eb3552f34e84c628872529643826c36": {
     "model_module": "@jupyter-widgets/controls",
     "model_module_version": "1.5.0",
     "model_name": "FloatProgressModel",
     "state": {
      "_dom_classes": [],
      "_model_module": "@jupyter-widgets/controls",
      "_model_module_version": "1.5.0",
      "_model_name": "FloatProgressModel",
      "_view_count": null,
      "_view_module": "@jupyter-widgets/controls",
      "_view_module_version": "1.5.0",
      "_view_name": "ProgressView",
      "bar_style": "success",
      "description": "",
      "description_tooltip": null,
      "layout": "IPY_MODEL_553b671dd741407ebe6c7896e40b079a",
      "max": 229,
      "min": 0,
      "orientation": "horizontal",
      "style": "IPY_MODEL_b2f745469ba8421a9c53f830dbbf9230",
      "value": 229
     }
    },
    "8156bcef58a74c7eb3a202aeb45a2680": {
     "model_module": "@jupyter-widgets/controls",
     "model_module_version": "1.5.0",
     "model_name": "DescriptionStyleModel",
     "state": {
      "_model_module": "@jupyter-widgets/controls",
      "_model_module_version": "1.5.0",
      "_model_name": "DescriptionStyleModel",
      "_view_count": null,
      "_view_module": "@jupyter-widgets/base",
      "_view_module_version": "1.2.0",
      "_view_name": "StyleView",
      "description_width": ""
     }
    },
    "83ce24f7274249e588f8c9b8fb9b9d66": {
     "model_module": "@jupyter-widgets/base",
     "model_module_version": "1.2.0",
     "model_name": "LayoutModel",
     "state": {
      "_model_module": "@jupyter-widgets/base",
      "_model_module_version": "1.2.0",
      "_model_name": "LayoutModel",
      "_view_count": null,
      "_view_module": "@jupyter-widgets/base",
      "_view_module_version": "1.2.0",
      "_view_name": "LayoutView",
      "align_content": null,
      "align_items": null,
      "align_self": null,
      "border": null,
      "bottom": null,
      "display": null,
      "flex": null,
      "flex_flow": null,
      "grid_area": null,
      "grid_auto_columns": null,
      "grid_auto_flow": null,
      "grid_auto_rows": null,
      "grid_column": null,
      "grid_gap": null,
      "grid_row": null,
      "grid_template_areas": null,
      "grid_template_columns": null,
      "grid_template_rows": null,
      "height": null,
      "justify_content": null,
      "justify_items": null,
      "left": null,
      "margin": null,
      "max_height": null,
      "max_width": null,
      "min_height": null,
      "min_width": null,
      "object_fit": null,
      "object_position": null,
      "order": null,
      "overflow": null,
      "overflow_x": null,
      "overflow_y": null,
      "padding": null,
      "right": null,
      "top": null,
      "visibility": null,
      "width": null
     }
    },
    "856f4f6660f44253a4e521bcf2c44a8e": {
     "model_module": "@jupyter-widgets/base",
     "model_module_version": "1.2.0",
     "model_name": "LayoutModel",
     "state": {
      "_model_module": "@jupyter-widgets/base",
      "_model_module_version": "1.2.0",
      "_model_name": "LayoutModel",
      "_view_count": null,
      "_view_module": "@jupyter-widgets/base",
      "_view_module_version": "1.2.0",
      "_view_name": "LayoutView",
      "align_content": null,
      "align_items": null,
      "align_self": null,
      "border": null,
      "bottom": null,
      "display": null,
      "flex": null,
      "flex_flow": null,
      "grid_area": null,
      "grid_auto_columns": null,
      "grid_auto_flow": null,
      "grid_auto_rows": null,
      "grid_column": null,
      "grid_gap": null,
      "grid_row": null,
      "grid_template_areas": null,
      "grid_template_columns": null,
      "grid_template_rows": null,
      "height": null,
      "justify_content": null,
      "justify_items": null,
      "left": null,
      "margin": null,
      "max_height": null,
      "max_width": null,
      "min_height": null,
      "min_width": null,
      "object_fit": null,
      "object_position": null,
      "order": null,
      "overflow": null,
      "overflow_x": null,
      "overflow_y": null,
      "padding": null,
      "right": null,
      "top": null,
      "visibility": null,
      "width": null
     }
    },
    "888e4ae3d23f4290a7b7fda2194508e6": {
     "model_module": "@jupyter-widgets/controls",
     "model_module_version": "1.5.0",
     "model_name": "HTMLModel",
     "state": {
      "_dom_classes": [],
      "_model_module": "@jupyter-widgets/controls",
      "_model_module_version": "1.5.0",
      "_model_name": "HTMLModel",
      "_view_count": null,
      "_view_module": "@jupyter-widgets/controls",
      "_view_module_version": "1.5.0",
      "_view_name": "HTMLView",
      "description": "",
      "description_tooltip": null,
      "layout": "IPY_MODEL_856f4f6660f44253a4e521bcf2c44a8e",
      "placeholder": "​",
      "style": "IPY_MODEL_302912d392cf4a22a5f5383c823e15ed",
      "value": " 150/150 [00:00&lt;00:00, 8.09kB/s]"
     }
    },
    "8c4471b454cc4335b591937d352128f6": {
     "model_module": "@jupyter-widgets/controls",
     "model_module_version": "1.5.0",
     "model_name": "FloatProgressModel",
     "state": {
      "_dom_classes": [],
      "_model_module": "@jupyter-widgets/controls",
      "_model_module_version": "1.5.0",
      "_model_name": "FloatProgressModel",
      "_view_count": null,
      "_view_module": "@jupyter-widgets/controls",
      "_view_module_version": "1.5.0",
      "_view_name": "ProgressView",
      "bar_style": "success",
      "description": "",
      "description_tooltip": null,
      "layout": "IPY_MODEL_7b26173dff4f49f1a0e6ba6282b64452",
      "max": 718,
      "min": 0,
      "orientation": "horizontal",
      "style": "IPY_MODEL_2a16494b02254447aef39f665bf3e96f",
      "value": 718
     }
    },
    "8f24a0bd04b44c458fd086dd2b160ad6": {
     "model_module": "@jupyter-widgets/base",
     "model_module_version": "1.2.0",
     "model_name": "LayoutModel",
     "state": {
      "_model_module": "@jupyter-widgets/base",
      "_model_module_version": "1.2.0",
      "_model_name": "LayoutModel",
      "_view_count": null,
      "_view_module": "@jupyter-widgets/base",
      "_view_module_version": "1.2.0",
      "_view_name": "LayoutView",
      "align_content": null,
      "align_items": null,
      "align_self": null,
      "border": null,
      "bottom": null,
      "display": null,
      "flex": null,
      "flex_flow": null,
      "grid_area": null,
      "grid_auto_columns": null,
      "grid_auto_flow": null,
      "grid_auto_rows": null,
      "grid_column": null,
      "grid_gap": null,
      "grid_row": null,
      "grid_template_areas": null,
      "grid_template_columns": null,
      "grid_template_rows": null,
      "height": null,
      "justify_content": null,
      "justify_items": null,
      "left": null,
      "margin": null,
      "max_height": null,
      "max_width": null,
      "min_height": null,
      "min_width": null,
      "object_fit": null,
      "object_position": null,
      "order": null,
      "overflow": null,
      "overflow_x": null,
      "overflow_y": null,
      "padding": null,
      "right": null,
      "top": null,
      "visibility": null,
      "width": null
     }
    },
    "92fc99e249d946c89a01a315e7557332": {
     "model_module": "@jupyter-widgets/controls",
     "model_module_version": "1.5.0",
     "model_name": "HTMLModel",
     "state": {
      "_dom_classes": [],
      "_model_module": "@jupyter-widgets/controls",
      "_model_module_version": "1.5.0",
      "_model_name": "HTMLModel",
      "_view_count": null,
      "_view_module": "@jupyter-widgets/controls",
      "_view_module_version": "1.5.0",
      "_view_name": "HTMLView",
      "description": "",
      "description_tooltip": null,
      "layout": "IPY_MODEL_74eb06c2c31d4cfaaa7fc2a01ee1257b",
      "placeholder": "​",
      "style": "IPY_MODEL_1041135dd8e642318cc3ffaf01e9f86e",
      "value": " 550/550 [00:00&lt;00:00, 23.4kB/s]"
     }
    },
    "931a0d23dfb14feeae0f3a83b5090943": {
     "model_module": "@jupyter-widgets/controls",
     "model_module_version": "1.5.0",
     "model_name": "ProgressStyleModel",
     "state": {
      "_model_module": "@jupyter-widgets/controls",
      "_model_module_version": "1.5.0",
      "_model_name": "ProgressStyleModel",
      "_view_count": null,
      "_view_module": "@jupyter-widgets/base",
      "_view_module_version": "1.2.0",
      "_view_name": "StyleView",
      "bar_color": null,
      "description_width": ""
     }
    },
    "94796607729548978a8a60b6669494ea": {
     "model_module": "@jupyter-widgets/base",
     "model_module_version": "1.2.0",
     "model_name": "LayoutModel",
     "state": {
      "_model_module": "@jupyter-widgets/base",
      "_model_module_version": "1.2.0",
      "_model_name": "LayoutModel",
      "_view_count": null,
      "_view_module": "@jupyter-widgets/base",
      "_view_module_version": "1.2.0",
      "_view_name": "LayoutView",
      "align_content": null,
      "align_items": null,
      "align_self": null,
      "border": null,
      "bottom": null,
      "display": null,
      "flex": null,
      "flex_flow": null,
      "grid_area": null,
      "grid_auto_columns": null,
      "grid_auto_flow": null,
      "grid_auto_rows": null,
      "grid_column": null,
      "grid_gap": null,
      "grid_row": null,
      "grid_template_areas": null,
      "grid_template_columns": null,
      "grid_template_rows": null,
      "height": null,
      "justify_content": null,
      "justify_items": null,
      "left": null,
      "margin": null,
      "max_height": null,
      "max_width": null,
      "min_height": null,
      "min_width": null,
      "object_fit": null,
      "object_position": null,
      "order": null,
      "overflow": null,
      "overflow_x": null,
      "overflow_y": null,
      "padding": null,
      "right": null,
      "top": null,
      "visibility": null,
      "width": null
     }
    },
    "9603227136ad4e27973e63d49670b436": {
     "model_module": "@jupyter-widgets/controls",
     "model_module_version": "1.5.0",
     "model_name": "HTMLModel",
     "state": {
      "_dom_classes": [],
      "_model_module": "@jupyter-widgets/controls",
      "_model_module_version": "1.5.0",
      "_model_name": "HTMLModel",
      "_view_count": null,
      "_view_module": "@jupyter-widgets/controls",
      "_view_module_version": "1.5.0",
      "_view_name": "HTMLView",
      "description": "",
      "description_tooltip": null,
      "layout": "IPY_MODEL_f52562056c244a7b973e432e529cd651",
      "placeholder": "​",
      "style": "IPY_MODEL_76bdf9f1be014dfe87acf406caa40a57",
      "value": "model.safetensors: 100%"
     }
    },
    "9761f8e5fdcc44edbeef67ec6e728544": {
     "model_module": "@jupyter-widgets/base",
     "model_module_version": "1.2.0",
     "model_name": "LayoutModel",
     "state": {
      "_model_module": "@jupyter-widgets/base",
      "_model_module_version": "1.2.0",
      "_model_name": "LayoutModel",
      "_view_count": null,
      "_view_module": "@jupyter-widgets/base",
      "_view_module_version": "1.2.0",
      "_view_name": "LayoutView",
      "align_content": null,
      "align_items": null,
      "align_self": null,
      "border": null,
      "bottom": null,
      "display": null,
      "flex": null,
      "flex_flow": null,
      "grid_area": null,
      "grid_auto_columns": null,
      "grid_auto_flow": null,
      "grid_auto_rows": null,
      "grid_column": null,
      "grid_gap": null,
      "grid_row": null,
      "grid_template_areas": null,
      "grid_template_columns": null,
      "grid_template_rows": null,
      "height": null,
      "justify_content": null,
      "justify_items": null,
      "left": null,
      "margin": null,
      "max_height": null,
      "max_width": null,
      "min_height": null,
      "min_width": null,
      "object_fit": null,
      "object_position": null,
      "order": null,
      "overflow": null,
      "overflow_x": null,
      "overflow_y": null,
      "padding": null,
      "right": null,
      "top": null,
      "visibility": null,
      "width": null
     }
    },
    "97b8d58af25943c183cd2b4ac93c30a4": {
     "model_module": "@jupyter-widgets/controls",
     "model_module_version": "1.5.0",
     "model_name": "HBoxModel",
     "state": {
      "_dom_classes": [],
      "_model_module": "@jupyter-widgets/controls",
      "_model_module_version": "1.5.0",
      "_model_name": "HBoxModel",
      "_view_count": null,
      "_view_module": "@jupyter-widgets/controls",
      "_view_module_version": "1.5.0",
      "_view_name": "HBoxView",
      "box_style": "",
      "children": [
       "IPY_MODEL_1703b792e0244dcd9013e4698720dbd1",
       "IPY_MODEL_cf66564166de4aceadd4deb388694704",
       "IPY_MODEL_92fc99e249d946c89a01a315e7557332"
      ],
      "layout": "IPY_MODEL_ca2e6f426c0d4dca97df46f3097f0ec6"
     }
    },
    "98ea5b63c9524ac19aacb091a8a0ad7f": {
     "model_module": "@jupyter-widgets/controls",
     "model_module_version": "1.5.0",
     "model_name": "ProgressStyleModel",
     "state": {
      "_model_module": "@jupyter-widgets/controls",
      "_model_module_version": "1.5.0",
      "_model_name": "ProgressStyleModel",
      "_view_count": null,
      "_view_module": "@jupyter-widgets/base",
      "_view_module_version": "1.2.0",
      "_view_name": "StyleView",
      "bar_color": null,
      "description_width": ""
     }
    },
    "9a67d62fb4974790904d2c92050cc8c1": {
     "model_module": "@jupyter-widgets/controls",
     "model_module_version": "1.5.0",
     "model_name": "ProgressStyleModel",
     "state": {
      "_model_module": "@jupyter-widgets/controls",
      "_model_module_version": "1.5.0",
      "_model_name": "ProgressStyleModel",
      "_view_count": null,
      "_view_module": "@jupyter-widgets/base",
      "_view_module_version": "1.2.0",
      "_view_name": "StyleView",
      "bar_color": null,
      "description_width": ""
     }
    },
    "9aabd5f322054841b6784f345fc589cf": {
     "model_module": "@jupyter-widgets/controls",
     "model_module_version": "1.5.0",
     "model_name": "DescriptionStyleModel",
     "state": {
      "_model_module": "@jupyter-widgets/controls",
      "_model_module_version": "1.5.0",
      "_model_name": "DescriptionStyleModel",
      "_view_count": null,
      "_view_module": "@jupyter-widgets/base",
      "_view_module_version": "1.2.0",
      "_view_name": "StyleView",
      "description_width": ""
     }
    },
    "9d17503749ca497f830a09f8559309ca": {
     "model_module": "@jupyter-widgets/base",
     "model_module_version": "1.2.0",
     "model_name": "LayoutModel",
     "state": {
      "_model_module": "@jupyter-widgets/base",
      "_model_module_version": "1.2.0",
      "_model_name": "LayoutModel",
      "_view_count": null,
      "_view_module": "@jupyter-widgets/base",
      "_view_module_version": "1.2.0",
      "_view_name": "LayoutView",
      "align_content": null,
      "align_items": null,
      "align_self": null,
      "border": null,
      "bottom": null,
      "display": null,
      "flex": null,
      "flex_flow": null,
      "grid_area": null,
      "grid_auto_columns": null,
      "grid_auto_flow": null,
      "grid_auto_rows": null,
      "grid_column": null,
      "grid_gap": null,
      "grid_row": null,
      "grid_template_areas": null,
      "grid_template_columns": null,
      "grid_template_rows": null,
      "height": null,
      "justify_content": null,
      "justify_items": null,
      "left": null,
      "margin": null,
      "max_height": null,
      "max_width": null,
      "min_height": null,
      "min_width": null,
      "object_fit": null,
      "object_position": null,
      "order": null,
      "overflow": null,
      "overflow_x": null,
      "overflow_y": null,
      "padding": null,
      "right": null,
      "top": null,
      "visibility": null,
      "width": null
     }
    },
    "9e91a888bb3f40debaf7a01bd8469d30": {
     "model_module": "@jupyter-widgets/controls",
     "model_module_version": "1.5.0",
     "model_name": "HTMLModel",
     "state": {
      "_dom_classes": [],
      "_model_module": "@jupyter-widgets/controls",
      "_model_module_version": "1.5.0",
      "_model_name": "HTMLModel",
      "_view_count": null,
      "_view_module": "@jupyter-widgets/controls",
      "_view_module_version": "1.5.0",
      "_view_name": "HTMLView",
      "description": "",
      "description_tooltip": null,
      "layout": "IPY_MODEL_d806331a5b2f4209a0a664893c832d4c",
      "placeholder": "​",
      "style": "IPY_MODEL_3163c37e789441e1a8b9e603d5191faf",
      "value": "Batches:   1%"
     }
    },
    "a07c649612da424bbadcee45c11ec665": {
     "model_module": "@jupyter-widgets/controls",
     "model_module_version": "1.5.0",
     "model_name": "ProgressStyleModel",
     "state": {
      "_model_module": "@jupyter-widgets/controls",
      "_model_module_version": "1.5.0",
      "_model_name": "ProgressStyleModel",
      "_view_count": null,
      "_view_module": "@jupyter-widgets/base",
      "_view_module_version": "1.2.0",
      "_view_name": "StyleView",
      "bar_color": null,
      "description_width": ""
     }
    },
    "a330babe737e4a96b932dc0b661dffe0": {
     "model_module": "@jupyter-widgets/controls",
     "model_module_version": "1.5.0",
     "model_name": "DescriptionStyleModel",
     "state": {
      "_model_module": "@jupyter-widgets/controls",
      "_model_module_version": "1.5.0",
      "_model_name": "DescriptionStyleModel",
      "_view_count": null,
      "_view_module": "@jupyter-widgets/base",
      "_view_module_version": "1.2.0",
      "_view_name": "StyleView",
      "description_width": ""
     }
    },
    "a94ef80ea70245efa6c87de96931d0bf": {
     "model_module": "@jupyter-widgets/base",
     "model_module_version": "1.2.0",
     "model_name": "LayoutModel",
     "state": {
      "_model_module": "@jupyter-widgets/base",
      "_model_module_version": "1.2.0",
      "_model_name": "LayoutModel",
      "_view_count": null,
      "_view_module": "@jupyter-widgets/base",
      "_view_module_version": "1.2.0",
      "_view_name": "LayoutView",
      "align_content": null,
      "align_items": null,
      "align_self": null,
      "border": null,
      "bottom": null,
      "display": null,
      "flex": null,
      "flex_flow": null,
      "grid_area": null,
      "grid_auto_columns": null,
      "grid_auto_flow": null,
      "grid_auto_rows": null,
      "grid_column": null,
      "grid_gap": null,
      "grid_row": null,
      "grid_template_areas": null,
      "grid_template_columns": null,
      "grid_template_rows": null,
      "height": null,
      "justify_content": null,
      "justify_items": null,
      "left": null,
      "margin": null,
      "max_height": null,
      "max_width": null,
      "min_height": null,
      "min_width": null,
      "object_fit": null,
      "object_position": null,
      "order": null,
      "overflow": null,
      "overflow_x": null,
      "overflow_y": null,
      "padding": null,
      "right": null,
      "top": null,
      "visibility": null,
      "width": null
     }
    },
    "aa2475650f074fd1900d9255d905216a": {
     "model_module": "@jupyter-widgets/base",
     "model_module_version": "1.2.0",
     "model_name": "LayoutModel",
     "state": {
      "_model_module": "@jupyter-widgets/base",
      "_model_module_version": "1.2.0",
      "_model_name": "LayoutModel",
      "_view_count": null,
      "_view_module": "@jupyter-widgets/base",
      "_view_module_version": "1.2.0",
      "_view_name": "LayoutView",
      "align_content": null,
      "align_items": null,
      "align_self": null,
      "border": null,
      "bottom": null,
      "display": null,
      "flex": null,
      "flex_flow": null,
      "grid_area": null,
      "grid_auto_columns": null,
      "grid_auto_flow": null,
      "grid_auto_rows": null,
      "grid_column": null,
      "grid_gap": null,
      "grid_row": null,
      "grid_template_areas": null,
      "grid_template_columns": null,
      "grid_template_rows": null,
      "height": null,
      "justify_content": null,
      "justify_items": null,
      "left": null,
      "margin": null,
      "max_height": null,
      "max_width": null,
      "min_height": null,
      "min_width": null,
      "object_fit": null,
      "object_position": null,
      "order": null,
      "overflow": null,
      "overflow_x": null,
      "overflow_y": null,
      "padding": null,
      "right": null,
      "top": null,
      "visibility": null,
      "width": null
     }
    },
    "ae1f20cb42e5425f9874ebc44426e8d2": {
     "model_module": "@jupyter-widgets/controls",
     "model_module_version": "1.5.0",
     "model_name": "HTMLModel",
     "state": {
      "_dom_classes": [],
      "_model_module": "@jupyter-widgets/controls",
      "_model_module_version": "1.5.0",
      "_model_name": "HTMLModel",
      "_view_count": null,
      "_view_module": "@jupyter-widgets/controls",
      "_view_module_version": "1.5.0",
      "_view_name": "HTMLView",
      "description": "",
      "description_tooltip": null,
      "layout": "IPY_MODEL_b72bea94c6364af2a9c883411658b5c0",
      "placeholder": "​",
      "style": "IPY_MODEL_121ea1fed0bf4ce382be7ca25ec116bf",
      "value": "sentence_bert_config.json: 100%"
     }
    },
    "b15f40d9850647f4aa66ab2091f0cfad": {
     "model_module": "@jupyter-widgets/base",
     "model_module_version": "1.2.0",
     "model_name": "LayoutModel",
     "state": {
      "_model_module": "@jupyter-widgets/base",
      "_model_module_version": "1.2.0",
      "_model_name": "LayoutModel",
      "_view_count": null,
      "_view_module": "@jupyter-widgets/base",
      "_view_module_version": "1.2.0",
      "_view_name": "LayoutView",
      "align_content": null,
      "align_items": null,
      "align_self": null,
      "border": null,
      "bottom": null,
      "display": null,
      "flex": null,
      "flex_flow": null,
      "grid_area": null,
      "grid_auto_columns": null,
      "grid_auto_flow": null,
      "grid_auto_rows": null,
      "grid_column": null,
      "grid_gap": null,
      "grid_row": null,
      "grid_template_areas": null,
      "grid_template_columns": null,
      "grid_template_rows": null,
      "height": null,
      "justify_content": null,
      "justify_items": null,
      "left": null,
      "margin": null,
      "max_height": null,
      "max_width": null,
      "min_height": null,
      "min_width": null,
      "object_fit": null,
      "object_position": null,
      "order": null,
      "overflow": null,
      "overflow_x": null,
      "overflow_y": null,
      "padding": null,
      "right": null,
      "top": null,
      "visibility": null,
      "width": null
     }
    },
    "b1fea049a31646ea9b5984b4ab9f1421": {
     "model_module": "@jupyter-widgets/base",
     "model_module_version": "1.2.0",
     "model_name": "LayoutModel",
     "state": {
      "_model_module": "@jupyter-widgets/base",
      "_model_module_version": "1.2.0",
      "_model_name": "LayoutModel",
      "_view_count": null,
      "_view_module": "@jupyter-widgets/base",
      "_view_module_version": "1.2.0",
      "_view_name": "LayoutView",
      "align_content": null,
      "align_items": null,
      "align_self": null,
      "border": null,
      "bottom": null,
      "display": null,
      "flex": null,
      "flex_flow": null,
      "grid_area": null,
      "grid_auto_columns": null,
      "grid_auto_flow": null,
      "grid_auto_rows": null,
      "grid_column": null,
      "grid_gap": null,
      "grid_row": null,
      "grid_template_areas": null,
      "grid_template_columns": null,
      "grid_template_rows": null,
      "height": null,
      "justify_content": null,
      "justify_items": null,
      "left": null,
      "margin": null,
      "max_height": null,
      "max_width": null,
      "min_height": null,
      "min_width": null,
      "object_fit": null,
      "object_position": null,
      "order": null,
      "overflow": null,
      "overflow_x": null,
      "overflow_y": null,
      "padding": null,
      "right": null,
      "top": null,
      "visibility": null,
      "width": null
     }
    },
    "b2f745469ba8421a9c53f830dbbf9230": {
     "model_module": "@jupyter-widgets/controls",
     "model_module_version": "1.5.0",
     "model_name": "ProgressStyleModel",
     "state": {
      "_model_module": "@jupyter-widgets/controls",
      "_model_module_version": "1.5.0",
      "_model_name": "ProgressStyleModel",
      "_view_count": null,
      "_view_module": "@jupyter-widgets/base",
      "_view_module_version": "1.2.0",
      "_view_name": "StyleView",
      "bar_color": null,
      "description_width": ""
     }
    },
    "b33f878fde814c4a9a453205579fcd0f": {
     "model_module": "@jupyter-widgets/base",
     "model_module_version": "1.2.0",
     "model_name": "LayoutModel",
     "state": {
      "_model_module": "@jupyter-widgets/base",
      "_model_module_version": "1.2.0",
      "_model_name": "LayoutModel",
      "_view_count": null,
      "_view_module": "@jupyter-widgets/base",
      "_view_module_version": "1.2.0",
      "_view_name": "LayoutView",
      "align_content": null,
      "align_items": null,
      "align_self": null,
      "border": null,
      "bottom": null,
      "display": null,
      "flex": null,
      "flex_flow": null,
      "grid_area": null,
      "grid_auto_columns": null,
      "grid_auto_flow": null,
      "grid_auto_rows": null,
      "grid_column": null,
      "grid_gap": null,
      "grid_row": null,
      "grid_template_areas": null,
      "grid_template_columns": null,
      "grid_template_rows": null,
      "height": null,
      "justify_content": null,
      "justify_items": null,
      "left": null,
      "margin": null,
      "max_height": null,
      "max_width": null,
      "min_height": null,
      "min_width": null,
      "object_fit": null,
      "object_position": null,
      "order": null,
      "overflow": null,
      "overflow_x": null,
      "overflow_y": null,
      "padding": null,
      "right": null,
      "top": null,
      "visibility": null,
      "width": null
     }
    },
    "b72bea94c6364af2a9c883411658b5c0": {
     "model_module": "@jupyter-widgets/base",
     "model_module_version": "1.2.0",
     "model_name": "LayoutModel",
     "state": {
      "_model_module": "@jupyter-widgets/base",
      "_model_module_version": "1.2.0",
      "_model_name": "LayoutModel",
      "_view_count": null,
      "_view_module": "@jupyter-widgets/base",
      "_view_module_version": "1.2.0",
      "_view_name": "LayoutView",
      "align_content": null,
      "align_items": null,
      "align_self": null,
      "border": null,
      "bottom": null,
      "display": null,
      "flex": null,
      "flex_flow": null,
      "grid_area": null,
      "grid_auto_columns": null,
      "grid_auto_flow": null,
      "grid_auto_rows": null,
      "grid_column": null,
      "grid_gap": null,
      "grid_row": null,
      "grid_template_areas": null,
      "grid_template_columns": null,
      "grid_template_rows": null,
      "height": null,
      "justify_content": null,
      "justify_items": null,
      "left": null,
      "margin": null,
      "max_height": null,
      "max_width": null,
      "min_height": null,
      "min_width": null,
      "object_fit": null,
      "object_position": null,
      "order": null,
      "overflow": null,
      "overflow_x": null,
      "overflow_y": null,
      "padding": null,
      "right": null,
      "top": null,
      "visibility": null,
      "width": null
     }
    },
    "b98e33af5e634a84888b96ee67b0df18": {
     "model_module": "@jupyter-widgets/base",
     "model_module_version": "1.2.0",
     "model_name": "LayoutModel",
     "state": {
      "_model_module": "@jupyter-widgets/base",
      "_model_module_version": "1.2.0",
      "_model_name": "LayoutModel",
      "_view_count": null,
      "_view_module": "@jupyter-widgets/base",
      "_view_module_version": "1.2.0",
      "_view_name": "LayoutView",
      "align_content": null,
      "align_items": null,
      "align_self": null,
      "border": null,
      "bottom": null,
      "display": null,
      "flex": null,
      "flex_flow": null,
      "grid_area": null,
      "grid_auto_columns": null,
      "grid_auto_flow": null,
      "grid_auto_rows": null,
      "grid_column": null,
      "grid_gap": null,
      "grid_row": null,
      "grid_template_areas": null,
      "grid_template_columns": null,
      "grid_template_rows": null,
      "height": null,
      "justify_content": null,
      "justify_items": null,
      "left": null,
      "margin": null,
      "max_height": null,
      "max_width": null,
      "min_height": null,
      "min_width": null,
      "object_fit": null,
      "object_position": null,
      "order": null,
      "overflow": null,
      "overflow_x": null,
      "overflow_y": null,
      "padding": null,
      "right": null,
      "top": null,
      "visibility": null,
      "width": null
     }
    },
    "bc2190a27a2848f5bf626df48539634d": {
     "model_module": "@jupyter-widgets/base",
     "model_module_version": "1.2.0",
     "model_name": "LayoutModel",
     "state": {
      "_model_module": "@jupyter-widgets/base",
      "_model_module_version": "1.2.0",
      "_model_name": "LayoutModel",
      "_view_count": null,
      "_view_module": "@jupyter-widgets/base",
      "_view_module_version": "1.2.0",
      "_view_name": "LayoutView",
      "align_content": null,
      "align_items": null,
      "align_self": null,
      "border": null,
      "bottom": null,
      "display": null,
      "flex": null,
      "flex_flow": null,
      "grid_area": null,
      "grid_auto_columns": null,
      "grid_auto_flow": null,
      "grid_auto_rows": null,
      "grid_column": null,
      "grid_gap": null,
      "grid_row": null,
      "grid_template_areas": null,
      "grid_template_columns": null,
      "grid_template_rows": null,
      "height": null,
      "justify_content": null,
      "justify_items": null,
      "left": null,
      "margin": null,
      "max_height": null,
      "max_width": null,
      "min_height": null,
      "min_width": null,
      "object_fit": null,
      "object_position": null,
      "order": null,
      "overflow": null,
      "overflow_x": null,
      "overflow_y": null,
      "padding": null,
      "right": null,
      "top": null,
      "visibility": null,
      "width": null
     }
    },
    "c20db5541bc547cdb5b2d6035c80d792": {
     "model_module": "@jupyter-widgets/base",
     "model_module_version": "1.2.0",
     "model_name": "LayoutModel",
     "state": {
      "_model_module": "@jupyter-widgets/base",
      "_model_module_version": "1.2.0",
      "_model_name": "LayoutModel",
      "_view_count": null,
      "_view_module": "@jupyter-widgets/base",
      "_view_module_version": "1.2.0",
      "_view_name": "LayoutView",
      "align_content": null,
      "align_items": null,
      "align_self": null,
      "border": null,
      "bottom": null,
      "display": null,
      "flex": null,
      "flex_flow": null,
      "grid_area": null,
      "grid_auto_columns": null,
      "grid_auto_flow": null,
      "grid_auto_rows": null,
      "grid_column": null,
      "grid_gap": null,
      "grid_row": null,
      "grid_template_areas": null,
      "grid_template_columns": null,
      "grid_template_rows": null,
      "height": null,
      "justify_content": null,
      "justify_items": null,
      "left": null,
      "margin": null,
      "max_height": null,
      "max_width": null,
      "min_height": null,
      "min_width": null,
      "object_fit": null,
      "object_position": null,
      "order": null,
      "overflow": null,
      "overflow_x": null,
      "overflow_y": null,
      "padding": null,
      "right": null,
      "top": null,
      "visibility": null,
      "width": null
     }
    },
    "c273d2bff4a54181be471bbc05f9090f": {
     "model_module": "@jupyter-widgets/controls",
     "model_module_version": "1.5.0",
     "model_name": "ProgressStyleModel",
     "state": {
      "_model_module": "@jupyter-widgets/controls",
      "_model_module_version": "1.5.0",
      "_model_name": "ProgressStyleModel",
      "_view_count": null,
      "_view_module": "@jupyter-widgets/base",
      "_view_module_version": "1.2.0",
      "_view_name": "StyleView",
      "bar_color": null,
      "description_width": ""
     }
    },
    "c371f4ed10be45b793bac4ccd11bc2f8": {
     "model_module": "@jupyter-widgets/controls",
     "model_module_version": "1.5.0",
     "model_name": "HTMLModel",
     "state": {
      "_dom_classes": [],
      "_model_module": "@jupyter-widgets/controls",
      "_model_module_version": "1.5.0",
      "_model_name": "HTMLModel",
      "_view_count": null,
      "_view_module": "@jupyter-widgets/controls",
      "_view_module_version": "1.5.0",
      "_view_name": "HTMLView",
      "description": "",
      "description_tooltip": null,
      "layout": "IPY_MODEL_e6cd4c4fa5fd418a8ce061fc79732671",
      "placeholder": "​",
      "style": "IPY_MODEL_797c13ce4b78475cb5f0345353b8fa6d",
      "value": " 1.11G/1.11G [00:05&lt;00:00, 175MB/s]"
     }
    },
    "c53b93e1c45f4bd3aa13f371ae37d278": {
     "model_module": "@jupyter-widgets/controls",
     "model_module_version": "1.5.0",
     "model_name": "DescriptionStyleModel",
     "state": {
      "_model_module": "@jupyter-widgets/controls",
      "_model_module_version": "1.5.0",
      "_model_name": "DescriptionStyleModel",
      "_view_count": null,
      "_view_module": "@jupyter-widgets/base",
      "_view_module_version": "1.2.0",
      "_view_name": "StyleView",
      "description_width": ""
     }
    },
    "c55185d3845d4cd1953b8cedd5332125": {
     "model_module": "@jupyter-widgets/controls",
     "model_module_version": "1.5.0",
     "model_name": "FloatProgressModel",
     "state": {
      "_dom_classes": [],
      "_model_module": "@jupyter-widgets/controls",
      "_model_module_version": "1.5.0",
      "_model_name": "FloatProgressModel",
      "_view_count": null,
      "_view_module": "@jupyter-widgets/controls",
      "_view_module_version": "1.5.0",
      "_view_name": "ProgressView",
      "bar_style": "success",
      "description": "",
      "description_tooltip": null,
      "layout": "IPY_MODEL_fdd53840318c4ad9af4ea88e210b06c7",
      "max": 5069051,
      "min": 0,
      "orientation": "horizontal",
      "style": "IPY_MODEL_a07c649612da424bbadcee45c11ec665",
      "value": 5069051
     }
    },
    "c6bb1df88af14dceb3a33eb468249264": {
     "model_module": "@jupyter-widgets/controls",
     "model_module_version": "1.5.0",
     "model_name": "HBoxModel",
     "state": {
      "_dom_classes": [],
      "_model_module": "@jupyter-widgets/controls",
      "_model_module_version": "1.5.0",
      "_model_name": "HBoxModel",
      "_view_count": null,
      "_view_module": "@jupyter-widgets/controls",
      "_view_module_version": "1.5.0",
      "_view_name": "HBoxView",
      "box_style": "",
      "children": [
       "IPY_MODEL_3083c9fd31164179bc8a560a0af284bf",
       "IPY_MODEL_d9040a3766d34592a95f37dcc7214d70",
       "IPY_MODEL_0e3b777686bd46cab9e587b3633a9ab7"
      ],
      "layout": "IPY_MODEL_12809a42ca604766a9639e8d0a6305ed"
     }
    },
    "c7d6ec27732c4f60a8936f59143a77a3": {
     "model_module": "@jupyter-widgets/controls",
     "model_module_version": "1.5.0",
     "model_name": "HTMLModel",
     "state": {
      "_dom_classes": [],
      "_model_module": "@jupyter-widgets/controls",
      "_model_module_version": "1.5.0",
      "_model_name": "HTMLModel",
      "_view_count": null,
      "_view_module": "@jupyter-widgets/controls",
      "_view_module_version": "1.5.0",
      "_view_name": "HTMLView",
      "description": "",
      "description_tooltip": null,
      "layout": "IPY_MODEL_b15f40d9850647f4aa66ab2091f0cfad",
      "placeholder": "​",
      "style": "IPY_MODEL_9aabd5f322054841b6784f345fc589cf",
      "value": " 122/122 [00:00&lt;00:00, 7.11kB/s]"
     }
    },
    "c8fc99962c384ddc8735d3442a91ba47": {
     "model_module": "@jupyter-widgets/controls",
     "model_module_version": "1.5.0",
     "model_name": "FloatProgressModel",
     "state": {
      "_dom_classes": [],
      "_model_module": "@jupyter-widgets/controls",
      "_model_module_version": "1.5.0",
      "_model_name": "FloatProgressModel",
      "_view_count": null,
      "_view_module": "@jupyter-widgets/controls",
      "_view_module_version": "1.5.0",
      "_view_name": "ProgressView",
      "bar_style": "success",
      "description": "",
      "description_tooltip": null,
      "layout": "IPY_MODEL_46dccee2c4f74b32bc2a8562621015f4",
      "max": 9096735,
      "min": 0,
      "orientation": "horizontal",
      "style": "IPY_MODEL_4105f49e75234fdf8b7290f69d5ab570",
      "value": 9096735
     }
    },
    "ca2e6f426c0d4dca97df46f3097f0ec6": {
     "model_module": "@jupyter-widgets/base",
     "model_module_version": "1.2.0",
     "model_name": "LayoutModel",
     "state": {
      "_model_module": "@jupyter-widgets/base",
      "_model_module_version": "1.2.0",
      "_model_name": "LayoutModel",
      "_view_count": null,
      "_view_module": "@jupyter-widgets/base",
      "_view_module_version": "1.2.0",
      "_view_name": "LayoutView",
      "align_content": null,
      "align_items": null,
      "align_self": null,
      "border": null,
      "bottom": null,
      "display": null,
      "flex": null,
      "flex_flow": null,
      "grid_area": null,
      "grid_auto_columns": null,
      "grid_auto_flow": null,
      "grid_auto_rows": null,
      "grid_column": null,
      "grid_gap": null,
      "grid_row": null,
      "grid_template_areas": null,
      "grid_template_columns": null,
      "grid_template_rows": null,
      "height": null,
      "justify_content": null,
      "justify_items": null,
      "left": null,
      "margin": null,
      "max_height": null,
      "max_width": null,
      "min_height": null,
      "min_width": null,
      "object_fit": null,
      "object_position": null,
      "order": null,
      "overflow": null,
      "overflow_x": null,
      "overflow_y": null,
      "padding": null,
      "right": null,
      "top": null,
      "visibility": null,
      "width": null
     }
    },
    "cb355395989c47feba8224c15520d75b": {
     "model_module": "@jupyter-widgets/controls",
     "model_module_version": "1.5.0",
     "model_name": "DescriptionStyleModel",
     "state": {
      "_model_module": "@jupyter-widgets/controls",
      "_model_module_version": "1.5.0",
      "_model_name": "DescriptionStyleModel",
      "_view_count": null,
      "_view_module": "@jupyter-widgets/base",
      "_view_module_version": "1.2.0",
      "_view_name": "StyleView",
      "description_width": ""
     }
    },
    "cc5762dd0160401e878a7dfbc9bf92af": {
     "model_module": "@jupyter-widgets/base",
     "model_module_version": "1.2.0",
     "model_name": "LayoutModel",
     "state": {
      "_model_module": "@jupyter-widgets/base",
      "_model_module_version": "1.2.0",
      "_model_name": "LayoutModel",
      "_view_count": null,
      "_view_module": "@jupyter-widgets/base",
      "_view_module_version": "1.2.0",
      "_view_name": "LayoutView",
      "align_content": null,
      "align_items": null,
      "align_self": null,
      "border": null,
      "bottom": null,
      "display": null,
      "flex": null,
      "flex_flow": null,
      "grid_area": null,
      "grid_auto_columns": null,
      "grid_auto_flow": null,
      "grid_auto_rows": null,
      "grid_column": null,
      "grid_gap": null,
      "grid_row": null,
      "grid_template_areas": null,
      "grid_template_columns": null,
      "grid_template_rows": null,
      "height": null,
      "justify_content": null,
      "justify_items": null,
      "left": null,
      "margin": null,
      "max_height": null,
      "max_width": null,
      "min_height": null,
      "min_width": null,
      "object_fit": null,
      "object_position": null,
      "order": null,
      "overflow": null,
      "overflow_x": null,
      "overflow_y": null,
      "padding": null,
      "right": null,
      "top": null,
      "visibility": null,
      "width": null
     }
    },
    "cf66564166de4aceadd4deb388694704": {
     "model_module": "@jupyter-widgets/controls",
     "model_module_version": "1.5.0",
     "model_name": "FloatProgressModel",
     "state": {
      "_dom_classes": [],
      "_model_module": "@jupyter-widgets/controls",
      "_model_module_version": "1.5.0",
      "_model_name": "FloatProgressModel",
      "_view_count": null,
      "_view_module": "@jupyter-widgets/controls",
      "_view_module_version": "1.5.0",
      "_view_name": "ProgressView",
      "bar_style": "success",
      "description": "",
      "description_tooltip": null,
      "layout": "IPY_MODEL_bc2190a27a2848f5bf626df48539634d",
      "max": 550,
      "min": 0,
      "orientation": "horizontal",
      "style": "IPY_MODEL_931a0d23dfb14feeae0f3a83b5090943",
      "value": 550
     }
    },
    "d628f16cb3194f238b2305753e919d8e": {
     "model_module": "@jupyter-widgets/base",
     "model_module_version": "1.2.0",
     "model_name": "LayoutModel",
     "state": {
      "_model_module": "@jupyter-widgets/base",
      "_model_module_version": "1.2.0",
      "_model_name": "LayoutModel",
      "_view_count": null,
      "_view_module": "@jupyter-widgets/base",
      "_view_module_version": "1.2.0",
      "_view_name": "LayoutView",
      "align_content": null,
      "align_items": null,
      "align_self": null,
      "border": null,
      "bottom": null,
      "display": null,
      "flex": null,
      "flex_flow": null,
      "grid_area": null,
      "grid_auto_columns": null,
      "grid_auto_flow": null,
      "grid_auto_rows": null,
      "grid_column": null,
      "grid_gap": null,
      "grid_row": null,
      "grid_template_areas": null,
      "grid_template_columns": null,
      "grid_template_rows": null,
      "height": null,
      "justify_content": null,
      "justify_items": null,
      "left": null,
      "margin": null,
      "max_height": null,
      "max_width": null,
      "min_height": null,
      "min_width": null,
      "object_fit": null,
      "object_position": null,
      "order": null,
      "overflow": null,
      "overflow_x": null,
      "overflow_y": null,
      "padding": null,
      "right": null,
      "top": null,
      "visibility": null,
      "width": null
     }
    },
    "d806331a5b2f4209a0a664893c832d4c": {
     "model_module": "@jupyter-widgets/base",
     "model_module_version": "1.2.0",
     "model_name": "LayoutModel",
     "state": {
      "_model_module": "@jupyter-widgets/base",
      "_model_module_version": "1.2.0",
      "_model_name": "LayoutModel",
      "_view_count": null,
      "_view_module": "@jupyter-widgets/base",
      "_view_module_version": "1.2.0",
      "_view_name": "LayoutView",
      "align_content": null,
      "align_items": null,
      "align_self": null,
      "border": null,
      "bottom": null,
      "display": null,
      "flex": null,
      "flex_flow": null,
      "grid_area": null,
      "grid_auto_columns": null,
      "grid_auto_flow": null,
      "grid_auto_rows": null,
      "grid_column": null,
      "grid_gap": null,
      "grid_row": null,
      "grid_template_areas": null,
      "grid_template_columns": null,
      "grid_template_rows": null,
      "height": null,
      "justify_content": null,
      "justify_items": null,
      "left": null,
      "margin": null,
      "max_height": null,
      "max_width": null,
      "min_height": null,
      "min_width": null,
      "object_fit": null,
      "object_position": null,
      "order": null,
      "overflow": null,
      "overflow_x": null,
      "overflow_y": null,
      "padding": null,
      "right": null,
      "top": null,
      "visibility": null,
      "width": null
     }
    },
    "d9040a3766d34592a95f37dcc7214d70": {
     "model_module": "@jupyter-widgets/controls",
     "model_module_version": "1.5.0",
     "model_name": "FloatProgressModel",
     "state": {
      "_dom_classes": [],
      "_model_module": "@jupyter-widgets/controls",
      "_model_module_version": "1.5.0",
      "_model_name": "FloatProgressModel",
      "_view_count": null,
      "_view_module": "@jupyter-widgets/controls",
      "_view_module_version": "1.5.0",
      "_view_name": "ProgressView",
      "bar_style": "success",
      "description": "",
      "description_tooltip": null,
      "layout": "IPY_MODEL_9d17503749ca497f830a09f8559309ca",
      "max": 3780,
      "min": 0,
      "orientation": "horizontal",
      "style": "IPY_MODEL_478760d44ac148b9a2d9c3ac85e042d7",
      "value": 3780
     }
    },
    "db072b74c0564e928d5f15e94a544e27": {
     "model_module": "@jupyter-widgets/controls",
     "model_module_version": "1.5.0",
     "model_name": "HBoxModel",
     "state": {
      "_dom_classes": [],
      "_model_module": "@jupyter-widgets/controls",
      "_model_module_version": "1.5.0",
      "_model_name": "HBoxModel",
      "_view_count": null,
      "_view_module": "@jupyter-widgets/controls",
      "_view_module_version": "1.5.0",
      "_view_name": "HBoxView",
      "box_style": "",
      "children": [
       "IPY_MODEL_ae1f20cb42e5425f9874ebc44426e8d2",
       "IPY_MODEL_7527fa4d09414fbab1d82daae99bcdd4",
       "IPY_MODEL_234d1e20bc8a412ba0c85f672fb2c303"
      ],
      "layout": "IPY_MODEL_46995ec99487415692c6371e198400a8"
     }
    },
    "dc37243a2af7434f85c17b17c16f8515": {
     "model_module": "@jupyter-widgets/base",
     "model_module_version": "1.2.0",
     "model_name": "LayoutModel",
     "state": {
      "_model_module": "@jupyter-widgets/base",
      "_model_module_version": "1.2.0",
      "_model_name": "LayoutModel",
      "_view_count": null,
      "_view_module": "@jupyter-widgets/base",
      "_view_module_version": "1.2.0",
      "_view_name": "LayoutView",
      "align_content": null,
      "align_items": null,
      "align_self": null,
      "border": null,
      "bottom": null,
      "display": null,
      "flex": null,
      "flex_flow": null,
      "grid_area": null,
      "grid_auto_columns": null,
      "grid_auto_flow": null,
      "grid_auto_rows": null,
      "grid_column": null,
      "grid_gap": null,
      "grid_row": null,
      "grid_template_areas": null,
      "grid_template_columns": null,
      "grid_template_rows": null,
      "height": null,
      "justify_content": null,
      "justify_items": null,
      "left": null,
      "margin": null,
      "max_height": null,
      "max_width": null,
      "min_height": null,
      "min_width": null,
      "object_fit": null,
      "object_position": null,
      "order": null,
      "overflow": null,
      "overflow_x": null,
      "overflow_y": null,
      "padding": null,
      "right": null,
      "top": null,
      "visibility": null,
      "width": null
     }
    },
    "deeb45c97a9f407a9ec714c3530544b0": {
     "model_module": "@jupyter-widgets/controls",
     "model_module_version": "1.5.0",
     "model_name": "FloatProgressModel",
     "state": {
      "_dom_classes": [],
      "_model_module": "@jupyter-widgets/controls",
      "_model_module_version": "1.5.0",
      "_model_name": "FloatProgressModel",
      "_view_count": null,
      "_view_module": "@jupyter-widgets/controls",
      "_view_module_version": "1.5.0",
      "_view_name": "ProgressView",
      "bar_style": "success",
      "description": "",
      "description_tooltip": null,
      "layout": "IPY_MODEL_7ba8d173eadd4b00af14b99d94d91d54",
      "max": 190,
      "min": 0,
      "orientation": "horizontal",
      "style": "IPY_MODEL_98ea5b63c9524ac19aacb091a8a0ad7f",
      "value": 190
     }
    },
    "e4c2c94000604ac89803d97b550926a6": {
     "model_module": "@jupyter-widgets/controls",
     "model_module_version": "1.5.0",
     "model_name": "HTMLModel",
     "state": {
      "_dom_classes": [],
      "_model_module": "@jupyter-widgets/controls",
      "_model_module_version": "1.5.0",
      "_model_name": "HTMLModel",
      "_view_count": null,
      "_view_module": "@jupyter-widgets/controls",
      "_view_module_version": "1.5.0",
      "_view_name": "HTMLView",
      "description": "",
      "description_tooltip": null,
      "layout": "IPY_MODEL_4a870c4673e04d448c44f5fe7021f91f",
      "placeholder": "​",
      "style": "IPY_MODEL_177521f6d16f4e0e88609be11a3c8bdb",
      "value": "modules.json: 100%"
     }
    },
    "e53faeee28074f69941ee698e72447e5": {
     "model_module": "@jupyter-widgets/controls",
     "model_module_version": "1.5.0",
     "model_name": "HTMLModel",
     "state": {
      "_dom_classes": [],
      "_model_module": "@jupyter-widgets/controls",
      "_model_module_version": "1.5.0",
      "_model_name": "HTMLModel",
      "_view_count": null,
      "_view_module": "@jupyter-widgets/controls",
      "_view_module_version": "1.5.0",
      "_view_name": "HTMLView",
      "description": "",
      "description_tooltip": null,
      "layout": "IPY_MODEL_d628f16cb3194f238b2305753e919d8e",
      "placeholder": "​",
      "style": "IPY_MODEL_4a1e37e508a94a648fb3cc8353c1c0cc",
      "value": " 5.07M/5.07M [00:00&lt;00:00, 13.0MB/s]"
     }
    },
    "e6cd4c4fa5fd418a8ce061fc79732671": {
     "model_module": "@jupyter-widgets/base",
     "model_module_version": "1.2.0",
     "model_name": "LayoutModel",
     "state": {
      "_model_module": "@jupyter-widgets/base",
      "_model_module_version": "1.2.0",
      "_model_name": "LayoutModel",
      "_view_count": null,
      "_view_module": "@jupyter-widgets/base",
      "_view_module_version": "1.2.0",
      "_view_name": "LayoutView",
      "align_content": null,
      "align_items": null,
      "align_self": null,
      "border": null,
      "bottom": null,
      "display": null,
      "flex": null,
      "flex_flow": null,
      "grid_area": null,
      "grid_auto_columns": null,
      "grid_auto_flow": null,
      "grid_auto_rows": null,
      "grid_column": null,
      "grid_gap": null,
      "grid_row": null,
      "grid_template_areas": null,
      "grid_template_columns": null,
      "grid_template_rows": null,
      "height": null,
      "justify_content": null,
      "justify_items": null,
      "left": null,
      "margin": null,
      "max_height": null,
      "max_width": null,
      "min_height": null,
      "min_width": null,
      "object_fit": null,
      "object_position": null,
      "order": null,
      "overflow": null,
      "overflow_x": null,
      "overflow_y": null,
      "padding": null,
      "right": null,
      "top": null,
      "visibility": null,
      "width": null
     }
    },
    "eda3dd0cf0ac4d12b874b30d18f638a5": {
     "model_module": "@jupyter-widgets/controls",
     "model_module_version": "1.5.0",
     "model_name": "HTMLModel",
     "state": {
      "_dom_classes": [],
      "_model_module": "@jupyter-widgets/controls",
      "_model_module_version": "1.5.0",
      "_model_name": "HTMLModel",
      "_view_count": null,
      "_view_module": "@jupyter-widgets/controls",
      "_view_module_version": "1.5.0",
      "_view_name": "HTMLView",
      "description": "",
      "description_tooltip": null,
      "layout": "IPY_MODEL_b1fea049a31646ea9b5984b4ab9f1421",
      "placeholder": "​",
      "style": "IPY_MODEL_47d3d5d366474695b4e844b5605d2369",
      "value": " 718/718 [00:00&lt;00:00, 25.5kB/s]"
     }
    },
    "f1e6e90c890f4dc6b154180fdf8c39eb": {
     "model_module": "@jupyter-widgets/controls",
     "model_module_version": "1.5.0",
     "model_name": "DescriptionStyleModel",
     "state": {
      "_model_module": "@jupyter-widgets/controls",
      "_model_module_version": "1.5.0",
      "_model_name": "DescriptionStyleModel",
      "_view_count": null,
      "_view_module": "@jupyter-widgets/base",
      "_view_module_version": "1.2.0",
      "_view_name": "StyleView",
      "description_width": ""
     }
    },
    "f42e628639194b9c94a1a3a6c52824f7": {
     "model_module": "@jupyter-widgets/base",
     "model_module_version": "1.2.0",
     "model_name": "LayoutModel",
     "state": {
      "_model_module": "@jupyter-widgets/base",
      "_model_module_version": "1.2.0",
      "_model_name": "LayoutModel",
      "_view_count": null,
      "_view_module": "@jupyter-widgets/base",
      "_view_module_version": "1.2.0",
      "_view_name": "LayoutView",
      "align_content": null,
      "align_items": null,
      "align_self": null,
      "border": null,
      "bottom": null,
      "display": null,
      "flex": null,
      "flex_flow": null,
      "grid_area": null,
      "grid_auto_columns": null,
      "grid_auto_flow": null,
      "grid_auto_rows": null,
      "grid_column": null,
      "grid_gap": null,
      "grid_row": null,
      "grid_template_areas": null,
      "grid_template_columns": null,
      "grid_template_rows": null,
      "height": null,
      "justify_content": null,
      "justify_items": null,
      "left": null,
      "margin": null,
      "max_height": null,
      "max_width": null,
      "min_height": null,
      "min_width": null,
      "object_fit": null,
      "object_position": null,
      "order": null,
      "overflow": null,
      "overflow_x": null,
      "overflow_y": null,
      "padding": null,
      "right": null,
      "top": null,
      "visibility": null,
      "width": null
     }
    },
    "f52562056c244a7b973e432e529cd651": {
     "model_module": "@jupyter-widgets/base",
     "model_module_version": "1.2.0",
     "model_name": "LayoutModel",
     "state": {
      "_model_module": "@jupyter-widgets/base",
      "_model_module_version": "1.2.0",
      "_model_name": "LayoutModel",
      "_view_count": null,
      "_view_module": "@jupyter-widgets/base",
      "_view_module_version": "1.2.0",
      "_view_name": "LayoutView",
      "align_content": null,
      "align_items": null,
      "align_self": null,
      "border": null,
      "bottom": null,
      "display": null,
      "flex": null,
      "flex_flow": null,
      "grid_area": null,
      "grid_auto_columns": null,
      "grid_auto_flow": null,
      "grid_auto_rows": null,
      "grid_column": null,
      "grid_gap": null,
      "grid_row": null,
      "grid_template_areas": null,
      "grid_template_columns": null,
      "grid_template_rows": null,
      "height": null,
      "justify_content": null,
      "justify_items": null,
      "left": null,
      "margin": null,
      "max_height": null,
      "max_width": null,
      "min_height": null,
      "min_width": null,
      "object_fit": null,
      "object_position": null,
      "order": null,
      "overflow": null,
      "overflow_x": null,
      "overflow_y": null,
      "padding": null,
      "right": null,
      "top": null,
      "visibility": null,
      "width": null
     }
    },
    "fa250896b347466ea7ae21fd02a2afa8": {
     "model_module": "@jupyter-widgets/controls",
     "model_module_version": "1.5.0",
     "model_name": "HTMLModel",
     "state": {
      "_dom_classes": [],
      "_model_module": "@jupyter-widgets/controls",
      "_model_module_version": "1.5.0",
      "_model_name": "HTMLModel",
      "_view_count": null,
      "_view_module": "@jupyter-widgets/controls",
      "_view_module_version": "1.5.0",
      "_view_name": "HTMLView",
      "description": "",
      "description_tooltip": null,
      "layout": "IPY_MODEL_94796607729548978a8a60b6669494ea",
      "placeholder": "​",
      "style": "IPY_MODEL_8156bcef58a74c7eb3a202aeb45a2680",
      "value": " 9.10M/9.10M [00:02&lt;00:00, 22.9MB/s]"
     }
    },
    "fac1bfd8cf6d4911b632bf18ec53a712": {
     "model_module": "@jupyter-widgets/controls",
     "model_module_version": "1.5.0",
     "model_name": "HTMLModel",
     "state": {
      "_dom_classes": [],
      "_model_module": "@jupyter-widgets/controls",
      "_model_module_version": "1.5.0",
      "_model_name": "HTMLModel",
      "_view_count": null,
      "_view_module": "@jupyter-widgets/controls",
      "_view_module_version": "1.5.0",
      "_view_name": "HTMLView",
      "description": "",
      "description_tooltip": null,
      "layout": "IPY_MODEL_9761f8e5fdcc44edbeef67ec6e728544",
      "placeholder": "​",
      "style": "IPY_MODEL_047f398410e746099e5eca414157ca62",
      "value": "tokenizer.json: 100%"
     }
    },
    "fc8848e9baff401290679b64b12d81e0": {
     "model_module": "@jupyter-widgets/base",
     "model_module_version": "1.2.0",
     "model_name": "LayoutModel",
     "state": {
      "_model_module": "@jupyter-widgets/base",
      "_model_module_version": "1.2.0",
      "_model_name": "LayoutModel",
      "_view_count": null,
      "_view_module": "@jupyter-widgets/base",
      "_view_module_version": "1.2.0",
      "_view_name": "LayoutView",
      "align_content": null,
      "align_items": null,
      "align_self": null,
      "border": null,
      "bottom": null,
      "display": null,
      "flex": null,
      "flex_flow": null,
      "grid_area": null,
      "grid_auto_columns": null,
      "grid_auto_flow": null,
      "grid_auto_rows": null,
      "grid_column": null,
      "grid_gap": null,
      "grid_row": null,
      "grid_template_areas": null,
      "grid_template_columns": null,
      "grid_template_rows": null,
      "height": null,
      "justify_content": null,
      "justify_items": null,
      "left": null,
      "margin": null,
      "max_height": null,
      "max_width": null,
      "min_height": null,
      "min_width": null,
      "object_fit": null,
      "object_position": null,
      "order": null,
      "overflow": null,
      "overflow_x": null,
      "overflow_y": null,
      "padding": null,
      "right": null,
      "top": null,
      "visibility": null,
      "width": null
     }
    },
    "fdd53840318c4ad9af4ea88e210b06c7": {
     "model_module": "@jupyter-widgets/base",
     "model_module_version": "1.2.0",
     "model_name": "LayoutModel",
     "state": {
      "_model_module": "@jupyter-widgets/base",
      "_model_module_version": "1.2.0",
      "_model_name": "LayoutModel",
      "_view_count": null,
      "_view_module": "@jupyter-widgets/base",
      "_view_module_version": "1.2.0",
      "_view_name": "LayoutView",
      "align_content": null,
      "align_items": null,
      "align_self": null,
      "border": null,
      "bottom": null,
      "display": null,
      "flex": null,
      "flex_flow": null,
      "grid_area": null,
      "grid_auto_columns": null,
      "grid_auto_flow": null,
      "grid_auto_rows": null,
      "grid_column": null,
      "grid_gap": null,
      "grid_row": null,
      "grid_template_areas": null,
      "grid_template_columns": null,
      "grid_template_rows": null,
      "height": null,
      "justify_content": null,
      "justify_items": null,
      "left": null,
      "margin": null,
      "max_height": null,
      "max_width": null,
      "min_height": null,
      "min_width": null,
      "object_fit": null,
      "object_position": null,
      "order": null,
      "overflow": null,
      "overflow_x": null,
      "overflow_y": null,
      "padding": null,
      "right": null,
      "top": null,
      "visibility": null,
      "width": null
     }
    },
    "ff9e045e0625438eb71e2d1de67f0827": {
     "model_module": "@jupyter-widgets/base",
     "model_module_version": "1.2.0",
     "model_name": "LayoutModel",
     "state": {
      "_model_module": "@jupyter-widgets/base",
      "_model_module_version": "1.2.0",
      "_model_name": "LayoutModel",
      "_view_count": null,
      "_view_module": "@jupyter-widgets/base",
      "_view_module_version": "1.2.0",
      "_view_name": "LayoutView",
      "align_content": null,
      "align_items": null,
      "align_self": null,
      "border": null,
      "bottom": null,
      "display": null,
      "flex": null,
      "flex_flow": null,
      "grid_area": null,
      "grid_auto_columns": null,
      "grid_auto_flow": null,
      "grid_auto_rows": null,
      "grid_column": null,
      "grid_gap": null,
      "grid_row": null,
      "grid_template_areas": null,
      "grid_template_columns": null,
      "grid_template_rows": null,
      "height": null,
      "justify_content": null,
      "justify_items": null,
      "left": null,
      "margin": null,
      "max_height": null,
      "max_width": null,
      "min_height": null,
      "min_width": null,
      "object_fit": null,
      "object_position": null,
      "order": null,
      "overflow": null,
      "overflow_x": null,
      "overflow_y": null,
      "padding": null,
      "right": null,
      "top": null,
      "visibility": null,
      "width": null
     }
    },
    "ffdf0573238945cba74e3d2f1fd0ff5e": {
     "model_module": "@jupyter-widgets/controls",
     "model_module_version": "1.5.0",
     "model_name": "HTMLModel",
     "state": {
      "_dom_classes": [],
      "_model_module": "@jupyter-widgets/controls",
      "_model_module_version": "1.5.0",
      "_model_name": "HTMLModel",
      "_view_count": null,
      "_view_module": "@jupyter-widgets/controls",
      "_view_module_version": "1.5.0",
      "_view_name": "HTMLView",
      "description": "",
      "description_tooltip": null,
      "layout": "IPY_MODEL_5e040605b19c4951bd8cafa06f09f044",
      "placeholder": "​",
      "style": "IPY_MODEL_75116ee9b778461d812db8279a286847",
      "value": "1_Pooling/config.json: 100%"
     }
    }
   }
  }
 },
 "nbformat": 4,
 "nbformat_minor": 4
}
